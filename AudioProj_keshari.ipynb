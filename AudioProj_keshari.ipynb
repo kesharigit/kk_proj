{
  "cells": [
    {
      "cell_type": "code",
      "execution_count": 1,
      "metadata": {
        "colab": {
          "base_uri": "https://localhost:8080/"
        },
        "id": "MvG_TxlqNCKd",
        "outputId": "69dfa1d6-c204-42f7-d17a-c14300b0e83b"
      },
      "outputs": [
        {
          "output_type": "stream",
          "name": "stdout",
          "text": [
            "Colab only includes TensorFlow 2.x; %tensorflow_version has no effect.\n"
          ]
        }
      ],
      "source": [
        "%tensorflow_version 2.x"
      ]
    },
    {
      "cell_type": "code",
      "execution_count": 2,
      "metadata": {
        "colab": {
          "base_uri": "https://localhost:8080/"
        },
        "id": "1yvLL_hYOAhj",
        "outputId": "f4e13fcf-95c8-4c59-aabb-9b936fe8122c"
      },
      "outputs": [
        {
          "output_type": "stream",
          "name": "stdout",
          "text": [
            "--2023-07-25 10:18:28--  https://www.dropbox.com/s/4jw31k5mlzcmgis/genres.tar.gz?dl=0\n",
            "Resolving www.dropbox.com (www.dropbox.com)... 162.125.65.18, 2620:100:6021:18::a27d:4112\n",
            "Connecting to www.dropbox.com (www.dropbox.com)|162.125.65.18|:443... connected.\n",
            "HTTP request sent, awaiting response... 302 Found\n",
            "Location: /s/raw/4jw31k5mlzcmgis/genres.tar.gz [following]\n",
            "--2023-07-25 10:18:28--  https://www.dropbox.com/s/raw/4jw31k5mlzcmgis/genres.tar.gz\n",
            "Reusing existing connection to www.dropbox.com:443.\n",
            "HTTP request sent, awaiting response... 302 Found\n",
            "Location: https://uc89d1cc966b106f9fc433469516.dl.dropboxusercontent.com/cd/0/inline/CAiBAX-iU6ncQ_H_Gp7meyAfm1gT33Msp7muonyRBtr6Xv2UzJa724skw1utaIKinFl1AV0enYafXJukW5XB9N_270wtVDMjWUkmaRj4rbx8_Gj7sEqTKRWZc3W-P94UivJttdMar7h92_cBzlQwO8XK839_eev6b72oKHsn6o112A/file# [following]\n",
            "--2023-07-25 10:18:29--  https://uc89d1cc966b106f9fc433469516.dl.dropboxusercontent.com/cd/0/inline/CAiBAX-iU6ncQ_H_Gp7meyAfm1gT33Msp7muonyRBtr6Xv2UzJa724skw1utaIKinFl1AV0enYafXJukW5XB9N_270wtVDMjWUkmaRj4rbx8_Gj7sEqTKRWZc3W-P94UivJttdMar7h92_cBzlQwO8XK839_eev6b72oKHsn6o112A/file\n",
            "Resolving uc89d1cc966b106f9fc433469516.dl.dropboxusercontent.com (uc89d1cc966b106f9fc433469516.dl.dropboxusercontent.com)... 162.125.65.15, 2620:100:6021:15::a27d:410f\n",
            "Connecting to uc89d1cc966b106f9fc433469516.dl.dropboxusercontent.com (uc89d1cc966b106f9fc433469516.dl.dropboxusercontent.com)|162.125.65.15|:443... connected.\n",
            "HTTP request sent, awaiting response... 302 Found\n",
            "Location: /cd/0/inline2/CAg2tE8hlEBJsxcHzTXDk4jEFWcsUXHbv9I6G4nomJ82q523mRx1VGDKz1-2DrbKY81V2GN7iJZ3rkhDhGSKxWmHyZytwYjBIum-pvFqBXhBUs3IsrJJzqCbXz8iTz6yB7KdMTEqcY7U2KfKNWhxr5Y4phrbeS_l0hhWIWKMjwIOQZitrPDXTEtx0YM_kgsDpzaCzIqYNhU_dgniNUgXr2xe53HGPpP3X870K-ZGEuotrSAzzx7NgDYQUh-vC0eSOCO0z8WIRP87mfsbyLt0SBofETr7xx61engS2j8dLD7vNmOAvkkqs5JLAaypEd_vf-vVhzIEAI-Us7XFe1GcU_rj0QKPmXTEsavXAjqqVX7d84ji6-Bn9i5-rNDMyrIffV8sxfn2NqzKPIEhgdY_rwabopGyHlKtI3qjQYs0L-_wlQ/file [following]\n",
            "--2023-07-25 10:18:29--  https://uc89d1cc966b106f9fc433469516.dl.dropboxusercontent.com/cd/0/inline2/CAg2tE8hlEBJsxcHzTXDk4jEFWcsUXHbv9I6G4nomJ82q523mRx1VGDKz1-2DrbKY81V2GN7iJZ3rkhDhGSKxWmHyZytwYjBIum-pvFqBXhBUs3IsrJJzqCbXz8iTz6yB7KdMTEqcY7U2KfKNWhxr5Y4phrbeS_l0hhWIWKMjwIOQZitrPDXTEtx0YM_kgsDpzaCzIqYNhU_dgniNUgXr2xe53HGPpP3X870K-ZGEuotrSAzzx7NgDYQUh-vC0eSOCO0z8WIRP87mfsbyLt0SBofETr7xx61engS2j8dLD7vNmOAvkkqs5JLAaypEd_vf-vVhzIEAI-Us7XFe1GcU_rj0QKPmXTEsavXAjqqVX7d84ji6-Bn9i5-rNDMyrIffV8sxfn2NqzKPIEhgdY_rwabopGyHlKtI3qjQYs0L-_wlQ/file\n",
            "Reusing existing connection to uc89d1cc966b106f9fc433469516.dl.dropboxusercontent.com:443.\n",
            "HTTP request sent, awaiting response... 200 OK\n",
            "Length: 1225573614 (1.1G) [application/octet-stream]\n",
            "Saving to: ‘genres.tar.gz?dl=0’\n",
            "\n",
            "genres.tar.gz?dl=0  100%[===================>]   1.14G  22.6MB/s    in 53s     \n",
            "\n",
            "2023-07-25 10:19:23 (21.9 MB/s) - ‘genres.tar.gz?dl=0’ saved [1225573614/1225573614]\n",
            "\n"
          ]
        }
      ],
      "source": [
        "!wget https://www.dropbox.com/s/4jw31k5mlzcmgis/genres.tar.gz?dl=0"
      ]
    },
    {
      "cell_type": "code",
      "execution_count": 3,
      "metadata": {
        "colab": {
          "base_uri": "https://localhost:8080/"
        },
        "id": "tuaEY1N8O_qL",
        "outputId": "1bc75767-e858-40ab-84cd-b45f7747b23e"
      },
      "outputs": [
        {
          "output_type": "execute_result",
          "data": {
            "text/plain": [
              "['genres/',\n",
              " 'genres/blues/',\n",
              " 'genres/blues/blues.00000.au',\n",
              " 'genres/blues/blues.00001.au',\n",
              " 'genres/blues/blues.00002.au',\n",
              " 'genres/blues/blues.00003.au',\n",
              " 'genres/blues/blues.00004.au',\n",
              " 'genres/blues/blues.00005.au',\n",
              " 'genres/blues/blues.00006.au',\n",
              " 'genres/blues/blues.00007.au',\n",
              " 'genres/blues/blues.00008.au',\n",
              " 'genres/blues/blues.00009.au',\n",
              " 'genres/blues/blues.00010.au',\n",
              " 'genres/blues/blues.00011.au',\n",
              " 'genres/blues/blues.00012.au',\n",
              " 'genres/blues/blues.00013.au',\n",
              " 'genres/blues/blues.00014.au',\n",
              " 'genres/blues/blues.00015.au',\n",
              " 'genres/blues/blues.00016.au',\n",
              " 'genres/blues/blues.00017.au',\n",
              " 'genres/blues/blues.00018.au',\n",
              " 'genres/blues/blues.00019.au',\n",
              " 'genres/blues/blues.00020.au',\n",
              " 'genres/blues/blues.00021.au',\n",
              " 'genres/blues/blues.00022.au',\n",
              " 'genres/blues/blues.00023.au',\n",
              " 'genres/blues/blues.00024.au',\n",
              " 'genres/blues/blues.00025.au',\n",
              " 'genres/blues/blues.00026.au',\n",
              " 'genres/blues/blues.00027.au',\n",
              " 'genres/blues/blues.00028.au',\n",
              " 'genres/blues/blues.00029.au',\n",
              " 'genres/blues/blues.00030.au',\n",
              " 'genres/blues/blues.00031.au',\n",
              " 'genres/blues/blues.00032.au',\n",
              " 'genres/blues/blues.00033.au',\n",
              " 'genres/blues/blues.00034.au',\n",
              " 'genres/blues/blues.00035.au',\n",
              " 'genres/blues/blues.00036.au',\n",
              " 'genres/blues/blues.00037.au',\n",
              " 'genres/blues/blues.00038.au',\n",
              " 'genres/blues/blues.00039.au',\n",
              " 'genres/blues/blues.00040.au',\n",
              " 'genres/blues/blues.00041.au',\n",
              " 'genres/blues/blues.00042.au',\n",
              " 'genres/blues/blues.00043.au',\n",
              " 'genres/blues/blues.00044.au',\n",
              " 'genres/blues/blues.00045.au',\n",
              " 'genres/blues/blues.00046.au',\n",
              " 'genres/blues/blues.00047.au',\n",
              " 'genres/blues/blues.00048.au',\n",
              " 'genres/blues/blues.00049.au',\n",
              " 'genres/blues/blues.00050.au',\n",
              " 'genres/blues/blues.00051.au',\n",
              " 'genres/blues/blues.00052.au',\n",
              " 'genres/blues/blues.00053.au',\n",
              " 'genres/blues/blues.00054.au',\n",
              " 'genres/blues/blues.00055.au',\n",
              " 'genres/blues/blues.00056.au',\n",
              " 'genres/blues/blues.00057.au',\n",
              " 'genres/blues/blues.00058.au',\n",
              " 'genres/blues/blues.00059.au',\n",
              " 'genres/blues/blues.00060.au',\n",
              " 'genres/blues/blues.00061.au',\n",
              " 'genres/blues/blues.00062.au',\n",
              " 'genres/blues/blues.00063.au',\n",
              " 'genres/blues/blues.00064.au',\n",
              " 'genres/blues/blues.00065.au',\n",
              " 'genres/blues/blues.00066.au',\n",
              " 'genres/blues/blues.00067.au',\n",
              " 'genres/blues/blues.00068.au',\n",
              " 'genres/blues/blues.00069.au',\n",
              " 'genres/blues/blues.00070.au',\n",
              " 'genres/blues/blues.00071.au',\n",
              " 'genres/blues/blues.00072.au',\n",
              " 'genres/blues/blues.00073.au',\n",
              " 'genres/blues/blues.00074.au',\n",
              " 'genres/blues/blues.00075.au',\n",
              " 'genres/blues/blues.00076.au',\n",
              " 'genres/blues/blues.00077.au',\n",
              " 'genres/blues/blues.00078.au',\n",
              " 'genres/blues/blues.00079.au',\n",
              " 'genres/blues/blues.00080.au',\n",
              " 'genres/blues/blues.00081.au',\n",
              " 'genres/blues/blues.00082.au',\n",
              " 'genres/blues/blues.00083.au',\n",
              " 'genres/blues/blues.00084.au',\n",
              " 'genres/blues/blues.00085.au',\n",
              " 'genres/blues/blues.00086.au',\n",
              " 'genres/blues/blues.00087.au',\n",
              " 'genres/blues/blues.00088.au',\n",
              " 'genres/blues/blues.00089.au',\n",
              " 'genres/blues/blues.00090.au',\n",
              " 'genres/blues/blues.00091.au',\n",
              " 'genres/blues/blues.00092.au',\n",
              " 'genres/blues/blues.00093.au',\n",
              " 'genres/blues/blues.00094.au',\n",
              " 'genres/blues/blues.00095.au',\n",
              " 'genres/blues/blues.00096.au',\n",
              " 'genres/blues/blues.00097.au',\n",
              " 'genres/blues/blues.00098.au',\n",
              " 'genres/blues/blues.00099.au',\n",
              " 'genres/classical/',\n",
              " 'genres/classical/classical.00000.au',\n",
              " 'genres/classical/classical.00001.au',\n",
              " 'genres/classical/classical.00002.au',\n",
              " 'genres/classical/classical.00003.au',\n",
              " 'genres/classical/classical.00004.au',\n",
              " 'genres/classical/classical.00005.au',\n",
              " 'genres/classical/classical.00006.au',\n",
              " 'genres/classical/classical.00007.au',\n",
              " 'genres/classical/classical.00008.au',\n",
              " 'genres/classical/classical.00009.au',\n",
              " 'genres/classical/classical.00010.au',\n",
              " 'genres/classical/classical.00011.au',\n",
              " 'genres/classical/classical.00012.au',\n",
              " 'genres/classical/classical.00013.au',\n",
              " 'genres/classical/classical.00014.au',\n",
              " 'genres/classical/classical.00015.au',\n",
              " 'genres/classical/classical.00016.au',\n",
              " 'genres/classical/classical.00017.au',\n",
              " 'genres/classical/classical.00018.au',\n",
              " 'genres/classical/classical.00019.au',\n",
              " 'genres/classical/classical.00020.au',\n",
              " 'genres/classical/classical.00021.au',\n",
              " 'genres/classical/classical.00022.au',\n",
              " 'genres/classical/classical.00023.au',\n",
              " 'genres/classical/classical.00024.au',\n",
              " 'genres/classical/classical.00025.au',\n",
              " 'genres/classical/classical.00026.au',\n",
              " 'genres/classical/classical.00027.au',\n",
              " 'genres/classical/classical.00028.au',\n",
              " 'genres/classical/classical.00029.au',\n",
              " 'genres/classical/classical.00030.au',\n",
              " 'genres/classical/classical.00031.au',\n",
              " 'genres/classical/classical.00032.au',\n",
              " 'genres/classical/classical.00033.au',\n",
              " 'genres/classical/classical.00034.au',\n",
              " 'genres/classical/classical.00035.au',\n",
              " 'genres/classical/classical.00036.au',\n",
              " 'genres/classical/classical.00037.au',\n",
              " 'genres/classical/classical.00038.au',\n",
              " 'genres/classical/classical.00039.au',\n",
              " 'genres/classical/classical.00040.au',\n",
              " 'genres/classical/classical.00041.au',\n",
              " 'genres/classical/classical.00042.au',\n",
              " 'genres/classical/classical.00043.au',\n",
              " 'genres/classical/classical.00044.au',\n",
              " 'genres/classical/classical.00045.au',\n",
              " 'genres/classical/classical.00046.au',\n",
              " 'genres/classical/classical.00047.au',\n",
              " 'genres/classical/classical.00048.au',\n",
              " 'genres/classical/classical.00049.au',\n",
              " 'genres/classical/classical.00050.au',\n",
              " 'genres/classical/classical.00051.au',\n",
              " 'genres/classical/classical.00052.au',\n",
              " 'genres/classical/classical.00053.au',\n",
              " 'genres/classical/classical.00054.au',\n",
              " 'genres/classical/classical.00055.au',\n",
              " 'genres/classical/classical.00056.au',\n",
              " 'genres/classical/classical.00057.au',\n",
              " 'genres/classical/classical.00058.au',\n",
              " 'genres/classical/classical.00059.au',\n",
              " 'genres/classical/classical.00060.au',\n",
              " 'genres/classical/classical.00061.au',\n",
              " 'genres/classical/classical.00062.au',\n",
              " 'genres/classical/classical.00063.au',\n",
              " 'genres/classical/classical.00064.au',\n",
              " 'genres/classical/classical.00065.au',\n",
              " 'genres/classical/classical.00066.au',\n",
              " 'genres/classical/classical.00067.au',\n",
              " 'genres/classical/classical.00068.au',\n",
              " 'genres/classical/classical.00069.au',\n",
              " 'genres/classical/classical.00070.au',\n",
              " 'genres/classical/classical.00071.au',\n",
              " 'genres/classical/classical.00072.au',\n",
              " 'genres/classical/classical.00073.au',\n",
              " 'genres/classical/classical.00074.au',\n",
              " 'genres/classical/classical.00075.au',\n",
              " 'genres/classical/classical.00076.au',\n",
              " 'genres/classical/classical.00077.au',\n",
              " 'genres/classical/classical.00078.au',\n",
              " 'genres/classical/classical.00079.au',\n",
              " 'genres/classical/classical.00080.au',\n",
              " 'genres/classical/classical.00081.au',\n",
              " 'genres/classical/classical.00082.au',\n",
              " 'genres/classical/classical.00083.au',\n",
              " 'genres/classical/classical.00084.au',\n",
              " 'genres/classical/classical.00085.au',\n",
              " 'genres/classical/classical.00086.au',\n",
              " 'genres/classical/classical.00087.au',\n",
              " 'genres/classical/classical.00088.au',\n",
              " 'genres/classical/classical.00089.au',\n",
              " 'genres/classical/classical.00090.au',\n",
              " 'genres/classical/classical.00091.au',\n",
              " 'genres/classical/classical.00092.au',\n",
              " 'genres/classical/classical.00093.au',\n",
              " 'genres/classical/classical.00094.au',\n",
              " 'genres/classical/classical.00095.au',\n",
              " 'genres/classical/classical.00096.au',\n",
              " 'genres/classical/classical.00097.au',\n",
              " 'genres/classical/classical.00098.au',\n",
              " 'genres/classical/classical.00099.au',\n",
              " 'genres/country/',\n",
              " 'genres/country/country.00000.au',\n",
              " 'genres/country/country.00001.au',\n",
              " 'genres/country/country.00002.au',\n",
              " 'genres/country/country.00003.au',\n",
              " 'genres/country/country.00004.au',\n",
              " 'genres/country/country.00005.au',\n",
              " 'genres/country/country.00006.au',\n",
              " 'genres/country/country.00007.au',\n",
              " 'genres/country/country.00008.au',\n",
              " 'genres/country/country.00009.au',\n",
              " 'genres/country/country.00010.au',\n",
              " 'genres/country/country.00011.au',\n",
              " 'genres/country/country.00012.au',\n",
              " 'genres/country/country.00013.au',\n",
              " 'genres/country/country.00014.au',\n",
              " 'genres/country/country.00015.au',\n",
              " 'genres/country/country.00016.au',\n",
              " 'genres/country/country.00017.au',\n",
              " 'genres/country/country.00018.au',\n",
              " 'genres/country/country.00019.au',\n",
              " 'genres/country/country.00020.au',\n",
              " 'genres/country/country.00021.au',\n",
              " 'genres/country/country.00022.au',\n",
              " 'genres/country/country.00023.au',\n",
              " 'genres/country/country.00024.au',\n",
              " 'genres/country/country.00025.au',\n",
              " 'genres/country/country.00026.au',\n",
              " 'genres/country/country.00027.au',\n",
              " 'genres/country/country.00028.au',\n",
              " 'genres/country/country.00029.au',\n",
              " 'genres/country/country.00030.au',\n",
              " 'genres/country/country.00031.au',\n",
              " 'genres/country/country.00032.au',\n",
              " 'genres/country/country.00033.au',\n",
              " 'genres/country/country.00034.au',\n",
              " 'genres/country/country.00035.au',\n",
              " 'genres/country/country.00036.au',\n",
              " 'genres/country/country.00037.au',\n",
              " 'genres/country/country.00038.au',\n",
              " 'genres/country/country.00039.au',\n",
              " 'genres/country/country.00040.au',\n",
              " 'genres/country/country.00041.au',\n",
              " 'genres/country/country.00042.au',\n",
              " 'genres/country/country.00043.au',\n",
              " 'genres/country/country.00044.au',\n",
              " 'genres/country/country.00045.au',\n",
              " 'genres/country/country.00046.au',\n",
              " 'genres/country/country.00047.au',\n",
              " 'genres/country/country.00048.au',\n",
              " 'genres/country/country.00049.au',\n",
              " 'genres/country/country.00050.au',\n",
              " 'genres/country/country.00051.au',\n",
              " 'genres/country/country.00052.au',\n",
              " 'genres/country/country.00053.au',\n",
              " 'genres/country/country.00054.au',\n",
              " 'genres/country/country.00055.au',\n",
              " 'genres/country/country.00056.au',\n",
              " 'genres/country/country.00057.au',\n",
              " 'genres/country/country.00058.au',\n",
              " 'genres/country/country.00059.au',\n",
              " 'genres/country/country.00060.au',\n",
              " 'genres/country/country.00061.au',\n",
              " 'genres/country/country.00062.au',\n",
              " 'genres/country/country.00063.au',\n",
              " 'genres/country/country.00064.au',\n",
              " 'genres/country/country.00065.au',\n",
              " 'genres/country/country.00066.au',\n",
              " 'genres/country/country.00067.au',\n",
              " 'genres/country/country.00068.au',\n",
              " 'genres/country/country.00069.au',\n",
              " 'genres/country/country.00070.au',\n",
              " 'genres/country/country.00071.au',\n",
              " 'genres/country/country.00072.au',\n",
              " 'genres/country/country.00073.au',\n",
              " 'genres/country/country.00074.au',\n",
              " 'genres/country/country.00075.au',\n",
              " 'genres/country/country.00076.au',\n",
              " 'genres/country/country.00077.au',\n",
              " 'genres/country/country.00078.au',\n",
              " 'genres/country/country.00079.au',\n",
              " 'genres/country/country.00080.au',\n",
              " 'genres/country/country.00081.au',\n",
              " 'genres/country/country.00082.au',\n",
              " 'genres/country/country.00083.au',\n",
              " 'genres/country/country.00084.au',\n",
              " 'genres/country/country.00085.au',\n",
              " 'genres/country/country.00086.au',\n",
              " 'genres/country/country.00087.au',\n",
              " 'genres/country/country.00088.au',\n",
              " 'genres/country/country.00089.au',\n",
              " 'genres/country/country.00090.au',\n",
              " 'genres/country/country.00091.au',\n",
              " 'genres/country/country.00092.au',\n",
              " 'genres/country/country.00093.au',\n",
              " 'genres/country/country.00094.au',\n",
              " 'genres/country/country.00095.au',\n",
              " 'genres/country/country.00096.au',\n",
              " 'genres/country/country.00097.au',\n",
              " 'genres/country/country.00098.au',\n",
              " 'genres/country/country.00099.au',\n",
              " 'genres/disco/',\n",
              " 'genres/disco/disco.00000.au',\n",
              " 'genres/disco/disco.00001.au',\n",
              " 'genres/disco/disco.00002.au',\n",
              " 'genres/disco/disco.00003.au',\n",
              " 'genres/disco/disco.00004.au',\n",
              " 'genres/disco/disco.00005.au',\n",
              " 'genres/disco/disco.00006.au',\n",
              " 'genres/disco/disco.00007.au',\n",
              " 'genres/disco/disco.00008.au',\n",
              " 'genres/disco/disco.00009.au',\n",
              " 'genres/disco/disco.00010.au',\n",
              " 'genres/disco/disco.00011.au',\n",
              " 'genres/disco/disco.00012.au',\n",
              " 'genres/disco/disco.00013.au',\n",
              " 'genres/disco/disco.00014.au',\n",
              " 'genres/disco/disco.00015.au',\n",
              " 'genres/disco/disco.00016.au',\n",
              " 'genres/disco/disco.00017.au',\n",
              " 'genres/disco/disco.00018.au',\n",
              " 'genres/disco/disco.00019.au',\n",
              " 'genres/disco/disco.00020.au',\n",
              " 'genres/disco/disco.00021.au',\n",
              " 'genres/disco/disco.00022.au',\n",
              " 'genres/disco/disco.00023.au',\n",
              " 'genres/disco/disco.00024.au',\n",
              " 'genres/disco/disco.00025.au',\n",
              " 'genres/disco/disco.00026.au',\n",
              " 'genres/disco/disco.00027.au',\n",
              " 'genres/disco/disco.00028.au',\n",
              " 'genres/disco/disco.00029.au',\n",
              " 'genres/disco/disco.00030.au',\n",
              " 'genres/disco/disco.00031.au',\n",
              " 'genres/disco/disco.00032.au',\n",
              " 'genres/disco/disco.00033.au',\n",
              " 'genres/disco/disco.00034.au',\n",
              " 'genres/disco/disco.00035.au',\n",
              " 'genres/disco/disco.00036.au',\n",
              " 'genres/disco/disco.00037.au',\n",
              " 'genres/disco/disco.00038.au',\n",
              " 'genres/disco/disco.00039.au',\n",
              " 'genres/disco/disco.00040.au',\n",
              " 'genres/disco/disco.00041.au',\n",
              " 'genres/disco/disco.00042.au',\n",
              " 'genres/disco/disco.00043.au',\n",
              " 'genres/disco/disco.00044.au',\n",
              " 'genres/disco/disco.00045.au',\n",
              " 'genres/disco/disco.00046.au',\n",
              " 'genres/disco/disco.00047.au',\n",
              " 'genres/disco/disco.00048.au',\n",
              " 'genres/disco/disco.00049.au',\n",
              " 'genres/disco/disco.00050.au',\n",
              " 'genres/disco/disco.00051.au',\n",
              " 'genres/disco/disco.00052.au',\n",
              " 'genres/disco/disco.00053.au',\n",
              " 'genres/disco/disco.00054.au',\n",
              " 'genres/disco/disco.00055.au',\n",
              " 'genres/disco/disco.00056.au',\n",
              " 'genres/disco/disco.00057.au',\n",
              " 'genres/disco/disco.00058.au',\n",
              " 'genres/disco/disco.00059.au',\n",
              " 'genres/disco/disco.00060.au',\n",
              " 'genres/disco/disco.00061.au',\n",
              " 'genres/disco/disco.00062.au',\n",
              " 'genres/disco/disco.00063.au',\n",
              " 'genres/disco/disco.00064.au',\n",
              " 'genres/disco/disco.00065.au',\n",
              " 'genres/disco/disco.00066.au',\n",
              " 'genres/disco/disco.00067.au',\n",
              " 'genres/disco/disco.00068.au',\n",
              " 'genres/disco/disco.00069.au',\n",
              " 'genres/disco/disco.00070.au',\n",
              " 'genres/disco/disco.00071.au',\n",
              " 'genres/disco/disco.00072.au',\n",
              " 'genres/disco/disco.00073.au',\n",
              " 'genres/disco/disco.00074.au',\n",
              " 'genres/disco/disco.00075.au',\n",
              " 'genres/disco/disco.00076.au',\n",
              " 'genres/disco/disco.00077.au',\n",
              " 'genres/disco/disco.00078.au',\n",
              " 'genres/disco/disco.00079.au',\n",
              " 'genres/disco/disco.00080.au',\n",
              " 'genres/disco/disco.00081.au',\n",
              " 'genres/disco/disco.00082.au',\n",
              " 'genres/disco/disco.00083.au',\n",
              " 'genres/disco/disco.00084.au',\n",
              " 'genres/disco/disco.00085.au',\n",
              " 'genres/disco/disco.00086.au',\n",
              " 'genres/disco/disco.00087.au',\n",
              " 'genres/disco/disco.00088.au',\n",
              " 'genres/disco/disco.00089.au',\n",
              " 'genres/disco/disco.00090.au',\n",
              " 'genres/disco/disco.00091.au',\n",
              " 'genres/disco/disco.00092.au',\n",
              " 'genres/disco/disco.00093.au',\n",
              " 'genres/disco/disco.00094.au',\n",
              " 'genres/disco/disco.00095.au',\n",
              " 'genres/disco/disco.00096.au',\n",
              " 'genres/disco/disco.00097.au',\n",
              " 'genres/disco/disco.00098.au',\n",
              " 'genres/disco/disco.00099.au',\n",
              " 'genres/hiphop/',\n",
              " 'genres/hiphop/hiphop.00000.au',\n",
              " 'genres/hiphop/hiphop.00001.au',\n",
              " 'genres/hiphop/hiphop.00002.au',\n",
              " 'genres/hiphop/hiphop.00003.au',\n",
              " 'genres/hiphop/hiphop.00004.au',\n",
              " 'genres/hiphop/hiphop.00005.au',\n",
              " 'genres/hiphop/hiphop.00006.au',\n",
              " 'genres/hiphop/hiphop.00007.au',\n",
              " 'genres/hiphop/hiphop.00008.au',\n",
              " 'genres/hiphop/hiphop.00009.au',\n",
              " 'genres/hiphop/hiphop.00010.au',\n",
              " 'genres/hiphop/hiphop.00011.au',\n",
              " 'genres/hiphop/hiphop.00012.au',\n",
              " 'genres/hiphop/hiphop.00013.au',\n",
              " 'genres/hiphop/hiphop.00014.au',\n",
              " 'genres/hiphop/hiphop.00015.au',\n",
              " 'genres/hiphop/hiphop.00016.au',\n",
              " 'genres/hiphop/hiphop.00017.au',\n",
              " 'genres/hiphop/hiphop.00018.au',\n",
              " 'genres/hiphop/hiphop.00019.au',\n",
              " 'genres/hiphop/hiphop.00020.au',\n",
              " 'genres/hiphop/hiphop.00021.au',\n",
              " 'genres/hiphop/hiphop.00022.au',\n",
              " 'genres/hiphop/hiphop.00023.au',\n",
              " 'genres/hiphop/hiphop.00024.au',\n",
              " 'genres/hiphop/hiphop.00025.au',\n",
              " 'genres/hiphop/hiphop.00026.au',\n",
              " 'genres/hiphop/hiphop.00027.au',\n",
              " 'genres/hiphop/hiphop.00028.au',\n",
              " 'genres/hiphop/hiphop.00029.au',\n",
              " 'genres/hiphop/hiphop.00030.au',\n",
              " 'genres/hiphop/hiphop.00031.au',\n",
              " 'genres/hiphop/hiphop.00032.au',\n",
              " 'genres/hiphop/hiphop.00033.au',\n",
              " 'genres/hiphop/hiphop.00034.au',\n",
              " 'genres/hiphop/hiphop.00035.au',\n",
              " 'genres/hiphop/hiphop.00036.au',\n",
              " 'genres/hiphop/hiphop.00037.au',\n",
              " 'genres/hiphop/hiphop.00038.au',\n",
              " 'genres/hiphop/hiphop.00039.au',\n",
              " 'genres/hiphop/hiphop.00040.au',\n",
              " 'genres/hiphop/hiphop.00041.au',\n",
              " 'genres/hiphop/hiphop.00042.au',\n",
              " 'genres/hiphop/hiphop.00043.au',\n",
              " 'genres/hiphop/hiphop.00044.au',\n",
              " 'genres/hiphop/hiphop.00045.au',\n",
              " 'genres/hiphop/hiphop.00046.au',\n",
              " 'genres/hiphop/hiphop.00047.au',\n",
              " 'genres/hiphop/hiphop.00048.au',\n",
              " 'genres/hiphop/hiphop.00049.au',\n",
              " 'genres/hiphop/hiphop.00050.au',\n",
              " 'genres/hiphop/hiphop.00051.au',\n",
              " 'genres/hiphop/hiphop.00052.au',\n",
              " 'genres/hiphop/hiphop.00053.au',\n",
              " 'genres/hiphop/hiphop.00054.au',\n",
              " 'genres/hiphop/hiphop.00055.au',\n",
              " 'genres/hiphop/hiphop.00056.au',\n",
              " 'genres/hiphop/hiphop.00057.au',\n",
              " 'genres/hiphop/hiphop.00058.au',\n",
              " 'genres/hiphop/hiphop.00059.au',\n",
              " 'genres/hiphop/hiphop.00060.au',\n",
              " 'genres/hiphop/hiphop.00061.au',\n",
              " 'genres/hiphop/hiphop.00062.au',\n",
              " 'genres/hiphop/hiphop.00063.au',\n",
              " 'genres/hiphop/hiphop.00064.au',\n",
              " 'genres/hiphop/hiphop.00065.au',\n",
              " 'genres/hiphop/hiphop.00066.au',\n",
              " 'genres/hiphop/hiphop.00067.au',\n",
              " 'genres/hiphop/hiphop.00068.au',\n",
              " 'genres/hiphop/hiphop.00069.au',\n",
              " 'genres/hiphop/hiphop.00070.au',\n",
              " 'genres/hiphop/hiphop.00071.au',\n",
              " 'genres/hiphop/hiphop.00072.au',\n",
              " 'genres/hiphop/hiphop.00073.au',\n",
              " 'genres/hiphop/hiphop.00074.au',\n",
              " 'genres/hiphop/hiphop.00075.au',\n",
              " 'genres/hiphop/hiphop.00076.au',\n",
              " 'genres/hiphop/hiphop.00077.au',\n",
              " 'genres/hiphop/hiphop.00078.au',\n",
              " 'genres/hiphop/hiphop.00079.au',\n",
              " 'genres/hiphop/hiphop.00080.au',\n",
              " 'genres/hiphop/hiphop.00081.au',\n",
              " 'genres/hiphop/hiphop.00082.au',\n",
              " 'genres/hiphop/hiphop.00083.au',\n",
              " 'genres/hiphop/hiphop.00084.au',\n",
              " 'genres/hiphop/hiphop.00085.au',\n",
              " 'genres/hiphop/hiphop.00086.au',\n",
              " 'genres/hiphop/hiphop.00087.au',\n",
              " 'genres/hiphop/hiphop.00088.au',\n",
              " 'genres/hiphop/hiphop.00089.au',\n",
              " 'genres/hiphop/hiphop.00090.au',\n",
              " 'genres/hiphop/hiphop.00091.au',\n",
              " 'genres/hiphop/hiphop.00092.au',\n",
              " 'genres/hiphop/hiphop.00093.au',\n",
              " 'genres/hiphop/hiphop.00094.au',\n",
              " 'genres/hiphop/hiphop.00095.au',\n",
              " 'genres/hiphop/hiphop.00096.au',\n",
              " 'genres/hiphop/hiphop.00097.au',\n",
              " 'genres/hiphop/hiphop.00098.au',\n",
              " 'genres/hiphop/hiphop.00099.au',\n",
              " 'genres/jazz/',\n",
              " 'genres/jazz/jazz.00000.au',\n",
              " 'genres/jazz/jazz.00001.au',\n",
              " 'genres/jazz/jazz.00002.au',\n",
              " 'genres/jazz/jazz.00003.au',\n",
              " 'genres/jazz/jazz.00004.au',\n",
              " 'genres/jazz/jazz.00005.au',\n",
              " 'genres/jazz/jazz.00006.au',\n",
              " 'genres/jazz/jazz.00007.au',\n",
              " 'genres/jazz/jazz.00008.au',\n",
              " 'genres/jazz/jazz.00009.au',\n",
              " 'genres/jazz/jazz.00010.au',\n",
              " 'genres/jazz/jazz.00011.au',\n",
              " 'genres/jazz/jazz.00012.au',\n",
              " 'genres/jazz/jazz.00013.au',\n",
              " 'genres/jazz/jazz.00014.au',\n",
              " 'genres/jazz/jazz.00015.au',\n",
              " 'genres/jazz/jazz.00016.au',\n",
              " 'genres/jazz/jazz.00017.au',\n",
              " 'genres/jazz/jazz.00018.au',\n",
              " 'genres/jazz/jazz.00019.au',\n",
              " 'genres/jazz/jazz.00020.au',\n",
              " 'genres/jazz/jazz.00021.au',\n",
              " 'genres/jazz/jazz.00022.au',\n",
              " 'genres/jazz/jazz.00023.au',\n",
              " 'genres/jazz/jazz.00024.au',\n",
              " 'genres/jazz/jazz.00025.au',\n",
              " 'genres/jazz/jazz.00026.au',\n",
              " 'genres/jazz/jazz.00027.au',\n",
              " 'genres/jazz/jazz.00028.au',\n",
              " 'genres/jazz/jazz.00029.au',\n",
              " 'genres/jazz/jazz.00030.au',\n",
              " 'genres/jazz/jazz.00031.au',\n",
              " 'genres/jazz/jazz.00032.au',\n",
              " 'genres/jazz/jazz.00033.au',\n",
              " 'genres/jazz/jazz.00034.au',\n",
              " 'genres/jazz/jazz.00035.au',\n",
              " 'genres/jazz/jazz.00036.au',\n",
              " 'genres/jazz/jazz.00037.au',\n",
              " 'genres/jazz/jazz.00038.au',\n",
              " 'genres/jazz/jazz.00039.au',\n",
              " 'genres/jazz/jazz.00040.au',\n",
              " 'genres/jazz/jazz.00041.au',\n",
              " 'genres/jazz/jazz.00042.au',\n",
              " 'genres/jazz/jazz.00043.au',\n",
              " 'genres/jazz/jazz.00044.au',\n",
              " 'genres/jazz/jazz.00045.au',\n",
              " 'genres/jazz/jazz.00046.au',\n",
              " 'genres/jazz/jazz.00047.au',\n",
              " 'genres/jazz/jazz.00048.au',\n",
              " 'genres/jazz/jazz.00049.au',\n",
              " 'genres/jazz/jazz.00050.au',\n",
              " 'genres/jazz/jazz.00051.au',\n",
              " 'genres/jazz/jazz.00052.au',\n",
              " 'genres/jazz/jazz.00053.au',\n",
              " 'genres/jazz/jazz.00054.au',\n",
              " 'genres/jazz/jazz.00055.au',\n",
              " 'genres/jazz/jazz.00056.au',\n",
              " 'genres/jazz/jazz.00057.au',\n",
              " 'genres/jazz/jazz.00058.au',\n",
              " 'genres/jazz/jazz.00059.au',\n",
              " 'genres/jazz/jazz.00060.au',\n",
              " 'genres/jazz/jazz.00061.au',\n",
              " 'genres/jazz/jazz.00062.au',\n",
              " 'genres/jazz/jazz.00063.au',\n",
              " 'genres/jazz/jazz.00064.au',\n",
              " 'genres/jazz/jazz.00065.au',\n",
              " 'genres/jazz/jazz.00066.au',\n",
              " 'genres/jazz/jazz.00067.au',\n",
              " 'genres/jazz/jazz.00068.au',\n",
              " 'genres/jazz/jazz.00069.au',\n",
              " 'genres/jazz/jazz.00070.au',\n",
              " 'genres/jazz/jazz.00071.au',\n",
              " 'genres/jazz/jazz.00072.au',\n",
              " 'genres/jazz/jazz.00073.au',\n",
              " 'genres/jazz/jazz.00074.au',\n",
              " 'genres/jazz/jazz.00075.au',\n",
              " 'genres/jazz/jazz.00076.au',\n",
              " 'genres/jazz/jazz.00077.au',\n",
              " 'genres/jazz/jazz.00078.au',\n",
              " 'genres/jazz/jazz.00079.au',\n",
              " 'genres/jazz/jazz.00080.au',\n",
              " 'genres/jazz/jazz.00081.au',\n",
              " 'genres/jazz/jazz.00082.au',\n",
              " 'genres/jazz/jazz.00083.au',\n",
              " 'genres/jazz/jazz.00084.au',\n",
              " 'genres/jazz/jazz.00085.au',\n",
              " 'genres/jazz/jazz.00086.au',\n",
              " 'genres/jazz/jazz.00087.au',\n",
              " 'genres/jazz/jazz.00088.au',\n",
              " 'genres/jazz/jazz.00089.au',\n",
              " 'genres/jazz/jazz.00090.au',\n",
              " 'genres/jazz/jazz.00091.au',\n",
              " 'genres/jazz/jazz.00092.au',\n",
              " 'genres/jazz/jazz.00093.au',\n",
              " 'genres/jazz/jazz.00094.au',\n",
              " 'genres/jazz/jazz.00095.au',\n",
              " 'genres/jazz/jazz.00096.au',\n",
              " 'genres/jazz/jazz.00097.au',\n",
              " 'genres/jazz/jazz.00098.au',\n",
              " 'genres/jazz/jazz.00099.au',\n",
              " 'genres/metal/',\n",
              " 'genres/metal/metal.00000.au',\n",
              " 'genres/metal/metal.00001.au',\n",
              " 'genres/metal/metal.00002.au',\n",
              " 'genres/metal/metal.00003.au',\n",
              " 'genres/metal/metal.00004.au',\n",
              " 'genres/metal/metal.00005.au',\n",
              " 'genres/metal/metal.00006.au',\n",
              " 'genres/metal/metal.00007.au',\n",
              " 'genres/metal/metal.00008.au',\n",
              " 'genres/metal/metal.00009.au',\n",
              " 'genres/metal/metal.00010.au',\n",
              " 'genres/metal/metal.00011.au',\n",
              " 'genres/metal/metal.00012.au',\n",
              " 'genres/metal/metal.00013.au',\n",
              " 'genres/metal/metal.00014.au',\n",
              " 'genres/metal/metal.00015.au',\n",
              " 'genres/metal/metal.00016.au',\n",
              " 'genres/metal/metal.00017.au',\n",
              " 'genres/metal/metal.00018.au',\n",
              " 'genres/metal/metal.00019.au',\n",
              " 'genres/metal/metal.00020.au',\n",
              " 'genres/metal/metal.00021.au',\n",
              " 'genres/metal/metal.00022.au',\n",
              " 'genres/metal/metal.00023.au',\n",
              " 'genres/metal/metal.00024.au',\n",
              " 'genres/metal/metal.00025.au',\n",
              " 'genres/metal/metal.00026.au',\n",
              " 'genres/metal/metal.00027.au',\n",
              " 'genres/metal/metal.00028.au',\n",
              " 'genres/metal/metal.00029.au',\n",
              " 'genres/metal/metal.00030.au',\n",
              " 'genres/metal/metal.00031.au',\n",
              " 'genres/metal/metal.00032.au',\n",
              " 'genres/metal/metal.00033.au',\n",
              " 'genres/metal/metal.00034.au',\n",
              " 'genres/metal/metal.00035.au',\n",
              " 'genres/metal/metal.00036.au',\n",
              " 'genres/metal/metal.00037.au',\n",
              " 'genres/metal/metal.00038.au',\n",
              " 'genres/metal/metal.00039.au',\n",
              " 'genres/metal/metal.00040.au',\n",
              " 'genres/metal/metal.00041.au',\n",
              " 'genres/metal/metal.00042.au',\n",
              " 'genres/metal/metal.00043.au',\n",
              " 'genres/metal/metal.00044.au',\n",
              " 'genres/metal/metal.00045.au',\n",
              " 'genres/metal/metal.00046.au',\n",
              " 'genres/metal/metal.00047.au',\n",
              " 'genres/metal/metal.00048.au',\n",
              " 'genres/metal/metal.00049.au',\n",
              " 'genres/metal/metal.00050.au',\n",
              " 'genres/metal/metal.00051.au',\n",
              " 'genres/metal/metal.00052.au',\n",
              " 'genres/metal/metal.00053.au',\n",
              " 'genres/metal/metal.00054.au',\n",
              " 'genres/metal/metal.00055.au',\n",
              " 'genres/metal/metal.00056.au',\n",
              " 'genres/metal/metal.00057.au',\n",
              " 'genres/metal/metal.00058.au',\n",
              " 'genres/metal/metal.00059.au',\n",
              " 'genres/metal/metal.00060.au',\n",
              " 'genres/metal/metal.00061.au',\n",
              " 'genres/metal/metal.00062.au',\n",
              " 'genres/metal/metal.00063.au',\n",
              " 'genres/metal/metal.00064.au',\n",
              " 'genres/metal/metal.00065.au',\n",
              " 'genres/metal/metal.00066.au',\n",
              " 'genres/metal/metal.00067.au',\n",
              " 'genres/metal/metal.00068.au',\n",
              " 'genres/metal/metal.00069.au',\n",
              " 'genres/metal/metal.00070.au',\n",
              " 'genres/metal/metal.00071.au',\n",
              " 'genres/metal/metal.00072.au',\n",
              " 'genres/metal/metal.00073.au',\n",
              " 'genres/metal/metal.00074.au',\n",
              " 'genres/metal/metal.00075.au',\n",
              " 'genres/metal/metal.00076.au',\n",
              " 'genres/metal/metal.00077.au',\n",
              " 'genres/metal/metal.00078.au',\n",
              " 'genres/metal/metal.00079.au',\n",
              " 'genres/metal/metal.00080.au',\n",
              " 'genres/metal/metal.00081.au',\n",
              " 'genres/metal/metal.00082.au',\n",
              " 'genres/metal/metal.00083.au',\n",
              " 'genres/metal/metal.00084.au',\n",
              " 'genres/metal/metal.00085.au',\n",
              " 'genres/metal/metal.00086.au',\n",
              " 'genres/metal/metal.00087.au',\n",
              " 'genres/metal/metal.00088.au',\n",
              " 'genres/metal/metal.00089.au',\n",
              " 'genres/metal/metal.00090.au',\n",
              " 'genres/metal/metal.00091.au',\n",
              " 'genres/metal/metal.00092.au',\n",
              " 'genres/metal/metal.00093.au',\n",
              " 'genres/metal/metal.00094.au',\n",
              " 'genres/metal/metal.00095.au',\n",
              " 'genres/metal/metal.00096.au',\n",
              " 'genres/metal/metal.00097.au',\n",
              " 'genres/metal/metal.00098.au',\n",
              " 'genres/metal/metal.00099.au',\n",
              " 'genres/pop/',\n",
              " 'genres/pop/pop.00000.au',\n",
              " 'genres/pop/pop.00001.au',\n",
              " 'genres/pop/pop.00002.au',\n",
              " 'genres/pop/pop.00003.au',\n",
              " 'genres/pop/pop.00004.au',\n",
              " 'genres/pop/pop.00005.au',\n",
              " 'genres/pop/pop.00006.au',\n",
              " 'genres/pop/pop.00007.au',\n",
              " 'genres/pop/pop.00008.au',\n",
              " 'genres/pop/pop.00009.au',\n",
              " 'genres/pop/pop.00010.au',\n",
              " 'genres/pop/pop.00011.au',\n",
              " 'genres/pop/pop.00012.au',\n",
              " 'genres/pop/pop.00013.au',\n",
              " 'genres/pop/pop.00014.au',\n",
              " 'genres/pop/pop.00015.au',\n",
              " 'genres/pop/pop.00016.au',\n",
              " 'genres/pop/pop.00017.au',\n",
              " 'genres/pop/pop.00018.au',\n",
              " 'genres/pop/pop.00019.au',\n",
              " 'genres/pop/pop.00020.au',\n",
              " 'genres/pop/pop.00021.au',\n",
              " 'genres/pop/pop.00022.au',\n",
              " 'genres/pop/pop.00023.au',\n",
              " 'genres/pop/pop.00024.au',\n",
              " 'genres/pop/pop.00025.au',\n",
              " 'genres/pop/pop.00026.au',\n",
              " 'genres/pop/pop.00027.au',\n",
              " 'genres/pop/pop.00028.au',\n",
              " 'genres/pop/pop.00029.au',\n",
              " 'genres/pop/pop.00030.au',\n",
              " 'genres/pop/pop.00031.au',\n",
              " 'genres/pop/pop.00032.au',\n",
              " 'genres/pop/pop.00033.au',\n",
              " 'genres/pop/pop.00034.au',\n",
              " 'genres/pop/pop.00035.au',\n",
              " 'genres/pop/pop.00036.au',\n",
              " 'genres/pop/pop.00037.au',\n",
              " 'genres/pop/pop.00038.au',\n",
              " 'genres/pop/pop.00039.au',\n",
              " 'genres/pop/pop.00040.au',\n",
              " 'genres/pop/pop.00041.au',\n",
              " 'genres/pop/pop.00042.au',\n",
              " 'genres/pop/pop.00043.au',\n",
              " 'genres/pop/pop.00044.au',\n",
              " 'genres/pop/pop.00045.au',\n",
              " 'genres/pop/pop.00046.au',\n",
              " 'genres/pop/pop.00047.au',\n",
              " 'genres/pop/pop.00048.au',\n",
              " 'genres/pop/pop.00049.au',\n",
              " 'genres/pop/pop.00050.au',\n",
              " 'genres/pop/pop.00051.au',\n",
              " 'genres/pop/pop.00052.au',\n",
              " 'genres/pop/pop.00053.au',\n",
              " 'genres/pop/pop.00054.au',\n",
              " 'genres/pop/pop.00055.au',\n",
              " 'genres/pop/pop.00056.au',\n",
              " 'genres/pop/pop.00057.au',\n",
              " 'genres/pop/pop.00058.au',\n",
              " 'genres/pop/pop.00059.au',\n",
              " 'genres/pop/pop.00060.au',\n",
              " 'genres/pop/pop.00061.au',\n",
              " 'genres/pop/pop.00062.au',\n",
              " 'genres/pop/pop.00063.au',\n",
              " 'genres/pop/pop.00064.au',\n",
              " 'genres/pop/pop.00065.au',\n",
              " 'genres/pop/pop.00066.au',\n",
              " 'genres/pop/pop.00067.au',\n",
              " 'genres/pop/pop.00068.au',\n",
              " 'genres/pop/pop.00069.au',\n",
              " 'genres/pop/pop.00070.au',\n",
              " 'genres/pop/pop.00071.au',\n",
              " 'genres/pop/pop.00072.au',\n",
              " 'genres/pop/pop.00073.au',\n",
              " 'genres/pop/pop.00074.au',\n",
              " 'genres/pop/pop.00075.au',\n",
              " 'genres/pop/pop.00076.au',\n",
              " 'genres/pop/pop.00077.au',\n",
              " 'genres/pop/pop.00078.au',\n",
              " 'genres/pop/pop.00079.au',\n",
              " 'genres/pop/pop.00080.au',\n",
              " 'genres/pop/pop.00081.au',\n",
              " 'genres/pop/pop.00082.au',\n",
              " 'genres/pop/pop.00083.au',\n",
              " 'genres/pop/pop.00084.au',\n",
              " 'genres/pop/pop.00085.au',\n",
              " 'genres/pop/pop.00086.au',\n",
              " 'genres/pop/pop.00087.au',\n",
              " 'genres/pop/pop.00088.au',\n",
              " 'genres/pop/pop.00089.au',\n",
              " 'genres/pop/pop.00090.au',\n",
              " 'genres/pop/pop.00091.au',\n",
              " 'genres/pop/pop.00092.au',\n",
              " 'genres/pop/pop.00093.au',\n",
              " 'genres/pop/pop.00094.au',\n",
              " 'genres/pop/pop.00095.au',\n",
              " 'genres/pop/pop.00096.au',\n",
              " 'genres/pop/pop.00097.au',\n",
              " 'genres/pop/pop.00098.au',\n",
              " 'genres/pop/pop.00099.au',\n",
              " 'genres/reggae/',\n",
              " 'genres/reggae/reggae.00000.au',\n",
              " 'genres/reggae/reggae.00001.au',\n",
              " 'genres/reggae/reggae.00002.au',\n",
              " 'genres/reggae/reggae.00003.au',\n",
              " 'genres/reggae/reggae.00004.au',\n",
              " 'genres/reggae/reggae.00005.au',\n",
              " 'genres/reggae/reggae.00006.au',\n",
              " 'genres/reggae/reggae.00007.au',\n",
              " 'genres/reggae/reggae.00008.au',\n",
              " 'genres/reggae/reggae.00009.au',\n",
              " 'genres/reggae/reggae.00010.au',\n",
              " 'genres/reggae/reggae.00011.au',\n",
              " 'genres/reggae/reggae.00012.au',\n",
              " 'genres/reggae/reggae.00013.au',\n",
              " 'genres/reggae/reggae.00014.au',\n",
              " 'genres/reggae/reggae.00015.au',\n",
              " 'genres/reggae/reggae.00016.au',\n",
              " 'genres/reggae/reggae.00017.au',\n",
              " 'genres/reggae/reggae.00018.au',\n",
              " 'genres/reggae/reggae.00019.au',\n",
              " 'genres/reggae/reggae.00020.au',\n",
              " 'genres/reggae/reggae.00021.au',\n",
              " 'genres/reggae/reggae.00022.au',\n",
              " 'genres/reggae/reggae.00023.au',\n",
              " 'genres/reggae/reggae.00024.au',\n",
              " 'genres/reggae/reggae.00025.au',\n",
              " 'genres/reggae/reggae.00026.au',\n",
              " 'genres/reggae/reggae.00027.au',\n",
              " 'genres/reggae/reggae.00028.au',\n",
              " 'genres/reggae/reggae.00029.au',\n",
              " 'genres/reggae/reggae.00030.au',\n",
              " 'genres/reggae/reggae.00031.au',\n",
              " 'genres/reggae/reggae.00032.au',\n",
              " 'genres/reggae/reggae.00033.au',\n",
              " 'genres/reggae/reggae.00034.au',\n",
              " 'genres/reggae/reggae.00035.au',\n",
              " 'genres/reggae/reggae.00036.au',\n",
              " 'genres/reggae/reggae.00037.au',\n",
              " 'genres/reggae/reggae.00038.au',\n",
              " 'genres/reggae/reggae.00039.au',\n",
              " 'genres/reggae/reggae.00040.au',\n",
              " 'genres/reggae/reggae.00041.au',\n",
              " 'genres/reggae/reggae.00042.au',\n",
              " 'genres/reggae/reggae.00043.au',\n",
              " 'genres/reggae/reggae.00044.au',\n",
              " 'genres/reggae/reggae.00045.au',\n",
              " 'genres/reggae/reggae.00046.au',\n",
              " 'genres/reggae/reggae.00047.au',\n",
              " 'genres/reggae/reggae.00048.au',\n",
              " 'genres/reggae/reggae.00049.au',\n",
              " 'genres/reggae/reggae.00050.au',\n",
              " 'genres/reggae/reggae.00051.au',\n",
              " 'genres/reggae/reggae.00052.au',\n",
              " 'genres/reggae/reggae.00053.au',\n",
              " 'genres/reggae/reggae.00054.au',\n",
              " 'genres/reggae/reggae.00055.au',\n",
              " 'genres/reggae/reggae.00056.au',\n",
              " 'genres/reggae/reggae.00057.au',\n",
              " 'genres/reggae/reggae.00058.au',\n",
              " 'genres/reggae/reggae.00059.au',\n",
              " 'genres/reggae/reggae.00060.au',\n",
              " 'genres/reggae/reggae.00061.au',\n",
              " 'genres/reggae/reggae.00062.au',\n",
              " 'genres/reggae/reggae.00063.au',\n",
              " 'genres/reggae/reggae.00064.au',\n",
              " 'genres/reggae/reggae.00065.au',\n",
              " 'genres/reggae/reggae.00066.au',\n",
              " 'genres/reggae/reggae.00067.au',\n",
              " 'genres/reggae/reggae.00068.au',\n",
              " 'genres/reggae/reggae.00069.au',\n",
              " 'genres/reggae/reggae.00070.au',\n",
              " 'genres/reggae/reggae.00071.au',\n",
              " 'genres/reggae/reggae.00072.au',\n",
              " 'genres/reggae/reggae.00073.au',\n",
              " 'genres/reggae/reggae.00074.au',\n",
              " 'genres/reggae/reggae.00075.au',\n",
              " 'genres/reggae/reggae.00076.au',\n",
              " 'genres/reggae/reggae.00077.au',\n",
              " 'genres/reggae/reggae.00078.au',\n",
              " 'genres/reggae/reggae.00079.au',\n",
              " 'genres/reggae/reggae.00080.au',\n",
              " 'genres/reggae/reggae.00081.au',\n",
              " 'genres/reggae/reggae.00082.au',\n",
              " 'genres/reggae/reggae.00083.au',\n",
              " 'genres/reggae/reggae.00084.au',\n",
              " 'genres/reggae/reggae.00085.au',\n",
              " 'genres/reggae/reggae.00086.au',\n",
              " 'genres/reggae/reggae.00087.au',\n",
              " 'genres/reggae/reggae.00088.au',\n",
              " 'genres/reggae/reggae.00089.au',\n",
              " 'genres/reggae/reggae.00090.au',\n",
              " 'genres/reggae/reggae.00091.au',\n",
              " 'genres/reggae/reggae.00092.au',\n",
              " 'genres/reggae/reggae.00093.au',\n",
              " 'genres/reggae/reggae.00094.au',\n",
              " 'genres/reggae/reggae.00095.au',\n",
              " 'genres/reggae/reggae.00096.au',\n",
              " 'genres/reggae/reggae.00097.au',\n",
              " 'genres/reggae/reggae.00098.au',\n",
              " 'genres/reggae/reggae.00099.au',\n",
              " 'genres/rock/',\n",
              " 'genres/rock/rock.00000.au',\n",
              " 'genres/rock/rock.00001.au',\n",
              " 'genres/rock/rock.00002.au',\n",
              " 'genres/rock/rock.00003.au',\n",
              " 'genres/rock/rock.00004.au',\n",
              " 'genres/rock/rock.00005.au',\n",
              " 'genres/rock/rock.00006.au',\n",
              " 'genres/rock/rock.00007.au',\n",
              " 'genres/rock/rock.00008.au',\n",
              " 'genres/rock/rock.00009.au',\n",
              " 'genres/rock/rock.00010.au',\n",
              " 'genres/rock/rock.00011.au',\n",
              " 'genres/rock/rock.00012.au',\n",
              " 'genres/rock/rock.00013.au',\n",
              " 'genres/rock/rock.00014.au',\n",
              " 'genres/rock/rock.00015.au',\n",
              " 'genres/rock/rock.00016.au',\n",
              " 'genres/rock/rock.00017.au',\n",
              " 'genres/rock/rock.00018.au',\n",
              " 'genres/rock/rock.00019.au',\n",
              " 'genres/rock/rock.00020.au',\n",
              " 'genres/rock/rock.00021.au',\n",
              " 'genres/rock/rock.00022.au',\n",
              " 'genres/rock/rock.00023.au',\n",
              " 'genres/rock/rock.00024.au',\n",
              " 'genres/rock/rock.00025.au',\n",
              " 'genres/rock/rock.00026.au',\n",
              " 'genres/rock/rock.00027.au',\n",
              " 'genres/rock/rock.00028.au',\n",
              " 'genres/rock/rock.00029.au',\n",
              " 'genres/rock/rock.00030.au',\n",
              " 'genres/rock/rock.00031.au',\n",
              " 'genres/rock/rock.00032.au',\n",
              " 'genres/rock/rock.00033.au',\n",
              " 'genres/rock/rock.00034.au',\n",
              " 'genres/rock/rock.00035.au',\n",
              " 'genres/rock/rock.00036.au',\n",
              " 'genres/rock/rock.00037.au',\n",
              " 'genres/rock/rock.00038.au',\n",
              " 'genres/rock/rock.00039.au',\n",
              " 'genres/rock/rock.00040.au',\n",
              " 'genres/rock/rock.00041.au',\n",
              " 'genres/rock/rock.00042.au',\n",
              " 'genres/rock/rock.00043.au',\n",
              " 'genres/rock/rock.00044.au',\n",
              " 'genres/rock/rock.00045.au',\n",
              " 'genres/rock/rock.00046.au',\n",
              " 'genres/rock/rock.00047.au',\n",
              " 'genres/rock/rock.00048.au',\n",
              " 'genres/rock/rock.00049.au',\n",
              " 'genres/rock/rock.00050.au',\n",
              " 'genres/rock/rock.00051.au',\n",
              " 'genres/rock/rock.00052.au',\n",
              " 'genres/rock/rock.00053.au',\n",
              " 'genres/rock/rock.00054.au',\n",
              " 'genres/rock/rock.00055.au',\n",
              " 'genres/rock/rock.00056.au',\n",
              " 'genres/rock/rock.00057.au',\n",
              " 'genres/rock/rock.00058.au',\n",
              " 'genres/rock/rock.00059.au',\n",
              " 'genres/rock/rock.00060.au',\n",
              " 'genres/rock/rock.00061.au',\n",
              " 'genres/rock/rock.00062.au',\n",
              " 'genres/rock/rock.00063.au',\n",
              " 'genres/rock/rock.00064.au',\n",
              " 'genres/rock/rock.00065.au',\n",
              " 'genres/rock/rock.00066.au',\n",
              " 'genres/rock/rock.00067.au',\n",
              " 'genres/rock/rock.00068.au',\n",
              " 'genres/rock/rock.00069.au',\n",
              " 'genres/rock/rock.00070.au',\n",
              " 'genres/rock/rock.00071.au',\n",
              " 'genres/rock/rock.00072.au',\n",
              " 'genres/rock/rock.00073.au',\n",
              " 'genres/rock/rock.00074.au',\n",
              " 'genres/rock/rock.00075.au',\n",
              " 'genres/rock/rock.00076.au',\n",
              " 'genres/rock/rock.00077.au',\n",
              " 'genres/rock/rock.00078.au',\n",
              " 'genres/rock/rock.00079.au',\n",
              " 'genres/rock/rock.00080.au',\n",
              " 'genres/rock/rock.00081.au',\n",
              " 'genres/rock/rock.00082.au',\n",
              " 'genres/rock/rock.00083.au',\n",
              " 'genres/rock/rock.00084.au',\n",
              " 'genres/rock/rock.00085.au',\n",
              " 'genres/rock/rock.00086.au',\n",
              " 'genres/rock/rock.00087.au',\n",
              " 'genres/rock/rock.00088.au',\n",
              " ...]"
            ]
          },
          "metadata": {},
          "execution_count": 3
        }
      ],
      "source": [
        "\n",
        "!!tar -xvf genres.tar.gz?dl=0 # To unzip the audio zip file"
      ]
    },
    {
      "cell_type": "code",
      "source": [
        "!rm genres.tar.gz?dl=0"
      ],
      "metadata": {
        "id": "X0pM16wSH3ul"
      },
      "execution_count": 4,
      "outputs": []
    },
    {
      "cell_type": "code",
      "execution_count": 5,
      "metadata": {
        "id": "0rmT3zpCPIkT"
      },
      "outputs": [],
      "source": [
        "import os\n",
        "import pickle\n",
        "from glob import iglob\n",
        "import numpy as np\n",
        "import librosa\n",
        "\n",
        "DATA_AUDIO_DIR = './genres'\n",
        "TARGET_SR = 8000\n",
        "OUTPUT_DIR = './output'\n",
        "OUTPUT_DIR_TRAIN = os.path.join(OUTPUT_DIR, 'train')\n",
        "OUTPUT_DIR_TEST = os.path.join(OUTPUT_DIR, 'test')\n",
        "AUDIO_LENGTH = 10000"
      ]
    },
    {
      "cell_type": "code",
      "execution_count": 6,
      "metadata": {
        "id": "kd9IgrvJQtnw"
      },
      "outputs": [],
      "source": [
        "os.makedirs('/content/output/train/')\n",
        "os.makedirs('/content/output/test/')"
      ]
    },
    {
      "cell_type": "code",
      "execution_count": 7,
      "metadata": {
        "id": "ql2x2MyDQTt5"
      },
      "outputs": [],
      "source": [
        "class_ids = {    # assigning numerical id values to different genres of music\n",
        "    'blues': 0,\n",
        "    'classical': 1,\n",
        "    'country': 2,\n",
        "    'disco': 3,\n",
        "    'hiphop': 4,\n",
        "    'jazz':5,\n",
        "    'metal':6,\n",
        "    'pop':7,\n",
        "    'reggae':8,\n",
        "    'rock':9\n",
        "}\n",
        "\n",
        "audio_Class = ['blues', 'classical', 'country', 'disco', 'hiphop', 'jazz', 'metal', 'pop', 'reggae', 'rock']\n",
        "\n",
        "def extract_class_id(wav_filename):\n",
        "    if 'blues' in wav_filename:\n",
        "        return class_ids.get('blues')\n",
        "    elif 'classical' in wav_filename:\n",
        "        return class_ids.get('classical')\n",
        "    elif 'country' in wav_filename:\n",
        "        return class_ids.get('country')\n",
        "    elif 'disco' in wav_filename:\n",
        "        return class_ids.get('disco')\n",
        "    elif 'hiphop' in wav_filename:\n",
        "        return class_ids.get('hiphop')\n",
        "    elif 'jazz' in wav_filename:\n",
        "        return class_ids.get('jazz')\n",
        "    elif 'metal' in wav_filename:\n",
        "        return class_ids.get('metal')\n",
        "    elif 'pop' in wav_filename:\n",
        "        return class_ids.get('pop')\n",
        "    elif 'reggae' in wav_filename:\n",
        "        return class_ids.get('reggae')\n",
        "    else:\n",
        "        return class_ids.get('rock')"
      ]
    },
    {
      "cell_type": "code",
      "source": [
        "extract_class_id('/content/genres/hiphop/hiphop.00014.au/')"
      ],
      "metadata": {
        "colab": {
          "base_uri": "https://localhost:8080/"
        },
        "id": "tdcfL7hGvmMT",
        "outputId": "650e1f0b-cb5e-4cb8-aa6d-916cc8fac357"
      },
      "execution_count": 8,
      "outputs": [
        {
          "output_type": "execute_result",
          "data": {
            "text/plain": [
              "4"
            ]
          },
          "metadata": {},
          "execution_count": 8
        }
      ]
    },
    {
      "cell_type": "code",
      "execution_count": 9,
      "metadata": {
        "id": "ihBaWO56Qand"
      },
      "outputs": [],
      "source": [
        "def read_audio_from_filename(filename, target_sr):\n",
        "    audio, _ = librosa.load(filename, sr=target_sr, mono=True)\n",
        "    audio = audio.reshape(-1, 1)\n",
        "    return audio"
      ]
    },
    {
      "cell_type": "code",
      "execution_count": 10,
      "metadata": {
        "id": "6XxzE5fKQc1S"
      },
      "outputs": [],
      "source": [
        "def convert_data():\n",
        "  for audioItem in audio_Class:\n",
        "    path = DATA_AUDIO_DIR + '/' + audioItem\n",
        "    #print(path)\n",
        "    for i, wav_filename in enumerate(iglob(os.path.join(path, '**/**.au'), recursive=True)):\n",
        "        class_id = extract_class_id(wav_filename)\n",
        "        audio_buf = read_audio_from_filename(wav_filename, target_sr=TARGET_SR)\n",
        "        # normalize mean 0, variance 1\n",
        "        audio_buf = (audio_buf - np.mean(audio_buf)) / np.std(audio_buf)\n",
        "        original_length = len(audio_buf)\n",
        "        print(i, wav_filename, original_length, np.round(np.mean(audio_buf), 4), np.std(audio_buf))\n",
        "        if original_length < AUDIO_LENGTH:\n",
        "            audio_buf = np.concatenate((audio_buf, np.zeros(shape=(AUDIO_LENGTH - original_length, 1))))\n",
        "            #print('PAD New length =', len(audio_buf))\n",
        "        elif original_length > AUDIO_LENGTH:\n",
        "            audio_buf = audio_buf[0:AUDIO_LENGTH]\n",
        "            #print('CUT New length =', len(audio_buf))\n",
        "\n",
        "        output_folder = OUTPUT_DIR_TRAIN\n",
        "        if i // 10 == 0:\n",
        "            output_folder = OUTPUT_DIR_TEST\n",
        "\n",
        "        output_filename = os.path.join(output_folder, str(i) + audioItem + '.pkl')\n",
        "        print(output_filename)\n",
        "        out = {'class_id': class_id,\n",
        "               'audio': audio_buf,\n",
        "               'sr': TARGET_SR}\n",
        "        w=open(output_filename,'wb')\n",
        "        pickle.dump(out,w)\n",
        "        w.close()\n",
        "\n"
      ]
    },
    {
      "cell_type": "code",
      "execution_count": 11,
      "metadata": {
        "colab": {
          "base_uri": "https://localhost:8080/"
        },
        "id": "cZYi36QRRIyz",
        "outputId": "d15105d5-f185-4cc9-fb62-d85d8f8fdd93"
      },
      "outputs": [
        {
          "output_type": "stream",
          "name": "stdout",
          "text": [
            "0 ./genres/blues/blues.00012.au 240107 0.0 1.0\n",
            "./output/test/0blues.pkl\n",
            "1 ./genres/blues/blues.00010.au 240107 -0.0 1.0\n",
            "./output/test/1blues.pkl\n",
            "2 ./genres/blues/blues.00065.au 240107 0.0 1.0000001\n",
            "./output/test/2blues.pkl\n",
            "3 ./genres/blues/blues.00007.au 240107 0.0 1.0\n",
            "./output/test/3blues.pkl\n",
            "4 ./genres/blues/blues.00047.au 240107 0.0 0.99999994\n",
            "./output/test/4blues.pkl\n",
            "5 ./genres/blues/blues.00058.au 240107 -0.0 1.0\n",
            "./output/test/5blues.pkl\n",
            "6 ./genres/blues/blues.00016.au 240107 -0.0 0.9999999\n",
            "./output/test/6blues.pkl\n",
            "7 ./genres/blues/blues.00045.au 240107 0.0 1.0\n",
            "./output/test/7blues.pkl\n",
            "8 ./genres/blues/blues.00034.au 240107 0.0 1.0\n",
            "./output/test/8blues.pkl\n",
            "9 ./genres/blues/blues.00060.au 240107 -0.0 1.0000001\n",
            "./output/test/9blues.pkl\n",
            "10 ./genres/blues/blues.00023.au 240107 0.0 1.0\n",
            "./output/train/10blues.pkl\n",
            "11 ./genres/blues/blues.00015.au 240107 0.0 1.0\n",
            "./output/train/11blues.pkl\n",
            "12 ./genres/blues/blues.00000.au 240107 0.0 1.0\n",
            "./output/train/12blues.pkl\n",
            "13 ./genres/blues/blues.00091.au 240107 0.0 1.0\n",
            "./output/train/13blues.pkl\n",
            "14 ./genres/blues/blues.00039.au 240107 -0.0 1.0\n",
            "./output/train/14blues.pkl\n",
            "15 ./genres/blues/blues.00043.au 240107 0.0 1.0\n",
            "./output/train/15blues.pkl\n",
            "16 ./genres/blues/blues.00025.au 240107 -0.0 0.99999994\n",
            "./output/train/16blues.pkl\n",
            "17 ./genres/blues/blues.00070.au 240107 0.0 1.0000001\n",
            "./output/train/17blues.pkl\n",
            "18 ./genres/blues/blues.00030.au 240107 -0.0 1.0\n",
            "./output/train/18blues.pkl\n",
            "19 ./genres/blues/blues.00031.au 240107 -0.0 1.0\n",
            "./output/train/19blues.pkl\n",
            "20 ./genres/blues/blues.00052.au 240107 -0.0 1.0\n",
            "./output/train/20blues.pkl\n",
            "21 ./genres/blues/blues.00021.au 240107 -0.0 0.9999999\n",
            "./output/train/21blues.pkl\n",
            "22 ./genres/blues/blues.00085.au 240107 0.0 0.99999994\n",
            "./output/train/22blues.pkl\n",
            "23 ./genres/blues/blues.00009.au 240107 0.0 1.0\n",
            "./output/train/23blues.pkl\n",
            "24 ./genres/blues/blues.00072.au 240107 0.0 1.0\n",
            "./output/train/24blues.pkl\n",
            "25 ./genres/blues/blues.00077.au 240107 -0.0 0.99999994\n",
            "./output/train/25blues.pkl\n",
            "26 ./genres/blues/blues.00087.au 240107 0.0 1.0\n",
            "./output/train/26blues.pkl\n",
            "27 ./genres/blues/blues.00084.au 240107 0.0 0.99999994\n",
            "./output/train/27blues.pkl\n",
            "28 ./genres/blues/blues.00019.au 240107 -0.0 0.99999994\n",
            "./output/train/28blues.pkl\n",
            "29 ./genres/blues/blues.00003.au 240107 0.0 0.99999994\n",
            "./output/train/29blues.pkl\n",
            "30 ./genres/blues/blues.00008.au 240107 -0.0 0.9999998\n",
            "./output/train/30blues.pkl\n",
            "31 ./genres/blues/blues.00014.au 240107 0.0 0.99999994\n",
            "./output/train/31blues.pkl\n",
            "32 ./genres/blues/blues.00062.au 240107 -0.0 1.0\n",
            "./output/train/32blues.pkl\n",
            "33 ./genres/blues/blues.00053.au 240107 0.0 1.0\n",
            "./output/train/33blues.pkl\n",
            "34 ./genres/blues/blues.00005.au 240107 0.0 1.0\n",
            "./output/train/34blues.pkl\n",
            "35 ./genres/blues/blues.00093.au 240107 0.0 0.9999999\n",
            "./output/train/35blues.pkl\n",
            "36 ./genres/blues/blues.00017.au 240107 0.0 1.0\n",
            "./output/train/36blues.pkl\n",
            "37 ./genres/blues/blues.00001.au 240107 0.0 1.0\n",
            "./output/train/37blues.pkl\n",
            "38 ./genres/blues/blues.00049.au 240107 0.0 0.9999999\n",
            "./output/train/38blues.pkl\n",
            "39 ./genres/blues/blues.00044.au 240107 -0.0 1.0000001\n",
            "./output/train/39blues.pkl\n",
            "40 ./genres/blues/blues.00095.au 240107 0.0 0.99999994\n",
            "./output/train/40blues.pkl\n",
            "41 ./genres/blues/blues.00086.au 240107 -0.0 1.0\n",
            "./output/train/41blues.pkl\n",
            "42 ./genres/blues/blues.00041.au 240107 -0.0 1.0\n",
            "./output/train/42blues.pkl\n",
            "43 ./genres/blues/blues.00046.au 240107 0.0 0.99999994\n",
            "./output/train/43blues.pkl\n",
            "44 ./genres/blues/blues.00076.au 240107 -0.0 1.0\n",
            "./output/train/44blues.pkl\n",
            "45 ./genres/blues/blues.00067.au 240107 -0.0 1.0\n",
            "./output/train/45blues.pkl\n",
            "46 ./genres/blues/blues.00018.au 240107 0.0 1.0\n",
            "./output/train/46blues.pkl\n",
            "47 ./genres/blues/blues.00028.au 240107 -0.0 1.0\n",
            "./output/train/47blues.pkl\n",
            "48 ./genres/blues/blues.00056.au 240107 -0.0 1.0000001\n",
            "./output/train/48blues.pkl\n",
            "49 ./genres/blues/blues.00011.au 240107 -0.0 0.99999994\n",
            "./output/train/49blues.pkl\n",
            "50 ./genres/blues/blues.00055.au 240107 -0.0 1.0\n",
            "./output/train/50blues.pkl\n",
            "51 ./genres/blues/blues.00094.au 240107 -0.0 1.0\n",
            "./output/train/51blues.pkl\n",
            "52 ./genres/blues/blues.00082.au 240107 -0.0 0.99999994\n",
            "./output/train/52blues.pkl\n",
            "53 ./genres/blues/blues.00098.au 240107 -0.0 1.0\n",
            "./output/train/53blues.pkl\n",
            "54 ./genres/blues/blues.00054.au 240107 0.0 1.0\n",
            "./output/train/54blues.pkl\n",
            "55 ./genres/blues/blues.00097.au 240107 0.0 1.0\n",
            "./output/train/55blues.pkl\n",
            "56 ./genres/blues/blues.00006.au 240107 -0.0 1.0\n",
            "./output/train/56blues.pkl\n",
            "57 ./genres/blues/blues.00057.au 240107 0.0 1.0000001\n",
            "./output/train/57blues.pkl\n",
            "58 ./genres/blues/blues.00092.au 240107 0.0 1.0\n",
            "./output/train/58blues.pkl\n",
            "59 ./genres/blues/blues.00064.au 240107 0.0 0.9999998\n",
            "./output/train/59blues.pkl\n",
            "60 ./genres/blues/blues.00089.au 240107 0.0 1.0\n",
            "./output/train/60blues.pkl\n",
            "61 ./genres/blues/blues.00002.au 240107 0.0 1.0\n",
            "./output/train/61blues.pkl\n",
            "62 ./genres/blues/blues.00050.au 240107 -0.0 1.0\n",
            "./output/train/62blues.pkl\n",
            "63 ./genres/blues/blues.00036.au 240107 0.0 0.99999994\n",
            "./output/train/63blues.pkl\n",
            "64 ./genres/blues/blues.00033.au 240107 0.0 0.9999999\n",
            "./output/train/64blues.pkl\n",
            "65 ./genres/blues/blues.00088.au 240107 -0.0 0.99999994\n",
            "./output/train/65blues.pkl\n",
            "66 ./genres/blues/blues.00037.au 240107 -0.0 1.0\n",
            "./output/train/66blues.pkl\n",
            "67 ./genres/blues/blues.00063.au 240107 0.0 1.0\n",
            "./output/train/67blues.pkl\n",
            "68 ./genres/blues/blues.00051.au 240107 -0.0 1.0\n",
            "./output/train/68blues.pkl\n",
            "69 ./genres/blues/blues.00040.au 240107 0.0 1.0000001\n",
            "./output/train/69blues.pkl\n",
            "70 ./genres/blues/blues.00096.au 240107 -0.0 1.0\n",
            "./output/train/70blues.pkl\n",
            "71 ./genres/blues/blues.00066.au 240107 -0.0 0.99999994\n",
            "./output/train/71blues.pkl\n",
            "72 ./genres/blues/blues.00069.au 240107 0.0 0.99999994\n",
            "./output/train/72blues.pkl\n",
            "73 ./genres/blues/blues.00042.au 240107 0.0 0.9999999\n",
            "./output/train/73blues.pkl\n",
            "74 ./genres/blues/blues.00004.au 240107 -0.0 1.0\n",
            "./output/train/74blues.pkl\n",
            "75 ./genres/blues/blues.00068.au 240107 -0.0 1.0\n",
            "./output/train/75blues.pkl\n",
            "76 ./genres/blues/blues.00080.au 240107 0.0 1.0\n",
            "./output/train/76blues.pkl\n",
            "77 ./genres/blues/blues.00075.au 240107 -0.0 1.0\n",
            "./output/train/77blues.pkl\n",
            "78 ./genres/blues/blues.00081.au 240107 0.0 1.0\n",
            "./output/train/78blues.pkl\n",
            "79 ./genres/blues/blues.00048.au 240107 -0.0 1.0\n",
            "./output/train/79blues.pkl\n",
            "80 ./genres/blues/blues.00029.au 240107 -0.0 1.0\n",
            "./output/train/80blues.pkl\n",
            "81 ./genres/blues/blues.00013.au 240107 -0.0 0.99999994\n",
            "./output/train/81blues.pkl\n",
            "82 ./genres/blues/blues.00083.au 240107 -0.0 0.99999976\n",
            "./output/train/82blues.pkl\n",
            "83 ./genres/blues/blues.00099.au 240107 -0.0 0.99999994\n",
            "./output/train/83blues.pkl\n",
            "84 ./genres/blues/blues.00078.au 240107 -0.0 1.0\n",
            "./output/train/84blues.pkl\n",
            "85 ./genres/blues/blues.00022.au 240107 0.0 0.99999994\n",
            "./output/train/85blues.pkl\n",
            "86 ./genres/blues/blues.00038.au 240107 0.0 0.99999994\n",
            "./output/train/86blues.pkl\n",
            "87 ./genres/blues/blues.00073.au 240107 -0.0 1.0\n",
            "./output/train/87blues.pkl\n",
            "88 ./genres/blues/blues.00079.au 240107 -0.0 1.0\n",
            "./output/train/88blues.pkl\n",
            "89 ./genres/blues/blues.00024.au 240107 -0.0 1.0\n",
            "./output/train/89blues.pkl\n",
            "90 ./genres/blues/blues.00071.au 240107 -0.0 1.0\n",
            "./output/train/90blues.pkl\n",
            "91 ./genres/blues/blues.00035.au 240107 -0.0 1.0\n",
            "./output/train/91blues.pkl\n",
            "92 ./genres/blues/blues.00027.au 240107 0.0 0.99999994\n",
            "./output/train/92blues.pkl\n",
            "93 ./genres/blues/blues.00032.au 240107 0.0 1.0\n",
            "./output/train/93blues.pkl\n",
            "94 ./genres/blues/blues.00061.au 240107 0.0 0.99999994\n",
            "./output/train/94blues.pkl\n",
            "95 ./genres/blues/blues.00026.au 240107 0.0 1.0\n",
            "./output/train/95blues.pkl\n",
            "96 ./genres/blues/blues.00090.au 240107 0.0 1.0\n",
            "./output/train/96blues.pkl\n",
            "97 ./genres/blues/blues.00059.au 240107 0.0 0.99999994\n",
            "./output/train/97blues.pkl\n",
            "98 ./genres/blues/blues.00020.au 240107 0.0 0.99999994\n",
            "./output/train/98blues.pkl\n",
            "99 ./genres/blues/blues.00074.au 240107 -0.0 1.0\n",
            "./output/train/99blues.pkl\n",
            "0 ./genres/classical/classical.00052.au 240107 0.0 0.99999994\n",
            "./output/test/0classical.pkl\n",
            "1 ./genres/classical/classical.00015.au 240107 0.0 0.99999994\n",
            "./output/test/1classical.pkl\n",
            "2 ./genres/classical/classical.00002.au 240107 0.0 0.99999994\n",
            "./output/test/2classical.pkl\n",
            "3 ./genres/classical/classical.00068.au 240107 -0.0 1.0\n",
            "./output/test/3classical.pkl\n",
            "4 ./genres/classical/classical.00099.au 240107 -0.0 1.0000001\n",
            "./output/test/4classical.pkl\n",
            "5 ./genres/classical/classical.00050.au 240107 -0.0 0.99999994\n",
            "./output/test/5classical.pkl\n",
            "6 ./genres/classical/classical.00029.au 240107 -0.0 1.0\n",
            "./output/test/6classical.pkl\n",
            "7 ./genres/classical/classical.00080.au 240107 0.0 0.9999999\n",
            "./output/test/7classical.pkl\n",
            "8 ./genres/classical/classical.00095.au 240107 -0.0 1.0000001\n",
            "./output/test/8classical.pkl\n",
            "9 ./genres/classical/classical.00071.au 240107 0.0 0.99999994\n",
            "./output/test/9classical.pkl\n",
            "10 ./genres/classical/classical.00075.au 240107 0.0 1.0\n",
            "./output/train/10classical.pkl\n",
            "11 ./genres/classical/classical.00076.au 240107 -0.0 1.0000001\n",
            "./output/train/11classical.pkl\n",
            "12 ./genres/classical/classical.00042.au 242968 0.0 1.0\n",
            "./output/train/12classical.pkl\n",
            "13 ./genres/classical/classical.00001.au 240107 -0.0 1.0\n",
            "./output/train/13classical.pkl\n",
            "14 ./genres/classical/classical.00096.au 240107 0.0 1.0\n",
            "./output/train/14classical.pkl\n",
            "15 ./genres/classical/classical.00033.au 240107 0.0 0.99999994\n",
            "./output/train/15classical.pkl\n",
            "16 ./genres/classical/classical.00020.au 240107 -0.0 0.99999994\n",
            "./output/train/16classical.pkl\n",
            "17 ./genres/classical/classical.00037.au 240107 0.0 0.99999994\n",
            "./output/train/17classical.pkl\n",
            "18 ./genres/classical/classical.00090.au 240107 -0.0 1.0\n",
            "./output/train/18classical.pkl\n",
            "19 ./genres/classical/classical.00049.au 239967 0.0 0.99999994\n",
            "./output/train/19classical.pkl\n",
            "20 ./genres/classical/classical.00046.au 240095 -0.0 0.99999994\n",
            "./output/train/20classical.pkl\n",
            "21 ./genres/classical/classical.00060.au 240107 0.0 1.0\n",
            "./output/train/21classical.pkl\n",
            "22 ./genres/classical/classical.00072.au 240107 -0.0 0.9999999\n",
            "./output/train/22classical.pkl\n",
            "23 ./genres/classical/classical.00062.au 240107 0.0 0.9999999\n",
            "./output/train/23classical.pkl\n",
            "24 ./genres/classical/classical.00066.au 240107 0.0 0.99999994\n",
            "./output/train/24classical.pkl\n",
            "25 ./genres/classical/classical.00094.au 240107 0.0 0.9999999\n",
            "./output/train/25classical.pkl\n",
            "26 ./genres/classical/classical.00004.au 240107 0.0 1.0\n",
            "./output/train/26classical.pkl\n",
            "27 ./genres/classical/classical.00006.au 240107 -0.0 1.0\n",
            "./output/train/27classical.pkl\n",
            "28 ./genres/classical/classical.00000.au 240107 -0.0 1.0\n",
            "./output/train/28classical.pkl\n",
            "29 ./genres/classical/classical.00017.au 240107 0.0 1.0\n",
            "./output/train/29classical.pkl\n",
            "30 ./genres/classical/classical.00025.au 240107 -0.0 1.0\n",
            "./output/train/30classical.pkl\n",
            "31 ./genres/classical/classical.00081.au 240107 -0.0 0.99999994\n",
            "./output/train/31classical.pkl\n",
            "32 ./genres/classical/classical.00043.au 240064 0.0 0.99999994\n",
            "./output/train/32classical.pkl\n",
            "33 ./genres/classical/classical.00032.au 240107 0.0 0.9999999\n",
            "./output/train/33classical.pkl\n",
            "34 ./genres/classical/classical.00084.au 240107 -0.0 0.99999994\n",
            "./output/train/34classical.pkl\n",
            "35 ./genres/classical/classical.00086.au 240107 0.0 1.0\n",
            "./output/train/35classical.pkl\n",
            "36 ./genres/classical/classical.00059.au 240107 -0.0 1.0\n",
            "./output/train/36classical.pkl\n",
            "37 ./genres/classical/classical.00019.au 240107 0.0 1.0\n",
            "./output/train/37classical.pkl\n",
            "38 ./genres/classical/classical.00082.au 240107 -0.0 1.0000001\n",
            "./output/train/38classical.pkl\n",
            "39 ./genres/classical/classical.00055.au 240107 0.0 1.0\n",
            "./output/train/39classical.pkl\n",
            "40 ./genres/classical/classical.00093.au 240107 0.0 0.99999994\n",
            "./output/train/40classical.pkl\n",
            "41 ./genres/classical/classical.00079.au 240107 -0.0 1.0\n",
            "./output/train/41classical.pkl\n",
            "42 ./genres/classical/classical.00058.au 240107 0.0 1.0\n",
            "./output/train/42classical.pkl\n",
            "43 ./genres/classical/classical.00021.au 240107 0.0 1.0\n",
            "./output/train/43classical.pkl\n",
            "44 ./genres/classical/classical.00073.au 240107 -0.0 1.0\n",
            "./output/train/44classical.pkl\n",
            "45 ./genres/classical/classical.00012.au 240107 -0.0 1.0\n",
            "./output/train/45classical.pkl\n",
            "46 ./genres/classical/classical.00069.au 240107 -0.0 0.9999999\n",
            "./output/train/46classical.pkl\n",
            "47 ./genres/classical/classical.00089.au 240107 0.0 0.99999994\n",
            "./output/train/47classical.pkl\n",
            "48 ./genres/classical/classical.00038.au 240107 -0.0 1.0\n",
            "./output/train/48classical.pkl\n",
            "49 ./genres/classical/classical.00051.au 239944 0.0 1.0\n",
            "./output/train/49classical.pkl\n",
            "50 ./genres/classical/classical.00044.au 240107 0.0 1.0000001\n",
            "./output/train/50classical.pkl\n",
            "51 ./genres/classical/classical.00003.au 240107 -0.0 0.99999994\n",
            "./output/train/51classical.pkl\n",
            "52 ./genres/classical/classical.00054.au 243912 0.0 1.0000001\n",
            "./output/train/52classical.pkl\n",
            "53 ./genres/classical/classical.00078.au 240107 -0.0 1.0\n",
            "./output/train/53classical.pkl\n",
            "54 ./genres/classical/classical.00056.au 240574 0.0 1.0000001\n",
            "./output/train/54classical.pkl\n",
            "55 ./genres/classical/classical.00041.au 240107 0.0 0.99999994\n",
            "./output/train/55classical.pkl\n",
            "56 ./genres/classical/classical.00092.au 240107 -0.0 0.9999999\n",
            "./output/train/56classical.pkl\n",
            "57 ./genres/classical/classical.00091.au 240107 -0.0 1.0\n",
            "./output/train/57classical.pkl\n",
            "58 ./genres/classical/classical.00009.au 240107 -0.0 1.0\n",
            "./output/train/58classical.pkl\n",
            "59 ./genres/classical/classical.00045.au 241372 0.0 1.0\n",
            "./output/train/59classical.pkl\n",
            "60 ./genres/classical/classical.00023.au 240107 0.0 1.0\n",
            "./output/train/60classical.pkl\n",
            "61 ./genres/classical/classical.00013.au 240107 0.0 0.99999994\n",
            "./output/train/61classical.pkl\n",
            "62 ./genres/classical/classical.00022.au 240107 0.0 1.0\n",
            "./output/train/62classical.pkl\n",
            "63 ./genres/classical/classical.00024.au 240107 -0.0 1.0000001\n",
            "./output/train/63classical.pkl\n",
            "64 ./genres/classical/classical.00098.au 240107 0.0 1.0\n",
            "./output/train/64classical.pkl\n",
            "65 ./genres/classical/classical.00064.au 240107 0.0 0.99999994\n",
            "./output/train/65classical.pkl\n",
            "66 ./genres/classical/classical.00077.au 240107 0.0 1.0\n",
            "./output/train/66classical.pkl\n",
            "67 ./genres/classical/classical.00048.au 240733 0.0 0.99999994\n",
            "./output/train/67classical.pkl\n",
            "68 ./genres/classical/classical.00088.au 240107 -0.0 0.99999994\n",
            "./output/train/68classical.pkl\n",
            "69 ./genres/classical/classical.00067.au 240107 -0.0 0.99999994\n",
            "./output/train/69classical.pkl\n",
            "70 ./genres/classical/classical.00047.au 240107 0.0 1.0\n",
            "./output/train/70classical.pkl\n",
            "71 ./genres/classical/classical.00008.au 240107 0.0 1.0\n",
            "./output/train/71classical.pkl\n",
            "72 ./genres/classical/classical.00061.au 240107 -0.0 1.0000001\n",
            "./output/train/72classical.pkl\n",
            "73 ./genres/classical/classical.00074.au 240107 -0.0 1.0\n",
            "./output/train/73classical.pkl\n",
            "74 ./genres/classical/classical.00028.au 240107 0.0 0.99999994\n",
            "./output/train/74classical.pkl\n",
            "75 ./genres/classical/classical.00063.au 240107 0.0 0.99999994\n",
            "./output/train/75classical.pkl\n",
            "76 ./genres/classical/classical.00057.au 240107 -0.0 1.0\n",
            "./output/train/76classical.pkl\n",
            "77 ./genres/classical/classical.00016.au 240107 0.0 0.99999994\n",
            "./output/train/77classical.pkl\n",
            "78 ./genres/classical/classical.00007.au 240107 0.0 0.99999994\n",
            "./output/train/78classical.pkl\n",
            "79 ./genres/classical/classical.00027.au 240107 0.0 1.0\n",
            "./output/train/79classical.pkl\n",
            "80 ./genres/classical/classical.00085.au 240107 0.0 1.0\n",
            "./output/train/80classical.pkl\n",
            "81 ./genres/classical/classical.00031.au 240107 -0.0 1.0\n",
            "./output/train/81classical.pkl\n",
            "82 ./genres/classical/classical.00097.au 240107 0.0 1.0\n",
            "./output/train/82classical.pkl\n",
            "83 ./genres/classical/classical.00083.au 240107 0.0 1.0\n",
            "./output/train/83classical.pkl\n",
            "84 ./genres/classical/classical.00014.au 240107 0.0 0.9999999\n",
            "./output/train/84classical.pkl\n",
            "85 ./genres/classical/classical.00039.au 240107 0.0 0.99999994\n",
            "./output/train/85classical.pkl\n",
            "86 ./genres/classical/classical.00026.au 240107 -0.0 1.0\n",
            "./output/train/86classical.pkl\n",
            "87 ./genres/classical/classical.00010.au 240107 -0.0 0.99999994\n",
            "./output/train/87classical.pkl\n",
            "88 ./genres/classical/classical.00005.au 240107 -0.0 1.0\n",
            "./output/train/88classical.pkl\n",
            "89 ./genres/classical/classical.00087.au 240107 0.0 0.99999994\n",
            "./output/train/89classical.pkl\n",
            "90 ./genres/classical/classical.00065.au 240107 -0.0 1.0\n",
            "./output/train/90classical.pkl\n",
            "91 ./genres/classical/classical.00036.au 240107 0.0 1.0\n",
            "./output/train/91classical.pkl\n",
            "92 ./genres/classical/classical.00070.au 240107 -0.0 0.99999994\n",
            "./output/train/92classical.pkl\n",
            "93 ./genres/classical/classical.00040.au 240107 0.0 1.0\n",
            "./output/train/93classical.pkl\n",
            "94 ./genres/classical/classical.00053.au 243128 0.0 1.0000001\n",
            "./output/train/94classical.pkl\n",
            "95 ./genres/classical/classical.00030.au 240107 0.0 0.9999999\n",
            "./output/train/95classical.pkl\n",
            "96 ./genres/classical/classical.00035.au 240107 0.0 1.0000001\n",
            "./output/train/96classical.pkl\n",
            "97 ./genres/classical/classical.00034.au 240107 0.0 0.99999994\n",
            "./output/train/97classical.pkl\n",
            "98 ./genres/classical/classical.00018.au 240107 0.0 1.0000001\n",
            "./output/train/98classical.pkl\n",
            "99 ./genres/classical/classical.00011.au 240107 -0.0 0.99999994\n",
            "./output/train/99classical.pkl\n",
            "0 ./genres/country/country.00050.au 240107 0.0 1.0\n",
            "./output/test/0country.pkl\n",
            "1 ./genres/country/country.00025.au 240107 -0.0 0.99999994\n",
            "./output/test/1country.pkl\n",
            "2 ./genres/country/country.00012.au 240107 -0.0 0.9999999\n",
            "./output/test/2country.pkl\n",
            "3 ./genres/country/country.00063.au 240107 -0.0 1.0\n",
            "./output/test/3country.pkl\n",
            "4 ./genres/country/country.00085.au 240107 -0.0 1.0\n",
            "./output/test/4country.pkl\n",
            "5 ./genres/country/country.00057.au 240107 -0.0 1.0\n",
            "./output/test/5country.pkl\n",
            "6 ./genres/country/country.00044.au 240107 -0.0 1.0\n",
            "./output/test/6country.pkl\n",
            "7 ./genres/country/country.00010.au 240107 0.0 1.0\n",
            "./output/test/7country.pkl\n",
            "8 ./genres/country/country.00005.au 241931 0.0 1.0\n",
            "./output/test/8country.pkl\n",
            "9 ./genres/country/country.00036.au 240107 -0.0 1.0\n",
            "./output/test/9country.pkl\n",
            "10 ./genres/country/country.00079.au 240107 0.0 1.0000001\n",
            "./output/train/10country.pkl\n",
            "11 ./genres/country/country.00013.au 240107 0.0 1.0\n",
            "./output/train/11country.pkl\n",
            "12 ./genres/country/country.00042.au 240107 0.0 1.0\n",
            "./output/train/12country.pkl\n",
            "13 ./genres/country/country.00020.au 240107 -0.0 0.99999994\n",
            "./output/train/13country.pkl\n",
            "14 ./genres/country/country.00075.au 240107 -0.0 1.0\n",
            "./output/train/14country.pkl\n",
            "15 ./genres/country/country.00090.au 240107 -0.0 1.0\n",
            "./output/train/15country.pkl\n",
            "16 ./genres/country/country.00031.au 240107 0.0 1.0\n",
            "./output/train/16country.pkl\n",
            "17 ./genres/country/country.00037.au 240107 -0.0 1.0\n",
            "./output/train/17country.pkl\n",
            "18 ./genres/country/country.00058.au 240107 -0.0 0.99999994\n",
            "./output/train/18country.pkl\n",
            "19 ./genres/country/country.00073.au 240107 -0.0 1.0\n",
            "./output/train/19country.pkl\n",
            "20 ./genres/country/country.00096.au 240107 -0.0 1.0\n",
            "./output/train/20country.pkl\n",
            "21 ./genres/country/country.00029.au 240107 0.0 0.99999994\n",
            "./output/train/21country.pkl\n",
            "22 ./genres/country/country.00097.au 240107 0.0 1.0\n",
            "./output/train/22country.pkl\n",
            "23 ./genres/country/country.00024.au 240107 0.0 1.0\n",
            "./output/train/23country.pkl\n",
            "24 ./genres/country/country.00095.au 240107 0.0 0.99999994\n",
            "./output/train/24country.pkl\n",
            "25 ./genres/country/country.00027.au 240107 -0.0 1.0\n",
            "./output/train/25country.pkl\n",
            "26 ./genres/country/country.00099.au 240107 0.0 1.0000001\n",
            "./output/train/26country.pkl\n",
            "27 ./genres/country/country.00049.au 240107 -0.0 1.0\n",
            "./output/train/27country.pkl\n",
            "28 ./genres/country/country.00033.au 240107 0.0 1.0000001\n",
            "./output/train/28country.pkl\n",
            "29 ./genres/country/country.00009.au 240654 -0.0 1.0\n",
            "./output/train/29country.pkl\n",
            "30 ./genres/country/country.00014.au 240107 0.0 0.99999994\n",
            "./output/train/30country.pkl\n",
            "31 ./genres/country/country.00038.au 240107 0.0 0.99999994\n",
            "./output/train/31country.pkl\n",
            "32 ./genres/country/country.00064.au 240107 0.0 1.0\n",
            "./output/train/32country.pkl\n",
            "33 ./genres/country/country.00006.au 242649 -0.0 0.99999994\n",
            "./output/train/33country.pkl\n",
            "34 ./genres/country/country.00043.au 240107 0.0 1.0\n",
            "./output/train/34country.pkl\n",
            "35 ./genres/country/country.00055.au 240107 0.0 1.0\n",
            "./output/train/35country.pkl\n",
            "36 ./genres/country/country.00059.au 240107 -0.0 1.0\n",
            "./output/train/36country.pkl\n",
            "37 ./genres/country/country.00011.au 240107 -0.0 1.0000001\n",
            "./output/train/37country.pkl\n",
            "38 ./genres/country/country.00017.au 240107 0.0 0.99999994\n",
            "./output/train/38country.pkl\n",
            "39 ./genres/country/country.00000.au 240654 -0.0 1.0\n",
            "./output/train/39country.pkl\n",
            "40 ./genres/country/country.00026.au 240107 -0.0 1.0\n",
            "./output/train/40country.pkl\n",
            "41 ./genres/country/country.00008.au 240813 0.0 1.0000001\n",
            "./output/train/41country.pkl\n",
            "42 ./genres/country/country.00078.au 240107 0.0 1.0\n",
            "./output/train/42country.pkl\n",
            "43 ./genres/country/country.00053.au 240107 0.0 1.0\n",
            "./output/train/43country.pkl\n",
            "44 ./genres/country/country.00098.au 240107 -0.0 0.99999994\n",
            "./output/train/44country.pkl\n",
            "45 ./genres/country/country.00091.au 240107 0.0 0.99999994\n",
            "./output/train/45country.pkl\n",
            "46 ./genres/country/country.00071.au 240107 0.0 1.0\n",
            "./output/train/46country.pkl\n",
            "47 ./genres/country/country.00034.au 240107 0.0 0.99999994\n",
            "./output/train/47country.pkl\n",
            "48 ./genres/country/country.00054.au 240107 -0.0 0.99999994\n",
            "./output/train/48country.pkl\n",
            "49 ./genres/country/country.00039.au 240107 -0.0 1.0\n",
            "./output/train/49country.pkl\n",
            "50 ./genres/country/country.00040.au 240107 -0.0 1.0\n",
            "./output/train/50country.pkl\n",
            "51 ./genres/country/country.00077.au 240107 0.0 0.99999994\n",
            "./output/train/51country.pkl\n",
            "52 ./genres/country/country.00046.au 240107 0.0 1.0000001\n",
            "./output/train/52country.pkl\n",
            "53 ./genres/country/country.00069.au 240107 -0.0 1.0\n",
            "./output/train/53country.pkl\n",
            "54 ./genres/country/country.00019.au 240107 -0.0 0.99999994\n",
            "./output/train/54country.pkl\n",
            "55 ./genres/country/country.00082.au 240107 -0.0 1.0\n",
            "./output/train/55country.pkl\n",
            "56 ./genres/country/country.00074.au 240107 0.0 0.9999999\n",
            "./output/train/56country.pkl\n",
            "57 ./genres/country/country.00070.au 240107 0.0 0.99999994\n",
            "./output/train/57country.pkl\n",
            "58 ./genres/country/country.00047.au 240107 -0.0 1.0\n",
            "./output/train/58country.pkl\n",
            "59 ./genres/country/country.00084.au 240107 0.0 1.0\n",
            "./output/train/59country.pkl\n",
            "60 ./genres/country/country.00032.au 240107 -0.0 0.99999994\n",
            "./output/train/60country.pkl\n",
            "61 ./genres/country/country.00062.au 240107 -0.0 0.99999994\n",
            "./output/train/61country.pkl\n",
            "62 ./genres/country/country.00030.au 240107 -0.0 0.9999999\n",
            "./output/train/62country.pkl\n",
            "63 ./genres/country/country.00060.au 240107 0.0 1.0\n",
            "./output/train/63country.pkl\n",
            "64 ./genres/country/country.00003.au 239967 0.0 1.0\n",
            "./output/train/64country.pkl\n",
            "65 ./genres/country/country.00066.au 240107 0.0 0.9999999\n",
            "./output/train/65country.pkl\n",
            "66 ./genres/country/country.00081.au 240107 0.0 0.99999994\n",
            "./output/train/66country.pkl\n",
            "67 ./genres/country/country.00015.au 240107 -0.0 1.0\n",
            "./output/train/67country.pkl\n",
            "68 ./genres/country/country.00068.au 240107 -0.0 0.99999994\n",
            "./output/train/68country.pkl\n",
            "69 ./genres/country/country.00093.au 240107 -0.0 1.0\n",
            "./output/train/69country.pkl\n",
            "70 ./genres/country/country.00016.au 240107 -0.0 0.99999994\n",
            "./output/train/70country.pkl\n",
            "71 ./genres/country/country.00002.au 242968 -0.0 1.0\n",
            "./output/train/71country.pkl\n",
            "72 ./genres/country/country.00083.au 240107 0.0 0.9999999\n",
            "./output/train/72country.pkl\n",
            "73 ./genres/country/country.00051.au 240107 -0.0 0.9999999\n",
            "./output/train/73country.pkl\n",
            "74 ./genres/country/country.00086.au 240107 0.0 1.0\n",
            "./output/train/74country.pkl\n",
            "75 ./genres/country/country.00004.au 239967 -0.0 1.0\n",
            "./output/train/75country.pkl\n",
            "76 ./genres/country/country.00072.au 240107 -0.0 0.99999994\n",
            "./output/train/76country.pkl\n",
            "77 ./genres/country/country.00056.au 240107 -0.0 1.0\n",
            "./output/train/77country.pkl\n",
            "78 ./genres/country/country.00089.au 240107 0.0 0.99999994\n",
            "./output/train/78country.pkl\n",
            "79 ./genres/country/country.00067.au 240107 -0.0 0.99999994\n",
            "./output/train/79country.pkl\n",
            "80 ./genres/country/country.00065.au 240107 0.0 0.9999999\n",
            "./output/train/80country.pkl\n",
            "81 ./genres/country/country.00061.au 240107 -0.0 1.0000001\n",
            "./output/train/81country.pkl\n",
            "82 ./genres/country/country.00041.au 240107 0.0 1.0\n",
            "./output/train/82country.pkl\n",
            "83 ./genres/country/country.00088.au 240107 0.0 1.0\n",
            "./output/train/83country.pkl\n",
            "84 ./genres/country/country.00076.au 240107 -0.0 0.99999994\n",
            "./output/train/84country.pkl\n",
            "85 ./genres/country/country.00048.au 240107 -0.0 1.0000001\n",
            "./output/train/85country.pkl\n",
            "86 ./genres/country/country.00021.au 240107 0.0 0.99999994\n",
            "./output/train/86country.pkl\n",
            "87 ./genres/country/country.00087.au 240107 -0.0 0.99999994\n",
            "./output/train/87country.pkl\n",
            "88 ./genres/country/country.00080.au 240107 -0.0 1.0\n",
            "./output/train/88country.pkl\n",
            "89 ./genres/country/country.00022.au 240107 -0.0 1.0\n",
            "./output/train/89country.pkl\n",
            "90 ./genres/country/country.00028.au 240107 0.0 1.0\n",
            "./output/train/90country.pkl\n",
            "91 ./genres/country/country.00007.au 239855 0.0 1.0000001\n",
            "./output/train/91country.pkl\n",
            "92 ./genres/country/country.00023.au 240107 -0.0 0.9999999\n",
            "./output/train/92country.pkl\n",
            "93 ./genres/country/country.00018.au 240107 0.0 1.0\n",
            "./output/train/93country.pkl\n",
            "94 ./genres/country/country.00094.au 240107 0.0 1.0\n",
            "./output/train/94country.pkl\n",
            "95 ./genres/country/country.00052.au 240107 0.0 1.0\n",
            "./output/train/95country.pkl\n",
            "96 ./genres/country/country.00092.au 240107 -0.0 1.0\n",
            "./output/train/96country.pkl\n",
            "97 ./genres/country/country.00001.au 240095 0.0 0.99999994\n",
            "./output/train/97country.pkl\n",
            "98 ./genres/country/country.00035.au 240107 0.0 0.99999994\n",
            "./output/train/98country.pkl\n",
            "99 ./genres/country/country.00045.au 240107 -0.0 1.0\n",
            "./output/train/99country.pkl\n",
            "0 ./genres/disco/disco.00009.au 240107 0.0 1.0\n",
            "./output/test/0disco.pkl\n",
            "1 ./genres/disco/disco.00051.au 240002 -0.0 0.99999994\n",
            "./output/test/1disco.pkl\n",
            "2 ./genres/disco/disco.00069.au 240002 -0.0 0.99999994\n",
            "./output/test/2disco.pkl\n",
            "3 ./genres/disco/disco.00086.au 240002 0.0 1.0\n",
            "./output/test/3disco.pkl\n",
            "4 ./genres/disco/disco.00062.au 240002 -0.0 1.0\n",
            "./output/test/4disco.pkl\n",
            "5 ./genres/disco/disco.00071.au 240002 0.0 1.0\n",
            "./output/test/5disco.pkl\n",
            "6 ./genres/disco/disco.00006.au 240064 0.0 1.0\n",
            "./output/test/6disco.pkl\n",
            "7 ./genres/disco/disco.00088.au 240002 0.0 1.0000001\n",
            "./output/test/7disco.pkl\n",
            "8 ./genres/disco/disco.00027.au 240107 0.0 1.0\n",
            "./output/test/8disco.pkl\n",
            "9 ./genres/disco/disco.00022.au 240107 -0.0 0.9999999\n",
            "./output/test/9disco.pkl\n",
            "10 ./genres/disco/disco.00076.au 240002 -0.0 1.0\n",
            "./output/train/10disco.pkl\n",
            "11 ./genres/disco/disco.00023.au 240107 -0.0 1.0\n",
            "./output/train/11disco.pkl\n",
            "12 ./genres/disco/disco.00013.au 240107 -0.0 1.0\n",
            "./output/train/12disco.pkl\n",
            "13 ./genres/disco/disco.00000.au 240973 0.0 0.99999994\n",
            "./output/train/13disco.pkl\n",
            "14 ./genres/disco/disco.00044.au 240107 0.0 1.0\n",
            "./output/train/14disco.pkl\n",
            "15 ./genres/disco/disco.00083.au 240002 -0.0 1.0\n",
            "./output/train/15disco.pkl\n",
            "16 ./genres/disco/disco.00090.au 240002 -0.0 0.99999994\n",
            "./output/train/16disco.pkl\n",
            "17 ./genres/disco/disco.00020.au 240107 0.0 1.0\n",
            "./output/train/17disco.pkl\n",
            "18 ./genres/disco/disco.00098.au 240002 -0.0 0.99999994\n",
            "./output/train/18disco.pkl\n",
            "19 ./genres/disco/disco.00047.au 240002 -0.0 0.9999999\n",
            "./output/train/19disco.pkl\n",
            "20 ./genres/disco/disco.00075.au 240002 -0.0 1.0\n",
            "./output/train/20disco.pkl\n",
            "21 ./genres/disco/disco.00059.au 240002 -0.0 0.99999994\n",
            "./output/train/21disco.pkl\n",
            "22 ./genres/disco/disco.00077.au 240002 0.0 1.0\n",
            "./output/train/22disco.pkl\n",
            "23 ./genres/disco/disco.00019.au 240107 0.0 0.99999994\n",
            "./output/train/23disco.pkl\n",
            "24 ./genres/disco/disco.00082.au 240002 0.0 0.99999994\n",
            "./output/train/24disco.pkl\n",
            "25 ./genres/disco/disco.00066.au 240002 0.0 0.9999999\n",
            "./output/train/25disco.pkl\n",
            "26 ./genres/disco/disco.00025.au 240107 -0.0 1.0\n",
            "./output/train/26disco.pkl\n",
            "27 ./genres/disco/disco.00061.au 240002 0.0 1.0\n",
            "./output/train/27disco.pkl\n",
            "28 ./genres/disco/disco.00039.au 240107 -0.0 1.0\n",
            "./output/train/28disco.pkl\n",
            "29 ./genres/disco/disco.00097.au 240002 -0.0 1.0\n",
            "./output/train/29disco.pkl\n",
            "30 ./genres/disco/disco.00008.au 241292 -0.0 0.9999999\n",
            "./output/train/30disco.pkl\n",
            "31 ./genres/disco/disco.00028.au 240107 0.0 0.99999994\n",
            "./output/train/31disco.pkl\n",
            "32 ./genres/disco/disco.00005.au 242330 0.0 1.0000001\n",
            "./output/train/32disco.pkl\n",
            "33 ./genres/disco/disco.00030.au 240107 -0.0 1.0\n",
            "./output/train/33disco.pkl\n",
            "34 ./genres/disco/disco.00018.au 240107 0.0 1.0\n",
            "./output/train/34disco.pkl\n",
            "35 ./genres/disco/disco.00041.au 240107 0.0 1.0\n",
            "./output/train/35disco.pkl\n",
            "36 ./genres/disco/disco.00007.au 240107 -0.0 1.0\n",
            "./output/train/36disco.pkl\n",
            "37 ./genres/disco/disco.00070.au 240002 -0.0 0.99999994\n",
            "./output/train/37disco.pkl\n",
            "38 ./genres/disco/disco.00037.au 240107 -0.0 0.99999994\n",
            "./output/train/38disco.pkl\n",
            "39 ./genres/disco/disco.00014.au 239944 -0.0 0.99999994\n",
            "./output/train/39disco.pkl\n",
            "40 ./genres/disco/disco.00017.au 240107 0.0 1.0\n",
            "./output/train/40disco.pkl\n",
            "41 ./genres/disco/disco.00055.au 240002 0.0 0.99999994\n",
            "./output/train/41disco.pkl\n",
            "42 ./genres/disco/disco.00072.au 240002 -0.0 1.0\n",
            "./output/train/42disco.pkl\n",
            "43 ./genres/disco/disco.00087.au 240002 0.0 1.0000001\n",
            "./output/train/43disco.pkl\n",
            "44 ./genres/disco/disco.00004.au 240107 -0.0 1.0000001\n",
            "./output/train/44disco.pkl\n",
            "45 ./genres/disco/disco.00065.au 240002 0.0 1.0\n",
            "./output/train/45disco.pkl\n",
            "46 ./genres/disco/disco.00081.au 240002 -0.0 0.99999994\n",
            "./output/train/46disco.pkl\n",
            "47 ./genres/disco/disco.00054.au 240002 -0.0 1.0\n",
            "./output/train/47disco.pkl\n",
            "48 ./genres/disco/disco.00011.au 240107 -0.0 0.9999999\n",
            "./output/train/48disco.pkl\n",
            "49 ./genres/disco/disco.00036.au 240107 -0.0 1.0\n",
            "./output/train/49disco.pkl\n",
            "50 ./genres/disco/disco.00048.au 240002 0.0 1.0\n",
            "./output/train/50disco.pkl\n",
            "51 ./genres/disco/disco.00040.au 240107 -0.0 0.99999994\n",
            "./output/train/51disco.pkl\n",
            "52 ./genres/disco/disco.00084.au 240002 0.0 1.0\n",
            "./output/train/52disco.pkl\n",
            "53 ./genres/disco/disco.00073.au 240002 0.0 1.0\n",
            "./output/train/53disco.pkl\n",
            "54 ./genres/disco/disco.00003.au 242410 -0.0 1.0\n",
            "./output/train/54disco.pkl\n",
            "55 ./genres/disco/disco.00058.au 240002 -0.0 1.0\n",
            "./output/train/55disco.pkl\n",
            "56 ./genres/disco/disco.00035.au 240107 -0.0 1.0\n",
            "./output/train/56disco.pkl\n",
            "57 ./genres/disco/disco.00034.au 240107 0.0 0.99999994\n",
            "./output/train/57disco.pkl\n",
            "58 ./genres/disco/disco.00032.au 240107 -0.0 1.0\n",
            "./output/train/58disco.pkl\n",
            "59 ./genres/disco/disco.00010.au 240095 -0.0 1.0\n",
            "./output/train/59disco.pkl\n",
            "60 ./genres/disco/disco.00046.au 240002 -0.0 1.0\n",
            "./output/train/60disco.pkl\n",
            "61 ./genres/disco/disco.00068.au 240002 -0.0 1.0\n",
            "./output/train/61disco.pkl\n",
            "62 ./genres/disco/disco.00045.au 240107 0.0 1.0\n",
            "./output/train/62disco.pkl\n",
            "63 ./genres/disco/disco.00095.au 240002 0.0 0.99999994\n",
            "./output/train/63disco.pkl\n",
            "64 ./genres/disco/disco.00016.au 242330 0.0 0.99999994\n",
            "./output/train/64disco.pkl\n",
            "65 ./genres/disco/disco.00060.au 240002 -0.0 1.0\n",
            "./output/train/65disco.pkl\n",
            "66 ./genres/disco/disco.00049.au 240002 -0.0 1.0000001\n",
            "./output/train/66disco.pkl\n",
            "67 ./genres/disco/disco.00043.au 240107 0.0 1.0\n",
            "./output/train/67disco.pkl\n",
            "68 ./genres/disco/disco.00038.au 240107 0.0 1.0\n",
            "./output/train/68disco.pkl\n",
            "69 ./genres/disco/disco.00096.au 240002 0.0 1.0\n",
            "./output/train/69disco.pkl\n",
            "70 ./genres/disco/disco.00064.au 240002 -0.0 1.0\n",
            "./output/train/70disco.pkl\n",
            "71 ./genres/disco/disco.00079.au 240002 0.0 1.0\n",
            "./output/train/71disco.pkl\n",
            "72 ./genres/disco/disco.00094.au 240002 -0.0 1.0\n",
            "./output/train/72disco.pkl\n",
            "73 ./genres/disco/disco.00026.au 240107 0.0 0.99999994\n",
            "./output/train/73disco.pkl\n",
            "74 ./genres/disco/disco.00050.au 240002 -0.0 1.0\n",
            "./output/train/74disco.pkl\n",
            "75 ./genres/disco/disco.00021.au 240107 0.0 1.0\n",
            "./output/train/75disco.pkl\n",
            "76 ./genres/disco/disco.00074.au 240002 -0.0 1.0\n",
            "./output/train/76disco.pkl\n",
            "77 ./genres/disco/disco.00015.au 240107 -0.0 1.0\n",
            "./output/train/77disco.pkl\n",
            "78 ./genres/disco/disco.00078.au 240002 -0.0 1.0\n",
            "./output/train/78disco.pkl\n",
            "79 ./genres/disco/disco.00091.au 240002 0.0 0.99999994\n",
            "./output/train/79disco.pkl\n",
            "80 ./genres/disco/disco.00057.au 240002 0.0 1.0\n",
            "./output/train/80disco.pkl\n",
            "81 ./genres/disco/disco.00099.au 240002 -0.0 0.99999994\n",
            "./output/train/81disco.pkl\n",
            "82 ./genres/disco/disco.00063.au 240002 0.0 0.9999998\n",
            "./output/train/82disco.pkl\n",
            "83 ./genres/disco/disco.00089.au 240002 -0.0 1.0\n",
            "./output/train/83disco.pkl\n",
            "84 ./genres/disco/disco.00092.au 240002 -0.0 0.99999994\n",
            "./output/train/84disco.pkl\n",
            "85 ./genres/disco/disco.00085.au 240002 -0.0 1.0\n",
            "./output/train/85disco.pkl\n",
            "86 ./genres/disco/disco.00029.au 240107 -0.0 1.0\n",
            "./output/train/86disco.pkl\n",
            "87 ./genres/disco/disco.00080.au 240002 0.0 1.0\n",
            "./output/train/87disco.pkl\n",
            "88 ./genres/disco/disco.00053.au 240002 -0.0 0.99999994\n",
            "./output/train/88disco.pkl\n",
            "89 ./genres/disco/disco.00001.au 241691 0.0 1.0\n",
            "./output/train/89disco.pkl\n",
            "90 ./genres/disco/disco.00042.au 240107 -0.0 1.0\n",
            "./output/train/90disco.pkl\n",
            "91 ./genres/disco/disco.00002.au 240107 0.0 1.0\n",
            "./output/train/91disco.pkl\n",
            "92 ./genres/disco/disco.00093.au 240002 0.0 1.0\n",
            "./output/train/92disco.pkl\n",
            "93 ./genres/disco/disco.00024.au 240107 -0.0 0.99999994\n",
            "./output/train/93disco.pkl\n",
            "94 ./genres/disco/disco.00056.au 240002 -0.0 1.0\n",
            "./output/train/94disco.pkl\n",
            "95 ./genres/disco/disco.00033.au 240107 -0.0 0.9999999\n",
            "./output/train/95disco.pkl\n",
            "96 ./genres/disco/disco.00012.au 240733 -0.0 1.0\n",
            "./output/train/96disco.pkl\n",
            "97 ./genres/disco/disco.00031.au 240107 -0.0 1.0\n",
            "./output/train/97disco.pkl\n",
            "98 ./genres/disco/disco.00052.au 240002 -0.0 1.0\n",
            "./output/train/98disco.pkl\n",
            "99 ./genres/disco/disco.00067.au 240002 -0.0 1.0\n",
            "./output/train/99disco.pkl\n",
            "0 ./genres/hiphop/hiphop.00009.au 240107 -0.0 0.99999994\n",
            "./output/test/0hiphop.pkl\n",
            "1 ./genres/hiphop/hiphop.00028.au 240064 0.0 1.0\n",
            "./output/test/1hiphop.pkl\n",
            "2 ./genres/hiphop/hiphop.00017.au 240107 0.0 0.99999994\n",
            "./output/test/2hiphop.pkl\n",
            "3 ./genres/hiphop/hiphop.00062.au 240107 0.0 1.0\n",
            "./output/test/3hiphop.pkl\n",
            "4 ./genres/hiphop/hiphop.00030.au 240095 0.0 1.0\n",
            "./output/test/4hiphop.pkl\n",
            "5 ./genres/hiphop/hiphop.00043.au 245192 -0.0 1.0\n",
            "./output/test/5hiphop.pkl\n",
            "6 ./genres/hiphop/hiphop.00065.au 240107 0.0 1.0\n",
            "./output/test/6hiphop.pkl\n",
            "7 ./genres/hiphop/hiphop.00042.au 245192 0.0 1.0\n",
            "./output/test/7hiphop.pkl\n",
            "8 ./genres/hiphop/hiphop.00012.au 240107 -0.0 1.0\n",
            "./output/test/8hiphop.pkl\n",
            "9 ./genres/hiphop/hiphop.00031.au 239967 -0.0 1.0000001\n",
            "./output/test/9hiphop.pkl\n",
            "10 ./genres/hiphop/hiphop.00088.au 240107 0.0 0.99999994\n",
            "./output/train/10hiphop.pkl\n",
            "11 ./genres/hiphop/hiphop.00002.au 240002 0.0 0.9999999\n",
            "./output/train/11hiphop.pkl\n",
            "12 ./genres/hiphop/hiphop.00066.au 240107 -0.0 1.0\n",
            "./output/train/12hiphop.pkl\n",
            "13 ./genres/hiphop/hiphop.00045.au 245192 0.0 1.0\n",
            "./output/train/13hiphop.pkl\n",
            "14 ./genres/hiphop/hiphop.00024.au 240107 0.0 1.0\n",
            "./output/train/14hiphop.pkl\n",
            "15 ./genres/hiphop/hiphop.00049.au 240107 0.0 1.0\n",
            "./output/train/15hiphop.pkl\n",
            "16 ./genres/hiphop/hiphop.00086.au 240107 0.0 1.0\n",
            "./output/train/16hiphop.pkl\n",
            "17 ./genres/hiphop/hiphop.00001.au 240002 -0.0 1.0\n",
            "./output/train/17hiphop.pkl\n",
            "18 ./genres/hiphop/hiphop.00069.au 240107 0.0 0.9999999\n",
            "./output/train/18hiphop.pkl\n",
            "19 ./genres/hiphop/hiphop.00091.au 240107 0.0 0.99999994\n",
            "./output/train/19hiphop.pkl\n",
            "20 ./genres/hiphop/hiphop.00014.au 240107 0.0 1.0\n",
            "./output/train/20hiphop.pkl\n",
            "21 ./genres/hiphop/hiphop.00044.au 245192 -0.0 1.0\n",
            "./output/train/21hiphop.pkl\n",
            "22 ./genres/hiphop/hiphop.00078.au 240002 0.0 0.9999999\n",
            "./output/train/22hiphop.pkl\n",
            "23 ./genres/hiphop/hiphop.00019.au 240107 0.0 1.0\n",
            "./output/train/23hiphop.pkl\n",
            "24 ./genres/hiphop/hiphop.00096.au 240107 0.0 0.9999999\n",
            "./output/train/24hiphop.pkl\n",
            "25 ./genres/hiphop/hiphop.00020.au 240107 -0.0 1.0\n",
            "./output/train/25hiphop.pkl\n",
            "26 ./genres/hiphop/hiphop.00053.au 240107 -0.0 1.0\n",
            "./output/train/26hiphop.pkl\n",
            "27 ./genres/hiphop/hiphop.00048.au 240107 -0.0 1.0\n",
            "./output/train/27hiphop.pkl\n",
            "28 ./genres/hiphop/hiphop.00027.au 241053 0.0 0.99999994\n",
            "./output/train/28hiphop.pkl\n",
            "29 ./genres/hiphop/hiphop.00035.au 242410 0.0 0.99999994\n",
            "./output/train/29hiphop.pkl\n",
            "30 ./genres/hiphop/hiphop.00057.au 240107 0.0 0.99999994\n",
            "./output/train/30hiphop.pkl\n",
            "31 ./genres/hiphop/hiphop.00036.au 245192 0.0 1.0\n",
            "./output/train/31hiphop.pkl\n",
            "32 ./genres/hiphop/hiphop.00082.au 240107 0.0 0.99999994\n",
            "./output/train/32hiphop.pkl\n",
            "33 ./genres/hiphop/hiphop.00034.au 242250 -0.0 0.99999994\n",
            "./output/train/33hiphop.pkl\n",
            "34 ./genres/hiphop/hiphop.00094.au 240107 0.0 0.99999994\n",
            "./output/train/34hiphop.pkl\n",
            "35 ./genres/hiphop/hiphop.00089.au 240107 -0.0 0.99999994\n",
            "./output/train/35hiphop.pkl\n",
            "36 ./genres/hiphop/hiphop.00029.au 242809 -0.0 1.0\n",
            "./output/train/36hiphop.pkl\n",
            "37 ./genres/hiphop/hiphop.00033.au 241372 0.0 1.0\n",
            "./output/train/37hiphop.pkl\n",
            "38 ./genres/hiphop/hiphop.00052.au 240107 -0.0 1.0\n",
            "./output/train/38hiphop.pkl\n",
            "39 ./genres/hiphop/hiphop.00075.au 240107 -0.0 1.0\n",
            "./output/train/39hiphop.pkl\n",
            "40 ./genres/hiphop/hiphop.00021.au 240107 -0.0 1.0\n",
            "./output/train/40hiphop.pkl\n",
            "41 ./genres/hiphop/hiphop.00081.au 240107 -0.0 1.0\n",
            "./output/train/41hiphop.pkl\n",
            "42 ./genres/hiphop/hiphop.00084.au 240107 -0.0 0.99999994\n",
            "./output/train/42hiphop.pkl\n",
            "43 ./genres/hiphop/hiphop.00083.au 240107 0.0 1.0\n",
            "./output/train/43hiphop.pkl\n",
            "44 ./genres/hiphop/hiphop.00013.au 240107 -0.0 1.0\n",
            "./output/train/44hiphop.pkl\n",
            "45 ./genres/hiphop/hiphop.00093.au 240107 -0.0 0.99999994\n",
            "./output/train/45hiphop.pkl\n",
            "46 ./genres/hiphop/hiphop.00092.au 240107 0.0 1.0\n",
            "./output/train/46hiphop.pkl\n",
            "47 ./genres/hiphop/hiphop.00005.au 240002 -0.0 1.0\n",
            "./output/train/47hiphop.pkl\n",
            "48 ./genres/hiphop/hiphop.00010.au 240107 -0.0 0.99999994\n",
            "./output/train/48hiphop.pkl\n",
            "49 ./genres/hiphop/hiphop.00041.au 245192 -0.0 1.0\n",
            "./output/train/49hiphop.pkl\n",
            "50 ./genres/hiphop/hiphop.00046.au 240107 -0.0 0.9999999\n",
            "./output/train/50hiphop.pkl\n",
            "51 ./genres/hiphop/hiphop.00055.au 240107 0.0 0.9999999\n",
            "./output/train/51hiphop.pkl\n",
            "52 ./genres/hiphop/hiphop.00040.au 245192 0.0 1.0\n",
            "./output/train/52hiphop.pkl\n",
            "53 ./genres/hiphop/hiphop.00071.au 240107 -0.0 0.9999999\n",
            "./output/train/53hiphop.pkl\n",
            "54 ./genres/hiphop/hiphop.00054.au 240107 0.0 1.0000001\n",
            "./output/train/54hiphop.pkl\n",
            "55 ./genres/hiphop/hiphop.00000.au 240002 -0.0 1.0\n",
            "./output/train/55hiphop.pkl\n",
            "56 ./genres/hiphop/hiphop.00097.au 240107 0.0 0.9999999\n",
            "./output/train/56hiphop.pkl\n",
            "57 ./genres/hiphop/hiphop.00058.au 240107 -0.0 0.9999999\n",
            "./output/train/57hiphop.pkl\n",
            "58 ./genres/hiphop/hiphop.00006.au 240002 -0.0 1.0\n",
            "./output/train/58hiphop.pkl\n",
            "59 ./genres/hiphop/hiphop.00022.au 240107 0.0 1.0000001\n",
            "./output/train/59hiphop.pkl\n",
            "60 ./genres/hiphop/hiphop.00023.au 240107 0.0 0.99999994\n",
            "./output/train/60hiphop.pkl\n",
            "61 ./genres/hiphop/hiphop.00098.au 240107 0.0 1.0\n",
            "./output/train/61hiphop.pkl\n",
            "62 ./genres/hiphop/hiphop.00037.au 245192 -0.0 1.0\n",
            "./output/train/62hiphop.pkl\n",
            "63 ./genres/hiphop/hiphop.00007.au 240002 0.0 1.0\n",
            "./output/train/63hiphop.pkl\n",
            "64 ./genres/hiphop/hiphop.00072.au 240107 0.0 1.0\n",
            "./output/train/64hiphop.pkl\n",
            "65 ./genres/hiphop/hiphop.00056.au 240107 0.0 0.99999994\n",
            "./output/train/65hiphop.pkl\n",
            "66 ./genres/hiphop/hiphop.00018.au 240107 -0.0 0.99999994\n",
            "./output/train/66hiphop.pkl\n",
            "67 ./genres/hiphop/hiphop.00064.au 240107 -0.0 1.0\n",
            "./output/train/67hiphop.pkl\n",
            "68 ./genres/hiphop/hiphop.00073.au 240107 0.0 0.99999994\n",
            "./output/train/68hiphop.pkl\n",
            "69 ./genres/hiphop/hiphop.00047.au 240107 0.0 1.0\n",
            "./output/train/69hiphop.pkl\n",
            "70 ./genres/hiphop/hiphop.00076.au 240002 0.0 0.9999999\n",
            "./output/train/70hiphop.pkl\n",
            "71 ./genres/hiphop/hiphop.00032.au 239456 0.0 0.99999994\n",
            "./output/train/71hiphop.pkl\n",
            "72 ./genres/hiphop/hiphop.00085.au 240107 -0.0 1.0\n",
            "./output/train/72hiphop.pkl\n",
            "73 ./genres/hiphop/hiphop.00016.au 240107 0.0 0.99999994\n",
            "./output/train/73hiphop.pkl\n",
            "74 ./genres/hiphop/hiphop.00087.au 240107 0.0 1.0\n",
            "./output/train/74hiphop.pkl\n",
            "75 ./genres/hiphop/hiphop.00095.au 240107 0.0 1.0000001\n",
            "./output/train/75hiphop.pkl\n",
            "76 ./genres/hiphop/hiphop.00079.au 240002 0.0 1.0000001\n",
            "./output/train/76hiphop.pkl\n",
            "77 ./genres/hiphop/hiphop.00004.au 240002 0.0 1.0\n",
            "./output/train/77hiphop.pkl\n",
            "78 ./genres/hiphop/hiphop.00060.au 240107 0.0 0.99999994\n",
            "./output/train/78hiphop.pkl\n",
            "79 ./genres/hiphop/hiphop.00050.au 240107 0.0 0.99999976\n",
            "./output/train/79hiphop.pkl\n",
            "80 ./genres/hiphop/hiphop.00003.au 240002 -0.0 0.99999994\n",
            "./output/train/80hiphop.pkl\n",
            "81 ./genres/hiphop/hiphop.00059.au 240107 0.0 0.99999994\n",
            "./output/train/81hiphop.pkl\n",
            "82 ./genres/hiphop/hiphop.00015.au 240107 0.0 1.0\n",
            "./output/train/82hiphop.pkl\n",
            "83 ./genres/hiphop/hiphop.00011.au 240107 -0.0 1.0\n",
            "./output/train/83hiphop.pkl\n",
            "84 ./genres/hiphop/hiphop.00068.au 240107 0.0 1.0\n",
            "./output/train/84hiphop.pkl\n",
            "85 ./genres/hiphop/hiphop.00026.au 242968 -0.0 1.0000001\n",
            "./output/train/85hiphop.pkl\n",
            "86 ./genres/hiphop/hiphop.00099.au 240002 0.0 1.0\n",
            "./output/train/86hiphop.pkl\n",
            "87 ./genres/hiphop/hiphop.00038.au 245192 -0.0 0.9999999\n",
            "./output/train/87hiphop.pkl\n",
            "88 ./genres/hiphop/hiphop.00090.au 240107 -0.0 1.0000001\n",
            "./output/train/88hiphop.pkl\n",
            "89 ./genres/hiphop/hiphop.00063.au 240107 -0.0 1.0\n",
            "./output/train/89hiphop.pkl\n",
            "90 ./genres/hiphop/hiphop.00061.au 240107 -0.0 0.99999994\n",
            "./output/train/90hiphop.pkl\n",
            "91 ./genres/hiphop/hiphop.00051.au 240107 0.0 1.0\n",
            "./output/train/91hiphop.pkl\n",
            "92 ./genres/hiphop/hiphop.00067.au 240107 -0.0 1.0\n",
            "./output/train/92hiphop.pkl\n",
            "93 ./genres/hiphop/hiphop.00008.au 240107 0.0 0.9999998\n",
            "./output/train/93hiphop.pkl\n",
            "94 ./genres/hiphop/hiphop.00025.au 240107 0.0 0.99999994\n",
            "./output/train/94hiphop.pkl\n",
            "95 ./genres/hiphop/hiphop.00039.au 245192 0.0 1.0\n",
            "./output/train/95hiphop.pkl\n",
            "96 ./genres/hiphop/hiphop.00070.au 240107 -0.0 0.9999999\n",
            "./output/train/96hiphop.pkl\n",
            "97 ./genres/hiphop/hiphop.00080.au 240002 0.0 1.0\n",
            "./output/train/97hiphop.pkl\n",
            "98 ./genres/hiphop/hiphop.00074.au 240107 -0.0 1.0\n",
            "./output/train/98hiphop.pkl\n",
            "99 ./genres/hiphop/hiphop.00077.au 240002 0.0 0.99999994\n",
            "./output/train/99hiphop.pkl\n",
            "0 ./genres/jazz/jazz.00046.au 240107 -0.0 0.99999994\n",
            "./output/test/0jazz.pkl\n",
            "1 ./genres/jazz/jazz.00022.au 240107 -0.0 1.0\n",
            "./output/test/1jazz.pkl\n",
            "2 ./genres/jazz/jazz.00056.au 241372 0.0 1.0\n",
            "./output/test/2jazz.pkl\n",
            "3 ./genres/jazz/jazz.00007.au 240107 0.0 1.0\n",
            "./output/test/3jazz.pkl\n",
            "4 ./genres/jazz/jazz.00059.au 243846 -0.0 1.0\n",
            "./output/test/4jazz.pkl\n",
            "5 ./genres/jazz/jazz.00070.au 240107 -0.0 1.0\n",
            "./output/test/5jazz.pkl\n",
            "6 ./genres/jazz/jazz.00037.au 240107 0.0 0.99999994\n",
            "./output/test/6jazz.pkl\n",
            "7 ./genres/jazz/jazz.00075.au 240107 0.0 1.0\n",
            "./output/test/7jazz.pkl\n",
            "8 ./genres/jazz/jazz.00000.au 240107 -0.0 1.0\n",
            "./output/test/8jazz.pkl\n",
            "9 ./genres/jazz/jazz.00025.au 240107 -0.0 1.0\n",
            "./output/test/9jazz.pkl\n",
            "10 ./genres/jazz/jazz.00030.au 240107 -0.0 0.99999994\n",
            "./output/train/10jazz.pkl\n",
            "11 ./genres/jazz/jazz.00062.au 240107 0.0 1.0\n",
            "./output/train/11jazz.pkl\n",
            "12 ./genres/jazz/jazz.00091.au 240107 -0.0 1.0000001\n",
            "./output/train/12jazz.pkl\n",
            "13 ./genres/jazz/jazz.00071.au 240107 -0.0 0.99999994\n",
            "./output/train/13jazz.pkl\n",
            "14 ./genres/jazz/jazz.00077.au 240107 0.0 0.99999994\n",
            "./output/train/14jazz.pkl\n",
            "15 ./genres/jazz/jazz.00003.au 240107 0.0 0.99999994\n",
            "./output/train/15jazz.pkl\n",
            "16 ./genres/jazz/jazz.00055.au 240107 0.0 0.99999994\n",
            "./output/train/16jazz.pkl\n",
            "17 ./genres/jazz/jazz.00079.au 240107 -0.0 1.0\n",
            "./output/train/17jazz.pkl\n",
            "18 ./genres/jazz/jazz.00010.au 240107 0.0 0.9999999\n",
            "./output/train/18jazz.pkl\n",
            "19 ./genres/jazz/jazz.00097.au 240107 -0.0 1.0\n",
            "./output/train/19jazz.pkl\n",
            "20 ./genres/jazz/jazz.00032.au 240107 0.0 0.99999994\n",
            "./output/train/20jazz.pkl\n",
            "21 ./genres/jazz/jazz.00006.au 240107 0.0 1.0000001\n",
            "./output/train/21jazz.pkl\n",
            "22 ./genres/jazz/jazz.00052.au 241611 -0.0 1.0\n",
            "./output/train/22jazz.pkl\n",
            "23 ./genres/jazz/jazz.00094.au 240107 0.0 0.99999994\n",
            "./output/train/23jazz.pkl\n",
            "24 ./genres/jazz/jazz.00085.au 240107 0.0 1.0\n",
            "./output/train/24jazz.pkl\n",
            "25 ./genres/jazz/jazz.00089.au 240107 0.0 0.9999999\n",
            "./output/train/25jazz.pkl\n",
            "26 ./genres/jazz/jazz.00065.au 240107 -0.0 1.0000001\n",
            "./output/train/26jazz.pkl\n",
            "27 ./genres/jazz/jazz.00060.au 240107 -0.0 1.0000001\n",
            "./output/train/27jazz.pkl\n",
            "28 ./genres/jazz/jazz.00061.au 241931 -0.0 1.0\n",
            "./output/train/28jazz.pkl\n",
            "29 ./genres/jazz/jazz.00095.au 240107 0.0 1.0\n",
            "./output/train/29jazz.pkl\n",
            "30 ./genres/jazz/jazz.00054.au 240223 0.0 0.9999999\n",
            "./output/train/30jazz.pkl\n",
            "31 ./genres/jazz/jazz.00031.au 240107 0.0 0.99999994\n",
            "./output/train/31jazz.pkl\n",
            "32 ./genres/jazz/jazz.00014.au 240107 -0.0 1.0\n",
            "./output/train/32jazz.pkl\n",
            "33 ./genres/jazz/jazz.00040.au 240107 -0.0 1.0\n",
            "./output/train/33jazz.pkl\n",
            "34 ./genres/jazz/jazz.00044.au 240107 -0.0 1.0\n",
            "./output/train/34jazz.pkl\n",
            "35 ./genres/jazz/jazz.00057.au 240107 0.0 1.0\n",
            "./output/train/35jazz.pkl\n",
            "36 ./genres/jazz/jazz.00013.au 240107 0.0 0.99999994\n",
            "./output/train/36jazz.pkl\n",
            "37 ./genres/jazz/jazz.00049.au 240064 0.0 1.0000001\n",
            "./output/train/37jazz.pkl\n",
            "38 ./genres/jazz/jazz.00076.au 240107 0.0 1.0\n",
            "./output/train/38jazz.pkl\n",
            "39 ./genres/jazz/jazz.00078.au 240107 -0.0 1.0\n",
            "./output/train/39jazz.pkl\n",
            "40 ./genres/jazz/jazz.00081.au 240107 -0.0 0.99999994\n",
            "./output/train/40jazz.pkl\n",
            "41 ./genres/jazz/jazz.00050.au 242809 0.0 1.0\n",
            "./output/train/41jazz.pkl\n",
            "42 ./genres/jazz/jazz.00090.au 240107 0.0 1.0\n",
            "./output/train/42jazz.pkl\n",
            "43 ./genres/jazz/jazz.00098.au 240107 -0.0 0.99999994\n",
            "./output/train/43jazz.pkl\n",
            "44 ./genres/jazz/jazz.00012.au 240107 -0.0 0.9999999\n",
            "./output/train/44jazz.pkl\n",
            "45 ./genres/jazz/jazz.00087.au 240107 0.0 1.0000001\n",
            "./output/train/45jazz.pkl\n",
            "46 ./genres/jazz/jazz.00004.au 240107 0.0 1.0\n",
            "./output/train/46jazz.pkl\n",
            "47 ./genres/jazz/jazz.00043.au 240107 -0.0 1.0\n",
            "./output/train/47jazz.pkl\n",
            "48 ./genres/jazz/jazz.00063.au 242809 -0.0 1.0\n",
            "./output/train/48jazz.pkl\n",
            "49 ./genres/jazz/jazz.00047.au 240107 0.0 1.0000001\n",
            "./output/train/49jazz.pkl\n",
            "50 ./genres/jazz/jazz.00011.au 240107 -0.0 1.0000001\n",
            "./output/train/50jazz.pkl\n",
            "51 ./genres/jazz/jazz.00073.au 240107 -0.0 1.0\n",
            "./output/train/51jazz.pkl\n",
            "52 ./genres/jazz/jazz.00001.au 240107 -0.0 1.0000001\n",
            "./output/train/52jazz.pkl\n",
            "53 ./genres/jazz/jazz.00017.au 240107 0.0 1.0\n",
            "./output/train/53jazz.pkl\n",
            "54 ./genres/jazz/jazz.00021.au 240107 0.0 0.9999999\n",
            "./output/train/54jazz.pkl\n",
            "55 ./genres/jazz/jazz.00026.au 240107 0.0 0.9999999\n",
            "./output/train/55jazz.pkl\n",
            "56 ./genres/jazz/jazz.00038.au 240107 0.0 1.0\n",
            "./output/train/56jazz.pkl\n",
            "57 ./genres/jazz/jazz.00092.au 240107 -0.0 0.99999994\n",
            "./output/train/57jazz.pkl\n",
            "58 ./genres/jazz/jazz.00035.au 240107 0.0 0.9999999\n",
            "./output/train/58jazz.pkl\n",
            "59 ./genres/jazz/jazz.00009.au 240107 -0.0 0.99999994\n",
            "./output/train/59jazz.pkl\n",
            "60 ./genres/jazz/jazz.00024.au 240107 0.0 1.0\n",
            "./output/train/60jazz.pkl\n",
            "61 ./genres/jazz/jazz.00096.au 240107 -0.0 1.0\n",
            "./output/train/61jazz.pkl\n",
            "62 ./genres/jazz/jazz.00072.au 240107 0.0 1.0\n",
            "./output/train/62jazz.pkl\n",
            "63 ./genres/jazz/jazz.00023.au 240107 0.0 1.0\n",
            "./output/train/63jazz.pkl\n",
            "64 ./genres/jazz/jazz.00099.au 240107 -0.0 0.99999994\n",
            "./output/train/64jazz.pkl\n",
            "65 ./genres/jazz/jazz.00080.au 240107 -0.0 1.0\n",
            "./output/train/65jazz.pkl\n",
            "66 ./genres/jazz/jazz.00053.au 240107 -0.0 0.99999994\n",
            "./output/train/66jazz.pkl\n",
            "67 ./genres/jazz/jazz.00028.au 240107 -0.0 1.0\n",
            "./output/train/67jazz.pkl\n",
            "68 ./genres/jazz/jazz.00033.au 240107 -0.0 0.99999994\n",
            "./output/train/68jazz.pkl\n",
            "69 ./genres/jazz/jazz.00008.au 240107 0.0 0.99999994\n",
            "./output/train/69jazz.pkl\n",
            "70 ./genres/jazz/jazz.00020.au 240107 -0.0 0.99999994\n",
            "./output/train/70jazz.pkl\n",
            "71 ./genres/jazz/jazz.00068.au 240107 0.0 1.0\n",
            "./output/train/71jazz.pkl\n",
            "72 ./genres/jazz/jazz.00005.au 240107 0.0 1.0\n",
            "./output/train/72jazz.pkl\n",
            "73 ./genres/jazz/jazz.00064.au 240175 -0.0 1.0\n",
            "./output/train/73jazz.pkl\n",
            "74 ./genres/jazz/jazz.00018.au 240107 0.0 1.0000001\n",
            "./output/train/74jazz.pkl\n",
            "75 ./genres/jazz/jazz.00015.au 240107 0.0 1.0000001\n",
            "./output/train/75jazz.pkl\n",
            "76 ./genres/jazz/jazz.00069.au 240107 -0.0 1.0\n",
            "./output/train/76jazz.pkl\n",
            "77 ./genres/jazz/jazz.00086.au 240107 -0.0 1.0\n",
            "./output/train/77jazz.pkl\n",
            "78 ./genres/jazz/jazz.00067.au 240107 -0.0 1.0\n",
            "./output/train/78jazz.pkl\n",
            "79 ./genres/jazz/jazz.00041.au 240107 -0.0 0.99999994\n",
            "./output/train/79jazz.pkl\n",
            "80 ./genres/jazz/jazz.00042.au 240107 -0.0 0.99999994\n",
            "./output/train/80jazz.pkl\n",
            "81 ./genres/jazz/jazz.00048.au 240107 0.0 0.99999994\n",
            "./output/train/81jazz.pkl\n",
            "82 ./genres/jazz/jazz.00082.au 240107 -0.0 1.0\n",
            "./output/train/82jazz.pkl\n",
            "83 ./genres/jazz/jazz.00002.au 240107 0.0 0.99999994\n",
            "./output/train/83jazz.pkl\n",
            "84 ./genres/jazz/jazz.00019.au 240107 -0.0 0.9999999\n",
            "./output/train/84jazz.pkl\n",
            "85 ./genres/jazz/jazz.00045.au 240107 0.0 1.0\n",
            "./output/train/85jazz.pkl\n",
            "86 ./genres/jazz/jazz.00039.au 240107 0.0 0.9999999\n",
            "./output/train/86jazz.pkl\n",
            "87 ./genres/jazz/jazz.00083.au 240107 -0.0 0.99999994\n",
            "./output/train/87jazz.pkl\n",
            "88 ./genres/jazz/jazz.00088.au 240107 0.0 1.0\n",
            "./output/train/88jazz.pkl\n",
            "89 ./genres/jazz/jazz.00066.au 242170 -0.0 0.99999994\n",
            "./output/train/89jazz.pkl\n",
            "90 ./genres/jazz/jazz.00034.au 240107 -0.0 0.99999994\n",
            "./output/train/90jazz.pkl\n",
            "91 ./genres/jazz/jazz.00036.au 240107 0.0 0.99999994\n",
            "./output/train/91jazz.pkl\n",
            "92 ./genres/jazz/jazz.00093.au 240107 -0.0 0.99999994\n",
            "./output/train/92jazz.pkl\n",
            "93 ./genres/jazz/jazz.00016.au 240107 -0.0 1.0000001\n",
            "./output/train/93jazz.pkl\n",
            "94 ./genres/jazz/jazz.00058.au 240107 0.0 1.0000001\n",
            "./output/train/94jazz.pkl\n",
            "95 ./genres/jazz/jazz.00027.au 240107 0.0 1.0\n",
            "./output/train/95jazz.pkl\n",
            "96 ./genres/jazz/jazz.00051.au 240107 0.0 1.0\n",
            "./output/train/96jazz.pkl\n",
            "97 ./genres/jazz/jazz.00029.au 240107 0.0 1.0\n",
            "./output/train/97jazz.pkl\n",
            "98 ./genres/jazz/jazz.00074.au 240107 -0.0 1.0000001\n",
            "./output/train/98jazz.pkl\n",
            "99 ./genres/jazz/jazz.00084.au 240107 -0.0 0.99999994\n",
            "./output/train/99jazz.pkl\n",
            "0 ./genres/metal/metal.00015.au 240002 0.0 0.99999994\n",
            "./output/test/0metal.pkl\n",
            "1 ./genres/metal/metal.00096.au 240107 0.0 0.99999994\n",
            "./output/test/1metal.pkl\n",
            "2 ./genres/metal/metal.00084.au 240002 -0.0 1.0000001\n",
            "./output/test/2metal.pkl\n",
            "3 ./genres/metal/metal.00050.au 240107 -0.0 0.9999999\n",
            "./output/test/3metal.pkl\n",
            "4 ./genres/metal/metal.00032.au 240002 0.0 0.99999994\n",
            "./output/test/4metal.pkl\n",
            "5 ./genres/metal/metal.00001.au 240002 0.0 0.99999994\n",
            "./output/test/5metal.pkl\n",
            "6 ./genres/metal/metal.00071.au 240002 -0.0 0.99999994\n",
            "./output/test/6metal.pkl\n",
            "7 ./genres/metal/metal.00097.au 240107 -0.0 1.0000001\n",
            "./output/test/7metal.pkl\n",
            "8 ./genres/metal/metal.00053.au 240107 -0.0 1.0\n",
            "./output/test/8metal.pkl\n",
            "9 ./genres/metal/metal.00057.au 240107 -0.0 1.0\n",
            "./output/test/9metal.pkl\n",
            "10 ./genres/metal/metal.00020.au 240002 -0.0 0.99999994\n",
            "./output/train/10metal.pkl\n",
            "11 ./genres/metal/metal.00054.au 240107 -0.0 1.0\n",
            "./output/train/11metal.pkl\n",
            "12 ./genres/metal/metal.00055.au 240107 -0.0 1.0\n",
            "./output/train/12metal.pkl\n",
            "13 ./genres/metal/metal.00035.au 240002 0.0 1.0\n",
            "./output/train/13metal.pkl\n",
            "14 ./genres/metal/metal.00056.au 240107 -0.0 1.0\n",
            "./output/train/14metal.pkl\n",
            "15 ./genres/metal/metal.00089.au 240002 -0.0 1.0\n",
            "./output/train/15metal.pkl\n",
            "16 ./genres/metal/metal.00018.au 240002 -0.0 0.99999994\n",
            "./output/train/16metal.pkl\n",
            "17 ./genres/metal/metal.00065.au 240107 0.0 1.0\n",
            "./output/train/17metal.pkl\n",
            "18 ./genres/metal/metal.00078.au 240002 0.0 1.0\n",
            "./output/train/18metal.pkl\n",
            "19 ./genres/metal/metal.00086.au 240002 -0.0 1.0000001\n",
            "./output/train/19metal.pkl\n",
            "20 ./genres/metal/metal.00025.au 240002 0.0 1.0\n",
            "./output/train/20metal.pkl\n",
            "21 ./genres/metal/metal.00070.au 240002 -0.0 1.0\n",
            "./output/train/21metal.pkl\n",
            "22 ./genres/metal/metal.00037.au 240002 -0.0 0.99999994\n",
            "./output/train/22metal.pkl\n",
            "23 ./genres/metal/metal.00094.au 240002 0.0 1.0000001\n",
            "./output/train/23metal.pkl\n",
            "24 ./genres/metal/metal.00017.au 240002 -0.0 1.0\n",
            "./output/train/24metal.pkl\n",
            "25 ./genres/metal/metal.00014.au 240002 -0.0 0.99999994\n",
            "./output/train/25metal.pkl\n",
            "26 ./genres/metal/metal.00093.au 240002 0.0 1.0\n",
            "./output/train/26metal.pkl\n",
            "27 ./genres/metal/metal.00007.au 240002 -0.0 1.0\n",
            "./output/train/27metal.pkl\n",
            "28 ./genres/metal/metal.00048.au 240107 0.0 1.0\n",
            "./output/train/28metal.pkl\n",
            "29 ./genres/metal/metal.00005.au 240002 0.0 1.0000001\n",
            "./output/train/29metal.pkl\n",
            "30 ./genres/metal/metal.00052.au 240107 -0.0 0.99999994\n",
            "./output/train/30metal.pkl\n",
            "31 ./genres/metal/metal.00042.au 240107 0.0 0.99999994\n",
            "./output/train/31metal.pkl\n",
            "32 ./genres/metal/metal.00085.au 240002 -0.0 0.99999994\n",
            "./output/train/32metal.pkl\n",
            "33 ./genres/metal/metal.00039.au 240002 -0.0 1.0\n",
            "./output/train/33metal.pkl\n",
            "34 ./genres/metal/metal.00079.au 240002 -0.0 1.0\n",
            "./output/train/34metal.pkl\n",
            "35 ./genres/metal/metal.00067.au 240002 0.0 1.0000001\n",
            "./output/train/35metal.pkl\n",
            "36 ./genres/metal/metal.00027.au 240002 0.0 1.0\n",
            "./output/train/36metal.pkl\n",
            "37 ./genres/metal/metal.00063.au 240107 0.0 0.99999994\n",
            "./output/train/37metal.pkl\n",
            "38 ./genres/metal/metal.00077.au 240002 0.0 1.0\n",
            "./output/train/38metal.pkl\n",
            "39 ./genres/metal/metal.00064.au 240107 0.0 1.0\n",
            "./output/train/39metal.pkl\n",
            "40 ./genres/metal/metal.00049.au 240107 -0.0 1.0000001\n",
            "./output/train/40metal.pkl\n",
            "41 ./genres/metal/metal.00000.au 240002 0.0 1.0\n",
            "./output/train/41metal.pkl\n",
            "42 ./genres/metal/metal.00009.au 240002 -0.0 1.0\n",
            "./output/train/42metal.pkl\n",
            "43 ./genres/metal/metal.00012.au 240002 0.0 1.0\n",
            "./output/train/43metal.pkl\n",
            "44 ./genres/metal/metal.00059.au 240107 -0.0 0.9999999\n",
            "./output/train/44metal.pkl\n",
            "45 ./genres/metal/metal.00061.au 240107 -0.0 1.0\n",
            "./output/train/45metal.pkl\n",
            "46 ./genres/metal/metal.00013.au 240002 -0.0 1.0000001\n",
            "./output/train/46metal.pkl\n",
            "47 ./genres/metal/metal.00083.au 240002 0.0 1.0\n",
            "./output/train/47metal.pkl\n",
            "48 ./genres/metal/metal.00058.au 240107 -0.0 0.99999994\n",
            "./output/train/48metal.pkl\n",
            "49 ./genres/metal/metal.00026.au 240002 -0.0 0.99999994\n",
            "./output/train/49metal.pkl\n",
            "50 ./genres/metal/metal.00046.au 240107 -0.0 1.0\n",
            "./output/train/50metal.pkl\n",
            "51 ./genres/metal/metal.00006.au 240002 0.0 1.0\n",
            "./output/train/51metal.pkl\n",
            "52 ./genres/metal/metal.00043.au 240107 0.0 1.0\n",
            "./output/train/52metal.pkl\n",
            "53 ./genres/metal/metal.00038.au 240002 0.0 1.0000001\n",
            "./output/train/53metal.pkl\n",
            "54 ./genres/metal/metal.00090.au 240002 -0.0 1.0\n",
            "./output/train/54metal.pkl\n",
            "55 ./genres/metal/metal.00095.au 240107 -0.0 1.0000001\n",
            "./output/train/55metal.pkl\n",
            "56 ./genres/metal/metal.00016.au 240002 -0.0 1.0\n",
            "./output/train/56metal.pkl\n",
            "57 ./genres/metal/metal.00033.au 240002 0.0 1.0\n",
            "./output/train/57metal.pkl\n",
            "58 ./genres/metal/metal.00022.au 240002 -0.0 0.99999994\n",
            "./output/train/58metal.pkl\n",
            "59 ./genres/metal/metal.00010.au 240002 0.0 1.0000001\n",
            "./output/train/59metal.pkl\n",
            "60 ./genres/metal/metal.00080.au 240002 0.0 1.0\n",
            "./output/train/60metal.pkl\n",
            "61 ./genres/metal/metal.00011.au 240002 -0.0 0.99999994\n",
            "./output/train/61metal.pkl\n",
            "62 ./genres/metal/metal.00029.au 240002 0.0 1.0\n",
            "./output/train/62metal.pkl\n",
            "63 ./genres/metal/metal.00082.au 240002 0.0 0.99999994\n",
            "./output/train/63metal.pkl\n",
            "64 ./genres/metal/metal.00008.au 240002 -0.0 1.0\n",
            "./output/train/64metal.pkl\n",
            "65 ./genres/metal/metal.00023.au 240002 0.0 0.99999994\n",
            "./output/train/65metal.pkl\n",
            "66 ./genres/metal/metal.00040.au 240107 -0.0 1.0\n",
            "./output/train/66metal.pkl\n",
            "67 ./genres/metal/metal.00036.au 240002 -0.0 0.9999999\n",
            "./output/train/67metal.pkl\n",
            "68 ./genres/metal/metal.00076.au 240002 0.0 1.0\n",
            "./output/train/68metal.pkl\n",
            "69 ./genres/metal/metal.00072.au 240002 0.0 1.0\n",
            "./output/train/69metal.pkl\n",
            "70 ./genres/metal/metal.00024.au 240002 0.0 1.0\n",
            "./output/train/70metal.pkl\n",
            "71 ./genres/metal/metal.00003.au 240002 -0.0 1.0\n",
            "./output/train/71metal.pkl\n",
            "72 ./genres/metal/metal.00098.au 240107 -0.0 1.0\n",
            "./output/train/72metal.pkl\n",
            "73 ./genres/metal/metal.00021.au 240002 0.0 1.0\n",
            "./output/train/73metal.pkl\n",
            "74 ./genres/metal/metal.00099.au 240107 0.0 1.0\n",
            "./output/train/74metal.pkl\n",
            "75 ./genres/metal/metal.00019.au 240002 0.0 1.0\n",
            "./output/train/75metal.pkl\n",
            "76 ./genres/metal/metal.00068.au 240002 0.0 1.0\n",
            "./output/train/76metal.pkl\n",
            "77 ./genres/metal/metal.00047.au 240107 -0.0 1.0\n",
            "./output/train/77metal.pkl\n",
            "78 ./genres/metal/metal.00041.au 240107 -0.0 1.0\n",
            "./output/train/78metal.pkl\n",
            "79 ./genres/metal/metal.00044.au 240107 0.0 1.0\n",
            "./output/train/79metal.pkl\n",
            "80 ./genres/metal/metal.00031.au 240002 0.0 1.0000001\n",
            "./output/train/80metal.pkl\n",
            "81 ./genres/metal/metal.00088.au 240002 0.0 1.0\n",
            "./output/train/81metal.pkl\n",
            "82 ./genres/metal/metal.00045.au 240107 -0.0 1.0\n",
            "./output/train/82metal.pkl\n",
            "83 ./genres/metal/metal.00030.au 240002 -0.0 1.0\n",
            "./output/train/83metal.pkl\n",
            "84 ./genres/metal/metal.00066.au 240107 -0.0 1.0\n",
            "./output/train/84metal.pkl\n",
            "85 ./genres/metal/metal.00073.au 240002 0.0 0.9999999\n",
            "./output/train/85metal.pkl\n",
            "86 ./genres/metal/metal.00069.au 240002 0.0 1.0000001\n",
            "./output/train/86metal.pkl\n",
            "87 ./genres/metal/metal.00062.au 240107 -0.0 1.0\n",
            "./output/train/87metal.pkl\n",
            "88 ./genres/metal/metal.00034.au 240002 0.0 1.0000001\n",
            "./output/train/88metal.pkl\n",
            "89 ./genres/metal/metal.00028.au 240002 -0.0 0.99999994\n",
            "./output/train/89metal.pkl\n",
            "90 ./genres/metal/metal.00092.au 240002 0.0 0.99999994\n",
            "./output/train/90metal.pkl\n",
            "91 ./genres/metal/metal.00075.au 240002 -0.0 0.99999994\n",
            "./output/train/91metal.pkl\n",
            "92 ./genres/metal/metal.00060.au 240107 -0.0 0.99999994\n",
            "./output/train/92metal.pkl\n",
            "93 ./genres/metal/metal.00002.au 240002 0.0 1.0000001\n",
            "./output/train/93metal.pkl\n",
            "94 ./genres/metal/metal.00087.au 240002 -0.0 1.0\n",
            "./output/train/94metal.pkl\n",
            "95 ./genres/metal/metal.00091.au 240002 0.0 1.0\n",
            "./output/train/95metal.pkl\n",
            "96 ./genres/metal/metal.00074.au 240002 0.0 1.0\n",
            "./output/train/96metal.pkl\n",
            "97 ./genres/metal/metal.00081.au 240002 0.0 0.99999994\n",
            "./output/train/97metal.pkl\n",
            "98 ./genres/metal/metal.00051.au 240107 -0.0 1.0\n",
            "./output/train/98metal.pkl\n",
            "99 ./genres/metal/metal.00004.au 240002 0.0 0.99999994\n",
            "./output/train/99metal.pkl\n",
            "0 ./genres/pop/pop.00086.au 240002 0.0 1.0\n",
            "./output/test/0pop.pkl\n",
            "1 ./genres/pop/pop.00051.au 240002 0.0 1.0\n",
            "./output/test/1pop.pkl\n",
            "2 ./genres/pop/pop.00046.au 240002 0.0 0.99999994\n",
            "./output/test/2pop.pkl\n",
            "3 ./genres/pop/pop.00075.au 240002 0.0 0.9999999\n",
            "./output/test/3pop.pkl\n",
            "4 ./genres/pop/pop.00050.au 240002 0.0 1.0\n",
            "./output/test/4pop.pkl\n",
            "5 ./genres/pop/pop.00080.au 240002 0.0 0.9999999\n",
            "./output/test/5pop.pkl\n",
            "6 ./genres/pop/pop.00044.au 240002 0.0 1.0\n",
            "./output/test/6pop.pkl\n",
            "7 ./genres/pop/pop.00033.au 240002 0.0 1.0000001\n",
            "./output/test/7pop.pkl\n",
            "8 ./genres/pop/pop.00065.au 240002 -0.0 0.99999994\n",
            "./output/test/8pop.pkl\n",
            "9 ./genres/pop/pop.00023.au 240002 -0.0 1.0\n",
            "./output/test/9pop.pkl\n",
            "10 ./genres/pop/pop.00035.au 240002 0.0 1.0\n",
            "./output/train/10pop.pkl\n",
            "11 ./genres/pop/pop.00006.au 240002 -0.0 0.99999994\n",
            "./output/train/11pop.pkl\n",
            "12 ./genres/pop/pop.00093.au 240002 0.0 0.99999994\n",
            "./output/train/12pop.pkl\n",
            "13 ./genres/pop/pop.00066.au 240002 0.0 1.0\n",
            "./output/train/13pop.pkl\n",
            "14 ./genres/pop/pop.00062.au 240002 -0.0 0.99999994\n",
            "./output/train/14pop.pkl\n",
            "15 ./genres/pop/pop.00019.au 240002 0.0 1.0\n",
            "./output/train/15pop.pkl\n",
            "16 ./genres/pop/pop.00007.au 240002 0.0 1.0\n",
            "./output/train/16pop.pkl\n",
            "17 ./genres/pop/pop.00071.au 240002 0.0 1.0\n",
            "./output/train/17pop.pkl\n",
            "18 ./genres/pop/pop.00042.au 240002 -0.0 0.99999994\n",
            "./output/train/18pop.pkl\n",
            "19 ./genres/pop/pop.00014.au 240002 0.0 0.99999994\n",
            "./output/train/19pop.pkl\n",
            "20 ./genres/pop/pop.00008.au 240002 0.0 1.0\n",
            "./output/train/20pop.pkl\n",
            "21 ./genres/pop/pop.00091.au 240002 -0.0 1.0\n",
            "./output/train/21pop.pkl\n",
            "22 ./genres/pop/pop.00052.au 240002 -0.0 1.0\n",
            "./output/train/22pop.pkl\n",
            "23 ./genres/pop/pop.00028.au 240002 -0.0 0.99999994\n",
            "./output/train/23pop.pkl\n",
            "24 ./genres/pop/pop.00069.au 240002 -0.0 0.99999994\n",
            "./output/train/24pop.pkl\n",
            "25 ./genres/pop/pop.00059.au 240002 -0.0 1.0\n",
            "./output/train/25pop.pkl\n",
            "26 ./genres/pop/pop.00087.au 240002 -0.0 1.0\n",
            "./output/train/26pop.pkl\n",
            "27 ./genres/pop/pop.00082.au 240002 -0.0 1.0\n",
            "./output/train/27pop.pkl\n",
            "28 ./genres/pop/pop.00077.au 240002 -0.0 0.9999999\n",
            "./output/train/28pop.pkl\n",
            "29 ./genres/pop/pop.00009.au 240002 0.0 0.99999994\n",
            "./output/train/29pop.pkl\n",
            "30 ./genres/pop/pop.00045.au 240002 -0.0 1.0\n",
            "./output/train/30pop.pkl\n",
            "31 ./genres/pop/pop.00072.au 240002 0.0 1.0\n",
            "./output/train/31pop.pkl\n",
            "32 ./genres/pop/pop.00078.au 240002 0.0 0.99999994\n",
            "./output/train/32pop.pkl\n",
            "33 ./genres/pop/pop.00012.au 240002 0.0 1.0\n",
            "./output/train/33pop.pkl\n",
            "34 ./genres/pop/pop.00053.au 240002 0.0 0.99999994\n",
            "./output/train/34pop.pkl\n",
            "35 ./genres/pop/pop.00063.au 240002 -0.0 0.99999994\n",
            "./output/train/35pop.pkl\n",
            "36 ./genres/pop/pop.00001.au 240002 0.0 1.0000001\n",
            "./output/train/36pop.pkl\n",
            "37 ./genres/pop/pop.00013.au 240002 -0.0 1.0000001\n",
            "./output/train/37pop.pkl\n",
            "38 ./genres/pop/pop.00027.au 240002 -0.0 1.0\n",
            "./output/train/38pop.pkl\n",
            "39 ./genres/pop/pop.00076.au 240002 -0.0 1.0000001\n",
            "./output/train/39pop.pkl\n",
            "40 ./genres/pop/pop.00055.au 240002 -0.0 1.0\n",
            "./output/train/40pop.pkl\n",
            "41 ./genres/pop/pop.00079.au 240002 0.0 0.99999994\n",
            "./output/train/41pop.pkl\n",
            "42 ./genres/pop/pop.00017.au 240002 -0.0 1.0000001\n",
            "./output/train/42pop.pkl\n",
            "43 ./genres/pop/pop.00034.au 240002 -0.0 1.0\n",
            "./output/train/43pop.pkl\n",
            "44 ./genres/pop/pop.00020.au 240002 0.0 0.99999994\n",
            "./output/train/44pop.pkl\n",
            "45 ./genres/pop/pop.00043.au 240002 0.0 1.0000001\n",
            "./output/train/45pop.pkl\n",
            "46 ./genres/pop/pop.00024.au 240002 0.0 1.0\n",
            "./output/train/46pop.pkl\n",
            "47 ./genres/pop/pop.00084.au 240002 0.0 0.99999994\n",
            "./output/train/47pop.pkl\n",
            "48 ./genres/pop/pop.00011.au 240002 0.0 1.0\n",
            "./output/train/48pop.pkl\n",
            "49 ./genres/pop/pop.00096.au 240002 0.0 1.0000001\n",
            "./output/train/49pop.pkl\n",
            "50 ./genres/pop/pop.00010.au 240002 0.0 0.9999999\n",
            "./output/train/50pop.pkl\n",
            "51 ./genres/pop/pop.00061.au 240002 -0.0 1.0\n",
            "./output/train/51pop.pkl\n",
            "52 ./genres/pop/pop.00025.au 240002 -0.0 1.0\n",
            "./output/train/52pop.pkl\n",
            "53 ./genres/pop/pop.00031.au 240002 0.0 1.0\n",
            "./output/train/53pop.pkl\n",
            "54 ./genres/pop/pop.00030.au 240002 -0.0 1.0000001\n",
            "./output/train/54pop.pkl\n",
            "55 ./genres/pop/pop.00002.au 240002 0.0 1.0\n",
            "./output/train/55pop.pkl\n",
            "56 ./genres/pop/pop.00081.au 240002 -0.0 1.0000001\n",
            "./output/train/56pop.pkl\n",
            "57 ./genres/pop/pop.00026.au 240002 -0.0 1.0\n",
            "./output/train/57pop.pkl\n",
            "58 ./genres/pop/pop.00092.au 240002 0.0 1.0\n",
            "./output/train/58pop.pkl\n",
            "59 ./genres/pop/pop.00056.au 240002 0.0 1.0\n",
            "./output/train/59pop.pkl\n",
            "60 ./genres/pop/pop.00038.au 240002 0.0 1.0\n",
            "./output/train/60pop.pkl\n",
            "61 ./genres/pop/pop.00057.au 240002 -0.0 1.0\n",
            "./output/train/61pop.pkl\n",
            "62 ./genres/pop/pop.00032.au 240002 0.0 1.0\n",
            "./output/train/62pop.pkl\n",
            "63 ./genres/pop/pop.00095.au 240002 0.0 1.0\n",
            "./output/train/63pop.pkl\n",
            "64 ./genres/pop/pop.00097.au 240002 0.0 1.0000001\n",
            "./output/train/64pop.pkl\n",
            "65 ./genres/pop/pop.00085.au 240002 -0.0 0.99999994\n",
            "./output/train/65pop.pkl\n",
            "66 ./genres/pop/pop.00060.au 240002 -0.0 1.0000001\n",
            "./output/train/66pop.pkl\n",
            "67 ./genres/pop/pop.00083.au 240002 0.0 0.99999994\n",
            "./output/train/67pop.pkl\n",
            "68 ./genres/pop/pop.00073.au 240002 -0.0 1.0\n",
            "./output/train/68pop.pkl\n",
            "69 ./genres/pop/pop.00036.au 240002 -0.0 0.99999994\n",
            "./output/train/69pop.pkl\n",
            "70 ./genres/pop/pop.00004.au 240002 -0.0 1.0\n",
            "./output/train/70pop.pkl\n",
            "71 ./genres/pop/pop.00048.au 240002 -0.0 1.0000001\n",
            "./output/train/71pop.pkl\n",
            "72 ./genres/pop/pop.00088.au 240002 0.0 1.0\n",
            "./output/train/72pop.pkl\n",
            "73 ./genres/pop/pop.00068.au 240002 0.0 0.99999994\n",
            "./output/train/73pop.pkl\n",
            "74 ./genres/pop/pop.00018.au 240002 -0.0 1.0\n",
            "./output/train/74pop.pkl\n",
            "75 ./genres/pop/pop.00074.au 240002 0.0 1.0000001\n",
            "./output/train/75pop.pkl\n",
            "76 ./genres/pop/pop.00015.au 240002 0.0 0.99999994\n",
            "./output/train/76pop.pkl\n",
            "77 ./genres/pop/pop.00021.au 240002 -0.0 0.9999999\n",
            "./output/train/77pop.pkl\n",
            "78 ./genres/pop/pop.00070.au 240002 -0.0 1.0\n",
            "./output/train/78pop.pkl\n",
            "79 ./genres/pop/pop.00003.au 240002 -0.0 1.0\n",
            "./output/train/79pop.pkl\n",
            "80 ./genres/pop/pop.00098.au 240002 0.0 0.99999994\n",
            "./output/train/80pop.pkl\n",
            "81 ./genres/pop/pop.00054.au 240002 -0.0 1.0000001\n",
            "./output/train/81pop.pkl\n",
            "82 ./genres/pop/pop.00005.au 240002 -0.0 0.99999994\n",
            "./output/train/82pop.pkl\n",
            "83 ./genres/pop/pop.00000.au 240002 0.0 0.99999994\n",
            "./output/train/83pop.pkl\n",
            "84 ./genres/pop/pop.00016.au 240002 -0.0 1.0000001\n",
            "./output/train/84pop.pkl\n",
            "85 ./genres/pop/pop.00049.au 240002 0.0 1.0000001\n",
            "./output/train/85pop.pkl\n",
            "86 ./genres/pop/pop.00099.au 240002 -0.0 1.0\n",
            "./output/train/86pop.pkl\n",
            "87 ./genres/pop/pop.00022.au 240002 -0.0 1.0\n",
            "./output/train/87pop.pkl\n",
            "88 ./genres/pop/pop.00037.au 240002 0.0 1.0\n",
            "./output/train/88pop.pkl\n",
            "89 ./genres/pop/pop.00041.au 240002 -0.0 1.0000001\n",
            "./output/train/89pop.pkl\n",
            "90 ./genres/pop/pop.00089.au 240002 0.0 0.99999994\n",
            "./output/train/90pop.pkl\n",
            "91 ./genres/pop/pop.00067.au 240002 0.0 1.0\n",
            "./output/train/91pop.pkl\n",
            "92 ./genres/pop/pop.00040.au 240002 0.0 1.0\n",
            "./output/train/92pop.pkl\n",
            "93 ./genres/pop/pop.00090.au 240002 -0.0 1.0000001\n",
            "./output/train/93pop.pkl\n",
            "94 ./genres/pop/pop.00064.au 240002 0.0 1.0\n",
            "./output/train/94pop.pkl\n",
            "95 ./genres/pop/pop.00094.au 240002 0.0 0.99999994\n",
            "./output/train/95pop.pkl\n",
            "96 ./genres/pop/pop.00058.au 240002 -0.0 1.0\n",
            "./output/train/96pop.pkl\n",
            "97 ./genres/pop/pop.00029.au 240002 0.0 1.0\n",
            "./output/train/97pop.pkl\n",
            "98 ./genres/pop/pop.00039.au 240002 0.0 1.0\n",
            "./output/train/98pop.pkl\n",
            "99 ./genres/pop/pop.00047.au 240002 -0.0 1.0\n",
            "./output/train/99pop.pkl\n",
            "0 ./genres/reggae/reggae.00067.au 240002 -0.0 0.99999994\n",
            "./output/test/0reggae.pkl\n",
            "1 ./genres/reggae/reggae.00070.au 240002 0.0 0.99999994\n",
            "./output/test/1reggae.pkl\n",
            "2 ./genres/reggae/reggae.00035.au 240107 0.0 1.0\n",
            "./output/test/2reggae.pkl\n",
            "3 ./genres/reggae/reggae.00046.au 240002 0.0 1.0000001\n",
            "./output/test/3reggae.pkl\n",
            "4 ./genres/reggae/reggae.00013.au 240107 -0.0 1.0000001\n",
            "./output/test/4reggae.pkl\n",
            "5 ./genres/reggae/reggae.00043.au 240002 0.0 1.0\n",
            "./output/test/5reggae.pkl\n",
            "6 ./genres/reggae/reggae.00029.au 240107 0.0 1.0\n",
            "./output/test/6reggae.pkl\n",
            "7 ./genres/reggae/reggae.00030.au 240107 0.0 0.99999994\n",
            "./output/test/7reggae.pkl\n",
            "8 ./genres/reggae/reggae.00045.au 240002 -0.0 1.0\n",
            "./output/test/8reggae.pkl\n",
            "9 ./genres/reggae/reggae.00071.au 240002 0.0 0.99999994\n",
            "./output/test/9reggae.pkl\n",
            "10 ./genres/reggae/reggae.00093.au 240002 -0.0 1.0\n",
            "./output/train/10reggae.pkl\n",
            "11 ./genres/reggae/reggae.00042.au 240002 -0.0 1.0\n",
            "./output/train/11reggae.pkl\n",
            "12 ./genres/reggae/reggae.00075.au 240002 -0.0 1.0\n",
            "./output/train/12reggae.pkl\n",
            "13 ./genres/reggae/reggae.00052.au 240002 0.0 1.0\n",
            "./output/train/13reggae.pkl\n",
            "14 ./genres/reggae/reggae.00025.au 240107 0.0 0.99999994\n",
            "./output/train/14reggae.pkl\n",
            "15 ./genres/reggae/reggae.00073.au 240002 -0.0 1.0000001\n",
            "./output/train/15reggae.pkl\n",
            "16 ./genres/reggae/reggae.00055.au 240002 -0.0 0.99999994\n",
            "./output/train/16reggae.pkl\n",
            "17 ./genres/reggae/reggae.00084.au 240002 -0.0 1.0000001\n",
            "./output/train/17reggae.pkl\n",
            "18 ./genres/reggae/reggae.00051.au 240002 -0.0 0.99999994\n",
            "./output/train/18reggae.pkl\n",
            "19 ./genres/reggae/reggae.00009.au 240107 0.0 1.0\n",
            "./output/train/19reggae.pkl\n",
            "20 ./genres/reggae/reggae.00057.au 240002 -0.0 1.0\n",
            "./output/train/20reggae.pkl\n",
            "21 ./genres/reggae/reggae.00037.au 240107 -0.0 1.0000001\n",
            "./output/train/21reggae.pkl\n",
            "22 ./genres/reggae/reggae.00083.au 240002 -0.0 1.0\n",
            "./output/train/22reggae.pkl\n",
            "23 ./genres/reggae/reggae.00068.au 240002 -0.0 1.0\n",
            "./output/train/23reggae.pkl\n",
            "24 ./genres/reggae/reggae.00091.au 240002 0.0 1.0\n",
            "./output/train/24reggae.pkl\n",
            "25 ./genres/reggae/reggae.00094.au 240002 -0.0 1.0\n",
            "./output/train/25reggae.pkl\n",
            "26 ./genres/reggae/reggae.00022.au 240107 -0.0 0.9999999\n",
            "./output/train/26reggae.pkl\n",
            "27 ./genres/reggae/reggae.00016.au 240107 -0.0 1.0000001\n",
            "./output/train/27reggae.pkl\n",
            "28 ./genres/reggae/reggae.00063.au 240002 -0.0 1.0\n",
            "./output/train/28reggae.pkl\n",
            "29 ./genres/reggae/reggae.00053.au 240002 0.0 1.0\n",
            "./output/train/29reggae.pkl\n",
            "30 ./genres/reggae/reggae.00014.au 240107 0.0 1.0\n",
            "./output/train/30reggae.pkl\n",
            "31 ./genres/reggae/reggae.00078.au 240002 -0.0 1.0\n",
            "./output/train/31reggae.pkl\n",
            "32 ./genres/reggae/reggae.00088.au 240002 -0.0 1.0\n",
            "./output/train/32reggae.pkl\n",
            "33 ./genres/reggae/reggae.00056.au 240002 0.0 0.99999994\n",
            "./output/train/33reggae.pkl\n",
            "34 ./genres/reggae/reggae.00041.au 240002 0.0 0.99999994\n",
            "./output/train/34reggae.pkl\n",
            "35 ./genres/reggae/reggae.00002.au 240107 0.0 1.0\n",
            "./output/train/35reggae.pkl\n",
            "36 ./genres/reggae/reggae.00019.au 240107 -0.0 0.99999994\n",
            "./output/train/36reggae.pkl\n",
            "37 ./genres/reggae/reggae.00000.au 240107 -0.0 1.0\n",
            "./output/train/37reggae.pkl\n",
            "38 ./genres/reggae/reggae.00004.au 240107 0.0 1.0\n",
            "./output/train/38reggae.pkl\n",
            "39 ./genres/reggae/reggae.00038.au 240107 0.0 1.0\n",
            "./output/train/39reggae.pkl\n",
            "40 ./genres/reggae/reggae.00077.au 240002 -0.0 1.0\n",
            "./output/train/40reggae.pkl\n",
            "41 ./genres/reggae/reggae.00017.au 240107 0.0 0.99999994\n",
            "./output/train/41reggae.pkl\n",
            "42 ./genres/reggae/reggae.00015.au 240107 -0.0 0.99999994\n",
            "./output/train/42reggae.pkl\n",
            "43 ./genres/reggae/reggae.00021.au 240107 0.0 0.9999999\n",
            "./output/train/43reggae.pkl\n",
            "44 ./genres/reggae/reggae.00086.au 240002 0.0 1.0\n",
            "./output/train/44reggae.pkl\n",
            "45 ./genres/reggae/reggae.00001.au 240107 0.0 1.0\n",
            "./output/train/45reggae.pkl\n",
            "46 ./genres/reggae/reggae.00007.au 240107 0.0 0.99999994\n",
            "./output/train/46reggae.pkl\n",
            "47 ./genres/reggae/reggae.00076.au 240002 0.0 1.0\n",
            "./output/train/47reggae.pkl\n",
            "48 ./genres/reggae/reggae.00020.au 240107 0.0 1.0000001\n",
            "./output/train/48reggae.pkl\n",
            "49 ./genres/reggae/reggae.00095.au 240002 -0.0 0.99999994\n",
            "./output/train/49reggae.pkl\n",
            "50 ./genres/reggae/reggae.00099.au 240002 -0.0 0.9999999\n",
            "./output/train/50reggae.pkl\n",
            "51 ./genres/reggae/reggae.00027.au 240107 0.0 0.99999994\n",
            "./output/train/51reggae.pkl\n",
            "52 ./genres/reggae/reggae.00097.au 240002 0.0 1.0\n",
            "./output/train/52reggae.pkl\n",
            "53 ./genres/reggae/reggae.00082.au 240002 -0.0 0.99999994\n",
            "./output/train/53reggae.pkl\n",
            "54 ./genres/reggae/reggae.00092.au 240002 -0.0 1.0000001\n",
            "./output/train/54reggae.pkl\n",
            "55 ./genres/reggae/reggae.00065.au 240002 0.0 0.99999994\n",
            "./output/train/55reggae.pkl\n",
            "56 ./genres/reggae/reggae.00024.au 240107 0.0 0.99999994\n",
            "./output/train/56reggae.pkl\n",
            "57 ./genres/reggae/reggae.00050.au 240002 -0.0 1.0000001\n",
            "./output/train/57reggae.pkl\n",
            "58 ./genres/reggae/reggae.00044.au 240002 0.0 1.0\n",
            "./output/train/58reggae.pkl\n",
            "59 ./genres/reggae/reggae.00005.au 240107 -0.0 0.99999976\n",
            "./output/train/59reggae.pkl\n",
            "60 ./genres/reggae/reggae.00032.au 240107 0.0 1.0\n",
            "./output/train/60reggae.pkl\n",
            "61 ./genres/reggae/reggae.00028.au 240107 0.0 1.0000001\n",
            "./output/train/61reggae.pkl\n",
            "62 ./genres/reggae/reggae.00060.au 240002 -0.0 0.99999994\n",
            "./output/train/62reggae.pkl\n",
            "63 ./genres/reggae/reggae.00054.au 240002 0.0 0.99999994\n",
            "./output/train/63reggae.pkl\n",
            "64 ./genres/reggae/reggae.00031.au 240107 0.0 1.0\n",
            "./output/train/64reggae.pkl\n",
            "65 ./genres/reggae/reggae.00066.au 240002 -0.0 0.99999994\n",
            "./output/train/65reggae.pkl\n",
            "66 ./genres/reggae/reggae.00079.au 240002 -0.0 1.0\n",
            "./output/train/66reggae.pkl\n",
            "67 ./genres/reggae/reggae.00087.au 240002 -0.0 1.0\n",
            "./output/train/67reggae.pkl\n",
            "68 ./genres/reggae/reggae.00064.au 240002 -0.0 1.0\n",
            "./output/train/68reggae.pkl\n",
            "69 ./genres/reggae/reggae.00098.au 240002 -0.0 1.0\n",
            "./output/train/69reggae.pkl\n",
            "70 ./genres/reggae/reggae.00085.au 240002 0.0 0.99999994\n",
            "./output/train/70reggae.pkl\n",
            "71 ./genres/reggae/reggae.00059.au 240002 -0.0 1.0\n",
            "./output/train/71reggae.pkl\n",
            "72 ./genres/reggae/reggae.00074.au 240002 -0.0 1.0\n",
            "./output/train/72reggae.pkl\n",
            "73 ./genres/reggae/reggae.00062.au 240002 0.0 1.0\n",
            "./output/train/73reggae.pkl\n",
            "74 ./genres/reggae/reggae.00040.au 240107 0.0 1.0\n",
            "./output/train/74reggae.pkl\n",
            "75 ./genres/reggae/reggae.00008.au 240107 0.0 0.99999994\n",
            "./output/train/75reggae.pkl\n",
            "76 ./genres/reggae/reggae.00080.au 240002 -0.0 0.99999994\n",
            "./output/train/76reggae.pkl\n",
            "77 ./genres/reggae/reggae.00023.au 240107 -0.0 1.0\n",
            "./output/train/77reggae.pkl\n",
            "78 ./genres/reggae/reggae.00089.au 240002 -0.0 0.99999994\n",
            "./output/train/78reggae.pkl\n",
            "79 ./genres/reggae/reggae.00061.au 240002 0.0 1.0\n",
            "./output/train/79reggae.pkl\n",
            "80 ./genres/reggae/reggae.00048.au 240002 -0.0 1.0\n",
            "./output/train/80reggae.pkl\n",
            "81 ./genres/reggae/reggae.00039.au 240107 0.0 1.0\n",
            "./output/train/81reggae.pkl\n",
            "82 ./genres/reggae/reggae.00047.au 240002 0.0 1.0000001\n",
            "./output/train/82reggae.pkl\n",
            "83 ./genres/reggae/reggae.00012.au 240107 -0.0 0.99999994\n",
            "./output/train/83reggae.pkl\n",
            "84 ./genres/reggae/reggae.00011.au 240107 0.0 1.0\n",
            "./output/train/84reggae.pkl\n",
            "85 ./genres/reggae/reggae.00034.au 240107 -0.0 0.99999994\n",
            "./output/train/85reggae.pkl\n",
            "86 ./genres/reggae/reggae.00010.au 240107 0.0 1.0000001\n",
            "./output/train/86reggae.pkl\n",
            "87 ./genres/reggae/reggae.00069.au 240002 -0.0 1.0\n",
            "./output/train/87reggae.pkl\n",
            "88 ./genres/reggae/reggae.00058.au 240002 -0.0 0.99999994\n",
            "./output/train/88reggae.pkl\n",
            "89 ./genres/reggae/reggae.00081.au 240002 -0.0 0.99999994\n",
            "./output/train/89reggae.pkl\n",
            "90 ./genres/reggae/reggae.00018.au 240107 -0.0 1.0000001\n",
            "./output/train/90reggae.pkl\n",
            "91 ./genres/reggae/reggae.00026.au 240107 -0.0 0.99999994\n",
            "./output/train/91reggae.pkl\n",
            "92 ./genres/reggae/reggae.00090.au 240002 -0.0 0.9999999\n",
            "./output/train/92reggae.pkl\n",
            "93 ./genres/reggae/reggae.00049.au 240002 -0.0 1.0\n",
            "./output/train/93reggae.pkl\n",
            "94 ./genres/reggae/reggae.00033.au 240107 -0.0 0.99999994\n",
            "./output/train/94reggae.pkl\n",
            "95 ./genres/reggae/reggae.00006.au 240107 -0.0 1.0\n",
            "./output/train/95reggae.pkl\n",
            "96 ./genres/reggae/reggae.00096.au 240002 -0.0 1.0\n",
            "./output/train/96reggae.pkl\n",
            "97 ./genres/reggae/reggae.00072.au 240002 -0.0 0.99999994\n",
            "./output/train/97reggae.pkl\n",
            "98 ./genres/reggae/reggae.00003.au 240107 0.0 1.0\n",
            "./output/train/98reggae.pkl\n",
            "99 ./genres/reggae/reggae.00036.au 240107 0.0 0.99999994\n",
            "./output/train/99reggae.pkl\n",
            "0 ./genres/rock/rock.00077.au 240107 0.0 1.0\n",
            "./output/test/0rock.pkl\n",
            "1 ./genres/rock/rock.00000.au 240107 -0.0 1.0000001\n",
            "./output/test/1rock.pkl\n",
            "2 ./genres/rock/rock.00037.au 240107 -0.0 0.99999994\n",
            "./output/test/2rock.pkl\n",
            "3 ./genres/rock/rock.00047.au 240107 -0.0 0.9999999\n",
            "./output/test/3rock.pkl\n",
            "4 ./genres/rock/rock.00092.au 240107 0.0 0.99999994\n",
            "./output/test/4rock.pkl\n",
            "5 ./genres/rock/rock.00098.au 240107 0.0 1.0\n",
            "./output/test/5rock.pkl\n",
            "6 ./genres/rock/rock.00040.au 240107 -0.0 0.99999994\n",
            "./output/test/6rock.pkl\n",
            "7 ./genres/rock/rock.00094.au 240107 0.0 1.0\n",
            "./output/test/7rock.pkl\n",
            "8 ./genres/rock/rock.00015.au 240107 -0.0 0.99999994\n",
            "./output/test/8rock.pkl\n",
            "9 ./genres/rock/rock.00042.au 240107 -0.0 1.0\n",
            "./output/test/9rock.pkl\n",
            "10 ./genres/rock/rock.00088.au 240107 0.0 1.0\n",
            "./output/train/10rock.pkl\n",
            "11 ./genres/rock/rock.00084.au 240107 0.0 0.9999999\n",
            "./output/train/11rock.pkl\n",
            "12 ./genres/rock/rock.00056.au 240107 -0.0 0.99999994\n",
            "./output/train/12rock.pkl\n",
            "13 ./genres/rock/rock.00073.au 240107 0.0 1.0\n",
            "./output/train/13rock.pkl\n",
            "14 ./genres/rock/rock.00075.au 240107 0.0 0.99999994\n",
            "./output/train/14rock.pkl\n",
            "15 ./genres/rock/rock.00063.au 240107 -0.0 1.0\n",
            "./output/train/15rock.pkl\n",
            "16 ./genres/rock/rock.00072.au 240107 0.0 1.0000001\n",
            "./output/train/16rock.pkl\n",
            "17 ./genres/rock/rock.00029.au 240107 0.0 0.99999994\n",
            "./output/train/17rock.pkl\n",
            "18 ./genres/rock/rock.00014.au 240107 -0.0 0.9999999\n",
            "./output/train/18rock.pkl\n",
            "19 ./genres/rock/rock.00090.au 240107 -0.0 0.99999994\n",
            "./output/train/19rock.pkl\n",
            "20 ./genres/rock/rock.00026.au 240107 -0.0 1.0\n",
            "./output/train/20rock.pkl\n",
            "21 ./genres/rock/rock.00061.au 240107 0.0 0.99999994\n",
            "./output/train/21rock.pkl\n",
            "22 ./genres/rock/rock.00064.au 240107 0.0 1.0\n",
            "./output/train/22rock.pkl\n",
            "23 ./genres/rock/rock.00095.au 240107 -0.0 1.0000001\n",
            "./output/train/23rock.pkl\n",
            "24 ./genres/rock/rock.00021.au 240107 0.0 0.9999999\n",
            "./output/train/24rock.pkl\n",
            "25 ./genres/rock/rock.00058.au 240107 0.0 1.0\n",
            "./output/train/25rock.pkl\n",
            "26 ./genres/rock/rock.00039.au 240107 0.0 1.0\n",
            "./output/train/26rock.pkl\n",
            "27 ./genres/rock/rock.00076.au 240107 0.0 0.99999994\n",
            "./output/train/27rock.pkl\n",
            "28 ./genres/rock/rock.00002.au 240107 -0.0 1.0\n",
            "./output/train/28rock.pkl\n",
            "29 ./genres/rock/rock.00016.au 240107 -0.0 0.99999994\n",
            "./output/train/29rock.pkl\n",
            "30 ./genres/rock/rock.00091.au 240107 0.0 1.0\n",
            "./output/train/30rock.pkl\n",
            "31 ./genres/rock/rock.00031.au 240107 0.0 1.0\n",
            "./output/train/31rock.pkl\n",
            "32 ./genres/rock/rock.00044.au 240107 -0.0 1.0\n",
            "./output/train/32rock.pkl\n",
            "33 ./genres/rock/rock.00051.au 240107 0.0 1.0\n",
            "./output/train/33rock.pkl\n",
            "34 ./genres/rock/rock.00060.au 240107 0.0 0.99999994\n",
            "./output/train/34rock.pkl\n",
            "35 ./genres/rock/rock.00030.au 240107 -0.0 0.99999994\n",
            "./output/train/35rock.pkl\n",
            "36 ./genres/rock/rock.00078.au 240107 0.0 1.0\n",
            "./output/train/36rock.pkl\n",
            "37 ./genres/rock/rock.00035.au 240107 0.0 1.0\n",
            "./output/train/37rock.pkl\n",
            "38 ./genres/rock/rock.00001.au 240107 -0.0 0.99999994\n",
            "./output/train/38rock.pkl\n",
            "39 ./genres/rock/rock.00038.au 239967 -0.0 0.99999994\n",
            "./output/train/39rock.pkl\n",
            "40 ./genres/rock/rock.00017.au 240107 -0.0 0.99999994\n",
            "./output/train/40rock.pkl\n",
            "41 ./genres/rock/rock.00050.au 240107 0.0 0.99999994\n",
            "./output/train/41rock.pkl\n",
            "42 ./genres/rock/rock.00055.au 240107 -0.0 1.0\n",
            "./output/train/42rock.pkl\n",
            "43 ./genres/rock/rock.00052.au 240107 -0.0 1.0\n",
            "./output/train/43rock.pkl\n",
            "44 ./genres/rock/rock.00082.au 240107 0.0 0.99999994\n",
            "./output/train/44rock.pkl\n",
            "45 ./genres/rock/rock.00043.au 240107 -0.0 0.99999994\n",
            "./output/train/45rock.pkl\n",
            "46 ./genres/rock/rock.00022.au 240107 0.0 1.0\n",
            "./output/train/46rock.pkl\n",
            "47 ./genres/rock/rock.00010.au 240107 -0.0 1.0\n",
            "./output/train/47rock.pkl\n",
            "48 ./genres/rock/rock.00074.au 240107 -0.0 0.9999999\n",
            "./output/train/48rock.pkl\n",
            "49 ./genres/rock/rock.00020.au 240107 0.0 0.99999994\n",
            "./output/train/49rock.pkl\n",
            "50 ./genres/rock/rock.00049.au 240107 -0.0 0.99999994\n",
            "./output/train/50rock.pkl\n",
            "51 ./genres/rock/rock.00013.au 240107 -0.0 1.0\n",
            "./output/train/51rock.pkl\n",
            "52 ./genres/rock/rock.00097.au 240107 0.0 1.0\n",
            "./output/train/52rock.pkl\n",
            "53 ./genres/rock/rock.00011.au 240107 0.0 1.0000001\n",
            "./output/train/53rock.pkl\n",
            "54 ./genres/rock/rock.00048.au 240107 -0.0 1.0000001\n",
            "./output/train/54rock.pkl\n",
            "55 ./genres/rock/rock.00079.au 240107 -0.0 0.99999994\n",
            "./output/train/55rock.pkl\n",
            "56 ./genres/rock/rock.00036.au 242330 -0.0 1.0\n",
            "./output/train/56rock.pkl\n",
            "57 ./genres/rock/rock.00085.au 240107 -0.0 1.0000001\n",
            "./output/train/57rock.pkl\n",
            "58 ./genres/rock/rock.00025.au 240107 0.0 1.0000001\n",
            "./output/train/58rock.pkl\n",
            "59 ./genres/rock/rock.00008.au 240107 -0.0 0.99999994\n",
            "./output/train/59rock.pkl\n",
            "60 ./genres/rock/rock.00003.au 240107 0.0 1.0000001\n",
            "./output/train/60rock.pkl\n",
            "61 ./genres/rock/rock.00018.au 240107 0.0 0.9999999\n",
            "./output/train/61rock.pkl\n",
            "62 ./genres/rock/rock.00027.au 240000 0.0 1.0000001\n",
            "./output/train/62rock.pkl\n",
            "63 ./genres/rock/rock.00089.au 240107 0.0 1.0\n",
            "./output/train/63rock.pkl\n",
            "64 ./genres/rock/rock.00009.au 240107 0.0 1.0\n",
            "./output/train/64rock.pkl\n",
            "65 ./genres/rock/rock.00057.au 240107 0.0 1.0\n",
            "./output/train/65rock.pkl\n",
            "66 ./genres/rock/rock.00062.au 240107 0.0 1.0000001\n",
            "./output/train/66rock.pkl\n",
            "67 ./genres/rock/rock.00041.au 240107 -0.0 1.0\n",
            "./output/train/67rock.pkl\n",
            "68 ./genres/rock/rock.00012.au 240107 -0.0 1.0\n",
            "./output/train/68rock.pkl\n",
            "69 ./genres/rock/rock.00093.au 240107 0.0 1.0\n",
            "./output/train/69rock.pkl\n",
            "70 ./genres/rock/rock.00054.au 240107 -0.0 1.0000001\n",
            "./output/train/70rock.pkl\n",
            "71 ./genres/rock/rock.00007.au 240107 -0.0 1.0000001\n",
            "./output/train/71rock.pkl\n",
            "72 ./genres/rock/rock.00033.au 240107 0.0 0.99999994\n",
            "./output/train/72rock.pkl\n",
            "73 ./genres/rock/rock.00080.au 240107 -0.0 0.99999994\n",
            "./output/train/73rock.pkl\n",
            "74 ./genres/rock/rock.00070.au 240107 0.0 1.0\n",
            "./output/train/74rock.pkl\n",
            "75 ./genres/rock/rock.00059.au 240107 0.0 1.0000001\n",
            "./output/train/75rock.pkl\n",
            "76 ./genres/rock/rock.00068.au 240107 0.0 1.0\n",
            "./output/train/76rock.pkl\n",
            "77 ./genres/rock/rock.00028.au 240107 -0.0 0.99999994\n",
            "./output/train/77rock.pkl\n",
            "78 ./genres/rock/rock.00032.au 243208 -0.0 1.0\n",
            "./output/train/78rock.pkl\n",
            "79 ./genres/rock/rock.00067.au 240107 -0.0 1.0\n",
            "./output/train/79rock.pkl\n",
            "80 ./genres/rock/rock.00053.au 240107 -0.0 1.0\n",
            "./output/train/80rock.pkl\n",
            "81 ./genres/rock/rock.00096.au 240107 -0.0 1.0\n",
            "./output/train/81rock.pkl\n",
            "82 ./genres/rock/rock.00023.au 240107 0.0 1.0\n",
            "./output/train/82rock.pkl\n",
            "83 ./genres/rock/rock.00069.au 240107 0.0 1.0\n",
            "./output/train/83rock.pkl\n",
            "84 ./genres/rock/rock.00083.au 240107 0.0 1.0\n",
            "./output/train/84rock.pkl\n",
            "85 ./genres/rock/rock.00071.au 240107 0.0 1.0\n",
            "./output/train/85rock.pkl\n",
            "86 ./genres/rock/rock.00024.au 240107 -0.0 1.0\n",
            "./output/train/86rock.pkl\n",
            "87 ./genres/rock/rock.00065.au 240107 -0.0 1.0\n",
            "./output/train/87rock.pkl\n",
            "88 ./genres/rock/rock.00086.au 240107 0.0 1.0\n",
            "./output/train/88rock.pkl\n",
            "89 ./genres/rock/rock.00081.au 240107 0.0 1.0\n",
            "./output/train/89rock.pkl\n",
            "90 ./genres/rock/rock.00019.au 240107 -0.0 1.0\n",
            "./output/train/90rock.pkl\n",
            "91 ./genres/rock/rock.00087.au 240107 -0.0 0.99999994\n",
            "./output/train/91rock.pkl\n",
            "92 ./genres/rock/rock.00034.au 242888 -0.0 1.0\n",
            "./output/train/92rock.pkl\n",
            "93 ./genres/rock/rock.00006.au 240107 -0.0 0.99999994\n",
            "./output/train/93rock.pkl\n",
            "94 ./genres/rock/rock.00004.au 240107 0.0 0.99999994\n",
            "./output/train/94rock.pkl\n",
            "95 ./genres/rock/rock.00099.au 240107 0.0 1.0\n",
            "./output/train/95rock.pkl\n",
            "96 ./genres/rock/rock.00046.au 240107 -0.0 0.99999994\n",
            "./output/train/96rock.pkl\n",
            "97 ./genres/rock/rock.00045.au 240107 -0.0 0.99999994\n",
            "./output/train/97rock.pkl\n",
            "98 ./genres/rock/rock.00005.au 240107 0.0 1.0\n",
            "./output/train/98rock.pkl\n",
            "99 ./genres/rock/rock.00066.au 240107 0.0 1.0\n",
            "./output/train/99rock.pkl\n"
          ]
        }
      ],
      "source": [
        "convert_data()"
      ]
    },
    {
      "cell_type": "markdown",
      "source": [],
      "metadata": {
        "id": "PDNZ0LOQTeb5"
      }
    },
    {
      "cell_type": "code",
      "execution_count": 12,
      "metadata": {
        "id": "TZljH6seRaWy"
      },
      "outputs": [],
      "source": [
        "from tensorflow.keras.callbacks import ReduceLROnPlateau\n",
        "from tensorflow.keras.utils import to_categorical\n",
        "import tensorflow.keras.backend as K\n",
        "from tensorflow.keras import regularizers\n",
        "from tensorflow.keras.layers import Lambda,Conv1D, MaxPooling1D,Activation, Dense,BatchNormalization\n",
        "\n",
        "from tensorflow.keras.models import Sequential\n",
        "import numpy as np\n",
        "import pickle\n",
        "import os\n",
        "from glob import glob"
      ]
    },
    {
      "cell_type": "code",
      "execution_count": 13,
      "metadata": {
        "id": "KOCKY3tYSnRr"
      },
      "outputs": [],
      "source": [
        "AUDIO_LENGTH = 10000  # 10000\n",
        "OUTPUT_DIR = './output'\n",
        "OUTPUT_DIR_TRAIN = os.path.join(OUTPUT_DIR, 'train')\n",
        "OUTPUT_DIR_TEST = os.path.join(OUTPUT_DIR, 'test')"
      ]
    },
    {
      "cell_type": "code",
      "execution_count": 14,
      "metadata": {
        "id": "ZJH3dqwSTwWI"
      },
      "outputs": [],
      "source": [
        "def m5(num_classes=5): # final model creation\n",
        "    print('Using Model M5')\n",
        "    m = Sequential()\n",
        "    m.add(Conv1D(128,\n",
        "                 input_shape=[AUDIO_LENGTH, 1],\n",
        "                 kernel_size=80,\n",
        "                 strides=4,\n",
        "                 padding='same',\n",
        "                 kernel_initializer='glorot_uniform',\n",
        "                 kernel_regularizer=regularizers.l2(l=0.0001)))\n",
        "    m.add(BatchNormalization())\n",
        "    m.add(Activation('relu'))\n",
        "    m.add(MaxPooling1D(pool_size=4, strides=None))\n",
        "    m.add(Conv1D(128,\n",
        "                 kernel_size=3,\n",
        "                 strides=1,\n",
        "                 padding='same',\n",
        "                 kernel_initializer='glorot_uniform',\n",
        "                 kernel_regularizer=regularizers.l2(l=0.0001)))\n",
        "    m.add(BatchNormalization())\n",
        "    m.add(Activation('relu'))\n",
        "    m.add(MaxPooling1D(pool_size=4, strides=None))\n",
        "    m.add(Conv1D(256,\n",
        "                 kernel_size=3,\n",
        "                 strides=1,\n",
        "                 padding='same',\n",
        "                 kernel_initializer='glorot_uniform',\n",
        "                 kernel_regularizer=regularizers.l2(l=0.0001)))\n",
        "    m.add(BatchNormalization())\n",
        "    m.add(Activation('relu'))\n",
        "    m.add(MaxPooling1D(pool_size=4, strides=None))\n",
        "    m.add(Conv1D(512,\n",
        "                 kernel_size=3,\n",
        "                 strides=1,\n",
        "                 padding='same',\n",
        "                 kernel_initializer='glorot_uniform',\n",
        "                 kernel_regularizer=regularizers.l2(l=0.0001)))\n",
        "    m.add(BatchNormalization())\n",
        "    m.add(Activation('relu'))\n",
        "    m.add(MaxPooling1D(pool_size=4, strides=None))\n",
        "    m.add(Lambda(lambda x: K.mean(x, axis=1)))  # Same as GAP for 1D Conv Layer\n",
        "    m.add(Dense(num_classes, activation='softmax'))\n",
        "    return m"
      ]
    },
    {
      "cell_type": "code",
      "execution_count": 39,
      "metadata": {
        "id": "0-PyYnhOT0oZ"
      },
      "outputs": [],
      "source": [
        "def get_data(file_list):\n",
        "    def load_into(_filename, x1, y1):\n",
        "        #print(_filename)\n",
        "        with open(_filename, 'rb') as f:\n",
        "            audio_element = pickle.load(f)\n",
        "            x1.append(audio_element['audio'])\n",
        "            y1.append(int(audio_element['class_id']))\n",
        "\n",
        "    x, y = [], []\n",
        "    for filename in file_list:\n",
        "        load_into(filename, x, y)\n",
        "    return np.array(x), np.array(y)"
      ]
    },
    {
      "cell_type": "code",
      "source": [
        "num_classes = len(audio_Class)\n",
        "model = m5(num_classes=num_classes)\n",
        "\n",
        "if model is None:\n",
        "    exit('Something went wrong!!')\n",
        "\n",
        "model.compile(optimizer='adam',\n",
        "              loss='categorical_crossentropy',\n",
        "              metrics=['accuracy'])\n",
        "print(model.summary())"
      ],
      "metadata": {
        "colab": {
          "base_uri": "https://localhost:8080/"
        },
        "id": "ayN2Kb0tsO3Y",
        "outputId": "ea62b66b-e5ba-47e9-90ce-07c6397ba634"
      },
      "execution_count": 43,
      "outputs": [
        {
          "output_type": "stream",
          "name": "stdout",
          "text": [
            "Using Model M5\n",
            "Model: \"sequential_2\"\n",
            "_________________________________________________________________\n",
            " Layer (type)                Output Shape              Param #   \n",
            "=================================================================\n",
            " conv1d_8 (Conv1D)           (None, 2500, 128)         10368     \n",
            "                                                                 \n",
            " batch_normalization_8 (Batc  (None, 2500, 128)        512       \n",
            " hNormalization)                                                 \n",
            "                                                                 \n",
            " activation_8 (Activation)   (None, 2500, 128)         0         \n",
            "                                                                 \n",
            " max_pooling1d_8 (MaxPooling  (None, 625, 128)         0         \n",
            " 1D)                                                             \n",
            "                                                                 \n",
            " conv1d_9 (Conv1D)           (None, 625, 128)          49280     \n",
            "                                                                 \n",
            " batch_normalization_9 (Batc  (None, 625, 128)         512       \n",
            " hNormalization)                                                 \n",
            "                                                                 \n",
            " activation_9 (Activation)   (None, 625, 128)          0         \n",
            "                                                                 \n",
            " max_pooling1d_9 (MaxPooling  (None, 156, 128)         0         \n",
            " 1D)                                                             \n",
            "                                                                 \n",
            " conv1d_10 (Conv1D)          (None, 156, 256)          98560     \n",
            "                                                                 \n",
            " batch_normalization_10 (Bat  (None, 156, 256)         1024      \n",
            " chNormalization)                                                \n",
            "                                                                 \n",
            " activation_10 (Activation)  (None, 156, 256)          0         \n",
            "                                                                 \n",
            " max_pooling1d_10 (MaxPoolin  (None, 39, 256)          0         \n",
            " g1D)                                                            \n",
            "                                                                 \n",
            " conv1d_11 (Conv1D)          (None, 39, 512)           393728    \n",
            "                                                                 \n",
            " batch_normalization_11 (Bat  (None, 39, 512)          2048      \n",
            " chNormalization)                                                \n",
            "                                                                 \n",
            " activation_11 (Activation)  (None, 39, 512)           0         \n",
            "                                                                 \n",
            " max_pooling1d_11 (MaxPoolin  (None, 9, 512)           0         \n",
            " g1D)                                                            \n",
            "                                                                 \n",
            " lambda_2 (Lambda)           (None, 512)               0         \n",
            "                                                                 \n",
            " dense_2 (Dense)             (None, 10)                5130      \n",
            "                                                                 \n",
            "=================================================================\n",
            "Total params: 561,162\n",
            "Trainable params: 559,114\n",
            "Non-trainable params: 2,048\n",
            "_________________________________________________________________\n",
            "None\n"
          ]
        }
      ]
    },
    {
      "cell_type": "code",
      "source": [
        "train_files = glob(os.path.join(OUTPUT_DIR_TRAIN, '**.pkl')) #training files\n"
      ],
      "metadata": {
        "id": "CG3QngxjsO6G"
      },
      "execution_count": 45,
      "outputs": []
    },
    {
      "cell_type": "code",
      "source": [
        "x_train, y_train = get_data(train_files)#splitting into train_X and train_Y"
      ],
      "metadata": {
        "id": "LaOYTRlesO9H"
      },
      "execution_count": 46,
      "outputs": []
    },
    {
      "cell_type": "code",
      "source": [
        "x_train, x_train.shape #checking dimension of train_X"
      ],
      "metadata": {
        "colab": {
          "base_uri": "https://localhost:8080/"
        },
        "id": "gLZflhVUtYKL",
        "outputId": "84d64aa8-cf22-4d57-b323-a43175ccb354"
      },
      "execution_count": 47,
      "outputs": [
        {
          "output_type": "execute_result",
          "data": {
            "text/plain": [
              "(array([[[-0.32669958],\n",
              "         [-0.39169145],\n",
              "         [-0.03271423],\n",
              "         ...,\n",
              "         [-0.31736758],\n",
              "         [-0.4384248 ],\n",
              "         [-0.7013475 ]],\n",
              " \n",
              "        [[-0.51258725],\n",
              "         [-0.956677  ],\n",
              "         [-0.9264313 ],\n",
              "         ...,\n",
              "         [-0.51970035],\n",
              "         [-0.11188457],\n",
              "         [ 0.25325286]],\n",
              " \n",
              "        [[ 0.1283182 ],\n",
              "         [ 1.006446  ],\n",
              "         [ 1.2855532 ],\n",
              "         ...,\n",
              "         [ 0.02910187],\n",
              "         [ 1.0265107 ],\n",
              "         [ 0.710112  ]],\n",
              " \n",
              "        ...,\n",
              " \n",
              "        [[ 0.03651265],\n",
              "         [ 0.63770664],\n",
              "         [ 1.4575095 ],\n",
              "         ...,\n",
              "         [ 0.42427933],\n",
              "         [ 1.5735946 ],\n",
              "         [ 1.1581435 ]],\n",
              " \n",
              "        [[-0.46868017],\n",
              "         [-0.8645601 ],\n",
              "         [-0.8755968 ],\n",
              "         ...,\n",
              "         [ 0.46480823],\n",
              "         [ 0.42502147],\n",
              "         [ 0.27574837]],\n",
              " \n",
              "        [[-0.18396142],\n",
              "         [-0.35597986],\n",
              "         [-0.2795313 ],\n",
              "         ...,\n",
              "         [ 0.5481262 ],\n",
              "         [ 0.9692883 ],\n",
              "         [ 0.5195944 ]]], dtype=float32),\n",
              " (900, 10000, 1))"
            ]
          },
          "metadata": {},
          "execution_count": 47
        }
      ]
    },
    {
      "cell_type": "code",
      "source": [
        "y_train, y_train.shape #checking dimension of train_Y"
      ],
      "metadata": {
        "colab": {
          "base_uri": "https://localhost:8080/"
        },
        "id": "2qIbW8fktYM1",
        "outputId": "910cd091-592f-4a43-f6f9-a99b206d74ed"
      },
      "execution_count": 48,
      "outputs": [
        {
          "output_type": "execute_result",
          "data": {
            "text/plain": [
              "(array([9, 0, 0, 0, 9, 3, 4, 8, 5, 0, 6, 1, 3, 8, 8, 6, 4, 5, 1, 8, 0, 3,\n",
              "        0, 7, 4, 2, 2, 0, 3, 4, 8, 2, 1, 1, 7, 9, 1, 6, 7, 0, 5, 6, 3, 7,\n",
              "        7, 0, 5, 7, 6, 4, 8, 3, 4, 0, 2, 1, 8, 3, 5, 1, 4, 7, 9, 5, 7, 7,\n",
              "        0, 8, 7, 3, 0, 2, 2, 0, 8, 3, 9, 1, 6, 3, 4, 3, 7, 8, 8, 4, 9, 9,\n",
              "        9, 6, 4, 8, 5, 2, 9, 9, 2, 1, 9, 9, 7, 3, 0, 7, 9, 7, 5, 9, 0, 9,\n",
              "        0, 7, 3, 9, 2, 1, 0, 3, 2, 4, 5, 7, 2, 0, 1, 7, 8, 3, 9, 9, 4, 1,\n",
              "        5, 1, 2, 5, 2, 4, 9, 0, 4, 9, 1, 6, 6, 0, 9, 0, 1, 8, 9, 1, 2, 9,\n",
              "        7, 1, 8, 1, 3, 9, 8, 8, 9, 1, 3, 8, 9, 4, 9, 5, 2, 6, 4, 7, 1, 5,\n",
              "        0, 5, 7, 3, 0, 5, 7, 6, 9, 6, 8, 4, 2, 8, 6, 6, 1, 0, 3, 8, 2, 3,\n",
              "        3, 6, 8, 4, 4, 3, 4, 1, 5, 8, 3, 4, 6, 2, 8, 7, 9, 3, 5, 6, 2, 8,\n",
              "        7, 9, 6, 0, 2, 7, 6, 6, 0, 2, 4, 8, 2, 4, 2, 2, 5, 7, 2, 7, 3, 5,\n",
              "        7, 6, 5, 8, 5, 7, 0, 1, 8, 4, 9, 5, 1, 9, 8, 6, 4, 9, 1, 4, 2, 0,\n",
              "        0, 6, 2, 2, 4, 0, 6, 9, 1, 9, 6, 7, 6, 7, 3, 5, 8, 3, 3, 0, 7, 2,\n",
              "        5, 4, 8, 1, 1, 7, 4, 2, 4, 4, 4, 7, 0, 4, 5, 8, 3, 7, 1, 0, 9, 2,\n",
              "        6, 6, 3, 0, 2, 1, 2, 0, 8, 2, 6, 8, 6, 6, 5, 6, 9, 8, 8, 3, 6, 5,\n",
              "        9, 8, 5, 6, 3, 9, 7, 2, 9, 1, 6, 5, 5, 2, 3, 7, 3, 6, 5, 7, 1, 8,\n",
              "        5, 1, 7, 3, 0, 3, 1, 6, 8, 0, 6, 0, 7, 4, 0, 4, 8, 8, 3, 4, 5, 2,\n",
              "        1, 1, 1, 0, 5, 7, 5, 8, 4, 0, 8, 9, 8, 8, 7, 8, 1, 8, 8, 9, 5, 1,\n",
              "        1, 7, 9, 5, 6, 0, 3, 1, 4, 0, 7, 8, 8, 1, 4, 4, 6, 8, 9, 2, 4, 7,\n",
              "        0, 0, 1, 3, 1, 0, 1, 0, 4, 4, 0, 4, 5, 4, 8, 2, 4, 0, 3, 6, 6, 9,\n",
              "        4, 5, 5, 5, 1, 0, 1, 5, 4, 3, 0, 8, 8, 8, 1, 4, 2, 9, 9, 9, 3, 5,\n",
              "        8, 8, 5, 5, 1, 6, 0, 3, 8, 2, 5, 8, 7, 5, 7, 4, 7, 2, 6, 2, 5, 6,\n",
              "        5, 4, 6, 7, 2, 8, 4, 5, 7, 5, 9, 0, 0, 5, 2, 0, 8, 2, 1, 2, 8, 1,\n",
              "        7, 4, 9, 7, 8, 4, 6, 3, 4, 3, 0, 7, 2, 9, 4, 9, 7, 8, 1, 0, 1, 9,\n",
              "        5, 4, 8, 2, 9, 8, 3, 2, 2, 4, 7, 2, 9, 7, 1, 5, 3, 7, 4, 3, 9, 1,\n",
              "        0, 8, 5, 6, 4, 1, 1, 3, 3, 6, 0, 3, 3, 6, 9, 8, 0, 8, 4, 1, 4, 6,\n",
              "        0, 5, 6, 9, 1, 0, 6, 2, 6, 6, 1, 5, 4, 9, 0, 0, 0, 3, 2, 4, 9, 6,\n",
              "        9, 5, 5, 7, 7, 1, 3, 8, 6, 7, 4, 7, 2, 2, 1, 2, 5, 5, 3, 7, 0, 4,\n",
              "        3, 2, 5, 5, 3, 7, 2, 2, 4, 6, 9, 0, 2, 6, 2, 3, 8, 8, 3, 7, 6, 2,\n",
              "        4, 2, 9, 2, 6, 7, 7, 6, 8, 5, 3, 5, 5, 6, 7, 7, 9, 9, 9, 6, 0, 3,\n",
              "        6, 3, 1, 4, 3, 2, 0, 7, 5, 9, 7, 5, 5, 1, 9, 5, 0, 3, 0, 3, 1, 0,\n",
              "        1, 6, 2, 0, 8, 9, 8, 0, 0, 3, 9, 4, 6, 2, 5, 1, 8, 1, 1, 3, 7, 0,\n",
              "        6, 3, 6, 2, 1, 5, 7, 5, 2, 7, 9, 1, 6, 7, 6, 4, 6, 8, 5, 4, 8, 1,\n",
              "        7, 2, 9, 2, 1, 2, 7, 3, 5, 6, 2, 2, 4, 9, 6, 6, 4, 6, 0, 2, 0, 3,\n",
              "        7, 1, 4, 8, 4, 9, 2, 0, 0, 2, 4, 1, 0, 9, 1, 1, 1, 5, 2, 9, 4, 8,\n",
              "        9, 3, 3, 9, 7, 6, 0, 2, 3, 1, 0, 8, 7, 1, 5, 6, 4, 8, 5, 9, 6, 7,\n",
              "        7, 4, 1, 5, 3, 4, 9, 3, 6, 0, 2, 1, 8, 1, 0, 0, 2, 3, 4, 6, 0, 6,\n",
              "        0, 9, 7, 2, 2, 4, 7, 8, 3, 4, 3, 7, 3, 5, 4, 6, 9, 7, 9, 1, 5, 9,\n",
              "        5, 3, 7, 5, 8, 4, 8, 3, 6, 9, 0, 7, 5, 5, 5, 8, 8, 6, 2, 4, 7, 9,\n",
              "        6, 5, 5, 3, 3, 1, 3, 6, 2, 7, 4, 3, 6, 5, 6, 9, 2, 9, 3, 1, 2, 3,\n",
              "        3, 1, 4, 0, 7, 8, 3, 8, 9, 3, 2, 4, 1, 1, 1, 2, 6, 5, 7, 9]),\n",
              " (900,))"
            ]
          },
          "metadata": {},
          "execution_count": 48
        }
      ]
    },
    {
      "cell_type": "code",
      "source": [
        "y_train = to_categorical(y_train, num_classes=num_classes) #y_train\n"
      ],
      "metadata": {
        "id": "CAzSWeCYsPAI"
      },
      "execution_count": 49,
      "outputs": []
    },
    {
      "cell_type": "code",
      "source": [
        "test_files = glob(os.path.join(OUTPUT_DIR_TEST, '**.pkl'))\n",
        "x_test, y_test = get_data(test_files)"
      ],
      "metadata": {
        "id": "bVkvACTiscdI"
      },
      "execution_count": 50,
      "outputs": []
    },
    {
      "cell_type": "code",
      "source": [
        "y_test = to_categorical(y_test, num_classes=num_classes)"
      ],
      "metadata": {
        "id": "hEb9z_yoscf8"
      },
      "execution_count": 51,
      "outputs": []
    },
    {
      "cell_type": "code",
      "source": [
        "# verifying the dimensions of train and test data\n",
        "print('x_train.shape =', x_train.shape)\n",
        "print('y_train.shape =', y_train.shape)\n",
        "print('x_test.shape =', x_test.shape)\n",
        "print('y_test.shape =', y_test.shape)"
      ],
      "metadata": {
        "colab": {
          "base_uri": "https://localhost:8080/"
        },
        "id": "ApCE7sqSscjE",
        "outputId": "e4de2e88-7c2a-4b90-ee26-89cd326b0aac"
      },
      "execution_count": 62,
      "outputs": [
        {
          "output_type": "stream",
          "name": "stdout",
          "text": [
            "x_train.shape = (900, 10000, 1)\n",
            "y_train.shape = (900, 10)\n",
            "x_test.shape = (100, 10000, 1)\n",
            "y_test.shape = (100, 10)\n"
          ]
        }
      ]
    },
    {
      "cell_type": "code",
      "source": [
        "# if the accuracy does not increase over 10 epochs, reduce the learning rate by half or so.\n",
        "n=0.5\n",
        "reduce_lr = ReduceLROnPlateau(monitor='acc', factor= n, patience=10, min_lr=0.0001, verbose=1)\n",
        "batch_size = 128\n",
        "model.fit(x=x_train,\n",
        "          y=y_train,\n",
        "          batch_size=batch_size,\n",
        "          epochs=400,\n",
        "          verbose=1,\n",
        "          shuffle=True,\n",
        "          validation_data=(x_test, y_test),\n",
        "          callbacks=[reduce_lr])"
      ],
      "metadata": {
        "colab": {
          "base_uri": "https://localhost:8080/"
        },
        "id": "mmOIYc62scm0",
        "outputId": "7b1a5983-1a68-457b-d805-2c42a26958b9"
      },
      "execution_count": 53,
      "outputs": [
        {
          "output_type": "stream",
          "name": "stdout",
          "text": [
            "Epoch 1/400\n",
            "7/8 [=========================>....] - ETA: 0s - loss: 2.1867 - accuracy: 0.2589"
          ]
        },
        {
          "output_type": "stream",
          "name": "stderr",
          "text": [
            "WARNING:tensorflow:Learning rate reduction is conditioned on metric `acc` which is not available. Available metrics are: loss,accuracy,val_loss,val_accuracy,lr\n"
          ]
        },
        {
          "output_type": "stream",
          "name": "stdout",
          "text": [
            "\b\b\b\b\b\b\b\b\b\b\b\b\b\b\b\b\b\b\b\b\b\b\b\b\b\b\b\b\b\b\b\b\b\b\b\b\b\b\b\b\b\b\b\b\b\b\b\b\b\b\b\b\b\b\b\b\b\b\b\b\b\b\b\b\b\b\b\b\b\b\b\b\b\b\b\b\b\b\b\b\r8/8 [==============================] - 5s 134ms/step - loss: 2.1854 - accuracy: 0.2589 - val_loss: 2.3350 - val_accuracy: 0.1600 - lr: 0.0010\n",
            "Epoch 2/400\n",
            "7/8 [=========================>....] - ETA: 0s - loss: 1.7159 - accuracy: 0.4029"
          ]
        },
        {
          "output_type": "stream",
          "name": "stderr",
          "text": [
            "WARNING:tensorflow:Learning rate reduction is conditioned on metric `acc` which is not available. Available metrics are: loss,accuracy,val_loss,val_accuracy,lr\n"
          ]
        },
        {
          "output_type": "stream",
          "name": "stdout",
          "text": [
            "\b\b\b\b\b\b\b\b\b\b\b\b\b\b\b\b\b\b\b\b\b\b\b\b\b\b\b\b\b\b\b\b\b\b\b\b\b\b\b\b\b\b\b\b\b\b\b\b\b\b\b\b\b\b\b\b\b\b\b\b\b\b\b\b\b\b\b\b\b\b\b\b\b\b\b\b\b\b\b\b\r8/8 [==============================] - 1s 80ms/step - loss: 1.7157 - accuracy: 0.4022 - val_loss: 2.2703 - val_accuracy: 0.1600 - lr: 0.0010\n",
            "Epoch 3/400\n",
            "7/8 [=========================>....] - ETA: 0s - loss: 1.6712 - accuracy: 0.4308"
          ]
        },
        {
          "output_type": "stream",
          "name": "stderr",
          "text": [
            "WARNING:tensorflow:Learning rate reduction is conditioned on metric `acc` which is not available. Available metrics are: loss,accuracy,val_loss,val_accuracy,lr\n"
          ]
        },
        {
          "output_type": "stream",
          "name": "stdout",
          "text": [
            "\b\b\b\b\b\b\b\b\b\b\b\b\b\b\b\b\b\b\b\b\b\b\b\b\b\b\b\b\b\b\b\b\b\b\b\b\b\b\b\b\b\b\b\b\b\b\b\b\b\b\b\b\b\b\b\b\b\b\b\b\b\b\b\b\b\b\b\b\b\b\b\b\b\b\b\b\b\b\b\b\r8/8 [==============================] - 1s 88ms/step - loss: 1.6723 - accuracy: 0.4300 - val_loss: 2.2929 - val_accuracy: 0.1700 - lr: 0.0010\n",
            "Epoch 4/400\n",
            "7/8 [=========================>....] - ETA: 0s - loss: 1.5949 - accuracy: 0.4531"
          ]
        },
        {
          "output_type": "stream",
          "name": "stderr",
          "text": [
            "WARNING:tensorflow:Learning rate reduction is conditioned on metric `acc` which is not available. Available metrics are: loss,accuracy,val_loss,val_accuracy,lr\n"
          ]
        },
        {
          "output_type": "stream",
          "name": "stdout",
          "text": [
            "\b\b\b\b\b\b\b\b\b\b\b\b\b\b\b\b\b\b\b\b\b\b\b\b\b\b\b\b\b\b\b\b\b\b\b\b\b\b\b\b\b\b\b\b\b\b\b\b\b\b\b\b\b\b\b\b\b\b\b\b\b\b\b\b\b\b\b\b\b\b\b\b\b\b\b\b\b\b\b\b\r8/8 [==============================] - 1s 86ms/step - loss: 1.5997 - accuracy: 0.4522 - val_loss: 2.3231 - val_accuracy: 0.1800 - lr: 0.0010\n",
            "Epoch 5/400\n",
            "7/8 [=========================>....] - ETA: 0s - loss: 1.4949 - accuracy: 0.4900"
          ]
        },
        {
          "output_type": "stream",
          "name": "stderr",
          "text": [
            "WARNING:tensorflow:Learning rate reduction is conditioned on metric `acc` which is not available. Available metrics are: loss,accuracy,val_loss,val_accuracy,lr\n"
          ]
        },
        {
          "output_type": "stream",
          "name": "stdout",
          "text": [
            "\b\b\b\b\b\b\b\b\b\b\b\b\b\b\b\b\b\b\b\b\b\b\b\b\b\b\b\b\b\b\b\b\b\b\b\b\b\b\b\b\b\b\b\b\b\b\b\b\b\b\b\b\b\b\b\b\b\b\b\b\b\b\b\b\b\b\b\b\b\b\b\b\b\b\b\b\b\b\b\b\r8/8 [==============================] - 1s 84ms/step - loss: 1.4974 - accuracy: 0.4900 - val_loss: 2.3491 - val_accuracy: 0.1900 - lr: 0.0010\n",
            "Epoch 6/400\n",
            "7/8 [=========================>....] - ETA: 0s - loss: 1.4860 - accuracy: 0.4833"
          ]
        },
        {
          "output_type": "stream",
          "name": "stderr",
          "text": [
            "WARNING:tensorflow:Learning rate reduction is conditioned on metric `acc` which is not available. Available metrics are: loss,accuracy,val_loss,val_accuracy,lr\n"
          ]
        },
        {
          "output_type": "stream",
          "name": "stdout",
          "text": [
            "\b\b\b\b\b\b\b\b\b\b\b\b\b\b\b\b\b\b\b\b\b\b\b\b\b\b\b\b\b\b\b\b\b\b\b\b\b\b\b\b\b\b\b\b\b\b\b\b\b\b\b\b\b\b\b\b\b\b\b\b\b\b\b\b\b\b\b\b\b\b\b\b\b\b\b\b\b\b\b\b\r8/8 [==============================] - 1s 90ms/step - loss: 1.4834 - accuracy: 0.4844 - val_loss: 2.4261 - val_accuracy: 0.2300 - lr: 0.0010\n",
            "Epoch 7/400\n",
            "7/8 [=========================>....] - ETA: 0s - loss: 1.3915 - accuracy: 0.5368"
          ]
        },
        {
          "output_type": "stream",
          "name": "stderr",
          "text": [
            "WARNING:tensorflow:Learning rate reduction is conditioned on metric `acc` which is not available. Available metrics are: loss,accuracy,val_loss,val_accuracy,lr\n"
          ]
        },
        {
          "output_type": "stream",
          "name": "stdout",
          "text": [
            "\b\b\b\b\b\b\b\b\b\b\b\b\b\b\b\b\b\b\b\b\b\b\b\b\b\b\b\b\b\b\b\b\b\b\b\b\b\b\b\b\b\b\b\b\b\b\b\b\b\b\b\b\b\b\b\b\b\b\b\b\b\b\b\b\b\b\b\b\b\b\b\b\b\b\b\b\b\b\b\b\r8/8 [==============================] - 1s 81ms/step - loss: 1.3906 - accuracy: 0.5367 - val_loss: 2.5681 - val_accuracy: 0.1900 - lr: 0.0010\n",
            "Epoch 8/400\n",
            "7/8 [=========================>....] - ETA: 0s - loss: 1.2845 - accuracy: 0.5580"
          ]
        },
        {
          "output_type": "stream",
          "name": "stderr",
          "text": [
            "WARNING:tensorflow:Learning rate reduction is conditioned on metric `acc` which is not available. Available metrics are: loss,accuracy,val_loss,val_accuracy,lr\n"
          ]
        },
        {
          "output_type": "stream",
          "name": "stdout",
          "text": [
            "\b\b\b\b\b\b\b\b\b\b\b\b\b\b\b\b\b\b\b\b\b\b\b\b\b\b\b\b\b\b\b\b\b\b\b\b\b\b\b\b\b\b\b\b\b\b\b\b\b\b\b\b\b\b\b\b\b\b\b\b\b\b\b\b\b\b\b\b\b\b\b\b\b\b\b\b\b\b\b\b\r8/8 [==============================] - 1s 81ms/step - loss: 1.2888 - accuracy: 0.5567 - val_loss: 2.6245 - val_accuracy: 0.1500 - lr: 0.0010\n",
            "Epoch 9/400\n",
            "7/8 [=========================>....] - ETA: 0s - loss: 1.2265 - accuracy: 0.5893"
          ]
        },
        {
          "output_type": "stream",
          "name": "stderr",
          "text": [
            "WARNING:tensorflow:Learning rate reduction is conditioned on metric `acc` which is not available. Available metrics are: loss,accuracy,val_loss,val_accuracy,lr\n"
          ]
        },
        {
          "output_type": "stream",
          "name": "stdout",
          "text": [
            "\b\b\b\b\b\b\b\b\b\b\b\b\b\b\b\b\b\b\b\b\b\b\b\b\b\b\b\b\b\b\b\b\b\b\b\b\b\b\b\b\b\b\b\b\b\b\b\b\b\b\b\b\b\b\b\b\b\b\b\b\b\b\b\b\b\b\b\b\b\b\b\b\b\b\b\b\b\b\b\b\r8/8 [==============================] - 1s 80ms/step - loss: 1.2276 - accuracy: 0.5889 - val_loss: 2.6667 - val_accuracy: 0.1500 - lr: 0.0010\n",
            "Epoch 10/400\n",
            "7/8 [=========================>....] - ETA: 0s - loss: 1.2809 - accuracy: 0.5837"
          ]
        },
        {
          "output_type": "stream",
          "name": "stderr",
          "text": [
            "WARNING:tensorflow:Learning rate reduction is conditioned on metric `acc` which is not available. Available metrics are: loss,accuracy,val_loss,val_accuracy,lr\n"
          ]
        },
        {
          "output_type": "stream",
          "name": "stdout",
          "text": [
            "\b\b\b\b\b\b\b\b\b\b\b\b\b\b\b\b\b\b\b\b\b\b\b\b\b\b\b\b\b\b\b\b\b\b\b\b\b\b\b\b\b\b\b\b\b\b\b\b\b\b\b\b\b\b\b\b\b\b\b\b\b\b\b\b\b\b\b\b\b\b\b\b\b\b\b\b\b\b\b\b\r8/8 [==============================] - 1s 81ms/step - loss: 1.2821 - accuracy: 0.5822 - val_loss: 2.8347 - val_accuracy: 0.1800 - lr: 0.0010\n",
            "Epoch 11/400\n",
            "7/8 [=========================>....] - ETA: 0s - loss: 1.2239 - accuracy: 0.5982"
          ]
        },
        {
          "output_type": "stream",
          "name": "stderr",
          "text": [
            "WARNING:tensorflow:Learning rate reduction is conditioned on metric `acc` which is not available. Available metrics are: loss,accuracy,val_loss,val_accuracy,lr\n"
          ]
        },
        {
          "output_type": "stream",
          "name": "stdout",
          "text": [
            "\b\b\b\b\b\b\b\b\b\b\b\b\b\b\b\b\b\b\b\b\b\b\b\b\b\b\b\b\b\b\b\b\b\b\b\b\b\b\b\b\b\b\b\b\b\b\b\b\b\b\b\b\b\b\b\b\b\b\b\b\b\b\b\b\b\b\b\b\b\b\b\b\b\b\b\b\b\b\b\b\r8/8 [==============================] - 1s 80ms/step - loss: 1.2261 - accuracy: 0.5967 - val_loss: 2.8202 - val_accuracy: 0.1700 - lr: 0.0010\n",
            "Epoch 12/400\n",
            "7/8 [=========================>....] - ETA: 0s - loss: 1.2862 - accuracy: 0.5502"
          ]
        },
        {
          "output_type": "stream",
          "name": "stderr",
          "text": [
            "WARNING:tensorflow:Learning rate reduction is conditioned on metric `acc` which is not available. Available metrics are: loss,accuracy,val_loss,val_accuracy,lr\n"
          ]
        },
        {
          "output_type": "stream",
          "name": "stdout",
          "text": [
            "\b\b\b\b\b\b\b\b\b\b\b\b\b\b\b\b\b\b\b\b\b\b\b\b\b\b\b\b\b\b\b\b\b\b\b\b\b\b\b\b\b\b\b\b\b\b\b\b\b\b\b\b\b\b\b\b\b\b\b\b\b\b\b\b\b\b\b\b\b\b\b\b\b\b\b\b\b\b\b\b\r8/8 [==============================] - 1s 80ms/step - loss: 1.2871 - accuracy: 0.5489 - val_loss: 2.8276 - val_accuracy: 0.1600 - lr: 0.0010\n",
            "Epoch 13/400\n",
            "7/8 [=========================>....] - ETA: 0s - loss: 1.1946 - accuracy: 0.6150"
          ]
        },
        {
          "output_type": "stream",
          "name": "stderr",
          "text": [
            "WARNING:tensorflow:Learning rate reduction is conditioned on metric `acc` which is not available. Available metrics are: loss,accuracy,val_loss,val_accuracy,lr\n"
          ]
        },
        {
          "output_type": "stream",
          "name": "stdout",
          "text": [
            "\b\b\b\b\b\b\b\b\b\b\b\b\b\b\b\b\b\b\b\b\b\b\b\b\b\b\b\b\b\b\b\b\b\b\b\b\b\b\b\b\b\b\b\b\b\b\b\b\b\b\b\b\b\b\b\b\b\b\b\b\b\b\b\b\b\b\b\b\b\b\b\b\b\b\b\b\b\b\b\b\r8/8 [==============================] - 1s 85ms/step - loss: 1.1954 - accuracy: 0.6133 - val_loss: 2.9843 - val_accuracy: 0.1800 - lr: 0.0010\n",
            "Epoch 14/400\n",
            "7/8 [=========================>....] - ETA: 0s - loss: 1.1509 - accuracy: 0.6217"
          ]
        },
        {
          "output_type": "stream",
          "name": "stderr",
          "text": [
            "WARNING:tensorflow:Learning rate reduction is conditioned on metric `acc` which is not available. Available metrics are: loss,accuracy,val_loss,val_accuracy,lr\n"
          ]
        },
        {
          "output_type": "stream",
          "name": "stdout",
          "text": [
            "\b\b\b\b\b\b\b\b\b\b\b\b\b\b\b\b\b\b\b\b\b\b\b\b\b\b\b\b\b\b\b\b\b\b\b\b\b\b\b\b\b\b\b\b\b\b\b\b\b\b\b\b\b\b\b\b\b\b\b\b\b\b\b\b\b\b\b\b\b\b\b\b\b\b\b\b\b\b\b\b\r8/8 [==============================] - 1s 80ms/step - loss: 1.1503 - accuracy: 0.6222 - val_loss: 2.9395 - val_accuracy: 0.2300 - lr: 0.0010\n",
            "Epoch 15/400\n",
            "7/8 [=========================>....] - ETA: 0s - loss: 1.0998 - accuracy: 0.6451"
          ]
        },
        {
          "output_type": "stream",
          "name": "stderr",
          "text": [
            "WARNING:tensorflow:Learning rate reduction is conditioned on metric `acc` which is not available. Available metrics are: loss,accuracy,val_loss,val_accuracy,lr\n"
          ]
        },
        {
          "output_type": "stream",
          "name": "stdout",
          "text": [
            "\b\b\b\b\b\b\b\b\b\b\b\b\b\b\b\b\b\b\b\b\b\b\b\b\b\b\b\b\b\b\b\b\b\b\b\b\b\b\b\b\b\b\b\b\b\b\b\b\b\b\b\b\b\b\b\b\b\b\b\b\b\b\b\b\b\b\b\b\b\b\b\b\b\b\b\b\b\b\b\b\r8/8 [==============================] - 1s 86ms/step - loss: 1.1013 - accuracy: 0.6433 - val_loss: 2.9289 - val_accuracy: 0.1600 - lr: 0.0010\n",
            "Epoch 16/400\n",
            "7/8 [=========================>....] - ETA: 0s - loss: 1.0874 - accuracy: 0.6440"
          ]
        },
        {
          "output_type": "stream",
          "name": "stderr",
          "text": [
            "WARNING:tensorflow:Learning rate reduction is conditioned on metric `acc` which is not available. Available metrics are: loss,accuracy,val_loss,val_accuracy,lr\n"
          ]
        },
        {
          "output_type": "stream",
          "name": "stdout",
          "text": [
            "\b\b\b\b\b\b\b\b\b\b\b\b\b\b\b\b\b\b\b\b\b\b\b\b\b\b\b\b\b\b\b\b\b\b\b\b\b\b\b\b\b\b\b\b\b\b\b\b\b\b\b\b\b\b\b\b\b\b\b\b\b\b\b\b\b\b\b\b\b\b\b\b\b\b\b\b\b\b\b\b\r8/8 [==============================] - 1s 81ms/step - loss: 1.0864 - accuracy: 0.6444 - val_loss: 3.1386 - val_accuracy: 0.2100 - lr: 0.0010\n",
            "Epoch 17/400\n",
            "7/8 [=========================>....] - ETA: 0s - loss: 0.9727 - accuracy: 0.7042"
          ]
        },
        {
          "output_type": "stream",
          "name": "stderr",
          "text": [
            "WARNING:tensorflow:Learning rate reduction is conditioned on metric `acc` which is not available. Available metrics are: loss,accuracy,val_loss,val_accuracy,lr\n"
          ]
        },
        {
          "output_type": "stream",
          "name": "stdout",
          "text": [
            "\b\b\b\b\b\b\b\b\b\b\b\b\b\b\b\b\b\b\b\b\b\b\b\b\b\b\b\b\b\b\b\b\b\b\b\b\b\b\b\b\b\b\b\b\b\b\b\b\b\b\b\b\b\b\b\b\b\b\b\b\b\b\b\b\b\b\b\b\b\b\b\b\b\b\b\b\b\b\b\b\r8/8 [==============================] - 1s 80ms/step - loss: 0.9740 - accuracy: 0.7033 - val_loss: 3.1070 - val_accuracy: 0.2000 - lr: 0.0010\n",
            "Epoch 18/400\n",
            "7/8 [=========================>....] - ETA: 0s - loss: 0.9789 - accuracy: 0.7188"
          ]
        },
        {
          "output_type": "stream",
          "name": "stderr",
          "text": [
            "WARNING:tensorflow:Learning rate reduction is conditioned on metric `acc` which is not available. Available metrics are: loss,accuracy,val_loss,val_accuracy,lr\n"
          ]
        },
        {
          "output_type": "stream",
          "name": "stdout",
          "text": [
            "\b\b\b\b\b\b\b\b\b\b\b\b\b\b\b\b\b\b\b\b\b\b\b\b\b\b\b\b\b\b\b\b\b\b\b\b\b\b\b\b\b\b\b\b\b\b\b\b\b\b\b\b\b\b\b\b\b\b\b\b\b\b\b\b\b\b\b\b\b\b\b\b\b\b\b\b\b\b\b\b\r8/8 [==============================] - 1s 80ms/step - loss: 0.9798 - accuracy: 0.7189 - val_loss: 2.9617 - val_accuracy: 0.2000 - lr: 0.0010\n",
            "Epoch 19/400\n",
            "7/8 [=========================>....] - ETA: 0s - loss: 1.0345 - accuracy: 0.6808"
          ]
        },
        {
          "output_type": "stream",
          "name": "stderr",
          "text": [
            "WARNING:tensorflow:Learning rate reduction is conditioned on metric `acc` which is not available. Available metrics are: loss,accuracy,val_loss,val_accuracy,lr\n"
          ]
        },
        {
          "output_type": "stream",
          "name": "stdout",
          "text": [
            "\b\b\b\b\b\b\b\b\b\b\b\b\b\b\b\b\b\b\b\b\b\b\b\b\b\b\b\b\b\b\b\b\b\b\b\b\b\b\b\b\b\b\b\b\b\b\b\b\b\b\b\b\b\b\b\b\b\b\b\b\b\b\b\b\b\b\b\b\b\b\b\b\b\b\b\b\b\b\b\b\r8/8 [==============================] - 1s 81ms/step - loss: 1.0337 - accuracy: 0.6811 - val_loss: 2.6700 - val_accuracy: 0.2100 - lr: 0.0010\n",
            "Epoch 20/400\n",
            "7/8 [=========================>....] - ETA: 0s - loss: 0.9335 - accuracy: 0.7098"
          ]
        },
        {
          "output_type": "stream",
          "name": "stderr",
          "text": [
            "WARNING:tensorflow:Learning rate reduction is conditioned on metric `acc` which is not available. Available metrics are: loss,accuracy,val_loss,val_accuracy,lr\n"
          ]
        },
        {
          "output_type": "stream",
          "name": "stdout",
          "text": [
            "\b\b\b\b\b\b\b\b\b\b\b\b\b\b\b\b\b\b\b\b\b\b\b\b\b\b\b\b\b\b\b\b\b\b\b\b\b\b\b\b\b\b\b\b\b\b\b\b\b\b\b\b\b\b\b\b\b\b\b\b\b\b\b\b\b\b\b\b\b\b\b\b\b\b\b\b\b\b\b\b\r8/8 [==============================] - 1s 85ms/step - loss: 0.9328 - accuracy: 0.7111 - val_loss: 2.8059 - val_accuracy: 0.1900 - lr: 0.0010\n",
            "Epoch 21/400\n",
            "7/8 [=========================>....] - ETA: 0s - loss: 0.8938 - accuracy: 0.7377"
          ]
        },
        {
          "output_type": "stream",
          "name": "stderr",
          "text": [
            "WARNING:tensorflow:Learning rate reduction is conditioned on metric `acc` which is not available. Available metrics are: loss,accuracy,val_loss,val_accuracy,lr\n"
          ]
        },
        {
          "output_type": "stream",
          "name": "stdout",
          "text": [
            "\b\b\b\b\b\b\b\b\b\b\b\b\b\b\b\b\b\b\b\b\b\b\b\b\b\b\b\b\b\b\b\b\b\b\b\b\b\b\b\b\b\b\b\b\b\b\b\b\b\b\b\b\b\b\b\b\b\b\b\b\b\b\b\b\b\b\b\b\b\b\b\b\b\b\b\b\b\b\b\b\r8/8 [==============================] - 1s 80ms/step - loss: 0.8955 - accuracy: 0.7367 - val_loss: 2.9463 - val_accuracy: 0.2300 - lr: 0.0010\n",
            "Epoch 22/400\n",
            "7/8 [=========================>....] - ETA: 0s - loss: 0.9906 - accuracy: 0.6908"
          ]
        },
        {
          "output_type": "stream",
          "name": "stderr",
          "text": [
            "WARNING:tensorflow:Learning rate reduction is conditioned on metric `acc` which is not available. Available metrics are: loss,accuracy,val_loss,val_accuracy,lr\n"
          ]
        },
        {
          "output_type": "stream",
          "name": "stdout",
          "text": [
            "\b\b\b\b\b\b\b\b\b\b\b\b\b\b\b\b\b\b\b\b\b\b\b\b\b\b\b\b\b\b\b\b\b\b\b\b\b\b\b\b\b\b\b\b\b\b\b\b\b\b\b\b\b\b\b\b\b\b\b\b\b\b\b\b\b\b\b\b\b\b\b\b\b\b\b\b\b\b\b\b\r8/8 [==============================] - 1s 89ms/step - loss: 0.9907 - accuracy: 0.6911 - val_loss: 3.0390 - val_accuracy: 0.1900 - lr: 0.0010\n",
            "Epoch 23/400\n",
            "7/8 [=========================>....] - ETA: 0s - loss: 0.8168 - accuracy: 0.7634"
          ]
        },
        {
          "output_type": "stream",
          "name": "stderr",
          "text": [
            "WARNING:tensorflow:Learning rate reduction is conditioned on metric `acc` which is not available. Available metrics are: loss,accuracy,val_loss,val_accuracy,lr\n"
          ]
        },
        {
          "output_type": "stream",
          "name": "stdout",
          "text": [
            "\b\b\b\b\b\b\b\b\b\b\b\b\b\b\b\b\b\b\b\b\b\b\b\b\b\b\b\b\b\b\b\b\b\b\b\b\b\b\b\b\b\b\b\b\b\b\b\b\b\b\b\b\b\b\b\b\b\b\b\b\b\b\b\b\b\b\b\b\b\b\b\b\b\b\b\b\b\b\b\b\r8/8 [==============================] - 1s 87ms/step - loss: 0.8195 - accuracy: 0.7622 - val_loss: 3.2784 - val_accuracy: 0.1700 - lr: 0.0010\n",
            "Epoch 24/400\n",
            "7/8 [=========================>....] - ETA: 0s - loss: 0.8514 - accuracy: 0.7578"
          ]
        },
        {
          "output_type": "stream",
          "name": "stderr",
          "text": [
            "WARNING:tensorflow:Learning rate reduction is conditioned on metric `acc` which is not available. Available metrics are: loss,accuracy,val_loss,val_accuracy,lr\n"
          ]
        },
        {
          "output_type": "stream",
          "name": "stdout",
          "text": [
            "\b\b\b\b\b\b\b\b\b\b\b\b\b\b\b\b\b\b\b\b\b\b\b\b\b\b\b\b\b\b\b\b\b\b\b\b\b\b\b\b\b\b\b\b\b\b\b\b\b\b\b\b\b\b\b\b\b\b\b\b\b\b\b\b\b\b\b\b\b\b\b\b\b\b\b\b\b\b\b\b\r8/8 [==============================] - 1s 90ms/step - loss: 0.8538 - accuracy: 0.7578 - val_loss: 3.1062 - val_accuracy: 0.2400 - lr: 0.0010\n",
            "Epoch 25/400\n",
            "7/8 [=========================>....] - ETA: 0s - loss: 0.9032 - accuracy: 0.7388"
          ]
        },
        {
          "output_type": "stream",
          "name": "stderr",
          "text": [
            "WARNING:tensorflow:Learning rate reduction is conditioned on metric `acc` which is not available. Available metrics are: loss,accuracy,val_loss,val_accuracy,lr\n"
          ]
        },
        {
          "output_type": "stream",
          "name": "stdout",
          "text": [
            "\b\b\b\b\b\b\b\b\b\b\b\b\b\b\b\b\b\b\b\b\b\b\b\b\b\b\b\b\b\b\b\b\b\b\b\b\b\b\b\b\b\b\b\b\b\b\b\b\b\b\b\b\b\b\b\b\b\b\b\b\b\b\b\b\b\b\b\b\b\b\b\b\b\b\b\b\b\b\b\b\r8/8 [==============================] - 1s 82ms/step - loss: 0.9049 - accuracy: 0.7389 - val_loss: 2.8116 - val_accuracy: 0.1800 - lr: 0.0010\n",
            "Epoch 26/400\n",
            "7/8 [=========================>....] - ETA: 0s - loss: 0.8264 - accuracy: 0.7567"
          ]
        },
        {
          "output_type": "stream",
          "name": "stderr",
          "text": [
            "WARNING:tensorflow:Learning rate reduction is conditioned on metric `acc` which is not available. Available metrics are: loss,accuracy,val_loss,val_accuracy,lr\n"
          ]
        },
        {
          "output_type": "stream",
          "name": "stdout",
          "text": [
            "\b\b\b\b\b\b\b\b\b\b\b\b\b\b\b\b\b\b\b\b\b\b\b\b\b\b\b\b\b\b\b\b\b\b\b\b\b\b\b\b\b\b\b\b\b\b\b\b\b\b\b\b\b\b\b\b\b\b\b\b\b\b\b\b\b\b\b\b\b\b\b\b\b\b\b\b\b\b\b\b\r8/8 [==============================] - 1s 81ms/step - loss: 0.8321 - accuracy: 0.7533 - val_loss: 3.4432 - val_accuracy: 0.1700 - lr: 0.0010\n",
            "Epoch 27/400\n",
            "7/8 [=========================>....] - ETA: 0s - loss: 1.0621 - accuracy: 0.6797"
          ]
        },
        {
          "output_type": "stream",
          "name": "stderr",
          "text": [
            "WARNING:tensorflow:Learning rate reduction is conditioned on metric `acc` which is not available. Available metrics are: loss,accuracy,val_loss,val_accuracy,lr\n"
          ]
        },
        {
          "output_type": "stream",
          "name": "stdout",
          "text": [
            "\b\b\b\b\b\b\b\b\b\b\b\b\b\b\b\b\b\b\b\b\b\b\b\b\b\b\b\b\b\b\b\b\b\b\b\b\b\b\b\b\b\b\b\b\b\b\b\b\b\b\b\b\b\b\b\b\b\b\b\b\b\b\b\b\b\b\b\b\b\b\b\b\b\b\b\b\b\b\b\b\r8/8 [==============================] - 1s 80ms/step - loss: 1.0635 - accuracy: 0.6789 - val_loss: 2.8323 - val_accuracy: 0.2200 - lr: 0.0010\n",
            "Epoch 28/400\n",
            "7/8 [=========================>....] - ETA: 0s - loss: 0.9360 - accuracy: 0.7098"
          ]
        },
        {
          "output_type": "stream",
          "name": "stderr",
          "text": [
            "WARNING:tensorflow:Learning rate reduction is conditioned on metric `acc` which is not available. Available metrics are: loss,accuracy,val_loss,val_accuracy,lr\n"
          ]
        },
        {
          "output_type": "stream",
          "name": "stdout",
          "text": [
            "\b\b\b\b\b\b\b\b\b\b\b\b\b\b\b\b\b\b\b\b\b\b\b\b\b\b\b\b\b\b\b\b\b\b\b\b\b\b\b\b\b\b\b\b\b\b\b\b\b\b\b\b\b\b\b\b\b\b\b\b\b\b\b\b\b\b\b\b\b\b\b\b\b\b\b\b\b\b\b\b\r8/8 [==============================] - 1s 81ms/step - loss: 0.9363 - accuracy: 0.7100 - val_loss: 2.5845 - val_accuracy: 0.3100 - lr: 0.0010\n",
            "Epoch 29/400\n",
            "7/8 [=========================>....] - ETA: 0s - loss: 0.9124 - accuracy: 0.7199"
          ]
        },
        {
          "output_type": "stream",
          "name": "stderr",
          "text": [
            "WARNING:tensorflow:Learning rate reduction is conditioned on metric `acc` which is not available. Available metrics are: loss,accuracy,val_loss,val_accuracy,lr\n"
          ]
        },
        {
          "output_type": "stream",
          "name": "stdout",
          "text": [
            "\b\b\b\b\b\b\b\b\b\b\b\b\b\b\b\b\b\b\b\b\b\b\b\b\b\b\b\b\b\b\b\b\b\b\b\b\b\b\b\b\b\b\b\b\b\b\b\b\b\b\b\b\b\b\b\b\b\b\b\b\b\b\b\b\b\b\b\b\b\b\b\b\b\b\b\b\b\b\b\b\r8/8 [==============================] - 1s 80ms/step - loss: 0.9134 - accuracy: 0.7200 - val_loss: 2.1771 - val_accuracy: 0.3900 - lr: 0.0010\n",
            "Epoch 30/400\n",
            "7/8 [=========================>....] - ETA: 0s - loss: 0.7983 - accuracy: 0.7712"
          ]
        },
        {
          "output_type": "stream",
          "name": "stderr",
          "text": [
            "WARNING:tensorflow:Learning rate reduction is conditioned on metric `acc` which is not available. Available metrics are: loss,accuracy,val_loss,val_accuracy,lr\n"
          ]
        },
        {
          "output_type": "stream",
          "name": "stdout",
          "text": [
            "\b\b\b\b\b\b\b\b\b\b\b\b\b\b\b\b\b\b\b\b\b\b\b\b\b\b\b\b\b\b\b\b\b\b\b\b\b\b\b\b\b\b\b\b\b\b\b\b\b\b\b\b\b\b\b\b\b\b\b\b\b\b\b\b\b\b\b\b\b\b\b\b\b\b\b\b\b\b\b\b\r8/8 [==============================] - 1s 81ms/step - loss: 0.8032 - accuracy: 0.7711 - val_loss: 3.0575 - val_accuracy: 0.2500 - lr: 0.0010\n",
            "Epoch 31/400\n",
            "7/8 [=========================>....] - ETA: 0s - loss: 0.8517 - accuracy: 0.7478"
          ]
        },
        {
          "output_type": "stream",
          "name": "stderr",
          "text": [
            "WARNING:tensorflow:Learning rate reduction is conditioned on metric `acc` which is not available. Available metrics are: loss,accuracy,val_loss,val_accuracy,lr\n"
          ]
        },
        {
          "output_type": "stream",
          "name": "stdout",
          "text": [
            "\b\b\b\b\b\b\b\b\b\b\b\b\b\b\b\b\b\b\b\b\b\b\b\b\b\b\b\b\b\b\b\b\b\b\b\b\b\b\b\b\b\b\b\b\b\b\b\b\b\b\b\b\b\b\b\b\b\b\b\b\b\b\b\b\b\b\b\b\b\b\b\b\b\b\b\b\b\b\b\b\r8/8 [==============================] - 1s 81ms/step - loss: 0.8593 - accuracy: 0.7444 - val_loss: 2.2440 - val_accuracy: 0.2800 - lr: 0.0010\n",
            "Epoch 32/400\n",
            "7/8 [=========================>....] - ETA: 0s - loss: 0.9969 - accuracy: 0.6797"
          ]
        },
        {
          "output_type": "stream",
          "name": "stderr",
          "text": [
            "WARNING:tensorflow:Learning rate reduction is conditioned on metric `acc` which is not available. Available metrics are: loss,accuracy,val_loss,val_accuracy,lr\n"
          ]
        },
        {
          "output_type": "stream",
          "name": "stdout",
          "text": [
            "\b\b\b\b\b\b\b\b\b\b\b\b\b\b\b\b\b\b\b\b\b\b\b\b\b\b\b\b\b\b\b\b\b\b\b\b\b\b\b\b\b\b\b\b\b\b\b\b\b\b\b\b\b\b\b\b\b\b\b\b\b\b\b\b\b\b\b\b\b\b\b\b\b\b\b\b\b\b\b\b\r8/8 [==============================] - 1s 82ms/step - loss: 0.9981 - accuracy: 0.6789 - val_loss: 2.7200 - val_accuracy: 0.3300 - lr: 0.0010\n",
            "Epoch 33/400\n",
            "7/8 [=========================>....] - ETA: 0s - loss: 0.8428 - accuracy: 0.7600"
          ]
        },
        {
          "output_type": "stream",
          "name": "stderr",
          "text": [
            "WARNING:tensorflow:Learning rate reduction is conditioned on metric `acc` which is not available. Available metrics are: loss,accuracy,val_loss,val_accuracy,lr\n"
          ]
        },
        {
          "output_type": "stream",
          "name": "stdout",
          "text": [
            "\b\b\b\b\b\b\b\b\b\b\b\b\b\b\b\b\b\b\b\b\b\b\b\b\b\b\b\b\b\b\b\b\b\b\b\b\b\b\b\b\b\b\b\b\b\b\b\b\b\b\b\b\b\b\b\b\b\b\b\b\b\b\b\b\b\b\b\b\b\b\b\b\b\b\b\b\b\b\b\b\r8/8 [==============================] - 1s 86ms/step - loss: 0.8428 - accuracy: 0.7589 - val_loss: 2.5964 - val_accuracy: 0.3200 - lr: 0.0010\n",
            "Epoch 34/400\n",
            "7/8 [=========================>....] - ETA: 0s - loss: 0.8118 - accuracy: 0.7812"
          ]
        },
        {
          "output_type": "stream",
          "name": "stderr",
          "text": [
            "WARNING:tensorflow:Learning rate reduction is conditioned on metric `acc` which is not available. Available metrics are: loss,accuracy,val_loss,val_accuracy,lr\n"
          ]
        },
        {
          "output_type": "stream",
          "name": "stdout",
          "text": [
            "\b\b\b\b\b\b\b\b\b\b\b\b\b\b\b\b\b\b\b\b\b\b\b\b\b\b\b\b\b\b\b\b\b\b\b\b\b\b\b\b\b\b\b\b\b\b\b\b\b\b\b\b\b\b\b\b\b\b\b\b\b\b\b\b\b\b\b\b\b\b\b\b\b\b\b\b\b\b\b\b\r8/8 [==============================] - 1s 81ms/step - loss: 0.8110 - accuracy: 0.7811 - val_loss: 2.2933 - val_accuracy: 0.2800 - lr: 0.0010\n",
            "Epoch 35/400\n",
            "7/8 [=========================>....] - ETA: 0s - loss: 0.6985 - accuracy: 0.8136"
          ]
        },
        {
          "output_type": "stream",
          "name": "stderr",
          "text": [
            "WARNING:tensorflow:Learning rate reduction is conditioned on metric `acc` which is not available. Available metrics are: loss,accuracy,val_loss,val_accuracy,lr\n"
          ]
        },
        {
          "output_type": "stream",
          "name": "stdout",
          "text": [
            "\b\b\b\b\b\b\b\b\b\b\b\b\b\b\b\b\b\b\b\b\b\b\b\b\b\b\b\b\b\b\b\b\b\b\b\b\b\b\b\b\b\b\b\b\b\b\b\b\b\b\b\b\b\b\b\b\b\b\b\b\b\b\b\b\b\b\b\b\b\b\b\b\b\b\b\b\b\b\b\b\r8/8 [==============================] - 1s 88ms/step - loss: 0.6991 - accuracy: 0.8133 - val_loss: 3.0322 - val_accuracy: 0.2000 - lr: 0.0010\n",
            "Epoch 36/400\n",
            "7/8 [=========================>....] - ETA: 0s - loss: 0.7718 - accuracy: 0.7958"
          ]
        },
        {
          "output_type": "stream",
          "name": "stderr",
          "text": [
            "WARNING:tensorflow:Learning rate reduction is conditioned on metric `acc` which is not available. Available metrics are: loss,accuracy,val_loss,val_accuracy,lr\n"
          ]
        },
        {
          "output_type": "stream",
          "name": "stdout",
          "text": [
            "\b\b\b\b\b\b\b\b\b\b\b\b\b\b\b\b\b\b\b\b\b\b\b\b\b\b\b\b\b\b\b\b\b\b\b\b\b\b\b\b\b\b\b\b\b\b\b\b\b\b\b\b\b\b\b\b\b\b\b\b\b\b\b\b\b\b\b\b\b\b\b\b\b\b\b\b\b\b\b\b\r8/8 [==============================] - 1s 82ms/step - loss: 0.7728 - accuracy: 0.7956 - val_loss: 2.6327 - val_accuracy: 0.3300 - lr: 0.0010\n",
            "Epoch 37/400\n",
            "7/8 [=========================>....] - ETA: 0s - loss: 0.6249 - accuracy: 0.8348"
          ]
        },
        {
          "output_type": "stream",
          "name": "stderr",
          "text": [
            "WARNING:tensorflow:Learning rate reduction is conditioned on metric `acc` which is not available. Available metrics are: loss,accuracy,val_loss,val_accuracy,lr\n"
          ]
        },
        {
          "output_type": "stream",
          "name": "stdout",
          "text": [
            "\b\b\b\b\b\b\b\b\b\b\b\b\b\b\b\b\b\b\b\b\b\b\b\b\b\b\b\b\b\b\b\b\b\b\b\b\b\b\b\b\b\b\b\b\b\b\b\b\b\b\b\b\b\b\b\b\b\b\b\b\b\b\b\b\b\b\b\b\b\b\b\b\b\b\b\b\b\b\b\b\r8/8 [==============================] - 1s 83ms/step - loss: 0.6274 - accuracy: 0.8333 - val_loss: 2.9387 - val_accuracy: 0.2800 - lr: 0.0010\n",
            "Epoch 38/400\n",
            "7/8 [=========================>....] - ETA: 0s - loss: 0.6967 - accuracy: 0.8181"
          ]
        },
        {
          "output_type": "stream",
          "name": "stderr",
          "text": [
            "WARNING:tensorflow:Learning rate reduction is conditioned on metric `acc` which is not available. Available metrics are: loss,accuracy,val_loss,val_accuracy,lr\n"
          ]
        },
        {
          "output_type": "stream",
          "name": "stdout",
          "text": [
            "\b\b\b\b\b\b\b\b\b\b\b\b\b\b\b\b\b\b\b\b\b\b\b\b\b\b\b\b\b\b\b\b\b\b\b\b\b\b\b\b\b\b\b\b\b\b\b\b\b\b\b\b\b\b\b\b\b\b\b\b\b\b\b\b\b\b\b\b\b\b\b\b\b\b\b\b\b\b\b\b\r8/8 [==============================] - 1s 86ms/step - loss: 0.6970 - accuracy: 0.8178 - val_loss: 3.4156 - val_accuracy: 0.2200 - lr: 0.0010\n",
            "Epoch 39/400\n",
            "7/8 [=========================>....] - ETA: 0s - loss: 0.6781 - accuracy: 0.8214"
          ]
        },
        {
          "output_type": "stream",
          "name": "stderr",
          "text": [
            "WARNING:tensorflow:Learning rate reduction is conditioned on metric `acc` which is not available. Available metrics are: loss,accuracy,val_loss,val_accuracy,lr\n"
          ]
        },
        {
          "output_type": "stream",
          "name": "stdout",
          "text": [
            "\b\b\b\b\b\b\b\b\b\b\b\b\b\b\b\b\b\b\b\b\b\b\b\b\b\b\b\b\b\b\b\b\b\b\b\b\b\b\b\b\b\b\b\b\b\b\b\b\b\b\b\b\b\b\b\b\b\b\b\b\b\b\b\b\b\b\b\b\b\b\b\b\b\b\b\b\b\b\b\b\r8/8 [==============================] - 1s 79ms/step - loss: 0.6792 - accuracy: 0.8211 - val_loss: 2.6902 - val_accuracy: 0.2900 - lr: 0.0010\n",
            "Epoch 40/400\n",
            "7/8 [=========================>....] - ETA: 0s - loss: 0.6833 - accuracy: 0.8125"
          ]
        },
        {
          "output_type": "stream",
          "name": "stderr",
          "text": [
            "WARNING:tensorflow:Learning rate reduction is conditioned on metric `acc` which is not available. Available metrics are: loss,accuracy,val_loss,val_accuracy,lr\n"
          ]
        },
        {
          "output_type": "stream",
          "name": "stdout",
          "text": [
            "\b\b\b\b\b\b\b\b\b\b\b\b\b\b\b\b\b\b\b\b\b\b\b\b\b\b\b\b\b\b\b\b\b\b\b\b\b\b\b\b\b\b\b\b\b\b\b\b\b\b\b\b\b\b\b\b\b\b\b\b\b\b\b\b\b\b\b\b\b\b\b\b\b\b\b\b\b\b\b\b\r8/8 [==============================] - 1s 80ms/step - loss: 0.6823 - accuracy: 0.8133 - val_loss: 3.7431 - val_accuracy: 0.2300 - lr: 0.0010\n",
            "Epoch 41/400\n",
            "7/8 [=========================>....] - ETA: 0s - loss: 0.5905 - accuracy: 0.8571"
          ]
        },
        {
          "output_type": "stream",
          "name": "stderr",
          "text": [
            "WARNING:tensorflow:Learning rate reduction is conditioned on metric `acc` which is not available. Available metrics are: loss,accuracy,val_loss,val_accuracy,lr\n"
          ]
        },
        {
          "output_type": "stream",
          "name": "stdout",
          "text": [
            "\b\b\b\b\b\b\b\b\b\b\b\b\b\b\b\b\b\b\b\b\b\b\b\b\b\b\b\b\b\b\b\b\b\b\b\b\b\b\b\b\b\b\b\b\b\b\b\b\b\b\b\b\b\b\b\b\b\b\b\b\b\b\b\b\b\b\b\b\b\b\b\b\b\b\b\b\b\b\b\b\r8/8 [==============================] - 1s 92ms/step - loss: 0.5948 - accuracy: 0.8544 - val_loss: 3.2587 - val_accuracy: 0.2500 - lr: 0.0010\n",
            "Epoch 42/400\n",
            "7/8 [=========================>....] - ETA: 0s - loss: 0.6741 - accuracy: 0.8125"
          ]
        },
        {
          "output_type": "stream",
          "name": "stderr",
          "text": [
            "WARNING:tensorflow:Learning rate reduction is conditioned on metric `acc` which is not available. Available metrics are: loss,accuracy,val_loss,val_accuracy,lr\n"
          ]
        },
        {
          "output_type": "stream",
          "name": "stdout",
          "text": [
            "\b\b\b\b\b\b\b\b\b\b\b\b\b\b\b\b\b\b\b\b\b\b\b\b\b\b\b\b\b\b\b\b\b\b\b\b\b\b\b\b\b\b\b\b\b\b\b\b\b\b\b\b\b\b\b\b\b\b\b\b\b\b\b\b\b\b\b\b\b\b\b\b\b\b\b\b\b\b\b\b\r8/8 [==============================] - 1s 107ms/step - loss: 0.6745 - accuracy: 0.8133 - val_loss: 5.9941 - val_accuracy: 0.1400 - lr: 0.0010\n",
            "Epoch 43/400\n",
            "7/8 [=========================>....] - ETA: 0s - loss: 0.6634 - accuracy: 0.8237"
          ]
        },
        {
          "output_type": "stream",
          "name": "stderr",
          "text": [
            "WARNING:tensorflow:Learning rate reduction is conditioned on metric `acc` which is not available. Available metrics are: loss,accuracy,val_loss,val_accuracy,lr\n"
          ]
        },
        {
          "output_type": "stream",
          "name": "stdout",
          "text": [
            "\b\b\b\b\b\b\b\b\b\b\b\b\b\b\b\b\b\b\b\b\b\b\b\b\b\b\b\b\b\b\b\b\b\b\b\b\b\b\b\b\b\b\b\b\b\b\b\b\b\b\b\b\b\b\b\b\b\b\b\b\b\b\b\b\b\b\b\b\b\b\b\b\b\b\b\b\b\b\b\b\r8/8 [==============================] - 1s 87ms/step - loss: 0.6623 - accuracy: 0.8244 - val_loss: 3.3252 - val_accuracy: 0.2300 - lr: 0.0010\n",
            "Epoch 44/400\n",
            "7/8 [=========================>....] - ETA: 0s - loss: 0.5158 - accuracy: 0.8817"
          ]
        },
        {
          "output_type": "stream",
          "name": "stderr",
          "text": [
            "WARNING:tensorflow:Learning rate reduction is conditioned on metric `acc` which is not available. Available metrics are: loss,accuracy,val_loss,val_accuracy,lr\n"
          ]
        },
        {
          "output_type": "stream",
          "name": "stdout",
          "text": [
            "\b\b\b\b\b\b\b\b\b\b\b\b\b\b\b\b\b\b\b\b\b\b\b\b\b\b\b\b\b\b\b\b\b\b\b\b\b\b\b\b\b\b\b\b\b\b\b\b\b\b\b\b\b\b\b\b\b\b\b\b\b\b\b\b\b\b\b\b\b\b\b\b\b\b\b\b\b\b\b\b\r8/8 [==============================] - 1s 95ms/step - loss: 0.5151 - accuracy: 0.8822 - val_loss: 2.9823 - val_accuracy: 0.3300 - lr: 0.0010\n",
            "Epoch 45/400\n",
            "7/8 [=========================>....] - ETA: 0s - loss: 0.4438 - accuracy: 0.9129"
          ]
        },
        {
          "output_type": "stream",
          "name": "stderr",
          "text": [
            "WARNING:tensorflow:Learning rate reduction is conditioned on metric `acc` which is not available. Available metrics are: loss,accuracy,val_loss,val_accuracy,lr\n"
          ]
        },
        {
          "output_type": "stream",
          "name": "stdout",
          "text": [
            "\b\b\b\b\b\b\b\b\b\b\b\b\b\b\b\b\b\b\b\b\b\b\b\b\b\b\b\b\b\b\b\b\b\b\b\b\b\b\b\b\b\b\b\b\b\b\b\b\b\b\b\b\b\b\b\b\b\b\b\b\b\b\b\b\b\b\b\b\b\b\b\b\b\b\b\b\b\b\b\b\r8/8 [==============================] - 1s 80ms/step - loss: 0.4453 - accuracy: 0.9111 - val_loss: 2.4614 - val_accuracy: 0.3500 - lr: 0.0010\n",
            "Epoch 46/400\n",
            "7/8 [=========================>....] - ETA: 0s - loss: 0.5699 - accuracy: 0.8393"
          ]
        },
        {
          "output_type": "stream",
          "name": "stderr",
          "text": [
            "WARNING:tensorflow:Learning rate reduction is conditioned on metric `acc` which is not available. Available metrics are: loss,accuracy,val_loss,val_accuracy,lr\n"
          ]
        },
        {
          "output_type": "stream",
          "name": "stdout",
          "text": [
            "\b\b\b\b\b\b\b\b\b\b\b\b\b\b\b\b\b\b\b\b\b\b\b\b\b\b\b\b\b\b\b\b\b\b\b\b\b\b\b\b\b\b\b\b\b\b\b\b\b\b\b\b\b\b\b\b\b\b\b\b\b\b\b\b\b\b\b\b\b\b\b\b\b\b\b\b\b\b\b\b\r8/8 [==============================] - 1s 81ms/step - loss: 0.5724 - accuracy: 0.8378 - val_loss: 3.0581 - val_accuracy: 0.2800 - lr: 0.0010\n",
            "Epoch 47/400\n",
            "7/8 [=========================>....] - ETA: 0s - loss: 0.6379 - accuracy: 0.8326"
          ]
        },
        {
          "output_type": "stream",
          "name": "stderr",
          "text": [
            "WARNING:tensorflow:Learning rate reduction is conditioned on metric `acc` which is not available. Available metrics are: loss,accuracy,val_loss,val_accuracy,lr\n"
          ]
        },
        {
          "output_type": "stream",
          "name": "stdout",
          "text": [
            "\b\b\b\b\b\b\b\b\b\b\b\b\b\b\b\b\b\b\b\b\b\b\b\b\b\b\b\b\b\b\b\b\b\b\b\b\b\b\b\b\b\b\b\b\b\b\b\b\b\b\b\b\b\b\b\b\b\b\b\b\b\b\b\b\b\b\b\b\b\b\b\b\b\b\b\b\b\b\b\b\r8/8 [==============================] - 1s 80ms/step - loss: 0.6393 - accuracy: 0.8311 - val_loss: 2.5819 - val_accuracy: 0.3200 - lr: 0.0010\n",
            "Epoch 48/400\n",
            "7/8 [=========================>....] - ETA: 0s - loss: 0.4929 - accuracy: 0.8828"
          ]
        },
        {
          "output_type": "stream",
          "name": "stderr",
          "text": [
            "WARNING:tensorflow:Learning rate reduction is conditioned on metric `acc` which is not available. Available metrics are: loss,accuracy,val_loss,val_accuracy,lr\n"
          ]
        },
        {
          "output_type": "stream",
          "name": "stdout",
          "text": [
            "\b\b\b\b\b\b\b\b\b\b\b\b\b\b\b\b\b\b\b\b\b\b\b\b\b\b\b\b\b\b\b\b\b\b\b\b\b\b\b\b\b\b\b\b\b\b\b\b\b\b\b\b\b\b\b\b\b\b\b\b\b\b\b\b\b\b\b\b\b\b\b\b\b\b\b\b\b\b\b\b\r8/8 [==============================] - 1s 82ms/step - loss: 0.4917 - accuracy: 0.8833 - val_loss: 4.4702 - val_accuracy: 0.1900 - lr: 0.0010\n",
            "Epoch 49/400\n",
            "7/8 [=========================>....] - ETA: 0s - loss: 0.4404 - accuracy: 0.9196"
          ]
        },
        {
          "output_type": "stream",
          "name": "stderr",
          "text": [
            "WARNING:tensorflow:Learning rate reduction is conditioned on metric `acc` which is not available. Available metrics are: loss,accuracy,val_loss,val_accuracy,lr\n"
          ]
        },
        {
          "output_type": "stream",
          "name": "stdout",
          "text": [
            "\b\b\b\b\b\b\b\b\b\b\b\b\b\b\b\b\b\b\b\b\b\b\b\b\b\b\b\b\b\b\b\b\b\b\b\b\b\b\b\b\b\b\b\b\b\b\b\b\b\b\b\b\b\b\b\b\b\b\b\b\b\b\b\b\b\b\b\b\b\b\b\b\b\b\b\b\b\b\b\b\r8/8 [==============================] - 1s 81ms/step - loss: 0.4397 - accuracy: 0.9200 - val_loss: 2.6895 - val_accuracy: 0.3200 - lr: 0.0010\n",
            "Epoch 50/400\n",
            "7/8 [=========================>....] - ETA: 0s - loss: 0.3570 - accuracy: 0.9408"
          ]
        },
        {
          "output_type": "stream",
          "name": "stderr",
          "text": [
            "WARNING:tensorflow:Learning rate reduction is conditioned on metric `acc` which is not available. Available metrics are: loss,accuracy,val_loss,val_accuracy,lr\n"
          ]
        },
        {
          "output_type": "stream",
          "name": "stdout",
          "text": [
            "\b\b\b\b\b\b\b\b\b\b\b\b\b\b\b\b\b\b\b\b\b\b\b\b\b\b\b\b\b\b\b\b\b\b\b\b\b\b\b\b\b\b\b\b\b\b\b\b\b\b\b\b\b\b\b\b\b\b\b\b\b\b\b\b\b\b\b\b\b\b\b\b\b\b\b\b\b\b\b\b\r8/8 [==============================] - 1s 81ms/step - loss: 0.3575 - accuracy: 0.9411 - val_loss: 1.9262 - val_accuracy: 0.4600 - lr: 0.0010\n",
            "Epoch 51/400\n",
            "7/8 [=========================>....] - ETA: 0s - loss: 0.3193 - accuracy: 0.9542"
          ]
        },
        {
          "output_type": "stream",
          "name": "stderr",
          "text": [
            "WARNING:tensorflow:Learning rate reduction is conditioned on metric `acc` which is not available. Available metrics are: loss,accuracy,val_loss,val_accuracy,lr\n"
          ]
        },
        {
          "output_type": "stream",
          "name": "stdout",
          "text": [
            "\b\b\b\b\b\b\b\b\b\b\b\b\b\b\b\b\b\b\b\b\b\b\b\b\b\b\b\b\b\b\b\b\b\b\b\b\b\b\b\b\b\b\b\b\b\b\b\b\b\b\b\b\b\b\b\b\b\b\b\b\b\b\b\b\b\b\b\b\b\b\b\b\b\b\b\b\b\b\b\b\r8/8 [==============================] - 1s 81ms/step - loss: 0.3188 - accuracy: 0.9544 - val_loss: 2.5027 - val_accuracy: 0.3600 - lr: 0.0010\n",
            "Epoch 52/400\n",
            "7/8 [=========================>....] - ETA: 0s - loss: 0.2835 - accuracy: 0.9665"
          ]
        },
        {
          "output_type": "stream",
          "name": "stderr",
          "text": [
            "WARNING:tensorflow:Learning rate reduction is conditioned on metric `acc` which is not available. Available metrics are: loss,accuracy,val_loss,val_accuracy,lr\n"
          ]
        },
        {
          "output_type": "stream",
          "name": "stdout",
          "text": [
            "\b\b\b\b\b\b\b\b\b\b\b\b\b\b\b\b\b\b\b\b\b\b\b\b\b\b\b\b\b\b\b\b\b\b\b\b\b\b\b\b\b\b\b\b\b\b\b\b\b\b\b\b\b\b\b\b\b\b\b\b\b\b\b\b\b\b\b\b\b\b\b\b\b\b\b\b\b\b\b\b\r8/8 [==============================] - 1s 81ms/step - loss: 0.2865 - accuracy: 0.9656 - val_loss: 2.6709 - val_accuracy: 0.2600 - lr: 0.0010\n",
            "Epoch 53/400\n",
            "7/8 [=========================>....] - ETA: 0s - loss: 0.4095 - accuracy: 0.9107"
          ]
        },
        {
          "output_type": "stream",
          "name": "stderr",
          "text": [
            "WARNING:tensorflow:Learning rate reduction is conditioned on metric `acc` which is not available. Available metrics are: loss,accuracy,val_loss,val_accuracy,lr\n"
          ]
        },
        {
          "output_type": "stream",
          "name": "stdout",
          "text": [
            "\b\b\b\b\b\b\b\b\b\b\b\b\b\b\b\b\b\b\b\b\b\b\b\b\b\b\b\b\b\b\b\b\b\b\b\b\b\b\b\b\b\b\b\b\b\b\b\b\b\b\b\b\b\b\b\b\b\b\b\b\b\b\b\b\b\b\b\b\b\b\b\b\b\b\b\b\b\b\b\b\r8/8 [==============================] - 1s 80ms/step - loss: 0.4106 - accuracy: 0.9111 - val_loss: 2.6413 - val_accuracy: 0.2900 - lr: 0.0010\n",
            "Epoch 54/400\n",
            "7/8 [=========================>....] - ETA: 0s - loss: 0.3382 - accuracy: 0.9431"
          ]
        },
        {
          "output_type": "stream",
          "name": "stderr",
          "text": [
            "WARNING:tensorflow:Learning rate reduction is conditioned on metric `acc` which is not available. Available metrics are: loss,accuracy,val_loss,val_accuracy,lr\n"
          ]
        },
        {
          "output_type": "stream",
          "name": "stdout",
          "text": [
            "\b\b\b\b\b\b\b\b\b\b\b\b\b\b\b\b\b\b\b\b\b\b\b\b\b\b\b\b\b\b\b\b\b\b\b\b\b\b\b\b\b\b\b\b\b\b\b\b\b\b\b\b\b\b\b\b\b\b\b\b\b\b\b\b\b\b\b\b\b\b\b\b\b\b\b\b\b\b\b\b\r8/8 [==============================] - 1s 81ms/step - loss: 0.3404 - accuracy: 0.9422 - val_loss: 3.2672 - val_accuracy: 0.2900 - lr: 0.0010\n",
            "Epoch 55/400\n",
            "7/8 [=========================>....] - ETA: 0s - loss: 0.4164 - accuracy: 0.9096"
          ]
        },
        {
          "output_type": "stream",
          "name": "stderr",
          "text": [
            "WARNING:tensorflow:Learning rate reduction is conditioned on metric `acc` which is not available. Available metrics are: loss,accuracy,val_loss,val_accuracy,lr\n"
          ]
        },
        {
          "output_type": "stream",
          "name": "stdout",
          "text": [
            "\b\b\b\b\b\b\b\b\b\b\b\b\b\b\b\b\b\b\b\b\b\b\b\b\b\b\b\b\b\b\b\b\b\b\b\b\b\b\b\b\b\b\b\b\b\b\b\b\b\b\b\b\b\b\b\b\b\b\b\b\b\b\b\b\b\b\b\b\b\b\b\b\b\b\b\b\b\b\b\b\r8/8 [==============================] - 1s 80ms/step - loss: 0.4199 - accuracy: 0.9078 - val_loss: 5.3511 - val_accuracy: 0.2000 - lr: 0.0010\n",
            "Epoch 56/400\n",
            "7/8 [=========================>....] - ETA: 0s - loss: 0.6025 - accuracy: 0.8482"
          ]
        },
        {
          "output_type": "stream",
          "name": "stderr",
          "text": [
            "WARNING:tensorflow:Learning rate reduction is conditioned on metric `acc` which is not available. Available metrics are: loss,accuracy,val_loss,val_accuracy,lr\n"
          ]
        },
        {
          "output_type": "stream",
          "name": "stdout",
          "text": [
            "\b\b\b\b\b\b\b\b\b\b\b\b\b\b\b\b\b\b\b\b\b\b\b\b\b\b\b\b\b\b\b\b\b\b\b\b\b\b\b\b\b\b\b\b\b\b\b\b\b\b\b\b\b\b\b\b\b\b\b\b\b\b\b\b\b\b\b\b\b\b\b\b\b\b\b\b\b\b\b\b\r8/8 [==============================] - 1s 86ms/step - loss: 0.6016 - accuracy: 0.8478 - val_loss: 3.0131 - val_accuracy: 0.3600 - lr: 0.0010\n",
            "Epoch 57/400\n",
            "7/8 [=========================>....] - ETA: 0s - loss: 0.4432 - accuracy: 0.9085"
          ]
        },
        {
          "output_type": "stream",
          "name": "stderr",
          "text": [
            "WARNING:tensorflow:Learning rate reduction is conditioned on metric `acc` which is not available. Available metrics are: loss,accuracy,val_loss,val_accuracy,lr\n"
          ]
        },
        {
          "output_type": "stream",
          "name": "stdout",
          "text": [
            "\b\b\b\b\b\b\b\b\b\b\b\b\b\b\b\b\b\b\b\b\b\b\b\b\b\b\b\b\b\b\b\b\b\b\b\b\b\b\b\b\b\b\b\b\b\b\b\b\b\b\b\b\b\b\b\b\b\b\b\b\b\b\b\b\b\b\b\b\b\b\b\b\b\b\b\b\b\b\b\b\r8/8 [==============================] - 1s 82ms/step - loss: 0.4439 - accuracy: 0.9078 - val_loss: 5.2015 - val_accuracy: 0.1700 - lr: 0.0010\n",
            "Epoch 58/400\n",
            "7/8 [=========================>....] - ETA: 0s - loss: 0.4084 - accuracy: 0.9129"
          ]
        },
        {
          "output_type": "stream",
          "name": "stderr",
          "text": [
            "WARNING:tensorflow:Learning rate reduction is conditioned on metric `acc` which is not available. Available metrics are: loss,accuracy,val_loss,val_accuracy,lr\n"
          ]
        },
        {
          "output_type": "stream",
          "name": "stdout",
          "text": [
            "\b\b\b\b\b\b\b\b\b\b\b\b\b\b\b\b\b\b\b\b\b\b\b\b\b\b\b\b\b\b\b\b\b\b\b\b\b\b\b\b\b\b\b\b\b\b\b\b\b\b\b\b\b\b\b\b\b\b\b\b\b\b\b\b\b\b\b\b\b\b\b\b\b\b\b\b\b\b\b\b\r8/8 [==============================] - 1s 81ms/step - loss: 0.4131 - accuracy: 0.9122 - val_loss: 3.2810 - val_accuracy: 0.2600 - lr: 0.0010\n",
            "Epoch 59/400\n",
            "7/8 [=========================>....] - ETA: 0s - loss: 0.5408 - accuracy: 0.8594"
          ]
        },
        {
          "output_type": "stream",
          "name": "stderr",
          "text": [
            "WARNING:tensorflow:Learning rate reduction is conditioned on metric `acc` which is not available. Available metrics are: loss,accuracy,val_loss,val_accuracy,lr\n"
          ]
        },
        {
          "output_type": "stream",
          "name": "stdout",
          "text": [
            "\b\b\b\b\b\b\b\b\b\b\b\b\b\b\b\b\b\b\b\b\b\b\b\b\b\b\b\b\b\b\b\b\b\b\b\b\b\b\b\b\b\b\b\b\b\b\b\b\b\b\b\b\b\b\b\b\b\b\b\b\b\b\b\b\b\b\b\b\b\b\b\b\b\b\b\b\b\b\b\b\r8/8 [==============================] - 1s 86ms/step - loss: 0.5413 - accuracy: 0.8600 - val_loss: 2.7439 - val_accuracy: 0.3600 - lr: 0.0010\n",
            "Epoch 60/400\n",
            "7/8 [=========================>....] - ETA: 0s - loss: 0.4152 - accuracy: 0.9263"
          ]
        },
        {
          "output_type": "stream",
          "name": "stderr",
          "text": [
            "WARNING:tensorflow:Learning rate reduction is conditioned on metric `acc` which is not available. Available metrics are: loss,accuracy,val_loss,val_accuracy,lr\n"
          ]
        },
        {
          "output_type": "stream",
          "name": "stdout",
          "text": [
            "\b\b\b\b\b\b\b\b\b\b\b\b\b\b\b\b\b\b\b\b\b\b\b\b\b\b\b\b\b\b\b\b\b\b\b\b\b\b\b\b\b\b\b\b\b\b\b\b\b\b\b\b\b\b\b\b\b\b\b\b\b\b\b\b\b\b\b\b\b\b\b\b\b\b\b\b\b\b\b\b\r8/8 [==============================] - 1s 86ms/step - loss: 0.4155 - accuracy: 0.9267 - val_loss: 2.3921 - val_accuracy: 0.3900 - lr: 0.0010\n",
            "Epoch 61/400\n",
            "7/8 [=========================>....] - ETA: 0s - loss: 0.4257 - accuracy: 0.9196"
          ]
        },
        {
          "output_type": "stream",
          "name": "stderr",
          "text": [
            "WARNING:tensorflow:Learning rate reduction is conditioned on metric `acc` which is not available. Available metrics are: loss,accuracy,val_loss,val_accuracy,lr\n"
          ]
        },
        {
          "output_type": "stream",
          "name": "stdout",
          "text": [
            "\b\b\b\b\b\b\b\b\b\b\b\b\b\b\b\b\b\b\b\b\b\b\b\b\b\b\b\b\b\b\b\b\b\b\b\b\b\b\b\b\b\b\b\b\b\b\b\b\b\b\b\b\b\b\b\b\b\b\b\b\b\b\b\b\b\b\b\b\b\b\b\b\b\b\b\b\b\b\b\b\r8/8 [==============================] - 1s 93ms/step - loss: 0.4291 - accuracy: 0.9178 - val_loss: 1.8876 - val_accuracy: 0.4600 - lr: 0.0010\n",
            "Epoch 62/400\n",
            "7/8 [=========================>....] - ETA: 0s - loss: 0.3693 - accuracy: 0.9219"
          ]
        },
        {
          "output_type": "stream",
          "name": "stderr",
          "text": [
            "WARNING:tensorflow:Learning rate reduction is conditioned on metric `acc` which is not available. Available metrics are: loss,accuracy,val_loss,val_accuracy,lr\n"
          ]
        },
        {
          "output_type": "stream",
          "name": "stdout",
          "text": [
            "\b\b\b\b\b\b\b\b\b\b\b\b\b\b\b\b\b\b\b\b\b\b\b\b\b\b\b\b\b\b\b\b\b\b\b\b\b\b\b\b\b\b\b\b\b\b\b\b\b\b\b\b\b\b\b\b\b\b\b\b\b\b\b\b\b\b\b\b\b\b\b\b\b\b\b\b\b\b\b\b\r8/8 [==============================] - 1s 86ms/step - loss: 0.3694 - accuracy: 0.9211 - val_loss: 2.2570 - val_accuracy: 0.4000 - lr: 0.0010\n",
            "Epoch 63/400\n",
            "7/8 [=========================>....] - ETA: 0s - loss: 0.3735 - accuracy: 0.9185"
          ]
        },
        {
          "output_type": "stream",
          "name": "stderr",
          "text": [
            "WARNING:tensorflow:Learning rate reduction is conditioned on metric `acc` which is not available. Available metrics are: loss,accuracy,val_loss,val_accuracy,lr\n"
          ]
        },
        {
          "output_type": "stream",
          "name": "stdout",
          "text": [
            "\b\b\b\b\b\b\b\b\b\b\b\b\b\b\b\b\b\b\b\b\b\b\b\b\b\b\b\b\b\b\b\b\b\b\b\b\b\b\b\b\b\b\b\b\b\b\b\b\b\b\b\b\b\b\b\b\b\b\b\b\b\b\b\b\b\b\b\b\b\b\b\b\b\b\b\b\b\b\b\b\r8/8 [==============================] - 1s 83ms/step - loss: 0.3796 - accuracy: 0.9167 - val_loss: 2.2490 - val_accuracy: 0.3900 - lr: 0.0010\n",
            "Epoch 64/400\n",
            "7/8 [=========================>....] - ETA: 0s - loss: 0.6345 - accuracy: 0.8237"
          ]
        },
        {
          "output_type": "stream",
          "name": "stderr",
          "text": [
            "WARNING:tensorflow:Learning rate reduction is conditioned on metric `acc` which is not available. Available metrics are: loss,accuracy,val_loss,val_accuracy,lr\n"
          ]
        },
        {
          "output_type": "stream",
          "name": "stdout",
          "text": [
            "\b\b\b\b\b\b\b\b\b\b\b\b\b\b\b\b\b\b\b\b\b\b\b\b\b\b\b\b\b\b\b\b\b\b\b\b\b\b\b\b\b\b\b\b\b\b\b\b\b\b\b\b\b\b\b\b\b\b\b\b\b\b\b\b\b\b\b\b\b\b\b\b\b\b\b\b\b\b\b\b\r8/8 [==============================] - 1s 81ms/step - loss: 0.6375 - accuracy: 0.8222 - val_loss: 2.8181 - val_accuracy: 0.3600 - lr: 0.0010\n",
            "Epoch 65/400\n",
            "7/8 [=========================>....] - ETA: 0s - loss: 0.4496 - accuracy: 0.8973"
          ]
        },
        {
          "output_type": "stream",
          "name": "stderr",
          "text": [
            "WARNING:tensorflow:Learning rate reduction is conditioned on metric `acc` which is not available. Available metrics are: loss,accuracy,val_loss,val_accuracy,lr\n"
          ]
        },
        {
          "output_type": "stream",
          "name": "stdout",
          "text": [
            "\b\b\b\b\b\b\b\b\b\b\b\b\b\b\b\b\b\b\b\b\b\b\b\b\b\b\b\b\b\b\b\b\b\b\b\b\b\b\b\b\b\b\b\b\b\b\b\b\b\b\b\b\b\b\b\b\b\b\b\b\b\b\b\b\b\b\b\b\b\b\b\b\b\b\b\b\b\b\b\b\r8/8 [==============================] - 1s 86ms/step - loss: 0.4525 - accuracy: 0.8967 - val_loss: 4.8864 - val_accuracy: 0.2200 - lr: 0.0010\n",
            "Epoch 66/400\n",
            "7/8 [=========================>....] - ETA: 0s - loss: 0.4750 - accuracy: 0.8884"
          ]
        },
        {
          "output_type": "stream",
          "name": "stderr",
          "text": [
            "WARNING:tensorflow:Learning rate reduction is conditioned on metric `acc` which is not available. Available metrics are: loss,accuracy,val_loss,val_accuracy,lr\n"
          ]
        },
        {
          "output_type": "stream",
          "name": "stdout",
          "text": [
            "\b\b\b\b\b\b\b\b\b\b\b\b\b\b\b\b\b\b\b\b\b\b\b\b\b\b\b\b\b\b\b\b\b\b\b\b\b\b\b\b\b\b\b\b\b\b\b\b\b\b\b\b\b\b\b\b\b\b\b\b\b\b\b\b\b\b\b\b\b\b\b\b\b\b\b\b\b\b\b\b\r8/8 [==============================] - 1s 81ms/step - loss: 0.4748 - accuracy: 0.8878 - val_loss: 4.6911 - val_accuracy: 0.2700 - lr: 0.0010\n",
            "Epoch 67/400\n",
            "7/8 [=========================>....] - ETA: 0s - loss: 0.4284 - accuracy: 0.9174"
          ]
        },
        {
          "output_type": "stream",
          "name": "stderr",
          "text": [
            "WARNING:tensorflow:Learning rate reduction is conditioned on metric `acc` which is not available. Available metrics are: loss,accuracy,val_loss,val_accuracy,lr\n"
          ]
        },
        {
          "output_type": "stream",
          "name": "stdout",
          "text": [
            "\b\b\b\b\b\b\b\b\b\b\b\b\b\b\b\b\b\b\b\b\b\b\b\b\b\b\b\b\b\b\b\b\b\b\b\b\b\b\b\b\b\b\b\b\b\b\b\b\b\b\b\b\b\b\b\b\b\b\b\b\b\b\b\b\b\b\b\b\b\b\b\b\b\b\b\b\b\b\b\b\r8/8 [==============================] - 1s 98ms/step - loss: 0.4316 - accuracy: 0.9156 - val_loss: 2.7364 - val_accuracy: 0.4200 - lr: 0.0010\n",
            "Epoch 68/400\n",
            "7/8 [=========================>....] - ETA: 0s - loss: 0.5206 - accuracy: 0.8728"
          ]
        },
        {
          "output_type": "stream",
          "name": "stderr",
          "text": [
            "WARNING:tensorflow:Learning rate reduction is conditioned on metric `acc` which is not available. Available metrics are: loss,accuracy,val_loss,val_accuracy,lr\n"
          ]
        },
        {
          "output_type": "stream",
          "name": "stdout",
          "text": [
            "\b\b\b\b\b\b\b\b\b\b\b\b\b\b\b\b\b\b\b\b\b\b\b\b\b\b\b\b\b\b\b\b\b\b\b\b\b\b\b\b\b\b\b\b\b\b\b\b\b\b\b\b\b\b\b\b\b\b\b\b\b\b\b\b\b\b\b\b\b\b\b\b\b\b\b\b\b\b\b\b\r8/8 [==============================] - 1s 97ms/step - loss: 0.5239 - accuracy: 0.8722 - val_loss: 3.1993 - val_accuracy: 0.3300 - lr: 0.0010\n",
            "Epoch 69/400\n",
            "7/8 [=========================>....] - ETA: 0s - loss: 0.4287 - accuracy: 0.8962"
          ]
        },
        {
          "output_type": "stream",
          "name": "stderr",
          "text": [
            "WARNING:tensorflow:Learning rate reduction is conditioned on metric `acc` which is not available. Available metrics are: loss,accuracy,val_loss,val_accuracy,lr\n"
          ]
        },
        {
          "output_type": "stream",
          "name": "stdout",
          "text": [
            "\b\b\b\b\b\b\b\b\b\b\b\b\b\b\b\b\b\b\b\b\b\b\b\b\b\b\b\b\b\b\b\b\b\b\b\b\b\b\b\b\b\b\b\b\b\b\b\b\b\b\b\b\b\b\b\b\b\b\b\b\b\b\b\b\b\b\b\b\b\b\b\b\b\b\b\b\b\b\b\b\r8/8 [==============================] - 1s 80ms/step - loss: 0.4314 - accuracy: 0.8956 - val_loss: 3.2163 - val_accuracy: 0.4100 - lr: 0.0010\n",
            "Epoch 70/400\n",
            "7/8 [=========================>....] - ETA: 0s - loss: 0.4965 - accuracy: 0.9051"
          ]
        },
        {
          "output_type": "stream",
          "name": "stderr",
          "text": [
            "WARNING:tensorflow:Learning rate reduction is conditioned on metric `acc` which is not available. Available metrics are: loss,accuracy,val_loss,val_accuracy,lr\n"
          ]
        },
        {
          "output_type": "stream",
          "name": "stdout",
          "text": [
            "\b\b\b\b\b\b\b\b\b\b\b\b\b\b\b\b\b\b\b\b\b\b\b\b\b\b\b\b\b\b\b\b\b\b\b\b\b\b\b\b\b\b\b\b\b\b\b\b\b\b\b\b\b\b\b\b\b\b\b\b\b\b\b\b\b\b\b\b\b\b\b\b\b\b\b\b\b\b\b\b\r8/8 [==============================] - 1s 82ms/step - loss: 0.4996 - accuracy: 0.9044 - val_loss: 4.4581 - val_accuracy: 0.3100 - lr: 0.0010\n",
            "Epoch 71/400\n",
            "7/8 [=========================>....] - ETA: 0s - loss: 0.5486 - accuracy: 0.8650"
          ]
        },
        {
          "output_type": "stream",
          "name": "stderr",
          "text": [
            "WARNING:tensorflow:Learning rate reduction is conditioned on metric `acc` which is not available. Available metrics are: loss,accuracy,val_loss,val_accuracy,lr\n"
          ]
        },
        {
          "output_type": "stream",
          "name": "stdout",
          "text": [
            "\b\b\b\b\b\b\b\b\b\b\b\b\b\b\b\b\b\b\b\b\b\b\b\b\b\b\b\b\b\b\b\b\b\b\b\b\b\b\b\b\b\b\b\b\b\b\b\b\b\b\b\b\b\b\b\b\b\b\b\b\b\b\b\b\b\b\b\b\b\b\b\b\b\b\b\b\b\b\b\b\r8/8 [==============================] - 1s 81ms/step - loss: 0.5564 - accuracy: 0.8644 - val_loss: 6.4340 - val_accuracy: 0.2200 - lr: 0.0010\n",
            "Epoch 72/400\n",
            "7/8 [=========================>....] - ETA: 0s - loss: 0.5734 - accuracy: 0.8605"
          ]
        },
        {
          "output_type": "stream",
          "name": "stderr",
          "text": [
            "WARNING:tensorflow:Learning rate reduction is conditioned on metric `acc` which is not available. Available metrics are: loss,accuracy,val_loss,val_accuracy,lr\n"
          ]
        },
        {
          "output_type": "stream",
          "name": "stdout",
          "text": [
            "\b\b\b\b\b\b\b\b\b\b\b\b\b\b\b\b\b\b\b\b\b\b\b\b\b\b\b\b\b\b\b\b\b\b\b\b\b\b\b\b\b\b\b\b\b\b\b\b\b\b\b\b\b\b\b\b\b\b\b\b\b\b\b\b\b\b\b\b\b\b\b\b\b\b\b\b\b\b\b\b\r8/8 [==============================] - 1s 80ms/step - loss: 0.5756 - accuracy: 0.8589 - val_loss: 3.3024 - val_accuracy: 0.3300 - lr: 0.0010\n",
            "Epoch 73/400\n",
            "7/8 [=========================>....] - ETA: 0s - loss: 0.4836 - accuracy: 0.8862"
          ]
        },
        {
          "output_type": "stream",
          "name": "stderr",
          "text": [
            "WARNING:tensorflow:Learning rate reduction is conditioned on metric `acc` which is not available. Available metrics are: loss,accuracy,val_loss,val_accuracy,lr\n"
          ]
        },
        {
          "output_type": "stream",
          "name": "stdout",
          "text": [
            "\b\b\b\b\b\b\b\b\b\b\b\b\b\b\b\b\b\b\b\b\b\b\b\b\b\b\b\b\b\b\b\b\b\b\b\b\b\b\b\b\b\b\b\b\b\b\b\b\b\b\b\b\b\b\b\b\b\b\b\b\b\b\b\b\b\b\b\b\b\b\b\b\b\b\b\b\b\b\b\b\r8/8 [==============================] - 1s 82ms/step - loss: 0.4831 - accuracy: 0.8867 - val_loss: 5.8595 - val_accuracy: 0.2600 - lr: 0.0010\n",
            "Epoch 74/400\n",
            "7/8 [=========================>....] - ETA: 0s - loss: 0.3783 - accuracy: 0.9330"
          ]
        },
        {
          "output_type": "stream",
          "name": "stderr",
          "text": [
            "WARNING:tensorflow:Learning rate reduction is conditioned on metric `acc` which is not available. Available metrics are: loss,accuracy,val_loss,val_accuracy,lr\n"
          ]
        },
        {
          "output_type": "stream",
          "name": "stdout",
          "text": [
            "\b\b\b\b\b\b\b\b\b\b\b\b\b\b\b\b\b\b\b\b\b\b\b\b\b\b\b\b\b\b\b\b\b\b\b\b\b\b\b\b\b\b\b\b\b\b\b\b\b\b\b\b\b\b\b\b\b\b\b\b\b\b\b\b\b\b\b\b\b\b\b\b\b\b\b\b\b\b\b\b\r8/8 [==============================] - 1s 81ms/step - loss: 0.3801 - accuracy: 0.9322 - val_loss: 3.7926 - val_accuracy: 0.3400 - lr: 0.0010\n",
            "Epoch 75/400\n",
            "7/8 [=========================>....] - ETA: 0s - loss: 0.3707 - accuracy: 0.9185"
          ]
        },
        {
          "output_type": "stream",
          "name": "stderr",
          "text": [
            "WARNING:tensorflow:Learning rate reduction is conditioned on metric `acc` which is not available. Available metrics are: loss,accuracy,val_loss,val_accuracy,lr\n"
          ]
        },
        {
          "output_type": "stream",
          "name": "stdout",
          "text": [
            "\b\b\b\b\b\b\b\b\b\b\b\b\b\b\b\b\b\b\b\b\b\b\b\b\b\b\b\b\b\b\b\b\b\b\b\b\b\b\b\b\b\b\b\b\b\b\b\b\b\b\b\b\b\b\b\b\b\b\b\b\b\b\b\b\b\b\b\b\b\b\b\b\b\b\b\b\b\b\b\b\r8/8 [==============================] - 1s 80ms/step - loss: 0.3732 - accuracy: 0.9167 - val_loss: 4.3447 - val_accuracy: 0.2800 - lr: 0.0010\n",
            "Epoch 76/400\n",
            "7/8 [=========================>....] - ETA: 0s - loss: 0.4091 - accuracy: 0.9185"
          ]
        },
        {
          "output_type": "stream",
          "name": "stderr",
          "text": [
            "WARNING:tensorflow:Learning rate reduction is conditioned on metric `acc` which is not available. Available metrics are: loss,accuracy,val_loss,val_accuracy,lr\n"
          ]
        },
        {
          "output_type": "stream",
          "name": "stdout",
          "text": [
            "\b\b\b\b\b\b\b\b\b\b\b\b\b\b\b\b\b\b\b\b\b\b\b\b\b\b\b\b\b\b\b\b\b\b\b\b\b\b\b\b\b\b\b\b\b\b\b\b\b\b\b\b\b\b\b\b\b\b\b\b\b\b\b\b\b\b\b\b\b\b\b\b\b\b\b\b\b\b\b\b\r8/8 [==============================] - 1s 82ms/step - loss: 0.4234 - accuracy: 0.9156 - val_loss: 5.6930 - val_accuracy: 0.2400 - lr: 0.0010\n",
            "Epoch 77/400\n",
            "7/8 [=========================>....] - ETA: 0s - loss: 0.7130 - accuracy: 0.8114"
          ]
        },
        {
          "output_type": "stream",
          "name": "stderr",
          "text": [
            "WARNING:tensorflow:Learning rate reduction is conditioned on metric `acc` which is not available. Available metrics are: loss,accuracy,val_loss,val_accuracy,lr\n"
          ]
        },
        {
          "output_type": "stream",
          "name": "stdout",
          "text": [
            "\b\b\b\b\b\b\b\b\b\b\b\b\b\b\b\b\b\b\b\b\b\b\b\b\b\b\b\b\b\b\b\b\b\b\b\b\b\b\b\b\b\b\b\b\b\b\b\b\b\b\b\b\b\b\b\b\b\b\b\b\b\b\b\b\b\b\b\b\b\b\b\b\b\b\b\b\b\b\b\b\r8/8 [==============================] - 1s 81ms/step - loss: 0.7129 - accuracy: 0.8111 - val_loss: 7.9199 - val_accuracy: 0.2900 - lr: 0.0010\n",
            "Epoch 78/400\n",
            "7/8 [=========================>....] - ETA: 0s - loss: 0.5851 - accuracy: 0.8672"
          ]
        },
        {
          "output_type": "stream",
          "name": "stderr",
          "text": [
            "WARNING:tensorflow:Learning rate reduction is conditioned on metric `acc` which is not available. Available metrics are: loss,accuracy,val_loss,val_accuracy,lr\n"
          ]
        },
        {
          "output_type": "stream",
          "name": "stdout",
          "text": [
            "\b\b\b\b\b\b\b\b\b\b\b\b\b\b\b\b\b\b\b\b\b\b\b\b\b\b\b\b\b\b\b\b\b\b\b\b\b\b\b\b\b\b\b\b\b\b\b\b\b\b\b\b\b\b\b\b\b\b\b\b\b\b\b\b\b\b\b\b\b\b\b\b\b\b\b\b\b\b\b\b\r8/8 [==============================] - 1s 88ms/step - loss: 0.5863 - accuracy: 0.8656 - val_loss: 7.9924 - val_accuracy: 0.1700 - lr: 0.0010\n",
            "Epoch 79/400\n",
            "7/8 [=========================>....] - ETA: 0s - loss: 0.4938 - accuracy: 0.8772"
          ]
        },
        {
          "output_type": "stream",
          "name": "stderr",
          "text": [
            "WARNING:tensorflow:Learning rate reduction is conditioned on metric `acc` which is not available. Available metrics are: loss,accuracy,val_loss,val_accuracy,lr\n"
          ]
        },
        {
          "output_type": "stream",
          "name": "stdout",
          "text": [
            "\b\b\b\b\b\b\b\b\b\b\b\b\b\b\b\b\b\b\b\b\b\b\b\b\b\b\b\b\b\b\b\b\b\b\b\b\b\b\b\b\b\b\b\b\b\b\b\b\b\b\b\b\b\b\b\b\b\b\b\b\b\b\b\b\b\b\b\b\b\b\b\b\b\b\b\b\b\b\b\b\r8/8 [==============================] - 1s 87ms/step - loss: 0.4935 - accuracy: 0.8767 - val_loss: 5.1521 - val_accuracy: 0.1700 - lr: 0.0010\n",
            "Epoch 80/400\n",
            "7/8 [=========================>....] - ETA: 0s - loss: 0.4642 - accuracy: 0.8996"
          ]
        },
        {
          "output_type": "stream",
          "name": "stderr",
          "text": [
            "WARNING:tensorflow:Learning rate reduction is conditioned on metric `acc` which is not available. Available metrics are: loss,accuracy,val_loss,val_accuracy,lr\n"
          ]
        },
        {
          "output_type": "stream",
          "name": "stdout",
          "text": [
            "\b\b\b\b\b\b\b\b\b\b\b\b\b\b\b\b\b\b\b\b\b\b\b\b\b\b\b\b\b\b\b\b\b\b\b\b\b\b\b\b\b\b\b\b\b\b\b\b\b\b\b\b\b\b\b\b\b\b\b\b\b\b\b\b\b\b\b\b\b\b\b\b\b\b\b\b\b\b\b\b\r8/8 [==============================] - 1s 89ms/step - loss: 0.4674 - accuracy: 0.8978 - val_loss: 4.0125 - val_accuracy: 0.2700 - lr: 0.0010\n",
            "Epoch 81/400\n",
            "7/8 [=========================>....] - ETA: 0s - loss: 0.4015 - accuracy: 0.9275"
          ]
        },
        {
          "output_type": "stream",
          "name": "stderr",
          "text": [
            "WARNING:tensorflow:Learning rate reduction is conditioned on metric `acc` which is not available. Available metrics are: loss,accuracy,val_loss,val_accuracy,lr\n"
          ]
        },
        {
          "output_type": "stream",
          "name": "stdout",
          "text": [
            "\b\b\b\b\b\b\b\b\b\b\b\b\b\b\b\b\b\b\b\b\b\b\b\b\b\b\b\b\b\b\b\b\b\b\b\b\b\b\b\b\b\b\b\b\b\b\b\b\b\b\b\b\b\b\b\b\b\b\b\b\b\b\b\b\b\b\b\b\b\b\b\b\b\b\b\b\b\b\b\b\r8/8 [==============================] - 1s 87ms/step - loss: 0.4007 - accuracy: 0.9278 - val_loss: 3.9977 - val_accuracy: 0.3400 - lr: 0.0010\n",
            "Epoch 82/400\n",
            "7/8 [=========================>....] - ETA: 0s - loss: 0.3118 - accuracy: 0.9587"
          ]
        },
        {
          "output_type": "stream",
          "name": "stderr",
          "text": [
            "WARNING:tensorflow:Learning rate reduction is conditioned on metric `acc` which is not available. Available metrics are: loss,accuracy,val_loss,val_accuracy,lr\n"
          ]
        },
        {
          "output_type": "stream",
          "name": "stdout",
          "text": [
            "\b\b\b\b\b\b\b\b\b\b\b\b\b\b\b\b\b\b\b\b\b\b\b\b\b\b\b\b\b\b\b\b\b\b\b\b\b\b\b\b\b\b\b\b\b\b\b\b\b\b\b\b\b\b\b\b\b\b\b\b\b\b\b\b\b\b\b\b\b\b\b\b\b\b\b\b\b\b\b\b\r8/8 [==============================] - 1s 82ms/step - loss: 0.3120 - accuracy: 0.9589 - val_loss: 3.3344 - val_accuracy: 0.3800 - lr: 0.0010\n",
            "Epoch 83/400\n",
            "7/8 [=========================>....] - ETA: 0s - loss: 0.2540 - accuracy: 0.9754"
          ]
        },
        {
          "output_type": "stream",
          "name": "stderr",
          "text": [
            "WARNING:tensorflow:Learning rate reduction is conditioned on metric `acc` which is not available. Available metrics are: loss,accuracy,val_loss,val_accuracy,lr\n"
          ]
        },
        {
          "output_type": "stream",
          "name": "stdout",
          "text": [
            "\b\b\b\b\b\b\b\b\b\b\b\b\b\b\b\b\b\b\b\b\b\b\b\b\b\b\b\b\b\b\b\b\b\b\b\b\b\b\b\b\b\b\b\b\b\b\b\b\b\b\b\b\b\b\b\b\b\b\b\b\b\b\b\b\b\b\b\b\b\b\b\b\b\b\b\b\b\b\b\b\r8/8 [==============================] - 1s 87ms/step - loss: 0.2570 - accuracy: 0.9733 - val_loss: 3.2112 - val_accuracy: 0.3700 - lr: 0.0010\n",
            "Epoch 84/400\n",
            "7/8 [=========================>....] - ETA: 0s - loss: 0.3694 - accuracy: 0.9330"
          ]
        },
        {
          "output_type": "stream",
          "name": "stderr",
          "text": [
            "WARNING:tensorflow:Learning rate reduction is conditioned on metric `acc` which is not available. Available metrics are: loss,accuracy,val_loss,val_accuracy,lr\n"
          ]
        },
        {
          "output_type": "stream",
          "name": "stdout",
          "text": [
            "\b\b\b\b\b\b\b\b\b\b\b\b\b\b\b\b\b\b\b\b\b\b\b\b\b\b\b\b\b\b\b\b\b\b\b\b\b\b\b\b\b\b\b\b\b\b\b\b\b\b\b\b\b\b\b\b\b\b\b\b\b\b\b\b\b\b\b\b\b\b\b\b\b\b\b\b\b\b\b\b\r8/8 [==============================] - 1s 82ms/step - loss: 0.3684 - accuracy: 0.9333 - val_loss: 3.6326 - val_accuracy: 0.2900 - lr: 0.0010\n",
            "Epoch 85/400\n",
            "7/8 [=========================>....] - ETA: 0s - loss: 0.2808 - accuracy: 0.9576"
          ]
        },
        {
          "output_type": "stream",
          "name": "stderr",
          "text": [
            "WARNING:tensorflow:Learning rate reduction is conditioned on metric `acc` which is not available. Available metrics are: loss,accuracy,val_loss,val_accuracy,lr\n"
          ]
        },
        {
          "output_type": "stream",
          "name": "stdout",
          "text": [
            "\b\b\b\b\b\b\b\b\b\b\b\b\b\b\b\b\b\b\b\b\b\b\b\b\b\b\b\b\b\b\b\b\b\b\b\b\b\b\b\b\b\b\b\b\b\b\b\b\b\b\b\b\b\b\b\b\b\b\b\b\b\b\b\b\b\b\b\b\b\b\b\b\b\b\b\b\b\b\b\b\r8/8 [==============================] - 1s 81ms/step - loss: 0.2822 - accuracy: 0.9567 - val_loss: 2.4074 - val_accuracy: 0.4100 - lr: 0.0010\n",
            "Epoch 86/400\n",
            "7/8 [=========================>....] - ETA: 0s - loss: 0.2625 - accuracy: 0.9665"
          ]
        },
        {
          "output_type": "stream",
          "name": "stderr",
          "text": [
            "WARNING:tensorflow:Learning rate reduction is conditioned on metric `acc` which is not available. Available metrics are: loss,accuracy,val_loss,val_accuracy,lr\n"
          ]
        },
        {
          "output_type": "stream",
          "name": "stdout",
          "text": [
            "\b\b\b\b\b\b\b\b\b\b\b\b\b\b\b\b\b\b\b\b\b\b\b\b\b\b\b\b\b\b\b\b\b\b\b\b\b\b\b\b\b\b\b\b\b\b\b\b\b\b\b\b\b\b\b\b\b\b\b\b\b\b\b\b\b\b\b\b\b\b\b\b\b\b\b\b\b\b\b\b\r8/8 [==============================] - 1s 87ms/step - loss: 0.2625 - accuracy: 0.9667 - val_loss: 2.3552 - val_accuracy: 0.4500 - lr: 0.0010\n",
            "Epoch 87/400\n",
            "7/8 [=========================>....] - ETA: 0s - loss: 0.2188 - accuracy: 0.9788"
          ]
        },
        {
          "output_type": "stream",
          "name": "stderr",
          "text": [
            "WARNING:tensorflow:Learning rate reduction is conditioned on metric `acc` which is not available. Available metrics are: loss,accuracy,val_loss,val_accuracy,lr\n"
          ]
        },
        {
          "output_type": "stream",
          "name": "stdout",
          "text": [
            "\b\b\b\b\b\b\b\b\b\b\b\b\b\b\b\b\b\b\b\b\b\b\b\b\b\b\b\b\b\b\b\b\b\b\b\b\b\b\b\b\b\b\b\b\b\b\b\b\b\b\b\b\b\b\b\b\b\b\b\b\b\b\b\b\b\b\b\b\b\b\b\b\b\b\b\b\b\b\b\b\r8/8 [==============================] - 1s 82ms/step - loss: 0.2194 - accuracy: 0.9789 - val_loss: 2.2620 - val_accuracy: 0.4000 - lr: 0.0010\n",
            "Epoch 88/400\n",
            "7/8 [=========================>....] - ETA: 0s - loss: 0.1959 - accuracy: 0.9911"
          ]
        },
        {
          "output_type": "stream",
          "name": "stderr",
          "text": [
            "WARNING:tensorflow:Learning rate reduction is conditioned on metric `acc` which is not available. Available metrics are: loss,accuracy,val_loss,val_accuracy,lr\n"
          ]
        },
        {
          "output_type": "stream",
          "name": "stdout",
          "text": [
            "\b\b\b\b\b\b\b\b\b\b\b\b\b\b\b\b\b\b\b\b\b\b\b\b\b\b\b\b\b\b\b\b\b\b\b\b\b\b\b\b\b\b\b\b\b\b\b\b\b\b\b\b\b\b\b\b\b\b\b\b\b\b\b\b\b\b\b\b\b\b\b\b\b\b\b\b\b\b\b\b\r8/8 [==============================] - 1s 82ms/step - loss: 0.1966 - accuracy: 0.9911 - val_loss: 2.4928 - val_accuracy: 0.4200 - lr: 0.0010\n",
            "Epoch 89/400\n",
            "7/8 [=========================>....] - ETA: 0s - loss: 0.2154 - accuracy: 0.9810"
          ]
        },
        {
          "output_type": "stream",
          "name": "stderr",
          "text": [
            "WARNING:tensorflow:Learning rate reduction is conditioned on metric `acc` which is not available. Available metrics are: loss,accuracy,val_loss,val_accuracy,lr\n"
          ]
        },
        {
          "output_type": "stream",
          "name": "stdout",
          "text": [
            "\b\b\b\b\b\b\b\b\b\b\b\b\b\b\b\b\b\b\b\b\b\b\b\b\b\b\b\b\b\b\b\b\b\b\b\b\b\b\b\b\b\b\b\b\b\b\b\b\b\b\b\b\b\b\b\b\b\b\b\b\b\b\b\b\b\b\b\b\b\b\b\b\b\b\b\b\b\b\b\b\r8/8 [==============================] - 1s 81ms/step - loss: 0.2152 - accuracy: 0.9811 - val_loss: 3.5615 - val_accuracy: 0.3300 - lr: 0.0010\n",
            "Epoch 90/400\n",
            "7/8 [=========================>....] - ETA: 0s - loss: 0.1901 - accuracy: 0.9866"
          ]
        },
        {
          "output_type": "stream",
          "name": "stderr",
          "text": [
            "WARNING:tensorflow:Learning rate reduction is conditioned on metric `acc` which is not available. Available metrics are: loss,accuracy,val_loss,val_accuracy,lr\n"
          ]
        },
        {
          "output_type": "stream",
          "name": "stdout",
          "text": [
            "\b\b\b\b\b\b\b\b\b\b\b\b\b\b\b\b\b\b\b\b\b\b\b\b\b\b\b\b\b\b\b\b\b\b\b\b\b\b\b\b\b\b\b\b\b\b\b\b\b\b\b\b\b\b\b\b\b\b\b\b\b\b\b\b\b\b\b\b\b\b\b\b\b\b\b\b\b\b\b\b\r8/8 [==============================] - 1s 81ms/step - loss: 0.1916 - accuracy: 0.9856 - val_loss: 2.0131 - val_accuracy: 0.4300 - lr: 0.0010\n",
            "Epoch 91/400\n",
            "7/8 [=========================>....] - ETA: 0s - loss: 0.2284 - accuracy: 0.9632"
          ]
        },
        {
          "output_type": "stream",
          "name": "stderr",
          "text": [
            "WARNING:tensorflow:Learning rate reduction is conditioned on metric `acc` which is not available. Available metrics are: loss,accuracy,val_loss,val_accuracy,lr\n"
          ]
        },
        {
          "output_type": "stream",
          "name": "stdout",
          "text": [
            "\b\b\b\b\b\b\b\b\b\b\b\b\b\b\b\b\b\b\b\b\b\b\b\b\b\b\b\b\b\b\b\b\b\b\b\b\b\b\b\b\b\b\b\b\b\b\b\b\b\b\b\b\b\b\b\b\b\b\b\b\b\b\b\b\b\b\b\b\b\b\b\b\b\b\b\b\b\b\b\b\r8/8 [==============================] - 1s 81ms/step - loss: 0.2285 - accuracy: 0.9633 - val_loss: 3.4503 - val_accuracy: 0.2900 - lr: 0.0010\n",
            "Epoch 92/400\n",
            "7/8 [=========================>....] - ETA: 0s - loss: 0.2037 - accuracy: 0.9766"
          ]
        },
        {
          "output_type": "stream",
          "name": "stderr",
          "text": [
            "WARNING:tensorflow:Learning rate reduction is conditioned on metric `acc` which is not available. Available metrics are: loss,accuracy,val_loss,val_accuracy,lr\n"
          ]
        },
        {
          "output_type": "stream",
          "name": "stdout",
          "text": [
            "\b\b\b\b\b\b\b\b\b\b\b\b\b\b\b\b\b\b\b\b\b\b\b\b\b\b\b\b\b\b\b\b\b\b\b\b\b\b\b\b\b\b\b\b\b\b\b\b\b\b\b\b\b\b\b\b\b\b\b\b\b\b\b\b\b\b\b\b\b\b\b\b\b\b\b\b\b\b\b\b\r8/8 [==============================] - 1s 87ms/step - loss: 0.2040 - accuracy: 0.9767 - val_loss: 3.1159 - val_accuracy: 0.2900 - lr: 0.0010\n",
            "Epoch 93/400\n",
            "7/8 [=========================>....] - ETA: 0s - loss: 0.1796 - accuracy: 0.9855"
          ]
        },
        {
          "output_type": "stream",
          "name": "stderr",
          "text": [
            "WARNING:tensorflow:Learning rate reduction is conditioned on metric `acc` which is not available. Available metrics are: loss,accuracy,val_loss,val_accuracy,lr\n"
          ]
        },
        {
          "output_type": "stream",
          "name": "stdout",
          "text": [
            "\b\b\b\b\b\b\b\b\b\b\b\b\b\b\b\b\b\b\b\b\b\b\b\b\b\b\b\b\b\b\b\b\b\b\b\b\b\b\b\b\b\b\b\b\b\b\b\b\b\b\b\b\b\b\b\b\b\b\b\b\b\b\b\b\b\b\b\b\b\b\b\b\b\b\b\b\b\b\b\b\r8/8 [==============================] - 1s 87ms/step - loss: 0.1797 - accuracy: 0.9856 - val_loss: 2.4937 - val_accuracy: 0.3800 - lr: 0.0010\n",
            "Epoch 94/400\n",
            "7/8 [=========================>....] - ETA: 0s - loss: 0.1717 - accuracy: 0.9877"
          ]
        },
        {
          "output_type": "stream",
          "name": "stderr",
          "text": [
            "WARNING:tensorflow:Learning rate reduction is conditioned on metric `acc` which is not available. Available metrics are: loss,accuracy,val_loss,val_accuracy,lr\n"
          ]
        },
        {
          "output_type": "stream",
          "name": "stdout",
          "text": [
            "\b\b\b\b\b\b\b\b\b\b\b\b\b\b\b\b\b\b\b\b\b\b\b\b\b\b\b\b\b\b\b\b\b\b\b\b\b\b\b\b\b\b\b\b\b\b\b\b\b\b\b\b\b\b\b\b\b\b\b\b\b\b\b\b\b\b\b\b\b\b\b\b\b\b\b\b\b\b\b\b\r8/8 [==============================] - 1s 82ms/step - loss: 0.1732 - accuracy: 0.9867 - val_loss: 2.0974 - val_accuracy: 0.4300 - lr: 0.0010\n",
            "Epoch 95/400\n",
            "7/8 [=========================>....] - ETA: 0s - loss: 0.2065 - accuracy: 0.9710"
          ]
        },
        {
          "output_type": "stream",
          "name": "stderr",
          "text": [
            "WARNING:tensorflow:Learning rate reduction is conditioned on metric `acc` which is not available. Available metrics are: loss,accuracy,val_loss,val_accuracy,lr\n"
          ]
        },
        {
          "output_type": "stream",
          "name": "stdout",
          "text": [
            "\b\b\b\b\b\b\b\b\b\b\b\b\b\b\b\b\b\b\b\b\b\b\b\b\b\b\b\b\b\b\b\b\b\b\b\b\b\b\b\b\b\b\b\b\b\b\b\b\b\b\b\b\b\b\b\b\b\b\b\b\b\b\b\b\b\b\b\b\b\b\b\b\b\b\b\b\b\b\b\b\r8/8 [==============================] - 1s 81ms/step - loss: 0.2072 - accuracy: 0.9711 - val_loss: 3.0658 - val_accuracy: 0.3900 - lr: 0.0010\n",
            "Epoch 96/400\n",
            "7/8 [=========================>....] - ETA: 0s - loss: 0.2157 - accuracy: 0.9699"
          ]
        },
        {
          "output_type": "stream",
          "name": "stderr",
          "text": [
            "WARNING:tensorflow:Learning rate reduction is conditioned on metric `acc` which is not available. Available metrics are: loss,accuracy,val_loss,val_accuracy,lr\n"
          ]
        },
        {
          "output_type": "stream",
          "name": "stdout",
          "text": [
            "\b\b\b\b\b\b\b\b\b\b\b\b\b\b\b\b\b\b\b\b\b\b\b\b\b\b\b\b\b\b\b\b\b\b\b\b\b\b\b\b\b\b\b\b\b\b\b\b\b\b\b\b\b\b\b\b\b\b\b\b\b\b\b\b\b\b\b\b\b\b\b\b\b\b\b\b\b\b\b\b\r8/8 [==============================] - 1s 81ms/step - loss: 0.2189 - accuracy: 0.9689 - val_loss: 2.9236 - val_accuracy: 0.4200 - lr: 0.0010\n",
            "Epoch 97/400\n",
            "7/8 [=========================>....] - ETA: 0s - loss: 0.3273 - accuracy: 0.9330"
          ]
        },
        {
          "output_type": "stream",
          "name": "stderr",
          "text": [
            "WARNING:tensorflow:Learning rate reduction is conditioned on metric `acc` which is not available. Available metrics are: loss,accuracy,val_loss,val_accuracy,lr\n"
          ]
        },
        {
          "output_type": "stream",
          "name": "stdout",
          "text": [
            "\b\b\b\b\b\b\b\b\b\b\b\b\b\b\b\b\b\b\b\b\b\b\b\b\b\b\b\b\b\b\b\b\b\b\b\b\b\b\b\b\b\b\b\b\b\b\b\b\b\b\b\b\b\b\b\b\b\b\b\b\b\b\b\b\b\b\b\b\b\b\b\b\b\b\b\b\b\b\b\b\r8/8 [==============================] - 1s 86ms/step - loss: 0.3268 - accuracy: 0.9333 - val_loss: 6.9911 - val_accuracy: 0.1700 - lr: 0.0010\n",
            "Epoch 98/400\n",
            "7/8 [=========================>....] - ETA: 0s - loss: 0.2153 - accuracy: 0.9788"
          ]
        },
        {
          "output_type": "stream",
          "name": "stderr",
          "text": [
            "WARNING:tensorflow:Learning rate reduction is conditioned on metric `acc` which is not available. Available metrics are: loss,accuracy,val_loss,val_accuracy,lr\n"
          ]
        },
        {
          "output_type": "stream",
          "name": "stdout",
          "text": [
            "\b\b\b\b\b\b\b\b\b\b\b\b\b\b\b\b\b\b\b\b\b\b\b\b\b\b\b\b\b\b\b\b\b\b\b\b\b\b\b\b\b\b\b\b\b\b\b\b\b\b\b\b\b\b\b\b\b\b\b\b\b\b\b\b\b\b\b\b\b\b\b\b\b\b\b\b\b\b\b\b\r8/8 [==============================] - 1s 87ms/step - loss: 0.2149 - accuracy: 0.9789 - val_loss: 5.4648 - val_accuracy: 0.2800 - lr: 0.0010\n",
            "Epoch 99/400\n",
            "7/8 [=========================>....] - ETA: 0s - loss: 0.1934 - accuracy: 0.9833"
          ]
        },
        {
          "output_type": "stream",
          "name": "stderr",
          "text": [
            "WARNING:tensorflow:Learning rate reduction is conditioned on metric `acc` which is not available. Available metrics are: loss,accuracy,val_loss,val_accuracy,lr\n"
          ]
        },
        {
          "output_type": "stream",
          "name": "stdout",
          "text": [
            "\b\b\b\b\b\b\b\b\b\b\b\b\b\b\b\b\b\b\b\b\b\b\b\b\b\b\b\b\b\b\b\b\b\b\b\b\b\b\b\b\b\b\b\b\b\b\b\b\b\b\b\b\b\b\b\b\b\b\b\b\b\b\b\b\b\b\b\b\b\b\b\b\b\b\b\b\b\b\b\b\r8/8 [==============================] - 1s 87ms/step - loss: 0.1955 - accuracy: 0.9822 - val_loss: 4.0913 - val_accuracy: 0.3000 - lr: 0.0010\n",
            "Epoch 100/400\n",
            "7/8 [=========================>....] - ETA: 0s - loss: 0.3127 - accuracy: 0.9353"
          ]
        },
        {
          "output_type": "stream",
          "name": "stderr",
          "text": [
            "WARNING:tensorflow:Learning rate reduction is conditioned on metric `acc` which is not available. Available metrics are: loss,accuracy,val_loss,val_accuracy,lr\n"
          ]
        },
        {
          "output_type": "stream",
          "name": "stdout",
          "text": [
            "\b\b\b\b\b\b\b\b\b\b\b\b\b\b\b\b\b\b\b\b\b\b\b\b\b\b\b\b\b\b\b\b\b\b\b\b\b\b\b\b\b\b\b\b\b\b\b\b\b\b\b\b\b\b\b\b\b\b\b\b\b\b\b\b\b\b\b\b\b\b\b\b\b\b\b\b\b\b\b\b\r8/8 [==============================] - 1s 89ms/step - loss: 0.3131 - accuracy: 0.9344 - val_loss: 3.7463 - val_accuracy: 0.3400 - lr: 0.0010\n",
            "Epoch 101/400\n",
            "7/8 [=========================>....] - ETA: 0s - loss: 0.2639 - accuracy: 0.9542"
          ]
        },
        {
          "output_type": "stream",
          "name": "stderr",
          "text": [
            "WARNING:tensorflow:Learning rate reduction is conditioned on metric `acc` which is not available. Available metrics are: loss,accuracy,val_loss,val_accuracy,lr\n"
          ]
        },
        {
          "output_type": "stream",
          "name": "stdout",
          "text": [
            "\b\b\b\b\b\b\b\b\b\b\b\b\b\b\b\b\b\b\b\b\b\b\b\b\b\b\b\b\b\b\b\b\b\b\b\b\b\b\b\b\b\b\b\b\b\b\b\b\b\b\b\b\b\b\b\b\b\b\b\b\b\b\b\b\b\b\b\b\b\b\b\b\b\b\b\b\b\b\b\b\r8/8 [==============================] - 1s 81ms/step - loss: 0.2654 - accuracy: 0.9533 - val_loss: 8.1942 - val_accuracy: 0.1700 - lr: 0.0010\n",
            "Epoch 102/400\n",
            "7/8 [=========================>....] - ETA: 0s - loss: 0.3518 - accuracy: 0.9174"
          ]
        },
        {
          "output_type": "stream",
          "name": "stderr",
          "text": [
            "WARNING:tensorflow:Learning rate reduction is conditioned on metric `acc` which is not available. Available metrics are: loss,accuracy,val_loss,val_accuracy,lr\n"
          ]
        },
        {
          "output_type": "stream",
          "name": "stdout",
          "text": [
            "\b\b\b\b\b\b\b\b\b\b\b\b\b\b\b\b\b\b\b\b\b\b\b\b\b\b\b\b\b\b\b\b\b\b\b\b\b\b\b\b\b\b\b\b\b\b\b\b\b\b\b\b\b\b\b\b\b\b\b\b\b\b\b\b\b\b\b\b\b\b\b\b\b\b\b\b\b\b\b\b\r8/8 [==============================] - 1s 81ms/step - loss: 0.3521 - accuracy: 0.9167 - val_loss: 4.2158 - val_accuracy: 0.3400 - lr: 0.0010\n",
            "Epoch 103/400\n",
            "7/8 [=========================>....] - ETA: 0s - loss: 0.3792 - accuracy: 0.9129"
          ]
        },
        {
          "output_type": "stream",
          "name": "stderr",
          "text": [
            "WARNING:tensorflow:Learning rate reduction is conditioned on metric `acc` which is not available. Available metrics are: loss,accuracy,val_loss,val_accuracy,lr\n"
          ]
        },
        {
          "output_type": "stream",
          "name": "stdout",
          "text": [
            "\b\b\b\b\b\b\b\b\b\b\b\b\b\b\b\b\b\b\b\b\b\b\b\b\b\b\b\b\b\b\b\b\b\b\b\b\b\b\b\b\b\b\b\b\b\b\b\b\b\b\b\b\b\b\b\b\b\b\b\b\b\b\b\b\b\b\b\b\b\b\b\b\b\b\b\b\b\b\b\b\r8/8 [==============================] - 1s 81ms/step - loss: 0.3788 - accuracy: 0.9133 - val_loss: 2.7400 - val_accuracy: 0.4300 - lr: 0.0010\n",
            "Epoch 104/400\n",
            "7/8 [=========================>....] - ETA: 0s - loss: 0.2632 - accuracy: 0.9520"
          ]
        },
        {
          "output_type": "stream",
          "name": "stderr",
          "text": [
            "WARNING:tensorflow:Learning rate reduction is conditioned on metric `acc` which is not available. Available metrics are: loss,accuracy,val_loss,val_accuracy,lr\n"
          ]
        },
        {
          "output_type": "stream",
          "name": "stdout",
          "text": [
            "\b\b\b\b\b\b\b\b\b\b\b\b\b\b\b\b\b\b\b\b\b\b\b\b\b\b\b\b\b\b\b\b\b\b\b\b\b\b\b\b\b\b\b\b\b\b\b\b\b\b\b\b\b\b\b\b\b\b\b\b\b\b\b\b\b\b\b\b\b\b\b\b\b\b\b\b\b\b\b\b\r8/8 [==============================] - 1s 87ms/step - loss: 0.2626 - accuracy: 0.9522 - val_loss: 4.4260 - val_accuracy: 0.2800 - lr: 0.0010\n",
            "Epoch 105/400\n",
            "7/8 [=========================>....] - ETA: 0s - loss: 0.1958 - accuracy: 0.9833"
          ]
        },
        {
          "output_type": "stream",
          "name": "stderr",
          "text": [
            "WARNING:tensorflow:Learning rate reduction is conditioned on metric `acc` which is not available. Available metrics are: loss,accuracy,val_loss,val_accuracy,lr\n"
          ]
        },
        {
          "output_type": "stream",
          "name": "stdout",
          "text": [
            "\b\b\b\b\b\b\b\b\b\b\b\b\b\b\b\b\b\b\b\b\b\b\b\b\b\b\b\b\b\b\b\b\b\b\b\b\b\b\b\b\b\b\b\b\b\b\b\b\b\b\b\b\b\b\b\b\b\b\b\b\b\b\b\b\b\b\b\b\b\b\b\b\b\b\b\b\b\b\b\b\r8/8 [==============================] - 1s 82ms/step - loss: 0.1956 - accuracy: 0.9833 - val_loss: 2.2157 - val_accuracy: 0.4700 - lr: 0.0010\n",
            "Epoch 106/400\n",
            "7/8 [=========================>....] - ETA: 0s - loss: 0.1619 - accuracy: 0.9911"
          ]
        },
        {
          "output_type": "stream",
          "name": "stderr",
          "text": [
            "WARNING:tensorflow:Learning rate reduction is conditioned on metric `acc` which is not available. Available metrics are: loss,accuracy,val_loss,val_accuracy,lr\n"
          ]
        },
        {
          "output_type": "stream",
          "name": "stdout",
          "text": [
            "\b\b\b\b\b\b\b\b\b\b\b\b\b\b\b\b\b\b\b\b\b\b\b\b\b\b\b\b\b\b\b\b\b\b\b\b\b\b\b\b\b\b\b\b\b\b\b\b\b\b\b\b\b\b\b\b\b\b\b\b\b\b\b\b\b\b\b\b\b\b\b\b\b\b\b\b\b\b\b\b\r8/8 [==============================] - 1s 82ms/step - loss: 0.1621 - accuracy: 0.9911 - val_loss: 2.2855 - val_accuracy: 0.4000 - lr: 0.0010\n",
            "Epoch 107/400\n",
            "7/8 [=========================>....] - ETA: 0s - loss: 0.1537 - accuracy: 0.9922"
          ]
        },
        {
          "output_type": "stream",
          "name": "stderr",
          "text": [
            "WARNING:tensorflow:Learning rate reduction is conditioned on metric `acc` which is not available. Available metrics are: loss,accuracy,val_loss,val_accuracy,lr\n"
          ]
        },
        {
          "output_type": "stream",
          "name": "stdout",
          "text": [
            "\b\b\b\b\b\b\b\b\b\b\b\b\b\b\b\b\b\b\b\b\b\b\b\b\b\b\b\b\b\b\b\b\b\b\b\b\b\b\b\b\b\b\b\b\b\b\b\b\b\b\b\b\b\b\b\b\b\b\b\b\b\b\b\b\b\b\b\b\b\b\b\b\b\b\b\b\b\b\b\b\r8/8 [==============================] - 1s 81ms/step - loss: 0.1569 - accuracy: 0.9911 - val_loss: 3.5303 - val_accuracy: 0.2800 - lr: 0.0010\n",
            "Epoch 108/400\n",
            "7/8 [=========================>....] - ETA: 0s - loss: 0.6617 - accuracy: 0.8873"
          ]
        },
        {
          "output_type": "stream",
          "name": "stderr",
          "text": [
            "WARNING:tensorflow:Learning rate reduction is conditioned on metric `acc` which is not available. Available metrics are: loss,accuracy,val_loss,val_accuracy,lr\n"
          ]
        },
        {
          "output_type": "stream",
          "name": "stdout",
          "text": [
            "\b\b\b\b\b\b\b\b\b\b\b\b\b\b\b\b\b\b\b\b\b\b\b\b\b\b\b\b\b\b\b\b\b\b\b\b\b\b\b\b\b\b\b\b\b\b\b\b\b\b\b\b\b\b\b\b\b\b\b\b\b\b\b\b\b\b\b\b\b\b\b\b\b\b\b\b\b\b\b\b\r8/8 [==============================] - 1s 81ms/step - loss: 0.6658 - accuracy: 0.8856 - val_loss: 5.6469 - val_accuracy: 0.2300 - lr: 0.0010\n",
            "Epoch 109/400\n",
            "7/8 [=========================>....] - ETA: 0s - loss: 0.7689 - accuracy: 0.8482"
          ]
        },
        {
          "output_type": "stream",
          "name": "stderr",
          "text": [
            "WARNING:tensorflow:Learning rate reduction is conditioned on metric `acc` which is not available. Available metrics are: loss,accuracy,val_loss,val_accuracy,lr\n"
          ]
        },
        {
          "output_type": "stream",
          "name": "stdout",
          "text": [
            "\b\b\b\b\b\b\b\b\b\b\b\b\b\b\b\b\b\b\b\b\b\b\b\b\b\b\b\b\b\b\b\b\b\b\b\b\b\b\b\b\b\b\b\b\b\b\b\b\b\b\b\b\b\b\b\b\b\b\b\b\b\b\b\b\b\b\b\b\b\b\b\b\b\b\b\b\b\b\b\b\r8/8 [==============================] - 1s 82ms/step - loss: 0.7723 - accuracy: 0.8467 - val_loss: 6.7989 - val_accuracy: 0.2400 - lr: 0.0010\n",
            "Epoch 110/400\n",
            "7/8 [=========================>....] - ETA: 0s - loss: 0.5859 - accuracy: 0.8616"
          ]
        },
        {
          "output_type": "stream",
          "name": "stderr",
          "text": [
            "WARNING:tensorflow:Learning rate reduction is conditioned on metric `acc` which is not available. Available metrics are: loss,accuracy,val_loss,val_accuracy,lr\n"
          ]
        },
        {
          "output_type": "stream",
          "name": "stdout",
          "text": [
            "\b\b\b\b\b\b\b\b\b\b\b\b\b\b\b\b\b\b\b\b\b\b\b\b\b\b\b\b\b\b\b\b\b\b\b\b\b\b\b\b\b\b\b\b\b\b\b\b\b\b\b\b\b\b\b\b\b\b\b\b\b\b\b\b\b\b\b\b\b\b\b\b\b\b\b\b\b\b\b\b\r8/8 [==============================] - 1s 81ms/step - loss: 0.5859 - accuracy: 0.8611 - val_loss: 7.8823 - val_accuracy: 0.2400 - lr: 0.0010\n",
            "Epoch 111/400\n",
            "7/8 [=========================>....] - ETA: 0s - loss: 0.4708 - accuracy: 0.8973"
          ]
        },
        {
          "output_type": "stream",
          "name": "stderr",
          "text": [
            "WARNING:tensorflow:Learning rate reduction is conditioned on metric `acc` which is not available. Available metrics are: loss,accuracy,val_loss,val_accuracy,lr\n"
          ]
        },
        {
          "output_type": "stream",
          "name": "stdout",
          "text": [
            "\b\b\b\b\b\b\b\b\b\b\b\b\b\b\b\b\b\b\b\b\b\b\b\b\b\b\b\b\b\b\b\b\b\b\b\b\b\b\b\b\b\b\b\b\b\b\b\b\b\b\b\b\b\b\b\b\b\b\b\b\b\b\b\b\b\b\b\b\b\b\b\b\b\b\b\b\b\b\b\b\r8/8 [==============================] - 1s 81ms/step - loss: 0.4711 - accuracy: 0.8967 - val_loss: 6.6832 - val_accuracy: 0.2600 - lr: 0.0010\n",
            "Epoch 112/400\n",
            "7/8 [=========================>....] - ETA: 0s - loss: 0.3499 - accuracy: 0.9386"
          ]
        },
        {
          "output_type": "stream",
          "name": "stderr",
          "text": [
            "WARNING:tensorflow:Learning rate reduction is conditioned on metric `acc` which is not available. Available metrics are: loss,accuracy,val_loss,val_accuracy,lr\n"
          ]
        },
        {
          "output_type": "stream",
          "name": "stdout",
          "text": [
            "\b\b\b\b\b\b\b\b\b\b\b\b\b\b\b\b\b\b\b\b\b\b\b\b\b\b\b\b\b\b\b\b\b\b\b\b\b\b\b\b\b\b\b\b\b\b\b\b\b\b\b\b\b\b\b\b\b\b\b\b\b\b\b\b\b\b\b\b\b\b\b\b\b\b\b\b\b\b\b\b\r8/8 [==============================] - 1s 81ms/step - loss: 0.3492 - accuracy: 0.9389 - val_loss: 6.4951 - val_accuracy: 0.2600 - lr: 0.0010\n",
            "Epoch 113/400\n",
            "7/8 [=========================>....] - ETA: 0s - loss: 0.2794 - accuracy: 0.9576"
          ]
        },
        {
          "output_type": "stream",
          "name": "stderr",
          "text": [
            "WARNING:tensorflow:Learning rate reduction is conditioned on metric `acc` which is not available. Available metrics are: loss,accuracy,val_loss,val_accuracy,lr\n"
          ]
        },
        {
          "output_type": "stream",
          "name": "stdout",
          "text": [
            "\b\b\b\b\b\b\b\b\b\b\b\b\b\b\b\b\b\b\b\b\b\b\b\b\b\b\b\b\b\b\b\b\b\b\b\b\b\b\b\b\b\b\b\b\b\b\b\b\b\b\b\b\b\b\b\b\b\b\b\b\b\b\b\b\b\b\b\b\b\b\b\b\b\b\b\b\b\b\b\b\r8/8 [==============================] - 1s 81ms/step - loss: 0.2801 - accuracy: 0.9567 - val_loss: 4.1872 - val_accuracy: 0.3300 - lr: 0.0010\n",
            "Epoch 114/400\n",
            "7/8 [=========================>....] - ETA: 0s - loss: 0.2803 - accuracy: 0.9542"
          ]
        },
        {
          "output_type": "stream",
          "name": "stderr",
          "text": [
            "WARNING:tensorflow:Learning rate reduction is conditioned on metric `acc` which is not available. Available metrics are: loss,accuracy,val_loss,val_accuracy,lr\n"
          ]
        },
        {
          "output_type": "stream",
          "name": "stdout",
          "text": [
            "\b\b\b\b\b\b\b\b\b\b\b\b\b\b\b\b\b\b\b\b\b\b\b\b\b\b\b\b\b\b\b\b\b\b\b\b\b\b\b\b\b\b\b\b\b\b\b\b\b\b\b\b\b\b\b\b\b\b\b\b\b\b\b\b\b\b\b\b\b\b\b\b\b\b\b\b\b\b\b\b\r8/8 [==============================] - 1s 80ms/step - loss: 0.2820 - accuracy: 0.9533 - val_loss: 3.6519 - val_accuracy: 0.2900 - lr: 0.0010\n",
            "Epoch 115/400\n",
            "7/8 [=========================>....] - ETA: 0s - loss: 0.3890 - accuracy: 0.9163"
          ]
        },
        {
          "output_type": "stream",
          "name": "stderr",
          "text": [
            "WARNING:tensorflow:Learning rate reduction is conditioned on metric `acc` which is not available. Available metrics are: loss,accuracy,val_loss,val_accuracy,lr\n"
          ]
        },
        {
          "output_type": "stream",
          "name": "stdout",
          "text": [
            "\b\b\b\b\b\b\b\b\b\b\b\b\b\b\b\b\b\b\b\b\b\b\b\b\b\b\b\b\b\b\b\b\b\b\b\b\b\b\b\b\b\b\b\b\b\b\b\b\b\b\b\b\b\b\b\b\b\b\b\b\b\b\b\b\b\b\b\b\b\b\b\b\b\b\b\b\b\b\b\b\r8/8 [==============================] - 1s 82ms/step - loss: 0.3912 - accuracy: 0.9144 - val_loss: 3.5867 - val_accuracy: 0.3500 - lr: 0.0010\n",
            "Epoch 116/400\n",
            "7/8 [=========================>....] - ETA: 0s - loss: 0.3823 - accuracy: 0.9152"
          ]
        },
        {
          "output_type": "stream",
          "name": "stderr",
          "text": [
            "WARNING:tensorflow:Learning rate reduction is conditioned on metric `acc` which is not available. Available metrics are: loss,accuracy,val_loss,val_accuracy,lr\n"
          ]
        },
        {
          "output_type": "stream",
          "name": "stdout",
          "text": [
            "\b\b\b\b\b\b\b\b\b\b\b\b\b\b\b\b\b\b\b\b\b\b\b\b\b\b\b\b\b\b\b\b\b\b\b\b\b\b\b\b\b\b\b\b\b\b\b\b\b\b\b\b\b\b\b\b\b\b\b\b\b\b\b\b\b\b\b\b\b\b\b\b\b\b\b\b\b\b\b\b\r8/8 [==============================] - 1s 87ms/step - loss: 0.3847 - accuracy: 0.9122 - val_loss: 3.7003 - val_accuracy: 0.4500 - lr: 0.0010\n",
            "Epoch 117/400\n",
            "7/8 [=========================>....] - ETA: 0s - loss: 0.4847 - accuracy: 0.8862"
          ]
        },
        {
          "output_type": "stream",
          "name": "stderr",
          "text": [
            "WARNING:tensorflow:Learning rate reduction is conditioned on metric `acc` which is not available. Available metrics are: loss,accuracy,val_loss,val_accuracy,lr\n"
          ]
        },
        {
          "output_type": "stream",
          "name": "stdout",
          "text": [
            "\b\b\b\b\b\b\b\b\b\b\b\b\b\b\b\b\b\b\b\b\b\b\b\b\b\b\b\b\b\b\b\b\b\b\b\b\b\b\b\b\b\b\b\b\b\b\b\b\b\b\b\b\b\b\b\b\b\b\b\b\b\b\b\b\b\b\b\b\b\b\b\b\b\b\b\b\b\b\b\b\r8/8 [==============================] - 1s 95ms/step - loss: 0.4884 - accuracy: 0.8844 - val_loss: 2.9174 - val_accuracy: 0.4800 - lr: 0.0010\n",
            "Epoch 118/400\n",
            "7/8 [=========================>....] - ETA: 0s - loss: 0.4803 - accuracy: 0.8750"
          ]
        },
        {
          "output_type": "stream",
          "name": "stderr",
          "text": [
            "WARNING:tensorflow:Learning rate reduction is conditioned on metric `acc` which is not available. Available metrics are: loss,accuracy,val_loss,val_accuracy,lr\n"
          ]
        },
        {
          "output_type": "stream",
          "name": "stdout",
          "text": [
            "\b\b\b\b\b\b\b\b\b\b\b\b\b\b\b\b\b\b\b\b\b\b\b\b\b\b\b\b\b\b\b\b\b\b\b\b\b\b\b\b\b\b\b\b\b\b\b\b\b\b\b\b\b\b\b\b\b\b\b\b\b\b\b\b\b\b\b\b\b\b\b\b\b\b\b\b\b\b\b\b\r8/8 [==============================] - 1s 89ms/step - loss: 0.4791 - accuracy: 0.8756 - val_loss: 3.6043 - val_accuracy: 0.3500 - lr: 0.0010\n",
            "Epoch 119/400\n",
            "7/8 [=========================>....] - ETA: 0s - loss: 0.4173 - accuracy: 0.9018"
          ]
        },
        {
          "output_type": "stream",
          "name": "stderr",
          "text": [
            "WARNING:tensorflow:Learning rate reduction is conditioned on metric `acc` which is not available. Available metrics are: loss,accuracy,val_loss,val_accuracy,lr\n"
          ]
        },
        {
          "output_type": "stream",
          "name": "stdout",
          "text": [
            "\b\b\b\b\b\b\b\b\b\b\b\b\b\b\b\b\b\b\b\b\b\b\b\b\b\b\b\b\b\b\b\b\b\b\b\b\b\b\b\b\b\b\b\b\b\b\b\b\b\b\b\b\b\b\b\b\b\b\b\b\b\b\b\b\b\b\b\b\b\b\b\b\b\b\b\b\b\b\b\b\r8/8 [==============================] - 1s 87ms/step - loss: 0.4171 - accuracy: 0.9022 - val_loss: 3.9760 - val_accuracy: 0.3200 - lr: 0.0010\n",
            "Epoch 120/400\n",
            "7/8 [=========================>....] - ETA: 0s - loss: 0.3262 - accuracy: 0.9397"
          ]
        },
        {
          "output_type": "stream",
          "name": "stderr",
          "text": [
            "WARNING:tensorflow:Learning rate reduction is conditioned on metric `acc` which is not available. Available metrics are: loss,accuracy,val_loss,val_accuracy,lr\n"
          ]
        },
        {
          "output_type": "stream",
          "name": "stdout",
          "text": [
            "\b\b\b\b\b\b\b\b\b\b\b\b\b\b\b\b\b\b\b\b\b\b\b\b\b\b\b\b\b\b\b\b\b\b\b\b\b\b\b\b\b\b\b\b\b\b\b\b\b\b\b\b\b\b\b\b\b\b\b\b\b\b\b\b\b\b\b\b\b\b\b\b\b\b\b\b\b\b\b\b\r8/8 [==============================] - 1s 82ms/step - loss: 0.3379 - accuracy: 0.9378 - val_loss: 11.3352 - val_accuracy: 0.1400 - lr: 0.0010\n",
            "Epoch 121/400\n",
            "7/8 [=========================>....] - ETA: 0s - loss: 0.6506 - accuracy: 0.8504"
          ]
        },
        {
          "output_type": "stream",
          "name": "stderr",
          "text": [
            "WARNING:tensorflow:Learning rate reduction is conditioned on metric `acc` which is not available. Available metrics are: loss,accuracy,val_loss,val_accuracy,lr\n"
          ]
        },
        {
          "output_type": "stream",
          "name": "stdout",
          "text": [
            "\b\b\b\b\b\b\b\b\b\b\b\b\b\b\b\b\b\b\b\b\b\b\b\b\b\b\b\b\b\b\b\b\b\b\b\b\b\b\b\b\b\b\b\b\b\b\b\b\b\b\b\b\b\b\b\b\b\b\b\b\b\b\b\b\b\b\b\b\b\b\b\b\b\b\b\b\b\b\b\b\r8/8 [==============================] - 1s 81ms/step - loss: 0.6547 - accuracy: 0.8489 - val_loss: 23.1546 - val_accuracy: 0.1100 - lr: 0.0010\n",
            "Epoch 122/400\n",
            "7/8 [=========================>....] - ETA: 0s - loss: 0.6937 - accuracy: 0.8337"
          ]
        },
        {
          "output_type": "stream",
          "name": "stderr",
          "text": [
            "WARNING:tensorflow:Learning rate reduction is conditioned on metric `acc` which is not available. Available metrics are: loss,accuracy,val_loss,val_accuracy,lr\n"
          ]
        },
        {
          "output_type": "stream",
          "name": "stdout",
          "text": [
            "\b\b\b\b\b\b\b\b\b\b\b\b\b\b\b\b\b\b\b\b\b\b\b\b\b\b\b\b\b\b\b\b\b\b\b\b\b\b\b\b\b\b\b\b\b\b\b\b\b\b\b\b\b\b\b\b\b\b\b\b\b\b\b\b\b\b\b\b\b\b\b\b\b\b\b\b\b\b\b\b\r8/8 [==============================] - 1s 81ms/step - loss: 0.6978 - accuracy: 0.8322 - val_loss: 6.1012 - val_accuracy: 0.3900 - lr: 0.0010\n",
            "Epoch 123/400\n",
            "7/8 [=========================>....] - ETA: 0s - loss: 0.6762 - accuracy: 0.8170"
          ]
        },
        {
          "output_type": "stream",
          "name": "stderr",
          "text": [
            "WARNING:tensorflow:Learning rate reduction is conditioned on metric `acc` which is not available. Available metrics are: loss,accuracy,val_loss,val_accuracy,lr\n"
          ]
        },
        {
          "output_type": "stream",
          "name": "stdout",
          "text": [
            "\b\b\b\b\b\b\b\b\b\b\b\b\b\b\b\b\b\b\b\b\b\b\b\b\b\b\b\b\b\b\b\b\b\b\b\b\b\b\b\b\b\b\b\b\b\b\b\b\b\b\b\b\b\b\b\b\b\b\b\b\b\b\b\b\b\b\b\b\b\b\b\b\b\b\b\b\b\b\b\b\r8/8 [==============================] - 1s 87ms/step - loss: 0.6765 - accuracy: 0.8167 - val_loss: 5.4286 - val_accuracy: 0.2600 - lr: 0.0010\n",
            "Epoch 124/400\n",
            "7/8 [=========================>....] - ETA: 0s - loss: 0.4608 - accuracy: 0.9096"
          ]
        },
        {
          "output_type": "stream",
          "name": "stderr",
          "text": [
            "WARNING:tensorflow:Learning rate reduction is conditioned on metric `acc` which is not available. Available metrics are: loss,accuracy,val_loss,val_accuracy,lr\n"
          ]
        },
        {
          "output_type": "stream",
          "name": "stdout",
          "text": [
            "\b\b\b\b\b\b\b\b\b\b\b\b\b\b\b\b\b\b\b\b\b\b\b\b\b\b\b\b\b\b\b\b\b\b\b\b\b\b\b\b\b\b\b\b\b\b\b\b\b\b\b\b\b\b\b\b\b\b\b\b\b\b\b\b\b\b\b\b\b\b\b\b\b\b\b\b\b\b\b\b\r8/8 [==============================] - 1s 82ms/step - loss: 0.4629 - accuracy: 0.9078 - val_loss: 3.1245 - val_accuracy: 0.4400 - lr: 0.0010\n",
            "Epoch 125/400\n",
            "7/8 [=========================>....] - ETA: 0s - loss: 0.3856 - accuracy: 0.9308"
          ]
        },
        {
          "output_type": "stream",
          "name": "stderr",
          "text": [
            "WARNING:tensorflow:Learning rate reduction is conditioned on metric `acc` which is not available. Available metrics are: loss,accuracy,val_loss,val_accuracy,lr\n"
          ]
        },
        {
          "output_type": "stream",
          "name": "stdout",
          "text": [
            "\b\b\b\b\b\b\b\b\b\b\b\b\b\b\b\b\b\b\b\b\b\b\b\b\b\b\b\b\b\b\b\b\b\b\b\b\b\b\b\b\b\b\b\b\b\b\b\b\b\b\b\b\b\b\b\b\b\b\b\b\b\b\b\b\b\b\b\b\b\b\b\b\b\b\b\b\b\b\b\b\r8/8 [==============================] - 1s 88ms/step - loss: 0.3863 - accuracy: 0.9300 - val_loss: 2.8444 - val_accuracy: 0.3500 - lr: 0.0010\n",
            "Epoch 126/400\n",
            "7/8 [=========================>....] - ETA: 0s - loss: 0.3160 - accuracy: 0.9542"
          ]
        },
        {
          "output_type": "stream",
          "name": "stderr",
          "text": [
            "WARNING:tensorflow:Learning rate reduction is conditioned on metric `acc` which is not available. Available metrics are: loss,accuracy,val_loss,val_accuracy,lr\n"
          ]
        },
        {
          "output_type": "stream",
          "name": "stdout",
          "text": [
            "\b\b\b\b\b\b\b\b\b\b\b\b\b\b\b\b\b\b\b\b\b\b\b\b\b\b\b\b\b\b\b\b\b\b\b\b\b\b\b\b\b\b\b\b\b\b\b\b\b\b\b\b\b\b\b\b\b\b\b\b\b\b\b\b\b\b\b\b\b\b\b\b\b\b\b\b\b\b\b\b\r8/8 [==============================] - 1s 83ms/step - loss: 0.3166 - accuracy: 0.9533 - val_loss: 2.5482 - val_accuracy: 0.3900 - lr: 0.0010\n",
            "Epoch 127/400\n",
            "7/8 [=========================>....] - ETA: 0s - loss: 0.2816 - accuracy: 0.9587"
          ]
        },
        {
          "output_type": "stream",
          "name": "stderr",
          "text": [
            "WARNING:tensorflow:Learning rate reduction is conditioned on metric `acc` which is not available. Available metrics are: loss,accuracy,val_loss,val_accuracy,lr\n"
          ]
        },
        {
          "output_type": "stream",
          "name": "stdout",
          "text": [
            "\b\b\b\b\b\b\b\b\b\b\b\b\b\b\b\b\b\b\b\b\b\b\b\b\b\b\b\b\b\b\b\b\b\b\b\b\b\b\b\b\b\b\b\b\b\b\b\b\b\b\b\b\b\b\b\b\b\b\b\b\b\b\b\b\b\b\b\b\b\b\b\b\b\b\b\b\b\b\b\b\r8/8 [==============================] - 1s 81ms/step - loss: 0.2816 - accuracy: 0.9589 - val_loss: 2.8387 - val_accuracy: 0.3600 - lr: 0.0010\n",
            "Epoch 128/400\n",
            "7/8 [=========================>....] - ETA: 0s - loss: 0.2284 - accuracy: 0.9788"
          ]
        },
        {
          "output_type": "stream",
          "name": "stderr",
          "text": [
            "WARNING:tensorflow:Learning rate reduction is conditioned on metric `acc` which is not available. Available metrics are: loss,accuracy,val_loss,val_accuracy,lr\n"
          ]
        },
        {
          "output_type": "stream",
          "name": "stdout",
          "text": [
            "\b\b\b\b\b\b\b\b\b\b\b\b\b\b\b\b\b\b\b\b\b\b\b\b\b\b\b\b\b\b\b\b\b\b\b\b\b\b\b\b\b\b\b\b\b\b\b\b\b\b\b\b\b\b\b\b\b\b\b\b\b\b\b\b\b\b\b\b\b\b\b\b\b\b\b\b\b\b\b\b\r8/8 [==============================] - 1s 87ms/step - loss: 0.2300 - accuracy: 0.9778 - val_loss: 2.8042 - val_accuracy: 0.3500 - lr: 0.0010\n",
            "Epoch 129/400\n",
            "7/8 [=========================>....] - ETA: 0s - loss: 0.3165 - accuracy: 0.9442"
          ]
        },
        {
          "output_type": "stream",
          "name": "stderr",
          "text": [
            "WARNING:tensorflow:Learning rate reduction is conditioned on metric `acc` which is not available. Available metrics are: loss,accuracy,val_loss,val_accuracy,lr\n"
          ]
        },
        {
          "output_type": "stream",
          "name": "stdout",
          "text": [
            "\b\b\b\b\b\b\b\b\b\b\b\b\b\b\b\b\b\b\b\b\b\b\b\b\b\b\b\b\b\b\b\b\b\b\b\b\b\b\b\b\b\b\b\b\b\b\b\b\b\b\b\b\b\b\b\b\b\b\b\b\b\b\b\b\b\b\b\b\b\b\b\b\b\b\b\b\b\b\b\b\r8/8 [==============================] - 1s 81ms/step - loss: 0.3178 - accuracy: 0.9444 - val_loss: 2.8115 - val_accuracy: 0.3600 - lr: 0.0010\n",
            "Epoch 130/400\n",
            "7/8 [=========================>....] - ETA: 0s - loss: 0.3201 - accuracy: 0.9408"
          ]
        },
        {
          "output_type": "stream",
          "name": "stderr",
          "text": [
            "WARNING:tensorflow:Learning rate reduction is conditioned on metric `acc` which is not available. Available metrics are: loss,accuracy,val_loss,val_accuracy,lr\n"
          ]
        },
        {
          "output_type": "stream",
          "name": "stdout",
          "text": [
            "\b\b\b\b\b\b\b\b\b\b\b\b\b\b\b\b\b\b\b\b\b\b\b\b\b\b\b\b\b\b\b\b\b\b\b\b\b\b\b\b\b\b\b\b\b\b\b\b\b\b\b\b\b\b\b\b\b\b\b\b\b\b\b\b\b\b\b\b\b\b\b\b\b\b\b\b\b\b\b\b\r8/8 [==============================] - 1s 88ms/step - loss: 0.3207 - accuracy: 0.9411 - val_loss: 4.8264 - val_accuracy: 0.2400 - lr: 0.0010\n",
            "Epoch 131/400\n",
            "7/8 [=========================>....] - ETA: 0s - loss: 0.2433 - accuracy: 0.9688"
          ]
        },
        {
          "output_type": "stream",
          "name": "stderr",
          "text": [
            "WARNING:tensorflow:Learning rate reduction is conditioned on metric `acc` which is not available. Available metrics are: loss,accuracy,val_loss,val_accuracy,lr\n"
          ]
        },
        {
          "output_type": "stream",
          "name": "stdout",
          "text": [
            "\b\b\b\b\b\b\b\b\b\b\b\b\b\b\b\b\b\b\b\b\b\b\b\b\b\b\b\b\b\b\b\b\b\b\b\b\b\b\b\b\b\b\b\b\b\b\b\b\b\b\b\b\b\b\b\b\b\b\b\b\b\b\b\b\b\b\b\b\b\b\b\b\b\b\b\b\b\b\b\b\r8/8 [==============================] - 1s 82ms/step - loss: 0.2524 - accuracy: 0.9656 - val_loss: 4.2224 - val_accuracy: 0.2900 - lr: 0.0010\n",
            "Epoch 132/400\n",
            "7/8 [=========================>....] - ETA: 0s - loss: 0.3921 - accuracy: 0.9062"
          ]
        },
        {
          "output_type": "stream",
          "name": "stderr",
          "text": [
            "WARNING:tensorflow:Learning rate reduction is conditioned on metric `acc` which is not available. Available metrics are: loss,accuracy,val_loss,val_accuracy,lr\n"
          ]
        },
        {
          "output_type": "stream",
          "name": "stdout",
          "text": [
            "\b\b\b\b\b\b\b\b\b\b\b\b\b\b\b\b\b\b\b\b\b\b\b\b\b\b\b\b\b\b\b\b\b\b\b\b\b\b\b\b\b\b\b\b\b\b\b\b\b\b\b\b\b\b\b\b\b\b\b\b\b\b\b\b\b\b\b\b\b\b\b\b\b\b\b\b\b\b\b\b\r8/8 [==============================] - 1s 83ms/step - loss: 0.3933 - accuracy: 0.9056 - val_loss: 6.0315 - val_accuracy: 0.2400 - lr: 0.0010\n",
            "Epoch 133/400\n",
            "7/8 [=========================>....] - ETA: 0s - loss: 0.4280 - accuracy: 0.9074"
          ]
        },
        {
          "output_type": "stream",
          "name": "stderr",
          "text": [
            "WARNING:tensorflow:Learning rate reduction is conditioned on metric `acc` which is not available. Available metrics are: loss,accuracy,val_loss,val_accuracy,lr\n"
          ]
        },
        {
          "output_type": "stream",
          "name": "stdout",
          "text": [
            "\b\b\b\b\b\b\b\b\b\b\b\b\b\b\b\b\b\b\b\b\b\b\b\b\b\b\b\b\b\b\b\b\b\b\b\b\b\b\b\b\b\b\b\b\b\b\b\b\b\b\b\b\b\b\b\b\b\b\b\b\b\b\b\b\b\b\b\b\b\b\b\b\b\b\b\b\b\b\b\b\r8/8 [==============================] - 1s 81ms/step - loss: 0.4343 - accuracy: 0.9044 - val_loss: 4.9485 - val_accuracy: 0.3100 - lr: 0.0010\n",
            "Epoch 134/400\n",
            "7/8 [=========================>....] - ETA: 0s - loss: 0.4880 - accuracy: 0.8728"
          ]
        },
        {
          "output_type": "stream",
          "name": "stderr",
          "text": [
            "WARNING:tensorflow:Learning rate reduction is conditioned on metric `acc` which is not available. Available metrics are: loss,accuracy,val_loss,val_accuracy,lr\n"
          ]
        },
        {
          "output_type": "stream",
          "name": "stdout",
          "text": [
            "\b\b\b\b\b\b\b\b\b\b\b\b\b\b\b\b\b\b\b\b\b\b\b\b\b\b\b\b\b\b\b\b\b\b\b\b\b\b\b\b\b\b\b\b\b\b\b\b\b\b\b\b\b\b\b\b\b\b\b\b\b\b\b\b\b\b\b\b\b\b\b\b\b\b\b\b\b\b\b\b\r8/8 [==============================] - 1s 85ms/step - loss: 0.4878 - accuracy: 0.8733 - val_loss: 6.7211 - val_accuracy: 0.2100 - lr: 0.0010\n",
            "Epoch 135/400\n",
            "7/8 [=========================>....] - ETA: 0s - loss: 0.3697 - accuracy: 0.9252"
          ]
        },
        {
          "output_type": "stream",
          "name": "stderr",
          "text": [
            "WARNING:tensorflow:Learning rate reduction is conditioned on metric `acc` which is not available. Available metrics are: loss,accuracy,val_loss,val_accuracy,lr\n"
          ]
        },
        {
          "output_type": "stream",
          "name": "stdout",
          "text": [
            "\b\b\b\b\b\b\b\b\b\b\b\b\b\b\b\b\b\b\b\b\b\b\b\b\b\b\b\b\b\b\b\b\b\b\b\b\b\b\b\b\b\b\b\b\b\b\b\b\b\b\b\b\b\b\b\b\b\b\b\b\b\b\b\b\b\b\b\b\b\b\b\b\b\b\b\b\b\b\b\b\r8/8 [==============================] - 1s 92ms/step - loss: 0.3730 - accuracy: 0.9244 - val_loss: 4.3664 - val_accuracy: 0.2700 - lr: 0.0010\n",
            "Epoch 136/400\n",
            "7/8 [=========================>....] - ETA: 0s - loss: 0.4454 - accuracy: 0.9230"
          ]
        },
        {
          "output_type": "stream",
          "name": "stderr",
          "text": [
            "WARNING:tensorflow:Learning rate reduction is conditioned on metric `acc` which is not available. Available metrics are: loss,accuracy,val_loss,val_accuracy,lr\n"
          ]
        },
        {
          "output_type": "stream",
          "name": "stdout",
          "text": [
            "\b\b\b\b\b\b\b\b\b\b\b\b\b\b\b\b\b\b\b\b\b\b\b\b\b\b\b\b\b\b\b\b\b\b\b\b\b\b\b\b\b\b\b\b\b\b\b\b\b\b\b\b\b\b\b\b\b\b\b\b\b\b\b\b\b\b\b\b\b\b\b\b\b\b\b\b\b\b\b\b\r8/8 [==============================] - 1s 86ms/step - loss: 0.4463 - accuracy: 0.9222 - val_loss: 3.9088 - val_accuracy: 0.3500 - lr: 0.0010\n",
            "Epoch 137/400\n",
            "7/8 [=========================>....] - ETA: 0s - loss: 0.3011 - accuracy: 0.9453"
          ]
        },
        {
          "output_type": "stream",
          "name": "stderr",
          "text": [
            "WARNING:tensorflow:Learning rate reduction is conditioned on metric `acc` which is not available. Available metrics are: loss,accuracy,val_loss,val_accuracy,lr\n"
          ]
        },
        {
          "output_type": "stream",
          "name": "stdout",
          "text": [
            "\b\b\b\b\b\b\b\b\b\b\b\b\b\b\b\b\b\b\b\b\b\b\b\b\b\b\b\b\b\b\b\b\b\b\b\b\b\b\b\b\b\b\b\b\b\b\b\b\b\b\b\b\b\b\b\b\b\b\b\b\b\b\b\b\b\b\b\b\b\b\b\b\b\b\b\b\b\b\b\b\r8/8 [==============================] - 1s 86ms/step - loss: 0.3014 - accuracy: 0.9456 - val_loss: 3.7562 - val_accuracy: 0.3000 - lr: 0.0010\n",
            "Epoch 138/400\n",
            "7/8 [=========================>....] - ETA: 0s - loss: 0.2883 - accuracy: 0.9420"
          ]
        },
        {
          "output_type": "stream",
          "name": "stderr",
          "text": [
            "WARNING:tensorflow:Learning rate reduction is conditioned on metric `acc` which is not available. Available metrics are: loss,accuracy,val_loss,val_accuracy,lr\n"
          ]
        },
        {
          "output_type": "stream",
          "name": "stdout",
          "text": [
            "\b\b\b\b\b\b\b\b\b\b\b\b\b\b\b\b\b\b\b\b\b\b\b\b\b\b\b\b\b\b\b\b\b\b\b\b\b\b\b\b\b\b\b\b\b\b\b\b\b\b\b\b\b\b\b\b\b\b\b\b\b\b\b\b\b\b\b\b\b\b\b\b\b\b\b\b\b\b\b\b\r8/8 [==============================] - 1s 85ms/step - loss: 0.2880 - accuracy: 0.9422 - val_loss: 2.9694 - val_accuracy: 0.3200 - lr: 0.0010\n",
            "Epoch 139/400\n",
            "7/8 [=========================>....] - ETA: 0s - loss: 0.2039 - accuracy: 0.9877"
          ]
        },
        {
          "output_type": "stream",
          "name": "stderr",
          "text": [
            "WARNING:tensorflow:Learning rate reduction is conditioned on metric `acc` which is not available. Available metrics are: loss,accuracy,val_loss,val_accuracy,lr\n"
          ]
        },
        {
          "output_type": "stream",
          "name": "stdout",
          "text": [
            "\b\b\b\b\b\b\b\b\b\b\b\b\b\b\b\b\b\b\b\b\b\b\b\b\b\b\b\b\b\b\b\b\b\b\b\b\b\b\b\b\b\b\b\b\b\b\b\b\b\b\b\b\b\b\b\b\b\b\b\b\b\b\b\b\b\b\b\b\b\b\b\b\b\b\b\b\b\b\b\b\r8/8 [==============================] - 1s 83ms/step - loss: 0.2041 - accuracy: 0.9878 - val_loss: 2.7603 - val_accuracy: 0.3900 - lr: 0.0010\n",
            "Epoch 140/400\n",
            "7/8 [=========================>....] - ETA: 0s - loss: 0.1872 - accuracy: 0.9888"
          ]
        },
        {
          "output_type": "stream",
          "name": "stderr",
          "text": [
            "WARNING:tensorflow:Learning rate reduction is conditioned on metric `acc` which is not available. Available metrics are: loss,accuracy,val_loss,val_accuracy,lr\n"
          ]
        },
        {
          "output_type": "stream",
          "name": "stdout",
          "text": [
            "\b\b\b\b\b\b\b\b\b\b\b\b\b\b\b\b\b\b\b\b\b\b\b\b\b\b\b\b\b\b\b\b\b\b\b\b\b\b\b\b\b\b\b\b\b\b\b\b\b\b\b\b\b\b\b\b\b\b\b\b\b\b\b\b\b\b\b\b\b\b\b\b\b\b\b\b\b\b\b\b\r8/8 [==============================] - 1s 81ms/step - loss: 0.1872 - accuracy: 0.9889 - val_loss: 2.5833 - val_accuracy: 0.4000 - lr: 0.0010\n",
            "Epoch 141/400\n",
            "7/8 [=========================>....] - ETA: 0s - loss: 0.1688 - accuracy: 0.9922"
          ]
        },
        {
          "output_type": "stream",
          "name": "stderr",
          "text": [
            "WARNING:tensorflow:Learning rate reduction is conditioned on metric `acc` which is not available. Available metrics are: loss,accuracy,val_loss,val_accuracy,lr\n"
          ]
        },
        {
          "output_type": "stream",
          "name": "stdout",
          "text": [
            "\b\b\b\b\b\b\b\b\b\b\b\b\b\b\b\b\b\b\b\b\b\b\b\b\b\b\b\b\b\b\b\b\b\b\b\b\b\b\b\b\b\b\b\b\b\b\b\b\b\b\b\b\b\b\b\b\b\b\b\b\b\b\b\b\b\b\b\b\b\b\b\b\b\b\b\b\b\b\b\b\r8/8 [==============================] - 1s 81ms/step - loss: 0.1690 - accuracy: 0.9922 - val_loss: 2.1917 - val_accuracy: 0.4600 - lr: 0.0010\n",
            "Epoch 142/400\n",
            "7/8 [=========================>....] - ETA: 0s - loss: 0.1527 - accuracy: 0.9922"
          ]
        },
        {
          "output_type": "stream",
          "name": "stderr",
          "text": [
            "WARNING:tensorflow:Learning rate reduction is conditioned on metric `acc` which is not available. Available metrics are: loss,accuracy,val_loss,val_accuracy,lr\n"
          ]
        },
        {
          "output_type": "stream",
          "name": "stdout",
          "text": [
            "\b\b\b\b\b\b\b\b\b\b\b\b\b\b\b\b\b\b\b\b\b\b\b\b\b\b\b\b\b\b\b\b\b\b\b\b\b\b\b\b\b\b\b\b\b\b\b\b\b\b\b\b\b\b\b\b\b\b\b\b\b\b\b\b\b\b\b\b\b\b\b\b\b\b\b\b\b\b\b\b\r8/8 [==============================] - 1s 82ms/step - loss: 0.1565 - accuracy: 0.9911 - val_loss: 2.4902 - val_accuracy: 0.3800 - lr: 0.0010\n",
            "Epoch 143/400\n",
            "7/8 [=========================>....] - ETA: 0s - loss: 0.2382 - accuracy: 0.9643"
          ]
        },
        {
          "output_type": "stream",
          "name": "stderr",
          "text": [
            "WARNING:tensorflow:Learning rate reduction is conditioned on metric `acc` which is not available. Available metrics are: loss,accuracy,val_loss,val_accuracy,lr\n"
          ]
        },
        {
          "output_type": "stream",
          "name": "stdout",
          "text": [
            "\b\b\b\b\b\b\b\b\b\b\b\b\b\b\b\b\b\b\b\b\b\b\b\b\b\b\b\b\b\b\b\b\b\b\b\b\b\b\b\b\b\b\b\b\b\b\b\b\b\b\b\b\b\b\b\b\b\b\b\b\b\b\b\b\b\b\b\b\b\b\b\b\b\b\b\b\b\b\b\b\r8/8 [==============================] - 1s 82ms/step - loss: 0.2393 - accuracy: 0.9633 - val_loss: 4.7321 - val_accuracy: 0.3000 - lr: 0.0010\n",
            "Epoch 144/400\n",
            "7/8 [=========================>....] - ETA: 0s - loss: 0.2062 - accuracy: 0.9721"
          ]
        },
        {
          "output_type": "stream",
          "name": "stderr",
          "text": [
            "WARNING:tensorflow:Learning rate reduction is conditioned on metric `acc` which is not available. Available metrics are: loss,accuracy,val_loss,val_accuracy,lr\n"
          ]
        },
        {
          "output_type": "stream",
          "name": "stdout",
          "text": [
            "\b\b\b\b\b\b\b\b\b\b\b\b\b\b\b\b\b\b\b\b\b\b\b\b\b\b\b\b\b\b\b\b\b\b\b\b\b\b\b\b\b\b\b\b\b\b\b\b\b\b\b\b\b\b\b\b\b\b\b\b\b\b\b\b\b\b\b\b\b\b\b\b\b\b\b\b\b\b\b\b\r8/8 [==============================] - 1s 82ms/step - loss: 0.2058 - accuracy: 0.9722 - val_loss: 2.9151 - val_accuracy: 0.3700 - lr: 0.0010\n",
            "Epoch 145/400\n",
            "7/8 [=========================>....] - ETA: 0s - loss: 0.1812 - accuracy: 0.9866"
          ]
        },
        {
          "output_type": "stream",
          "name": "stderr",
          "text": [
            "WARNING:tensorflow:Learning rate reduction is conditioned on metric `acc` which is not available. Available metrics are: loss,accuracy,val_loss,val_accuracy,lr\n"
          ]
        },
        {
          "output_type": "stream",
          "name": "stdout",
          "text": [
            "\b\b\b\b\b\b\b\b\b\b\b\b\b\b\b\b\b\b\b\b\b\b\b\b\b\b\b\b\b\b\b\b\b\b\b\b\b\b\b\b\b\b\b\b\b\b\b\b\b\b\b\b\b\b\b\b\b\b\b\b\b\b\b\b\b\b\b\b\b\b\b\b\b\b\b\b\b\b\b\b\r8/8 [==============================] - 1s 82ms/step - loss: 0.1812 - accuracy: 0.9867 - val_loss: 2.5429 - val_accuracy: 0.4400 - lr: 0.0010\n",
            "Epoch 146/400\n",
            "7/8 [=========================>....] - ETA: 0s - loss: 0.1626 - accuracy: 0.9922"
          ]
        },
        {
          "output_type": "stream",
          "name": "stderr",
          "text": [
            "WARNING:tensorflow:Learning rate reduction is conditioned on metric `acc` which is not available. Available metrics are: loss,accuracy,val_loss,val_accuracy,lr\n"
          ]
        },
        {
          "output_type": "stream",
          "name": "stdout",
          "text": [
            "\b\b\b\b\b\b\b\b\b\b\b\b\b\b\b\b\b\b\b\b\b\b\b\b\b\b\b\b\b\b\b\b\b\b\b\b\b\b\b\b\b\b\b\b\b\b\b\b\b\b\b\b\b\b\b\b\b\b\b\b\b\b\b\b\b\b\b\b\b\b\b\b\b\b\b\b\b\b\b\b\r8/8 [==============================] - 1s 86ms/step - loss: 0.1625 - accuracy: 0.9922 - val_loss: 2.9686 - val_accuracy: 0.3500 - lr: 0.0010\n",
            "Epoch 147/400\n",
            "7/8 [=========================>....] - ETA: 0s - loss: 0.1488 - accuracy: 0.9967"
          ]
        },
        {
          "output_type": "stream",
          "name": "stderr",
          "text": [
            "WARNING:tensorflow:Learning rate reduction is conditioned on metric `acc` which is not available. Available metrics are: loss,accuracy,val_loss,val_accuracy,lr\n"
          ]
        },
        {
          "output_type": "stream",
          "name": "stdout",
          "text": [
            "\b\b\b\b\b\b\b\b\b\b\b\b\b\b\b\b\b\b\b\b\b\b\b\b\b\b\b\b\b\b\b\b\b\b\b\b\b\b\b\b\b\b\b\b\b\b\b\b\b\b\b\b\b\b\b\b\b\b\b\b\b\b\b\b\b\b\b\b\b\b\b\b\b\b\b\b\b\b\b\b\r8/8 [==============================] - 1s 82ms/step - loss: 0.1499 - accuracy: 0.9967 - val_loss: 3.8999 - val_accuracy: 0.2600 - lr: 0.0010\n",
            "Epoch 148/400\n",
            "7/8 [=========================>....] - ETA: 0s - loss: 0.1727 - accuracy: 0.9833"
          ]
        },
        {
          "output_type": "stream",
          "name": "stderr",
          "text": [
            "WARNING:tensorflow:Learning rate reduction is conditioned on metric `acc` which is not available. Available metrics are: loss,accuracy,val_loss,val_accuracy,lr\n"
          ]
        },
        {
          "output_type": "stream",
          "name": "stdout",
          "text": [
            "\b\b\b\b\b\b\b\b\b\b\b\b\b\b\b\b\b\b\b\b\b\b\b\b\b\b\b\b\b\b\b\b\b\b\b\b\b\b\b\b\b\b\b\b\b\b\b\b\b\b\b\b\b\b\b\b\b\b\b\b\b\b\b\b\b\b\b\b\b\b\b\b\b\b\b\b\b\b\b\b\r8/8 [==============================] - 1s 88ms/step - loss: 0.1737 - accuracy: 0.9833 - val_loss: 3.7714 - val_accuracy: 0.2700 - lr: 0.0010\n",
            "Epoch 149/400\n",
            "7/8 [=========================>....] - ETA: 0s - loss: 0.1848 - accuracy: 0.9754"
          ]
        },
        {
          "output_type": "stream",
          "name": "stderr",
          "text": [
            "WARNING:tensorflow:Learning rate reduction is conditioned on metric `acc` which is not available. Available metrics are: loss,accuracy,val_loss,val_accuracy,lr\n"
          ]
        },
        {
          "output_type": "stream",
          "name": "stdout",
          "text": [
            "\b\b\b\b\b\b\b\b\b\b\b\b\b\b\b\b\b\b\b\b\b\b\b\b\b\b\b\b\b\b\b\b\b\b\b\b\b\b\b\b\b\b\b\b\b\b\b\b\b\b\b\b\b\b\b\b\b\b\b\b\b\b\b\b\b\b\b\b\b\b\b\b\b\b\b\b\b\b\b\b\r8/8 [==============================] - 1s 81ms/step - loss: 0.1857 - accuracy: 0.9744 - val_loss: 3.6066 - val_accuracy: 0.3400 - lr: 0.0010\n",
            "Epoch 150/400\n",
            "7/8 [=========================>....] - ETA: 0s - loss: 0.2036 - accuracy: 0.9665"
          ]
        },
        {
          "output_type": "stream",
          "name": "stderr",
          "text": [
            "WARNING:tensorflow:Learning rate reduction is conditioned on metric `acc` which is not available. Available metrics are: loss,accuracy,val_loss,val_accuracy,lr\n"
          ]
        },
        {
          "output_type": "stream",
          "name": "stdout",
          "text": [
            "\b\b\b\b\b\b\b\b\b\b\b\b\b\b\b\b\b\b\b\b\b\b\b\b\b\b\b\b\b\b\b\b\b\b\b\b\b\b\b\b\b\b\b\b\b\b\b\b\b\b\b\b\b\b\b\b\b\b\b\b\b\b\b\b\b\b\b\b\b\b\b\b\b\b\b\b\b\b\b\b\r8/8 [==============================] - 1s 82ms/step - loss: 0.2038 - accuracy: 0.9667 - val_loss: 2.8479 - val_accuracy: 0.3800 - lr: 0.0010\n",
            "Epoch 151/400\n",
            "7/8 [=========================>....] - ETA: 0s - loss: 0.1745 - accuracy: 0.9821"
          ]
        },
        {
          "output_type": "stream",
          "name": "stderr",
          "text": [
            "WARNING:tensorflow:Learning rate reduction is conditioned on metric `acc` which is not available. Available metrics are: loss,accuracy,val_loss,val_accuracy,lr\n"
          ]
        },
        {
          "output_type": "stream",
          "name": "stdout",
          "text": [
            "\b\b\b\b\b\b\b\b\b\b\b\b\b\b\b\b\b\b\b\b\b\b\b\b\b\b\b\b\b\b\b\b\b\b\b\b\b\b\b\b\b\b\b\b\b\b\b\b\b\b\b\b\b\b\b\b\b\b\b\b\b\b\b\b\b\b\b\b\b\b\b\b\b\b\b\b\b\b\b\b\r8/8 [==============================] - 1s 82ms/step - loss: 0.1759 - accuracy: 0.9811 - val_loss: 3.5089 - val_accuracy: 0.2900 - lr: 0.0010\n",
            "Epoch 152/400\n",
            "7/8 [=========================>....] - ETA: 0s - loss: 0.1958 - accuracy: 0.9766"
          ]
        },
        {
          "output_type": "stream",
          "name": "stderr",
          "text": [
            "WARNING:tensorflow:Learning rate reduction is conditioned on metric `acc` which is not available. Available metrics are: loss,accuracy,val_loss,val_accuracy,lr\n"
          ]
        },
        {
          "output_type": "stream",
          "name": "stdout",
          "text": [
            "\b\b\b\b\b\b\b\b\b\b\b\b\b\b\b\b\b\b\b\b\b\b\b\b\b\b\b\b\b\b\b\b\b\b\b\b\b\b\b\b\b\b\b\b\b\b\b\b\b\b\b\b\b\b\b\b\b\b\b\b\b\b\b\b\b\b\b\b\b\b\b\b\b\b\b\b\b\b\b\b\r8/8 [==============================] - 1s 81ms/step - loss: 0.1957 - accuracy: 0.9767 - val_loss: 3.1546 - val_accuracy: 0.3600 - lr: 0.0010\n",
            "Epoch 153/400\n",
            "7/8 [=========================>....] - ETA: 0s - loss: 0.1686 - accuracy: 0.9821"
          ]
        },
        {
          "output_type": "stream",
          "name": "stderr",
          "text": [
            "WARNING:tensorflow:Learning rate reduction is conditioned on metric `acc` which is not available. Available metrics are: loss,accuracy,val_loss,val_accuracy,lr\n"
          ]
        },
        {
          "output_type": "stream",
          "name": "stdout",
          "text": [
            "\b\b\b\b\b\b\b\b\b\b\b\b\b\b\b\b\b\b\b\b\b\b\b\b\b\b\b\b\b\b\b\b\b\b\b\b\b\b\b\b\b\b\b\b\b\b\b\b\b\b\b\b\b\b\b\b\b\b\b\b\b\b\b\b\b\b\b\b\b\b\b\b\b\b\b\b\b\b\b\b\r8/8 [==============================] - 1s 84ms/step - loss: 0.1687 - accuracy: 0.9822 - val_loss: 2.5435 - val_accuracy: 0.3900 - lr: 0.0010\n",
            "Epoch 154/400\n",
            "7/8 [=========================>....] - ETA: 0s - loss: 0.1466 - accuracy: 0.9967"
          ]
        },
        {
          "output_type": "stream",
          "name": "stderr",
          "text": [
            "WARNING:tensorflow:Learning rate reduction is conditioned on metric `acc` which is not available. Available metrics are: loss,accuracy,val_loss,val_accuracy,lr\n"
          ]
        },
        {
          "output_type": "stream",
          "name": "stdout",
          "text": [
            "\b\b\b\b\b\b\b\b\b\b\b\b\b\b\b\b\b\b\b\b\b\b\b\b\b\b\b\b\b\b\b\b\b\b\b\b\b\b\b\b\b\b\b\b\b\b\b\b\b\b\b\b\b\b\b\b\b\b\b\b\b\b\b\b\b\b\b\b\b\b\b\b\b\b\b\b\b\b\b\b\r8/8 [==============================] - 1s 86ms/step - loss: 0.1468 - accuracy: 0.9967 - val_loss: 4.1558 - val_accuracy: 0.2700 - lr: 0.0010\n",
            "Epoch 155/400\n",
            "7/8 [=========================>....] - ETA: 0s - loss: 0.1524 - accuracy: 0.9933"
          ]
        },
        {
          "output_type": "stream",
          "name": "stderr",
          "text": [
            "WARNING:tensorflow:Learning rate reduction is conditioned on metric `acc` which is not available. Available metrics are: loss,accuracy,val_loss,val_accuracy,lr\n"
          ]
        },
        {
          "output_type": "stream",
          "name": "stdout",
          "text": [
            "\b\b\b\b\b\b\b\b\b\b\b\b\b\b\b\b\b\b\b\b\b\b\b\b\b\b\b\b\b\b\b\b\b\b\b\b\b\b\b\b\b\b\b\b\b\b\b\b\b\b\b\b\b\b\b\b\b\b\b\b\b\b\b\b\b\b\b\b\b\b\b\b\b\b\b\b\b\b\b\b\r8/8 [==============================] - 1s 86ms/step - loss: 0.1563 - accuracy: 0.9922 - val_loss: 2.5353 - val_accuracy: 0.4200 - lr: 0.0010\n",
            "Epoch 156/400\n",
            "7/8 [=========================>....] - ETA: 0s - loss: 0.3348 - accuracy: 0.9464"
          ]
        },
        {
          "output_type": "stream",
          "name": "stderr",
          "text": [
            "WARNING:tensorflow:Learning rate reduction is conditioned on metric `acc` which is not available. Available metrics are: loss,accuracy,val_loss,val_accuracy,lr\n"
          ]
        },
        {
          "output_type": "stream",
          "name": "stdout",
          "text": [
            "\b\b\b\b\b\b\b\b\b\b\b\b\b\b\b\b\b\b\b\b\b\b\b\b\b\b\b\b\b\b\b\b\b\b\b\b\b\b\b\b\b\b\b\b\b\b\b\b\b\b\b\b\b\b\b\b\b\b\b\b\b\b\b\b\b\b\b\b\b\b\b\b\b\b\b\b\b\b\b\b\r8/8 [==============================] - 1s 88ms/step - loss: 0.3372 - accuracy: 0.9456 - val_loss: 6.2090 - val_accuracy: 0.2500 - lr: 0.0010\n",
            "Epoch 157/400\n",
            "7/8 [=========================>....] - ETA: 0s - loss: 0.3536 - accuracy: 0.9308"
          ]
        },
        {
          "output_type": "stream",
          "name": "stderr",
          "text": [
            "WARNING:tensorflow:Learning rate reduction is conditioned on metric `acc` which is not available. Available metrics are: loss,accuracy,val_loss,val_accuracy,lr\n"
          ]
        },
        {
          "output_type": "stream",
          "name": "stdout",
          "text": [
            "\b\b\b\b\b\b\b\b\b\b\b\b\b\b\b\b\b\b\b\b\b\b\b\b\b\b\b\b\b\b\b\b\b\b\b\b\b\b\b\b\b\b\b\b\b\b\b\b\b\b\b\b\b\b\b\b\b\b\b\b\b\b\b\b\b\b\b\b\b\b\b\b\b\b\b\b\b\b\b\b\r8/8 [==============================] - 1s 83ms/step - loss: 0.3538 - accuracy: 0.9311 - val_loss: 6.6215 - val_accuracy: 0.2500 - lr: 0.0010\n",
            "Epoch 158/400\n",
            "7/8 [=========================>....] - ETA: 0s - loss: 0.3127 - accuracy: 0.9464"
          ]
        },
        {
          "output_type": "stream",
          "name": "stderr",
          "text": [
            "WARNING:tensorflow:Learning rate reduction is conditioned on metric `acc` which is not available. Available metrics are: loss,accuracy,val_loss,val_accuracy,lr\n"
          ]
        },
        {
          "output_type": "stream",
          "name": "stdout",
          "text": [
            "\b\b\b\b\b\b\b\b\b\b\b\b\b\b\b\b\b\b\b\b\b\b\b\b\b\b\b\b\b\b\b\b\b\b\b\b\b\b\b\b\b\b\b\b\b\b\b\b\b\b\b\b\b\b\b\b\b\b\b\b\b\b\b\b\b\b\b\b\b\b\b\b\b\b\b\b\b\b\b\b\r8/8 [==============================] - 1s 88ms/step - loss: 0.3119 - accuracy: 0.9467 - val_loss: 4.5091 - val_accuracy: 0.3100 - lr: 0.0010\n",
            "Epoch 159/400\n",
            "7/8 [=========================>....] - ETA: 0s - loss: 0.2282 - accuracy: 0.9754"
          ]
        },
        {
          "output_type": "stream",
          "name": "stderr",
          "text": [
            "WARNING:tensorflow:Learning rate reduction is conditioned on metric `acc` which is not available. Available metrics are: loss,accuracy,val_loss,val_accuracy,lr\n"
          ]
        },
        {
          "output_type": "stream",
          "name": "stdout",
          "text": [
            "\b\b\b\b\b\b\b\b\b\b\b\b\b\b\b\b\b\b\b\b\b\b\b\b\b\b\b\b\b\b\b\b\b\b\b\b\b\b\b\b\b\b\b\b\b\b\b\b\b\b\b\b\b\b\b\b\b\b\b\b\b\b\b\b\b\b\b\b\b\b\b\b\b\b\b\b\b\b\b\b\r8/8 [==============================] - 1s 81ms/step - loss: 0.2333 - accuracy: 0.9733 - val_loss: 4.1636 - val_accuracy: 0.2800 - lr: 0.0010\n",
            "Epoch 160/400\n",
            "7/8 [=========================>....] - ETA: 0s - loss: 0.5236 - accuracy: 0.8850"
          ]
        },
        {
          "output_type": "stream",
          "name": "stderr",
          "text": [
            "WARNING:tensorflow:Learning rate reduction is conditioned on metric `acc` which is not available. Available metrics are: loss,accuracy,val_loss,val_accuracy,lr\n"
          ]
        },
        {
          "output_type": "stream",
          "name": "stdout",
          "text": [
            "\b\b\b\b\b\b\b\b\b\b\b\b\b\b\b\b\b\b\b\b\b\b\b\b\b\b\b\b\b\b\b\b\b\b\b\b\b\b\b\b\b\b\b\b\b\b\b\b\b\b\b\b\b\b\b\b\b\b\b\b\b\b\b\b\b\b\b\b\b\b\b\b\b\b\b\b\b\b\b\b\r8/8 [==============================] - 1s 82ms/step - loss: 0.5236 - accuracy: 0.8844 - val_loss: 6.0789 - val_accuracy: 0.3400 - lr: 0.0010\n",
            "Epoch 161/400\n",
            "7/8 [=========================>....] - ETA: 0s - loss: 0.2923 - accuracy: 0.9531"
          ]
        },
        {
          "output_type": "stream",
          "name": "stderr",
          "text": [
            "WARNING:tensorflow:Learning rate reduction is conditioned on metric `acc` which is not available. Available metrics are: loss,accuracy,val_loss,val_accuracy,lr\n"
          ]
        },
        {
          "output_type": "stream",
          "name": "stdout",
          "text": [
            "\b\b\b\b\b\b\b\b\b\b\b\b\b\b\b\b\b\b\b\b\b\b\b\b\b\b\b\b\b\b\b\b\b\b\b\b\b\b\b\b\b\b\b\b\b\b\b\b\b\b\b\b\b\b\b\b\b\b\b\b\b\b\b\b\b\b\b\b\b\b\b\b\b\b\b\b\b\b\b\b\r8/8 [==============================] - 1s 82ms/step - loss: 0.3023 - accuracy: 0.9500 - val_loss: 11.0982 - val_accuracy: 0.2000 - lr: 0.0010\n",
            "Epoch 162/400\n",
            "7/8 [=========================>....] - ETA: 0s - loss: 0.5120 - accuracy: 0.8694"
          ]
        },
        {
          "output_type": "stream",
          "name": "stderr",
          "text": [
            "WARNING:tensorflow:Learning rate reduction is conditioned on metric `acc` which is not available. Available metrics are: loss,accuracy,val_loss,val_accuracy,lr\n"
          ]
        },
        {
          "output_type": "stream",
          "name": "stdout",
          "text": [
            "\b\b\b\b\b\b\b\b\b\b\b\b\b\b\b\b\b\b\b\b\b\b\b\b\b\b\b\b\b\b\b\b\b\b\b\b\b\b\b\b\b\b\b\b\b\b\b\b\b\b\b\b\b\b\b\b\b\b\b\b\b\b\b\b\b\b\b\b\b\b\b\b\b\b\b\b\b\b\b\b\r8/8 [==============================] - 1s 89ms/step - loss: 0.5112 - accuracy: 0.8700 - val_loss: 22.0850 - val_accuracy: 0.1000 - lr: 0.0010\n",
            "Epoch 163/400\n",
            "7/8 [=========================>....] - ETA: 0s - loss: 0.3881 - accuracy: 0.9241"
          ]
        },
        {
          "output_type": "stream",
          "name": "stderr",
          "text": [
            "WARNING:tensorflow:Learning rate reduction is conditioned on metric `acc` which is not available. Available metrics are: loss,accuracy,val_loss,val_accuracy,lr\n"
          ]
        },
        {
          "output_type": "stream",
          "name": "stdout",
          "text": [
            "\b\b\b\b\b\b\b\b\b\b\b\b\b\b\b\b\b\b\b\b\b\b\b\b\b\b\b\b\b\b\b\b\b\b\b\b\b\b\b\b\b\b\b\b\b\b\b\b\b\b\b\b\b\b\b\b\b\b\b\b\b\b\b\b\b\b\b\b\b\b\b\b\b\b\b\b\b\b\b\b\r8/8 [==============================] - 1s 82ms/step - loss: 0.3904 - accuracy: 0.9233 - val_loss: 4.8686 - val_accuracy: 0.3600 - lr: 0.0010\n",
            "Epoch 164/400\n",
            "7/8 [=========================>....] - ETA: 0s - loss: 0.3294 - accuracy: 0.9487"
          ]
        },
        {
          "output_type": "stream",
          "name": "stderr",
          "text": [
            "WARNING:tensorflow:Learning rate reduction is conditioned on metric `acc` which is not available. Available metrics are: loss,accuracy,val_loss,val_accuracy,lr\n"
          ]
        },
        {
          "output_type": "stream",
          "name": "stdout",
          "text": [
            "\b\b\b\b\b\b\b\b\b\b\b\b\b\b\b\b\b\b\b\b\b\b\b\b\b\b\b\b\b\b\b\b\b\b\b\b\b\b\b\b\b\b\b\b\b\b\b\b\b\b\b\b\b\b\b\b\b\b\b\b\b\b\b\b\b\b\b\b\b\b\b\b\b\b\b\b\b\b\b\b\r8/8 [==============================] - 1s 83ms/step - loss: 0.3324 - accuracy: 0.9478 - val_loss: 3.5781 - val_accuracy: 0.3800 - lr: 0.0010\n",
            "Epoch 165/400\n",
            "7/8 [=========================>....] - ETA: 0s - loss: 0.3296 - accuracy: 0.9342"
          ]
        },
        {
          "output_type": "stream",
          "name": "stderr",
          "text": [
            "WARNING:tensorflow:Learning rate reduction is conditioned on metric `acc` which is not available. Available metrics are: loss,accuracy,val_loss,val_accuracy,lr\n"
          ]
        },
        {
          "output_type": "stream",
          "name": "stdout",
          "text": [
            "\b\b\b\b\b\b\b\b\b\b\b\b\b\b\b\b\b\b\b\b\b\b\b\b\b\b\b\b\b\b\b\b\b\b\b\b\b\b\b\b\b\b\b\b\b\b\b\b\b\b\b\b\b\b\b\b\b\b\b\b\b\b\b\b\b\b\b\b\b\b\b\b\b\b\b\b\b\b\b\b\r8/8 [==============================] - 1s 87ms/step - loss: 0.3318 - accuracy: 0.9322 - val_loss: 5.5700 - val_accuracy: 0.2300 - lr: 0.0010\n",
            "Epoch 166/400\n",
            "7/8 [=========================>....] - ETA: 0s - loss: 0.3025 - accuracy: 0.9487"
          ]
        },
        {
          "output_type": "stream",
          "name": "stderr",
          "text": [
            "WARNING:tensorflow:Learning rate reduction is conditioned on metric `acc` which is not available. Available metrics are: loss,accuracy,val_loss,val_accuracy,lr\n"
          ]
        },
        {
          "output_type": "stream",
          "name": "stdout",
          "text": [
            "\b\b\b\b\b\b\b\b\b\b\b\b\b\b\b\b\b\b\b\b\b\b\b\b\b\b\b\b\b\b\b\b\b\b\b\b\b\b\b\b\b\b\b\b\b\b\b\b\b\b\b\b\b\b\b\b\b\b\b\b\b\b\b\b\b\b\b\b\b\b\b\b\b\b\b\b\b\b\b\b\r8/8 [==============================] - 1s 82ms/step - loss: 0.3043 - accuracy: 0.9478 - val_loss: 4.5499 - val_accuracy: 0.2800 - lr: 0.0010\n",
            "Epoch 167/400\n",
            "7/8 [=========================>....] - ETA: 0s - loss: 0.2446 - accuracy: 0.9688"
          ]
        },
        {
          "output_type": "stream",
          "name": "stderr",
          "text": [
            "WARNING:tensorflow:Learning rate reduction is conditioned on metric `acc` which is not available. Available metrics are: loss,accuracy,val_loss,val_accuracy,lr\n"
          ]
        },
        {
          "output_type": "stream",
          "name": "stdout",
          "text": [
            "\b\b\b\b\b\b\b\b\b\b\b\b\b\b\b\b\b\b\b\b\b\b\b\b\b\b\b\b\b\b\b\b\b\b\b\b\b\b\b\b\b\b\b\b\b\b\b\b\b\b\b\b\b\b\b\b\b\b\b\b\b\b\b\b\b\b\b\b\b\b\b\b\b\b\b\b\b\b\b\b\r8/8 [==============================] - 1s 88ms/step - loss: 0.2479 - accuracy: 0.9678 - val_loss: 5.0618 - val_accuracy: 0.2600 - lr: 0.0010\n",
            "Epoch 168/400\n",
            "7/8 [=========================>....] - ETA: 0s - loss: 0.5143 - accuracy: 0.8973"
          ]
        },
        {
          "output_type": "stream",
          "name": "stderr",
          "text": [
            "WARNING:tensorflow:Learning rate reduction is conditioned on metric `acc` which is not available. Available metrics are: loss,accuracy,val_loss,val_accuracy,lr\n"
          ]
        },
        {
          "output_type": "stream",
          "name": "stdout",
          "text": [
            "\b\b\b\b\b\b\b\b\b\b\b\b\b\b\b\b\b\b\b\b\b\b\b\b\b\b\b\b\b\b\b\b\b\b\b\b\b\b\b\b\b\b\b\b\b\b\b\b\b\b\b\b\b\b\b\b\b\b\b\b\b\b\b\b\b\b\b\b\b\b\b\b\b\b\b\b\b\b\b\b\r8/8 [==============================] - 1s 86ms/step - loss: 0.5153 - accuracy: 0.8967 - val_loss: 5.9076 - val_accuracy: 0.1800 - lr: 0.0010\n",
            "Epoch 169/400\n",
            "7/8 [=========================>....] - ETA: 0s - loss: 0.3733 - accuracy: 0.9353"
          ]
        },
        {
          "output_type": "stream",
          "name": "stderr",
          "text": [
            "WARNING:tensorflow:Learning rate reduction is conditioned on metric `acc` which is not available. Available metrics are: loss,accuracy,val_loss,val_accuracy,lr\n"
          ]
        },
        {
          "output_type": "stream",
          "name": "stdout",
          "text": [
            "\b\b\b\b\b\b\b\b\b\b\b\b\b\b\b\b\b\b\b\b\b\b\b\b\b\b\b\b\b\b\b\b\b\b\b\b\b\b\b\b\b\b\b\b\b\b\b\b\b\b\b\b\b\b\b\b\b\b\b\b\b\b\b\b\b\b\b\b\b\b\b\b\b\b\b\b\b\b\b\b\r8/8 [==============================] - 1s 82ms/step - loss: 0.3728 - accuracy: 0.9356 - val_loss: 6.6267 - val_accuracy: 0.2100 - lr: 0.0010\n",
            "Epoch 170/400\n",
            "7/8 [=========================>....] - ETA: 0s - loss: 0.2840 - accuracy: 0.9498"
          ]
        },
        {
          "output_type": "stream",
          "name": "stderr",
          "text": [
            "WARNING:tensorflow:Learning rate reduction is conditioned on metric `acc` which is not available. Available metrics are: loss,accuracy,val_loss,val_accuracy,lr\n"
          ]
        },
        {
          "output_type": "stream",
          "name": "stdout",
          "text": [
            "\b\b\b\b\b\b\b\b\b\b\b\b\b\b\b\b\b\b\b\b\b\b\b\b\b\b\b\b\b\b\b\b\b\b\b\b\b\b\b\b\b\b\b\b\b\b\b\b\b\b\b\b\b\b\b\b\b\b\b\b\b\b\b\b\b\b\b\b\b\b\b\b\b\b\b\b\b\b\b\b\r8/8 [==============================] - 1s 83ms/step - loss: 0.2845 - accuracy: 0.9500 - val_loss: 3.3107 - val_accuracy: 0.3900 - lr: 0.0010\n",
            "Epoch 171/400\n",
            "7/8 [=========================>....] - ETA: 0s - loss: 0.2227 - accuracy: 0.9777"
          ]
        },
        {
          "output_type": "stream",
          "name": "stderr",
          "text": [
            "WARNING:tensorflow:Learning rate reduction is conditioned on metric `acc` which is not available. Available metrics are: loss,accuracy,val_loss,val_accuracy,lr\n"
          ]
        },
        {
          "output_type": "stream",
          "name": "stdout",
          "text": [
            "\b\b\b\b\b\b\b\b\b\b\b\b\b\b\b\b\b\b\b\b\b\b\b\b\b\b\b\b\b\b\b\b\b\b\b\b\b\b\b\b\b\b\b\b\b\b\b\b\b\b\b\b\b\b\b\b\b\b\b\b\b\b\b\b\b\b\b\b\b\b\b\b\b\b\b\b\b\b\b\b\r8/8 [==============================] - 1s 83ms/step - loss: 0.2252 - accuracy: 0.9756 - val_loss: 2.9504 - val_accuracy: 0.3500 - lr: 0.0010\n",
            "Epoch 172/400\n",
            "7/8 [=========================>....] - ETA: 0s - loss: 0.2978 - accuracy: 0.9453"
          ]
        },
        {
          "output_type": "stream",
          "name": "stderr",
          "text": [
            "WARNING:tensorflow:Learning rate reduction is conditioned on metric `acc` which is not available. Available metrics are: loss,accuracy,val_loss,val_accuracy,lr\n"
          ]
        },
        {
          "output_type": "stream",
          "name": "stdout",
          "text": [
            "\b\b\b\b\b\b\b\b\b\b\b\b\b\b\b\b\b\b\b\b\b\b\b\b\b\b\b\b\b\b\b\b\b\b\b\b\b\b\b\b\b\b\b\b\b\b\b\b\b\b\b\b\b\b\b\b\b\b\b\b\b\b\b\b\b\b\b\b\b\b\b\b\b\b\b\b\b\b\b\b\r8/8 [==============================] - 1s 93ms/step - loss: 0.3003 - accuracy: 0.9444 - val_loss: 3.0522 - val_accuracy: 0.3200 - lr: 0.0010\n",
            "Epoch 173/400\n",
            "7/8 [=========================>....] - ETA: 0s - loss: 0.3171 - accuracy: 0.9342"
          ]
        },
        {
          "output_type": "stream",
          "name": "stderr",
          "text": [
            "WARNING:tensorflow:Learning rate reduction is conditioned on metric `acc` which is not available. Available metrics are: loss,accuracy,val_loss,val_accuracy,lr\n"
          ]
        },
        {
          "output_type": "stream",
          "name": "stdout",
          "text": [
            "\b\b\b\b\b\b\b\b\b\b\b\b\b\b\b\b\b\b\b\b\b\b\b\b\b\b\b\b\b\b\b\b\b\b\b\b\b\b\b\b\b\b\b\b\b\b\b\b\b\b\b\b\b\b\b\b\b\b\b\b\b\b\b\b\b\b\b\b\b\b\b\b\b\b\b\b\b\b\b\b\r8/8 [==============================] - 1s 92ms/step - loss: 0.3171 - accuracy: 0.9344 - val_loss: 3.5491 - val_accuracy: 0.3500 - lr: 0.0010\n",
            "Epoch 174/400\n",
            "7/8 [=========================>....] - ETA: 0s - loss: 0.2279 - accuracy: 0.9743"
          ]
        },
        {
          "output_type": "stream",
          "name": "stderr",
          "text": [
            "WARNING:tensorflow:Learning rate reduction is conditioned on metric `acc` which is not available. Available metrics are: loss,accuracy,val_loss,val_accuracy,lr\n"
          ]
        },
        {
          "output_type": "stream",
          "name": "stdout",
          "text": [
            "\b\b\b\b\b\b\b\b\b\b\b\b\b\b\b\b\b\b\b\b\b\b\b\b\b\b\b\b\b\b\b\b\b\b\b\b\b\b\b\b\b\b\b\b\b\b\b\b\b\b\b\b\b\b\b\b\b\b\b\b\b\b\b\b\b\b\b\b\b\b\b\b\b\b\b\b\b\b\b\b\r8/8 [==============================] - 1s 91ms/step - loss: 0.2294 - accuracy: 0.9733 - val_loss: 3.5652 - val_accuracy: 0.3000 - lr: 0.0010\n",
            "Epoch 175/400\n",
            "7/8 [=========================>....] - ETA: 0s - loss: 0.2040 - accuracy: 0.9821"
          ]
        },
        {
          "output_type": "stream",
          "name": "stderr",
          "text": [
            "WARNING:tensorflow:Learning rate reduction is conditioned on metric `acc` which is not available. Available metrics are: loss,accuracy,val_loss,val_accuracy,lr\n"
          ]
        },
        {
          "output_type": "stream",
          "name": "stdout",
          "text": [
            "\b\b\b\b\b\b\b\b\b\b\b\b\b\b\b\b\b\b\b\b\b\b\b\b\b\b\b\b\b\b\b\b\b\b\b\b\b\b\b\b\b\b\b\b\b\b\b\b\b\b\b\b\b\b\b\b\b\b\b\b\b\b\b\b\b\b\b\b\b\b\b\b\b\b\b\b\b\b\b\b\r8/8 [==============================] - 1s 92ms/step - loss: 0.2039 - accuracy: 0.9822 - val_loss: 4.7032 - val_accuracy: 0.2400 - lr: 0.0010\n",
            "Epoch 176/400\n",
            "7/8 [=========================>....] - ETA: 0s - loss: 0.1826 - accuracy: 0.9866"
          ]
        },
        {
          "output_type": "stream",
          "name": "stderr",
          "text": [
            "WARNING:tensorflow:Learning rate reduction is conditioned on metric `acc` which is not available. Available metrics are: loss,accuracy,val_loss,val_accuracy,lr\n"
          ]
        },
        {
          "output_type": "stream",
          "name": "stdout",
          "text": [
            "\b\b\b\b\b\b\b\b\b\b\b\b\b\b\b\b\b\b\b\b\b\b\b\b\b\b\b\b\b\b\b\b\b\b\b\b\b\b\b\b\b\b\b\b\b\b\b\b\b\b\b\b\b\b\b\b\b\b\b\b\b\b\b\b\b\b\b\b\b\b\b\b\b\b\b\b\b\b\b\b\r8/8 [==============================] - 1s 87ms/step - loss: 0.1825 - accuracy: 0.9867 - val_loss: 3.0247 - val_accuracy: 0.3100 - lr: 0.0010\n",
            "Epoch 177/400\n",
            "7/8 [=========================>....] - ETA: 0s - loss: 0.1615 - accuracy: 0.9922"
          ]
        },
        {
          "output_type": "stream",
          "name": "stderr",
          "text": [
            "WARNING:tensorflow:Learning rate reduction is conditioned on metric `acc` which is not available. Available metrics are: loss,accuracy,val_loss,val_accuracy,lr\n"
          ]
        },
        {
          "output_type": "stream",
          "name": "stdout",
          "text": [
            "\b\b\b\b\b\b\b\b\b\b\b\b\b\b\b\b\b\b\b\b\b\b\b\b\b\b\b\b\b\b\b\b\b\b\b\b\b\b\b\b\b\b\b\b\b\b\b\b\b\b\b\b\b\b\b\b\b\b\b\b\b\b\b\b\b\b\b\b\b\b\b\b\b\b\b\b\b\b\b\b\r8/8 [==============================] - 1s 82ms/step - loss: 0.1627 - accuracy: 0.9922 - val_loss: 2.5002 - val_accuracy: 0.4200 - lr: 0.0010\n",
            "Epoch 178/400\n",
            "7/8 [=========================>....] - ETA: 0s - loss: 0.1570 - accuracy: 0.9955"
          ]
        },
        {
          "output_type": "stream",
          "name": "stderr",
          "text": [
            "WARNING:tensorflow:Learning rate reduction is conditioned on metric `acc` which is not available. Available metrics are: loss,accuracy,val_loss,val_accuracy,lr\n"
          ]
        },
        {
          "output_type": "stream",
          "name": "stdout",
          "text": [
            "\b\b\b\b\b\b\b\b\b\b\b\b\b\b\b\b\b\b\b\b\b\b\b\b\b\b\b\b\b\b\b\b\b\b\b\b\b\b\b\b\b\b\b\b\b\b\b\b\b\b\b\b\b\b\b\b\b\b\b\b\b\b\b\b\b\b\b\b\b\b\b\b\b\b\b\b\b\b\b\b\r8/8 [==============================] - 1s 83ms/step - loss: 0.1568 - accuracy: 0.9956 - val_loss: 3.7850 - val_accuracy: 0.2500 - lr: 0.0010\n",
            "Epoch 179/400\n",
            "7/8 [=========================>....] - ETA: 0s - loss: 0.1719 - accuracy: 0.9866"
          ]
        },
        {
          "output_type": "stream",
          "name": "stderr",
          "text": [
            "WARNING:tensorflow:Learning rate reduction is conditioned on metric `acc` which is not available. Available metrics are: loss,accuracy,val_loss,val_accuracy,lr\n"
          ]
        },
        {
          "output_type": "stream",
          "name": "stdout",
          "text": [
            "\b\b\b\b\b\b\b\b\b\b\b\b\b\b\b\b\b\b\b\b\b\b\b\b\b\b\b\b\b\b\b\b\b\b\b\b\b\b\b\b\b\b\b\b\b\b\b\b\b\b\b\b\b\b\b\b\b\b\b\b\b\b\b\b\b\b\b\b\b\b\b\b\b\b\b\b\b\b\b\b\r8/8 [==============================] - 1s 82ms/step - loss: 0.1747 - accuracy: 0.9856 - val_loss: 2.4950 - val_accuracy: 0.3900 - lr: 0.0010\n",
            "Epoch 180/400\n",
            "7/8 [=========================>....] - ETA: 0s - loss: 0.1701 - accuracy: 0.9844"
          ]
        },
        {
          "output_type": "stream",
          "name": "stderr",
          "text": [
            "WARNING:tensorflow:Learning rate reduction is conditioned on metric `acc` which is not available. Available metrics are: loss,accuracy,val_loss,val_accuracy,lr\n"
          ]
        },
        {
          "output_type": "stream",
          "name": "stdout",
          "text": [
            "\b\b\b\b\b\b\b\b\b\b\b\b\b\b\b\b\b\b\b\b\b\b\b\b\b\b\b\b\b\b\b\b\b\b\b\b\b\b\b\b\b\b\b\b\b\b\b\b\b\b\b\b\b\b\b\b\b\b\b\b\b\b\b\b\b\b\b\b\b\b\b\b\b\b\b\b\b\b\b\b\r8/8 [==============================] - 1s 82ms/step - loss: 0.1699 - accuracy: 0.9844 - val_loss: 2.7888 - val_accuracy: 0.4300 - lr: 0.0010\n",
            "Epoch 181/400\n",
            "7/8 [=========================>....] - ETA: 0s - loss: 0.1792 - accuracy: 0.9866"
          ]
        },
        {
          "output_type": "stream",
          "name": "stderr",
          "text": [
            "WARNING:tensorflow:Learning rate reduction is conditioned on metric `acc` which is not available. Available metrics are: loss,accuracy,val_loss,val_accuracy,lr\n"
          ]
        },
        {
          "output_type": "stream",
          "name": "stdout",
          "text": [
            "\b\b\b\b\b\b\b\b\b\b\b\b\b\b\b\b\b\b\b\b\b\b\b\b\b\b\b\b\b\b\b\b\b\b\b\b\b\b\b\b\b\b\b\b\b\b\b\b\b\b\b\b\b\b\b\b\b\b\b\b\b\b\b\b\b\b\b\b\b\b\b\b\b\b\b\b\b\b\b\b\r8/8 [==============================] - 1s 81ms/step - loss: 0.1791 - accuracy: 0.9867 - val_loss: 3.5057 - val_accuracy: 0.3900 - lr: 0.0010\n",
            "Epoch 182/400\n",
            "7/8 [=========================>....] - ETA: 0s - loss: 0.1552 - accuracy: 0.9888"
          ]
        },
        {
          "output_type": "stream",
          "name": "stderr",
          "text": [
            "WARNING:tensorflow:Learning rate reduction is conditioned on metric `acc` which is not available. Available metrics are: loss,accuracy,val_loss,val_accuracy,lr\n"
          ]
        },
        {
          "output_type": "stream",
          "name": "stdout",
          "text": [
            "\b\b\b\b\b\b\b\b\b\b\b\b\b\b\b\b\b\b\b\b\b\b\b\b\b\b\b\b\b\b\b\b\b\b\b\b\b\b\b\b\b\b\b\b\b\b\b\b\b\b\b\b\b\b\b\b\b\b\b\b\b\b\b\b\b\b\b\b\b\b\b\b\b\b\b\b\b\b\b\b\r8/8 [==============================] - 1s 82ms/step - loss: 0.1552 - accuracy: 0.9889 - val_loss: 3.2167 - val_accuracy: 0.4100 - lr: 0.0010\n",
            "Epoch 183/400\n",
            "7/8 [=========================>....] - ETA: 0s - loss: 0.1445 - accuracy: 0.9955"
          ]
        },
        {
          "output_type": "stream",
          "name": "stderr",
          "text": [
            "WARNING:tensorflow:Learning rate reduction is conditioned on metric `acc` which is not available. Available metrics are: loss,accuracy,val_loss,val_accuracy,lr\n"
          ]
        },
        {
          "output_type": "stream",
          "name": "stdout",
          "text": [
            "\b\b\b\b\b\b\b\b\b\b\b\b\b\b\b\b\b\b\b\b\b\b\b\b\b\b\b\b\b\b\b\b\b\b\b\b\b\b\b\b\b\b\b\b\b\b\b\b\b\b\b\b\b\b\b\b\b\b\b\b\b\b\b\b\b\b\b\b\b\b\b\b\b\b\b\b\b\b\b\b\r8/8 [==============================] - 1s 88ms/step - loss: 0.1450 - accuracy: 0.9956 - val_loss: 3.1195 - val_accuracy: 0.3900 - lr: 0.0010\n",
            "Epoch 184/400\n",
            "7/8 [=========================>....] - ETA: 0s - loss: 0.1385 - accuracy: 0.9978"
          ]
        },
        {
          "output_type": "stream",
          "name": "stderr",
          "text": [
            "WARNING:tensorflow:Learning rate reduction is conditioned on metric `acc` which is not available. Available metrics are: loss,accuracy,val_loss,val_accuracy,lr\n"
          ]
        },
        {
          "output_type": "stream",
          "name": "stdout",
          "text": [
            "\b\b\b\b\b\b\b\b\b\b\b\b\b\b\b\b\b\b\b\b\b\b\b\b\b\b\b\b\b\b\b\b\b\b\b\b\b\b\b\b\b\b\b\b\b\b\b\b\b\b\b\b\b\b\b\b\b\b\b\b\b\b\b\b\b\b\b\b\b\b\b\b\b\b\b\b\b\b\b\b\r8/8 [==============================] - 1s 82ms/step - loss: 0.1401 - accuracy: 0.9967 - val_loss: 3.1196 - val_accuracy: 0.4100 - lr: 0.0010\n",
            "Epoch 185/400\n",
            "7/8 [=========================>....] - ETA: 0s - loss: 0.1652 - accuracy: 0.9888"
          ]
        },
        {
          "output_type": "stream",
          "name": "stderr",
          "text": [
            "WARNING:tensorflow:Learning rate reduction is conditioned on metric `acc` which is not available. Available metrics are: loss,accuracy,val_loss,val_accuracy,lr\n"
          ]
        },
        {
          "output_type": "stream",
          "name": "stdout",
          "text": [
            "\b\b\b\b\b\b\b\b\b\b\b\b\b\b\b\b\b\b\b\b\b\b\b\b\b\b\b\b\b\b\b\b\b\b\b\b\b\b\b\b\b\b\b\b\b\b\b\b\b\b\b\b\b\b\b\b\b\b\b\b\b\b\b\b\b\b\b\b\b\b\b\b\b\b\b\b\b\b\b\b\r8/8 [==============================] - 1s 82ms/step - loss: 0.1715 - accuracy: 0.9856 - val_loss: 2.8943 - val_accuracy: 0.3300 - lr: 0.0010\n",
            "Epoch 186/400\n",
            "7/8 [=========================>....] - ETA: 0s - loss: 0.2999 - accuracy: 0.9386"
          ]
        },
        {
          "output_type": "stream",
          "name": "stderr",
          "text": [
            "WARNING:tensorflow:Learning rate reduction is conditioned on metric `acc` which is not available. Available metrics are: loss,accuracy,val_loss,val_accuracy,lr\n"
          ]
        },
        {
          "output_type": "stream",
          "name": "stdout",
          "text": [
            "\b\b\b\b\b\b\b\b\b\b\b\b\b\b\b\b\b\b\b\b\b\b\b\b\b\b\b\b\b\b\b\b\b\b\b\b\b\b\b\b\b\b\b\b\b\b\b\b\b\b\b\b\b\b\b\b\b\b\b\b\b\b\b\b\b\b\b\b\b\b\b\b\b\b\b\b\b\b\b\b\r8/8 [==============================] - 1s 82ms/step - loss: 0.3003 - accuracy: 0.9389 - val_loss: 3.9357 - val_accuracy: 0.4000 - lr: 0.0010\n",
            "Epoch 187/400\n",
            "7/8 [=========================>....] - ETA: 0s - loss: 0.3057 - accuracy: 0.9431"
          ]
        },
        {
          "output_type": "stream",
          "name": "stderr",
          "text": [
            "WARNING:tensorflow:Learning rate reduction is conditioned on metric `acc` which is not available. Available metrics are: loss,accuracy,val_loss,val_accuracy,lr\n"
          ]
        },
        {
          "output_type": "stream",
          "name": "stdout",
          "text": [
            "\b\b\b\b\b\b\b\b\b\b\b\b\b\b\b\b\b\b\b\b\b\b\b\b\b\b\b\b\b\b\b\b\b\b\b\b\b\b\b\b\b\b\b\b\b\b\b\b\b\b\b\b\b\b\b\b\b\b\b\b\b\b\b\b\b\b\b\b\b\b\b\b\b\b\b\b\b\b\b\b\r8/8 [==============================] - 1s 82ms/step - loss: 0.3080 - accuracy: 0.9422 - val_loss: 5.1860 - val_accuracy: 0.4000 - lr: 0.0010\n",
            "Epoch 188/400\n",
            "7/8 [=========================>....] - ETA: 0s - loss: 0.3872 - accuracy: 0.9208"
          ]
        },
        {
          "output_type": "stream",
          "name": "stderr",
          "text": [
            "WARNING:tensorflow:Learning rate reduction is conditioned on metric `acc` which is not available. Available metrics are: loss,accuracy,val_loss,val_accuracy,lr\n"
          ]
        },
        {
          "output_type": "stream",
          "name": "stdout",
          "text": [
            "\b\b\b\b\b\b\b\b\b\b\b\b\b\b\b\b\b\b\b\b\b\b\b\b\b\b\b\b\b\b\b\b\b\b\b\b\b\b\b\b\b\b\b\b\b\b\b\b\b\b\b\b\b\b\b\b\b\b\b\b\b\b\b\b\b\b\b\b\b\b\b\b\b\b\b\b\b\b\b\b\r8/8 [==============================] - 1s 81ms/step - loss: 0.3862 - accuracy: 0.9211 - val_loss: 13.0211 - val_accuracy: 0.1600 - lr: 0.0010\n",
            "Epoch 189/400\n",
            "7/8 [=========================>....] - ETA: 0s - loss: 0.3093 - accuracy: 0.9442"
          ]
        },
        {
          "output_type": "stream",
          "name": "stderr",
          "text": [
            "WARNING:tensorflow:Learning rate reduction is conditioned on metric `acc` which is not available. Available metrics are: loss,accuracy,val_loss,val_accuracy,lr\n"
          ]
        },
        {
          "output_type": "stream",
          "name": "stdout",
          "text": [
            "\b\b\b\b\b\b\b\b\b\b\b\b\b\b\b\b\b\b\b\b\b\b\b\b\b\b\b\b\b\b\b\b\b\b\b\b\b\b\b\b\b\b\b\b\b\b\b\b\b\b\b\b\b\b\b\b\b\b\b\b\b\b\b\b\b\b\b\b\b\b\b\b\b\b\b\b\b\b\b\b\r8/8 [==============================] - 1s 83ms/step - loss: 0.3127 - accuracy: 0.9422 - val_loss: 5.1759 - val_accuracy: 0.2600 - lr: 0.0010\n",
            "Epoch 190/400\n",
            "7/8 [=========================>....] - ETA: 0s - loss: 0.2816 - accuracy: 0.9565"
          ]
        },
        {
          "output_type": "stream",
          "name": "stderr",
          "text": [
            "WARNING:tensorflow:Learning rate reduction is conditioned on metric `acc` which is not available. Available metrics are: loss,accuracy,val_loss,val_accuracy,lr\n"
          ]
        },
        {
          "output_type": "stream",
          "name": "stdout",
          "text": [
            "\b\b\b\b\b\b\b\b\b\b\b\b\b\b\b\b\b\b\b\b\b\b\b\b\b\b\b\b\b\b\b\b\b\b\b\b\b\b\b\b\b\b\b\b\b\b\b\b\b\b\b\b\b\b\b\b\b\b\b\b\b\b\b\b\b\b\b\b\b\b\b\b\b\b\b\b\b\b\b\b\r8/8 [==============================] - 1s 89ms/step - loss: 0.2838 - accuracy: 0.9556 - val_loss: 5.5956 - val_accuracy: 0.2800 - lr: 0.0010\n",
            "Epoch 191/400\n",
            "7/8 [=========================>....] - ETA: 0s - loss: 0.2103 - accuracy: 0.9777"
          ]
        },
        {
          "output_type": "stream",
          "name": "stderr",
          "text": [
            "WARNING:tensorflow:Learning rate reduction is conditioned on metric `acc` which is not available. Available metrics are: loss,accuracy,val_loss,val_accuracy,lr\n"
          ]
        },
        {
          "output_type": "stream",
          "name": "stdout",
          "text": [
            "\b\b\b\b\b\b\b\b\b\b\b\b\b\b\b\b\b\b\b\b\b\b\b\b\b\b\b\b\b\b\b\b\b\b\b\b\b\b\b\b\b\b\b\b\b\b\b\b\b\b\b\b\b\b\b\b\b\b\b\b\b\b\b\b\b\b\b\b\b\b\b\b\b\b\b\b\b\b\b\b\r8/8 [==============================] - 1s 86ms/step - loss: 0.2163 - accuracy: 0.9744 - val_loss: 12.0740 - val_accuracy: 0.1800 - lr: 0.0010\n",
            "Epoch 192/400\n",
            "7/8 [=========================>....] - ETA: 0s - loss: 0.6519 - accuracy: 0.8371"
          ]
        },
        {
          "output_type": "stream",
          "name": "stderr",
          "text": [
            "WARNING:tensorflow:Learning rate reduction is conditioned on metric `acc` which is not available. Available metrics are: loss,accuracy,val_loss,val_accuracy,lr\n"
          ]
        },
        {
          "output_type": "stream",
          "name": "stdout",
          "text": [
            "\b\b\b\b\b\b\b\b\b\b\b\b\b\b\b\b\b\b\b\b\b\b\b\b\b\b\b\b\b\b\b\b\b\b\b\b\b\b\b\b\b\b\b\b\b\b\b\b\b\b\b\b\b\b\b\b\b\b\b\b\b\b\b\b\b\b\b\b\b\b\b\b\b\b\b\b\b\b\b\b\r8/8 [==============================] - 1s 89ms/step - loss: 0.6585 - accuracy: 0.8344 - val_loss: 8.7331 - val_accuracy: 0.2500 - lr: 0.0010\n",
            "Epoch 193/400\n",
            "7/8 [=========================>....] - ETA: 0s - loss: 0.6411 - accuracy: 0.8393"
          ]
        },
        {
          "output_type": "stream",
          "name": "stderr",
          "text": [
            "WARNING:tensorflow:Learning rate reduction is conditioned on metric `acc` which is not available. Available metrics are: loss,accuracy,val_loss,val_accuracy,lr\n"
          ]
        },
        {
          "output_type": "stream",
          "name": "stdout",
          "text": [
            "\b\b\b\b\b\b\b\b\b\b\b\b\b\b\b\b\b\b\b\b\b\b\b\b\b\b\b\b\b\b\b\b\b\b\b\b\b\b\b\b\b\b\b\b\b\b\b\b\b\b\b\b\b\b\b\b\b\b\b\b\b\b\b\b\b\b\b\b\b\b\b\b\b\b\b\b\b\b\b\b\r8/8 [==============================] - 1s 86ms/step - loss: 0.6405 - accuracy: 0.8389 - val_loss: 20.3018 - val_accuracy: 0.1800 - lr: 0.0010\n",
            "Epoch 194/400\n",
            "7/8 [=========================>....] - ETA: 0s - loss: 0.4481 - accuracy: 0.9107"
          ]
        },
        {
          "output_type": "stream",
          "name": "stderr",
          "text": [
            "WARNING:tensorflow:Learning rate reduction is conditioned on metric `acc` which is not available. Available metrics are: loss,accuracy,val_loss,val_accuracy,lr\n"
          ]
        },
        {
          "output_type": "stream",
          "name": "stdout",
          "text": [
            "\b\b\b\b\b\b\b\b\b\b\b\b\b\b\b\b\b\b\b\b\b\b\b\b\b\b\b\b\b\b\b\b\b\b\b\b\b\b\b\b\b\b\b\b\b\b\b\b\b\b\b\b\b\b\b\b\b\b\b\b\b\b\b\b\b\b\b\b\b\b\b\b\b\b\b\b\b\b\b\b\r8/8 [==============================] - 1s 83ms/step - loss: 0.4518 - accuracy: 0.9089 - val_loss: 19.7805 - val_accuracy: 0.1100 - lr: 0.0010\n",
            "Epoch 195/400\n",
            "7/8 [=========================>....] - ETA: 0s - loss: 0.4903 - accuracy: 0.8929"
          ]
        },
        {
          "output_type": "stream",
          "name": "stderr",
          "text": [
            "WARNING:tensorflow:Learning rate reduction is conditioned on metric `acc` which is not available. Available metrics are: loss,accuracy,val_loss,val_accuracy,lr\n"
          ]
        },
        {
          "output_type": "stream",
          "name": "stdout",
          "text": [
            "\b\b\b\b\b\b\b\b\b\b\b\b\b\b\b\b\b\b\b\b\b\b\b\b\b\b\b\b\b\b\b\b\b\b\b\b\b\b\b\b\b\b\b\b\b\b\b\b\b\b\b\b\b\b\b\b\b\b\b\b\b\b\b\b\b\b\b\b\b\b\b\b\b\b\b\b\b\b\b\b\r8/8 [==============================] - 1s 89ms/step - loss: 0.4897 - accuracy: 0.8933 - val_loss: 12.3964 - val_accuracy: 0.1300 - lr: 0.0010\n",
            "Epoch 196/400\n",
            "7/8 [=========================>....] - ETA: 0s - loss: 0.2982 - accuracy: 0.9498"
          ]
        },
        {
          "output_type": "stream",
          "name": "stderr",
          "text": [
            "WARNING:tensorflow:Learning rate reduction is conditioned on metric `acc` which is not available. Available metrics are: loss,accuracy,val_loss,val_accuracy,lr\n"
          ]
        },
        {
          "output_type": "stream",
          "name": "stdout",
          "text": [
            "\b\b\b\b\b\b\b\b\b\b\b\b\b\b\b\b\b\b\b\b\b\b\b\b\b\b\b\b\b\b\b\b\b\b\b\b\b\b\b\b\b\b\b\b\b\b\b\b\b\b\b\b\b\b\b\b\b\b\b\b\b\b\b\b\b\b\b\b\b\b\b\b\b\b\b\b\b\b\b\b\r8/8 [==============================] - 1s 82ms/step - loss: 0.2999 - accuracy: 0.9489 - val_loss: 6.1577 - val_accuracy: 0.3000 - lr: 0.0010\n",
            "Epoch 197/400\n",
            "7/8 [=========================>....] - ETA: 0s - loss: 0.2983 - accuracy: 0.9475"
          ]
        },
        {
          "output_type": "stream",
          "name": "stderr",
          "text": [
            "WARNING:tensorflow:Learning rate reduction is conditioned on metric `acc` which is not available. Available metrics are: loss,accuracy,val_loss,val_accuracy,lr\n"
          ]
        },
        {
          "output_type": "stream",
          "name": "stdout",
          "text": [
            "\b\b\b\b\b\b\b\b\b\b\b\b\b\b\b\b\b\b\b\b\b\b\b\b\b\b\b\b\b\b\b\b\b\b\b\b\b\b\b\b\b\b\b\b\b\b\b\b\b\b\b\b\b\b\b\b\b\b\b\b\b\b\b\b\b\b\b\b\b\b\b\b\b\b\b\b\b\b\b\b\r8/8 [==============================] - 1s 82ms/step - loss: 0.2987 - accuracy: 0.9478 - val_loss: 3.3262 - val_accuracy: 0.3500 - lr: 0.0010\n",
            "Epoch 198/400\n",
            "7/8 [=========================>....] - ETA: 0s - loss: 0.2186 - accuracy: 0.9788"
          ]
        },
        {
          "output_type": "stream",
          "name": "stderr",
          "text": [
            "WARNING:tensorflow:Learning rate reduction is conditioned on metric `acc` which is not available. Available metrics are: loss,accuracy,val_loss,val_accuracy,lr\n"
          ]
        },
        {
          "output_type": "stream",
          "name": "stdout",
          "text": [
            "\b\b\b\b\b\b\b\b\b\b\b\b\b\b\b\b\b\b\b\b\b\b\b\b\b\b\b\b\b\b\b\b\b\b\b\b\b\b\b\b\b\b\b\b\b\b\b\b\b\b\b\b\b\b\b\b\b\b\b\b\b\b\b\b\b\b\b\b\b\b\b\b\b\b\b\b\b\b\b\b\r8/8 [==============================] - 1s 88ms/step - loss: 0.2193 - accuracy: 0.9789 - val_loss: 2.6098 - val_accuracy: 0.4000 - lr: 0.0010\n",
            "Epoch 199/400\n",
            "7/8 [=========================>....] - ETA: 0s - loss: 0.1933 - accuracy: 0.9844"
          ]
        },
        {
          "output_type": "stream",
          "name": "stderr",
          "text": [
            "WARNING:tensorflow:Learning rate reduction is conditioned on metric `acc` which is not available. Available metrics are: loss,accuracy,val_loss,val_accuracy,lr\n"
          ]
        },
        {
          "output_type": "stream",
          "name": "stdout",
          "text": [
            "\b\b\b\b\b\b\b\b\b\b\b\b\b\b\b\b\b\b\b\b\b\b\b\b\b\b\b\b\b\b\b\b\b\b\b\b\b\b\b\b\b\b\b\b\b\b\b\b\b\b\b\b\b\b\b\b\b\b\b\b\b\b\b\b\b\b\b\b\b\b\b\b\b\b\b\b\b\b\b\b\r8/8 [==============================] - 1s 82ms/step - loss: 0.1944 - accuracy: 0.9833 - val_loss: 3.3648 - val_accuracy: 0.3300 - lr: 0.0010\n",
            "Epoch 200/400\n",
            "7/8 [=========================>....] - ETA: 0s - loss: 0.2004 - accuracy: 0.9777"
          ]
        },
        {
          "output_type": "stream",
          "name": "stderr",
          "text": [
            "WARNING:tensorflow:Learning rate reduction is conditioned on metric `acc` which is not available. Available metrics are: loss,accuracy,val_loss,val_accuracy,lr\n"
          ]
        },
        {
          "output_type": "stream",
          "name": "stdout",
          "text": [
            "\b\b\b\b\b\b\b\b\b\b\b\b\b\b\b\b\b\b\b\b\b\b\b\b\b\b\b\b\b\b\b\b\b\b\b\b\b\b\b\b\b\b\b\b\b\b\b\b\b\b\b\b\b\b\b\b\b\b\b\b\b\b\b\b\b\b\b\b\b\b\b\b\b\b\b\b\b\b\b\b\r8/8 [==============================] - 1s 89ms/step - loss: 0.2022 - accuracy: 0.9767 - val_loss: 3.9649 - val_accuracy: 0.3300 - lr: 0.0010\n",
            "Epoch 201/400\n",
            "7/8 [=========================>....] - ETA: 0s - loss: 0.3102 - accuracy: 0.9498"
          ]
        },
        {
          "output_type": "stream",
          "name": "stderr",
          "text": [
            "WARNING:tensorflow:Learning rate reduction is conditioned on metric `acc` which is not available. Available metrics are: loss,accuracy,val_loss,val_accuracy,lr\n"
          ]
        },
        {
          "output_type": "stream",
          "name": "stdout",
          "text": [
            "\b\b\b\b\b\b\b\b\b\b\b\b\b\b\b\b\b\b\b\b\b\b\b\b\b\b\b\b\b\b\b\b\b\b\b\b\b\b\b\b\b\b\b\b\b\b\b\b\b\b\b\b\b\b\b\b\b\b\b\b\b\b\b\b\b\b\b\b\b\b\b\b\b\b\b\b\b\b\b\b\r8/8 [==============================] - 1s 88ms/step - loss: 0.3117 - accuracy: 0.9489 - val_loss: 6.6253 - val_accuracy: 0.1400 - lr: 0.0010\n",
            "Epoch 202/400\n",
            "7/8 [=========================>....] - ETA: 0s - loss: 0.2124 - accuracy: 0.9743"
          ]
        },
        {
          "output_type": "stream",
          "name": "stderr",
          "text": [
            "WARNING:tensorflow:Learning rate reduction is conditioned on metric `acc` which is not available. Available metrics are: loss,accuracy,val_loss,val_accuracy,lr\n"
          ]
        },
        {
          "output_type": "stream",
          "name": "stdout",
          "text": [
            "\b\b\b\b\b\b\b\b\b\b\b\b\b\b\b\b\b\b\b\b\b\b\b\b\b\b\b\b\b\b\b\b\b\b\b\b\b\b\b\b\b\b\b\b\b\b\b\b\b\b\b\b\b\b\b\b\b\b\b\b\b\b\b\b\b\b\b\b\b\b\b\b\b\b\b\b\b\b\b\b\r8/8 [==============================] - 1s 82ms/step - loss: 0.2134 - accuracy: 0.9733 - val_loss: 3.7443 - val_accuracy: 0.2700 - lr: 0.0010\n",
            "Epoch 203/400\n",
            "7/8 [=========================>....] - ETA: 0s - loss: 0.2145 - accuracy: 0.9777"
          ]
        },
        {
          "output_type": "stream",
          "name": "stderr",
          "text": [
            "WARNING:tensorflow:Learning rate reduction is conditioned on metric `acc` which is not available. Available metrics are: loss,accuracy,val_loss,val_accuracy,lr\n"
          ]
        },
        {
          "output_type": "stream",
          "name": "stdout",
          "text": [
            "\b\b\b\b\b\b\b\b\b\b\b\b\b\b\b\b\b\b\b\b\b\b\b\b\b\b\b\b\b\b\b\b\b\b\b\b\b\b\b\b\b\b\b\b\b\b\b\b\b\b\b\b\b\b\b\b\b\b\b\b\b\b\b\b\b\b\b\b\b\b\b\b\b\b\b\b\b\b\b\b\r8/8 [==============================] - 1s 83ms/step - loss: 0.2202 - accuracy: 0.9767 - val_loss: 2.7142 - val_accuracy: 0.4500 - lr: 0.0010\n",
            "Epoch 204/400\n",
            "7/8 [=========================>....] - ETA: 0s - loss: 0.3036 - accuracy: 0.9397"
          ]
        },
        {
          "output_type": "stream",
          "name": "stderr",
          "text": [
            "WARNING:tensorflow:Learning rate reduction is conditioned on metric `acc` which is not available. Available metrics are: loss,accuracy,val_loss,val_accuracy,lr\n"
          ]
        },
        {
          "output_type": "stream",
          "name": "stdout",
          "text": [
            "\b\b\b\b\b\b\b\b\b\b\b\b\b\b\b\b\b\b\b\b\b\b\b\b\b\b\b\b\b\b\b\b\b\b\b\b\b\b\b\b\b\b\b\b\b\b\b\b\b\b\b\b\b\b\b\b\b\b\b\b\b\b\b\b\b\b\b\b\b\b\b\b\b\b\b\b\b\b\b\b\r8/8 [==============================] - 1s 82ms/step - loss: 0.3121 - accuracy: 0.9378 - val_loss: 7.2650 - val_accuracy: 0.2400 - lr: 0.0010\n",
            "Epoch 205/400\n",
            "7/8 [=========================>....] - ETA: 0s - loss: 0.4124 - accuracy: 0.8996"
          ]
        },
        {
          "output_type": "stream",
          "name": "stderr",
          "text": [
            "WARNING:tensorflow:Learning rate reduction is conditioned on metric `acc` which is not available. Available metrics are: loss,accuracy,val_loss,val_accuracy,lr\n"
          ]
        },
        {
          "output_type": "stream",
          "name": "stdout",
          "text": [
            "\b\b\b\b\b\b\b\b\b\b\b\b\b\b\b\b\b\b\b\b\b\b\b\b\b\b\b\b\b\b\b\b\b\b\b\b\b\b\b\b\b\b\b\b\b\b\b\b\b\b\b\b\b\b\b\b\b\b\b\b\b\b\b\b\b\b\b\b\b\b\b\b\b\b\b\b\b\b\b\b\r8/8 [==============================] - 1s 82ms/step - loss: 0.4118 - accuracy: 0.9000 - val_loss: 12.1572 - val_accuracy: 0.1700 - lr: 0.0010\n",
            "Epoch 206/400\n",
            "7/8 [=========================>....] - ETA: 0s - loss: 0.3591 - accuracy: 0.9275"
          ]
        },
        {
          "output_type": "stream",
          "name": "stderr",
          "text": [
            "WARNING:tensorflow:Learning rate reduction is conditioned on metric `acc` which is not available. Available metrics are: loss,accuracy,val_loss,val_accuracy,lr\n"
          ]
        },
        {
          "output_type": "stream",
          "name": "stdout",
          "text": [
            "\b\b\b\b\b\b\b\b\b\b\b\b\b\b\b\b\b\b\b\b\b\b\b\b\b\b\b\b\b\b\b\b\b\b\b\b\b\b\b\b\b\b\b\b\b\b\b\b\b\b\b\b\b\b\b\b\b\b\b\b\b\b\b\b\b\b\b\b\b\b\b\b\b\b\b\b\b\b\b\b\r8/8 [==============================] - 1s 83ms/step - loss: 0.3587 - accuracy: 0.9278 - val_loss: 8.4423 - val_accuracy: 0.2000 - lr: 0.0010\n",
            "Epoch 207/400\n",
            "7/8 [=========================>....] - ETA: 0s - loss: 0.2639 - accuracy: 0.9565"
          ]
        },
        {
          "output_type": "stream",
          "name": "stderr",
          "text": [
            "WARNING:tensorflow:Learning rate reduction is conditioned on metric `acc` which is not available. Available metrics are: loss,accuracy,val_loss,val_accuracy,lr\n"
          ]
        },
        {
          "output_type": "stream",
          "name": "stdout",
          "text": [
            "\b\b\b\b\b\b\b\b\b\b\b\b\b\b\b\b\b\b\b\b\b\b\b\b\b\b\b\b\b\b\b\b\b\b\b\b\b\b\b\b\b\b\b\b\b\b\b\b\b\b\b\b\b\b\b\b\b\b\b\b\b\b\b\b\b\b\b\b\b\b\b\b\b\b\b\b\b\b\b\b\r8/8 [==============================] - 1s 82ms/step - loss: 0.2653 - accuracy: 0.9556 - val_loss: 4.0209 - val_accuracy: 0.3500 - lr: 0.0010\n",
            "Epoch 208/400\n",
            "7/8 [=========================>....] - ETA: 0s - loss: 0.2248 - accuracy: 0.9766"
          ]
        },
        {
          "output_type": "stream",
          "name": "stderr",
          "text": [
            "WARNING:tensorflow:Learning rate reduction is conditioned on metric `acc` which is not available. Available metrics are: loss,accuracy,val_loss,val_accuracy,lr\n"
          ]
        },
        {
          "output_type": "stream",
          "name": "stdout",
          "text": [
            "\b\b\b\b\b\b\b\b\b\b\b\b\b\b\b\b\b\b\b\b\b\b\b\b\b\b\b\b\b\b\b\b\b\b\b\b\b\b\b\b\b\b\b\b\b\b\b\b\b\b\b\b\b\b\b\b\b\b\b\b\b\b\b\b\b\b\b\b\b\b\b\b\b\b\b\b\b\b\b\b\r8/8 [==============================] - 1s 84ms/step - loss: 0.2331 - accuracy: 0.9733 - val_loss: 3.4436 - val_accuracy: 0.4500 - lr: 0.0010\n",
            "Epoch 209/400\n",
            "7/8 [=========================>....] - ETA: 0s - loss: 0.4031 - accuracy: 0.9163"
          ]
        },
        {
          "output_type": "stream",
          "name": "stderr",
          "text": [
            "WARNING:tensorflow:Learning rate reduction is conditioned on metric `acc` which is not available. Available metrics are: loss,accuracy,val_loss,val_accuracy,lr\n"
          ]
        },
        {
          "output_type": "stream",
          "name": "stdout",
          "text": [
            "\b\b\b\b\b\b\b\b\b\b\b\b\b\b\b\b\b\b\b\b\b\b\b\b\b\b\b\b\b\b\b\b\b\b\b\b\b\b\b\b\b\b\b\b\b\b\b\b\b\b\b\b\b\b\b\b\b\b\b\b\b\b\b\b\b\b\b\b\b\b\b\b\b\b\b\b\b\b\b\b\r8/8 [==============================] - 1s 86ms/step - loss: 0.4072 - accuracy: 0.9156 - val_loss: 5.0551 - val_accuracy: 0.3400 - lr: 0.0010\n",
            "Epoch 210/400\n",
            "7/8 [=========================>....] - ETA: 0s - loss: 0.4333 - accuracy: 0.9141"
          ]
        },
        {
          "output_type": "stream",
          "name": "stderr",
          "text": [
            "WARNING:tensorflow:Learning rate reduction is conditioned on metric `acc` which is not available. Available metrics are: loss,accuracy,val_loss,val_accuracy,lr\n"
          ]
        },
        {
          "output_type": "stream",
          "name": "stdout",
          "text": [
            "\b\b\b\b\b\b\b\b\b\b\b\b\b\b\b\b\b\b\b\b\b\b\b\b\b\b\b\b\b\b\b\b\b\b\b\b\b\b\b\b\b\b\b\b\b\b\b\b\b\b\b\b\b\b\b\b\b\b\b\b\b\b\b\b\b\b\b\b\b\b\b\b\b\b\b\b\b\b\b\b\r8/8 [==============================] - 1s 85ms/step - loss: 0.4322 - accuracy: 0.9144 - val_loss: 6.8295 - val_accuracy: 0.2400 - lr: 0.0010\n",
            "Epoch 211/400\n",
            "7/8 [=========================>....] - ETA: 0s - loss: 0.2803 - accuracy: 0.9487"
          ]
        },
        {
          "output_type": "stream",
          "name": "stderr",
          "text": [
            "WARNING:tensorflow:Learning rate reduction is conditioned on metric `acc` which is not available. Available metrics are: loss,accuracy,val_loss,val_accuracy,lr\n"
          ]
        },
        {
          "output_type": "stream",
          "name": "stdout",
          "text": [
            "\b\b\b\b\b\b\b\b\b\b\b\b\b\b\b\b\b\b\b\b\b\b\b\b\b\b\b\b\b\b\b\b\b\b\b\b\b\b\b\b\b\b\b\b\b\b\b\b\b\b\b\b\b\b\b\b\b\b\b\b\b\b\b\b\b\b\b\b\b\b\b\b\b\b\b\b\b\b\b\b\r8/8 [==============================] - 1s 92ms/step - loss: 0.2796 - accuracy: 0.9489 - val_loss: 3.5090 - val_accuracy: 0.3500 - lr: 0.0010\n",
            "Epoch 212/400\n",
            "7/8 [=========================>....] - ETA: 0s - loss: 0.2062 - accuracy: 0.9810"
          ]
        },
        {
          "output_type": "stream",
          "name": "stderr",
          "text": [
            "WARNING:tensorflow:Learning rate reduction is conditioned on metric `acc` which is not available. Available metrics are: loss,accuracy,val_loss,val_accuracy,lr\n"
          ]
        },
        {
          "output_type": "stream",
          "name": "stdout",
          "text": [
            "\b\b\b\b\b\b\b\b\b\b\b\b\b\b\b\b\b\b\b\b\b\b\b\b\b\b\b\b\b\b\b\b\b\b\b\b\b\b\b\b\b\b\b\b\b\b\b\b\b\b\b\b\b\b\b\b\b\b\b\b\b\b\b\b\b\b\b\b\b\b\b\b\b\b\b\b\b\b\b\b\r8/8 [==============================] - 1s 86ms/step - loss: 0.2133 - accuracy: 0.9789 - val_loss: 4.2104 - val_accuracy: 0.3400 - lr: 0.0010\n",
            "Epoch 213/400\n",
            "7/8 [=========================>....] - ETA: 0s - loss: 0.2787 - accuracy: 0.9509"
          ]
        },
        {
          "output_type": "stream",
          "name": "stderr",
          "text": [
            "WARNING:tensorflow:Learning rate reduction is conditioned on metric `acc` which is not available. Available metrics are: loss,accuracy,val_loss,val_accuracy,lr\n"
          ]
        },
        {
          "output_type": "stream",
          "name": "stdout",
          "text": [
            "\b\b\b\b\b\b\b\b\b\b\b\b\b\b\b\b\b\b\b\b\b\b\b\b\b\b\b\b\b\b\b\b\b\b\b\b\b\b\b\b\b\b\b\b\b\b\b\b\b\b\b\b\b\b\b\b\b\b\b\b\b\b\b\b\b\b\b\b\b\b\b\b\b\b\b\b\b\b\b\b\r8/8 [==============================] - 1s 82ms/step - loss: 0.2857 - accuracy: 0.9478 - val_loss: 6.8594 - val_accuracy: 0.2900 - lr: 0.0010\n",
            "Epoch 214/400\n",
            "7/8 [=========================>....] - ETA: 0s - loss: 0.4393 - accuracy: 0.8984"
          ]
        },
        {
          "output_type": "stream",
          "name": "stderr",
          "text": [
            "WARNING:tensorflow:Learning rate reduction is conditioned on metric `acc` which is not available. Available metrics are: loss,accuracy,val_loss,val_accuracy,lr\n"
          ]
        },
        {
          "output_type": "stream",
          "name": "stdout",
          "text": [
            "\b\b\b\b\b\b\b\b\b\b\b\b\b\b\b\b\b\b\b\b\b\b\b\b\b\b\b\b\b\b\b\b\b\b\b\b\b\b\b\b\b\b\b\b\b\b\b\b\b\b\b\b\b\b\b\b\b\b\b\b\b\b\b\b\b\b\b\b\b\b\b\b\b\b\b\b\b\b\b\b\r8/8 [==============================] - 1s 89ms/step - loss: 0.4401 - accuracy: 0.8978 - val_loss: 6.1487 - val_accuracy: 0.3200 - lr: 0.0010\n",
            "Epoch 215/400\n",
            "7/8 [=========================>....] - ETA: 0s - loss: 0.4083 - accuracy: 0.9074"
          ]
        },
        {
          "output_type": "stream",
          "name": "stderr",
          "text": [
            "WARNING:tensorflow:Learning rate reduction is conditioned on metric `acc` which is not available. Available metrics are: loss,accuracy,val_loss,val_accuracy,lr\n"
          ]
        },
        {
          "output_type": "stream",
          "name": "stdout",
          "text": [
            "\b\b\b\b\b\b\b\b\b\b\b\b\b\b\b\b\b\b\b\b\b\b\b\b\b\b\b\b\b\b\b\b\b\b\b\b\b\b\b\b\b\b\b\b\b\b\b\b\b\b\b\b\b\b\b\b\b\b\b\b\b\b\b\b\b\b\b\b\b\b\b\b\b\b\b\b\b\b\b\b\r8/8 [==============================] - 1s 83ms/step - loss: 0.4072 - accuracy: 0.9078 - val_loss: 3.5218 - val_accuracy: 0.3800 - lr: 0.0010\n",
            "Epoch 216/400\n",
            "7/8 [=========================>....] - ETA: 0s - loss: 0.2397 - accuracy: 0.9710"
          ]
        },
        {
          "output_type": "stream",
          "name": "stderr",
          "text": [
            "WARNING:tensorflow:Learning rate reduction is conditioned on metric `acc` which is not available. Available metrics are: loss,accuracy,val_loss,val_accuracy,lr\n"
          ]
        },
        {
          "output_type": "stream",
          "name": "stdout",
          "text": [
            "\b\b\b\b\b\b\b\b\b\b\b\b\b\b\b\b\b\b\b\b\b\b\b\b\b\b\b\b\b\b\b\b\b\b\b\b\b\b\b\b\b\b\b\b\b\b\b\b\b\b\b\b\b\b\b\b\b\b\b\b\b\b\b\b\b\b\b\b\b\b\b\b\b\b\b\b\b\b\b\b\r8/8 [==============================] - 1s 89ms/step - loss: 0.2404 - accuracy: 0.9711 - val_loss: 3.1246 - val_accuracy: 0.4400 - lr: 0.0010\n",
            "Epoch 217/400\n",
            "7/8 [=========================>....] - ETA: 0s - loss: 0.2197 - accuracy: 0.9754"
          ]
        },
        {
          "output_type": "stream",
          "name": "stderr",
          "text": [
            "WARNING:tensorflow:Learning rate reduction is conditioned on metric `acc` which is not available. Available metrics are: loss,accuracy,val_loss,val_accuracy,lr\n"
          ]
        },
        {
          "output_type": "stream",
          "name": "stdout",
          "text": [
            "\b\b\b\b\b\b\b\b\b\b\b\b\b\b\b\b\b\b\b\b\b\b\b\b\b\b\b\b\b\b\b\b\b\b\b\b\b\b\b\b\b\b\b\b\b\b\b\b\b\b\b\b\b\b\b\b\b\b\b\b\b\b\b\b\b\b\b\b\b\b\b\b\b\b\b\b\b\b\b\b\r8/8 [==============================] - 1s 83ms/step - loss: 0.2219 - accuracy: 0.9744 - val_loss: 3.9855 - val_accuracy: 0.2800 - lr: 0.0010\n",
            "Epoch 218/400\n",
            "7/8 [=========================>....] - ETA: 0s - loss: 0.2029 - accuracy: 0.9810"
          ]
        },
        {
          "output_type": "stream",
          "name": "stderr",
          "text": [
            "WARNING:tensorflow:Learning rate reduction is conditioned on metric `acc` which is not available. Available metrics are: loss,accuracy,val_loss,val_accuracy,lr\n"
          ]
        },
        {
          "output_type": "stream",
          "name": "stdout",
          "text": [
            "\b\b\b\b\b\b\b\b\b\b\b\b\b\b\b\b\b\b\b\b\b\b\b\b\b\b\b\b\b\b\b\b\b\b\b\b\b\b\b\b\b\b\b\b\b\b\b\b\b\b\b\b\b\b\b\b\b\b\b\b\b\b\b\b\b\b\b\b\b\b\b\b\b\b\b\b\b\b\b\b\r8/8 [==============================] - 1s 83ms/step - loss: 0.2061 - accuracy: 0.9789 - val_loss: 2.7860 - val_accuracy: 0.3800 - lr: 0.0010\n",
            "Epoch 219/400\n",
            "7/8 [=========================>....] - ETA: 0s - loss: 0.3170 - accuracy: 0.9353"
          ]
        },
        {
          "output_type": "stream",
          "name": "stderr",
          "text": [
            "WARNING:tensorflow:Learning rate reduction is conditioned on metric `acc` which is not available. Available metrics are: loss,accuracy,val_loss,val_accuracy,lr\n"
          ]
        },
        {
          "output_type": "stream",
          "name": "stdout",
          "text": [
            "\b\b\b\b\b\b\b\b\b\b\b\b\b\b\b\b\b\b\b\b\b\b\b\b\b\b\b\b\b\b\b\b\b\b\b\b\b\b\b\b\b\b\b\b\b\b\b\b\b\b\b\b\b\b\b\b\b\b\b\b\b\b\b\b\b\b\b\b\b\b\b\b\b\b\b\b\b\b\b\b\r8/8 [==============================] - 1s 88ms/step - loss: 0.3170 - accuracy: 0.9356 - val_loss: 5.7333 - val_accuracy: 0.2400 - lr: 0.0010\n",
            "Epoch 220/400\n",
            "7/8 [=========================>....] - ETA: 0s - loss: 0.2399 - accuracy: 0.9643"
          ]
        },
        {
          "output_type": "stream",
          "name": "stderr",
          "text": [
            "WARNING:tensorflow:Learning rate reduction is conditioned on metric `acc` which is not available. Available metrics are: loss,accuracy,val_loss,val_accuracy,lr\n"
          ]
        },
        {
          "output_type": "stream",
          "name": "stdout",
          "text": [
            "\b\b\b\b\b\b\b\b\b\b\b\b\b\b\b\b\b\b\b\b\b\b\b\b\b\b\b\b\b\b\b\b\b\b\b\b\b\b\b\b\b\b\b\b\b\b\b\b\b\b\b\b\b\b\b\b\b\b\b\b\b\b\b\b\b\b\b\b\b\b\b\b\b\b\b\b\b\b\b\b\r8/8 [==============================] - 1s 82ms/step - loss: 0.2402 - accuracy: 0.9644 - val_loss: 3.3133 - val_accuracy: 0.3200 - lr: 0.0010\n",
            "Epoch 221/400\n",
            "7/8 [=========================>....] - ETA: 0s - loss: 0.1929 - accuracy: 0.9833"
          ]
        },
        {
          "output_type": "stream",
          "name": "stderr",
          "text": [
            "WARNING:tensorflow:Learning rate reduction is conditioned on metric `acc` which is not available. Available metrics are: loss,accuracy,val_loss,val_accuracy,lr\n"
          ]
        },
        {
          "output_type": "stream",
          "name": "stdout",
          "text": [
            "\b\b\b\b\b\b\b\b\b\b\b\b\b\b\b\b\b\b\b\b\b\b\b\b\b\b\b\b\b\b\b\b\b\b\b\b\b\b\b\b\b\b\b\b\b\b\b\b\b\b\b\b\b\b\b\b\b\b\b\b\b\b\b\b\b\b\b\b\b\b\b\b\b\b\b\b\b\b\b\b\r8/8 [==============================] - 1s 82ms/step - loss: 0.1926 - accuracy: 0.9833 - val_loss: 4.3007 - val_accuracy: 0.3400 - lr: 0.0010\n",
            "Epoch 222/400\n",
            "7/8 [=========================>....] - ETA: 0s - loss: 0.1798 - accuracy: 0.9821"
          ]
        },
        {
          "output_type": "stream",
          "name": "stderr",
          "text": [
            "WARNING:tensorflow:Learning rate reduction is conditioned on metric `acc` which is not available. Available metrics are: loss,accuracy,val_loss,val_accuracy,lr\n"
          ]
        },
        {
          "output_type": "stream",
          "name": "stdout",
          "text": [
            "\b\b\b\b\b\b\b\b\b\b\b\b\b\b\b\b\b\b\b\b\b\b\b\b\b\b\b\b\b\b\b\b\b\b\b\b\b\b\b\b\b\b\b\b\b\b\b\b\b\b\b\b\b\b\b\b\b\b\b\b\b\b\b\b\b\b\b\b\b\b\b\b\b\b\b\b\b\b\b\b\r8/8 [==============================] - 1s 84ms/step - loss: 0.1807 - accuracy: 0.9822 - val_loss: 3.5132 - val_accuracy: 0.3600 - lr: 0.0010\n",
            "Epoch 223/400\n",
            "7/8 [=========================>....] - ETA: 0s - loss: 0.1940 - accuracy: 0.9866"
          ]
        },
        {
          "output_type": "stream",
          "name": "stderr",
          "text": [
            "WARNING:tensorflow:Learning rate reduction is conditioned on metric `acc` which is not available. Available metrics are: loss,accuracy,val_loss,val_accuracy,lr\n"
          ]
        },
        {
          "output_type": "stream",
          "name": "stdout",
          "text": [
            "\b\b\b\b\b\b\b\b\b\b\b\b\b\b\b\b\b\b\b\b\b\b\b\b\b\b\b\b\b\b\b\b\b\b\b\b\b\b\b\b\b\b\b\b\b\b\b\b\b\b\b\b\b\b\b\b\b\b\b\b\b\b\b\b\b\b\b\b\b\b\b\b\b\b\b\b\b\b\b\b\r8/8 [==============================] - 1s 83ms/step - loss: 0.1957 - accuracy: 0.9856 - val_loss: 3.7545 - val_accuracy: 0.4000 - lr: 0.0010\n",
            "Epoch 224/400\n",
            "7/8 [=========================>....] - ETA: 0s - loss: 0.2502 - accuracy: 0.9643"
          ]
        },
        {
          "output_type": "stream",
          "name": "stderr",
          "text": [
            "WARNING:tensorflow:Learning rate reduction is conditioned on metric `acc` which is not available. Available metrics are: loss,accuracy,val_loss,val_accuracy,lr\n"
          ]
        },
        {
          "output_type": "stream",
          "name": "stdout",
          "text": [
            "\b\b\b\b\b\b\b\b\b\b\b\b\b\b\b\b\b\b\b\b\b\b\b\b\b\b\b\b\b\b\b\b\b\b\b\b\b\b\b\b\b\b\b\b\b\b\b\b\b\b\b\b\b\b\b\b\b\b\b\b\b\b\b\b\b\b\b\b\b\b\b\b\b\b\b\b\b\b\b\b\r8/8 [==============================] - 1s 84ms/step - loss: 0.2509 - accuracy: 0.9644 - val_loss: 4.4071 - val_accuracy: 0.3200 - lr: 0.0010\n",
            "Epoch 225/400\n",
            "7/8 [=========================>....] - ETA: 0s - loss: 0.2114 - accuracy: 0.9721"
          ]
        },
        {
          "output_type": "stream",
          "name": "stderr",
          "text": [
            "WARNING:tensorflow:Learning rate reduction is conditioned on metric `acc` which is not available. Available metrics are: loss,accuracy,val_loss,val_accuracy,lr\n"
          ]
        },
        {
          "output_type": "stream",
          "name": "stdout",
          "text": [
            "\b\b\b\b\b\b\b\b\b\b\b\b\b\b\b\b\b\b\b\b\b\b\b\b\b\b\b\b\b\b\b\b\b\b\b\b\b\b\b\b\b\b\b\b\b\b\b\b\b\b\b\b\b\b\b\b\b\b\b\b\b\b\b\b\b\b\b\b\b\b\b\b\b\b\b\b\b\b\b\b\r8/8 [==============================] - 1s 88ms/step - loss: 0.2111 - accuracy: 0.9722 - val_loss: 5.1183 - val_accuracy: 0.2700 - lr: 0.0010\n",
            "Epoch 226/400\n",
            "7/8 [=========================>....] - ETA: 0s - loss: 0.1808 - accuracy: 0.9900"
          ]
        },
        {
          "output_type": "stream",
          "name": "stderr",
          "text": [
            "WARNING:tensorflow:Learning rate reduction is conditioned on metric `acc` which is not available. Available metrics are: loss,accuracy,val_loss,val_accuracy,lr\n"
          ]
        },
        {
          "output_type": "stream",
          "name": "stdout",
          "text": [
            "\b\b\b\b\b\b\b\b\b\b\b\b\b\b\b\b\b\b\b\b\b\b\b\b\b\b\b\b\b\b\b\b\b\b\b\b\b\b\b\b\b\b\b\b\b\b\b\b\b\b\b\b\b\b\b\b\b\b\b\b\b\b\b\b\b\b\b\b\b\b\b\b\b\b\b\b\b\b\b\b\r8/8 [==============================] - 1s 83ms/step - loss: 0.1830 - accuracy: 0.9889 - val_loss: 2.7281 - val_accuracy: 0.4800 - lr: 0.0010\n",
            "Epoch 227/400\n",
            "7/8 [=========================>....] - ETA: 0s - loss: 0.1936 - accuracy: 0.9788"
          ]
        },
        {
          "output_type": "stream",
          "name": "stderr",
          "text": [
            "WARNING:tensorflow:Learning rate reduction is conditioned on metric `acc` which is not available. Available metrics are: loss,accuracy,val_loss,val_accuracy,lr\n"
          ]
        },
        {
          "output_type": "stream",
          "name": "stdout",
          "text": [
            "\b\b\b\b\b\b\b\b\b\b\b\b\b\b\b\b\b\b\b\b\b\b\b\b\b\b\b\b\b\b\b\b\b\b\b\b\b\b\b\b\b\b\b\b\b\b\b\b\b\b\b\b\b\b\b\b\b\b\b\b\b\b\b\b\b\b\b\b\b\b\b\b\b\b\b\b\b\b\b\b\r8/8 [==============================] - 1s 84ms/step - loss: 0.1971 - accuracy: 0.9778 - val_loss: 3.9789 - val_accuracy: 0.3900 - lr: 0.0010\n",
            "Epoch 228/400\n",
            "7/8 [=========================>....] - ETA: 0s - loss: 0.2274 - accuracy: 0.9676"
          ]
        },
        {
          "output_type": "stream",
          "name": "stderr",
          "text": [
            "WARNING:tensorflow:Learning rate reduction is conditioned on metric `acc` which is not available. Available metrics are: loss,accuracy,val_loss,val_accuracy,lr\n"
          ]
        },
        {
          "output_type": "stream",
          "name": "stdout",
          "text": [
            "\b\b\b\b\b\b\b\b\b\b\b\b\b\b\b\b\b\b\b\b\b\b\b\b\b\b\b\b\b\b\b\b\b\b\b\b\b\b\b\b\b\b\b\b\b\b\b\b\b\b\b\b\b\b\b\b\b\b\b\b\b\b\b\b\b\b\b\b\b\b\b\b\b\b\b\b\b\b\b\b\r8/8 [==============================] - 1s 90ms/step - loss: 0.2301 - accuracy: 0.9656 - val_loss: 3.3074 - val_accuracy: 0.4200 - lr: 0.0010\n",
            "Epoch 229/400\n",
            "7/8 [=========================>....] - ETA: 0s - loss: 0.3970 - accuracy: 0.9174"
          ]
        },
        {
          "output_type": "stream",
          "name": "stderr",
          "text": [
            "WARNING:tensorflow:Learning rate reduction is conditioned on metric `acc` which is not available. Available metrics are: loss,accuracy,val_loss,val_accuracy,lr\n"
          ]
        },
        {
          "output_type": "stream",
          "name": "stdout",
          "text": [
            "\b\b\b\b\b\b\b\b\b\b\b\b\b\b\b\b\b\b\b\b\b\b\b\b\b\b\b\b\b\b\b\b\b\b\b\b\b\b\b\b\b\b\b\b\b\b\b\b\b\b\b\b\b\b\b\b\b\b\b\b\b\b\b\b\b\b\b\b\b\b\b\b\b\b\b\b\b\b\b\b\r8/8 [==============================] - 1s 87ms/step - loss: 0.3962 - accuracy: 0.9178 - val_loss: 4.0337 - val_accuracy: 0.4100 - lr: 0.0010\n",
            "Epoch 230/400\n",
            "7/8 [=========================>....] - ETA: 0s - loss: 0.2821 - accuracy: 0.9509"
          ]
        },
        {
          "output_type": "stream",
          "name": "stderr",
          "text": [
            "WARNING:tensorflow:Learning rate reduction is conditioned on metric `acc` which is not available. Available metrics are: loss,accuracy,val_loss,val_accuracy,lr\n"
          ]
        },
        {
          "output_type": "stream",
          "name": "stdout",
          "text": [
            "\b\b\b\b\b\b\b\b\b\b\b\b\b\b\b\b\b\b\b\b\b\b\b\b\b\b\b\b\b\b\b\b\b\b\b\b\b\b\b\b\b\b\b\b\b\b\b\b\b\b\b\b\b\b\b\b\b\b\b\b\b\b\b\b\b\b\b\b\b\b\b\b\b\b\b\b\b\b\b\b\r8/8 [==============================] - 1s 89ms/step - loss: 0.2821 - accuracy: 0.9511 - val_loss: 3.9700 - val_accuracy: 0.3800 - lr: 0.0010\n",
            "Epoch 231/400\n",
            "7/8 [=========================>....] - ETA: 0s - loss: 0.2603 - accuracy: 0.9621"
          ]
        },
        {
          "output_type": "stream",
          "name": "stderr",
          "text": [
            "WARNING:tensorflow:Learning rate reduction is conditioned on metric `acc` which is not available. Available metrics are: loss,accuracy,val_loss,val_accuracy,lr\n"
          ]
        },
        {
          "output_type": "stream",
          "name": "stdout",
          "text": [
            "\b\b\b\b\b\b\b\b\b\b\b\b\b\b\b\b\b\b\b\b\b\b\b\b\b\b\b\b\b\b\b\b\b\b\b\b\b\b\b\b\b\b\b\b\b\b\b\b\b\b\b\b\b\b\b\b\b\b\b\b\b\b\b\b\b\b\b\b\b\b\b\b\b\b\b\b\b\b\b\b\r8/8 [==============================] - 1s 91ms/step - loss: 0.2632 - accuracy: 0.9611 - val_loss: 3.0600 - val_accuracy: 0.3500 - lr: 0.0010\n",
            "Epoch 232/400\n",
            "7/8 [=========================>....] - ETA: 0s - loss: 0.2127 - accuracy: 0.9788"
          ]
        },
        {
          "output_type": "stream",
          "name": "stderr",
          "text": [
            "WARNING:tensorflow:Learning rate reduction is conditioned on metric `acc` which is not available. Available metrics are: loss,accuracy,val_loss,val_accuracy,lr\n"
          ]
        },
        {
          "output_type": "stream",
          "name": "stdout",
          "text": [
            "\b\b\b\b\b\b\b\b\b\b\b\b\b\b\b\b\b\b\b\b\b\b\b\b\b\b\b\b\b\b\b\b\b\b\b\b\b\b\b\b\b\b\b\b\b\b\b\b\b\b\b\b\b\b\b\b\b\b\b\b\b\b\b\b\b\b\b\b\b\b\b\b\b\b\b\b\b\b\b\b\r8/8 [==============================] - 1s 83ms/step - loss: 0.2181 - accuracy: 0.9756 - val_loss: 3.7034 - val_accuracy: 0.3700 - lr: 0.0010\n",
            "Epoch 233/400\n",
            "7/8 [=========================>....] - ETA: 0s - loss: 0.2760 - accuracy: 0.9598"
          ]
        },
        {
          "output_type": "stream",
          "name": "stderr",
          "text": [
            "WARNING:tensorflow:Learning rate reduction is conditioned on metric `acc` which is not available. Available metrics are: loss,accuracy,val_loss,val_accuracy,lr\n"
          ]
        },
        {
          "output_type": "stream",
          "name": "stdout",
          "text": [
            "\b\b\b\b\b\b\b\b\b\b\b\b\b\b\b\b\b\b\b\b\b\b\b\b\b\b\b\b\b\b\b\b\b\b\b\b\b\b\b\b\b\b\b\b\b\b\b\b\b\b\b\b\b\b\b\b\b\b\b\b\b\b\b\b\b\b\b\b\b\b\b\b\b\b\b\b\b\b\b\b\r8/8 [==============================] - 1s 82ms/step - loss: 0.2768 - accuracy: 0.9589 - val_loss: 2.7358 - val_accuracy: 0.4400 - lr: 0.0010\n",
            "Epoch 234/400\n",
            "7/8 [=========================>....] - ETA: 0s - loss: 0.2259 - accuracy: 0.9721"
          ]
        },
        {
          "output_type": "stream",
          "name": "stderr",
          "text": [
            "WARNING:tensorflow:Learning rate reduction is conditioned on metric `acc` which is not available. Available metrics are: loss,accuracy,val_loss,val_accuracy,lr\n"
          ]
        },
        {
          "output_type": "stream",
          "name": "stdout",
          "text": [
            "\b\b\b\b\b\b\b\b\b\b\b\b\b\b\b\b\b\b\b\b\b\b\b\b\b\b\b\b\b\b\b\b\b\b\b\b\b\b\b\b\b\b\b\b\b\b\b\b\b\b\b\b\b\b\b\b\b\b\b\b\b\b\b\b\b\b\b\b\b\b\b\b\b\b\b\b\b\b\b\b\r8/8 [==============================] - 1s 89ms/step - loss: 0.2257 - accuracy: 0.9722 - val_loss: 5.1069 - val_accuracy: 0.2300 - lr: 0.0010\n",
            "Epoch 235/400\n",
            "7/8 [=========================>....] - ETA: 0s - loss: 0.1884 - accuracy: 0.9866"
          ]
        },
        {
          "output_type": "stream",
          "name": "stderr",
          "text": [
            "WARNING:tensorflow:Learning rate reduction is conditioned on metric `acc` which is not available. Available metrics are: loss,accuracy,val_loss,val_accuracy,lr\n"
          ]
        },
        {
          "output_type": "stream",
          "name": "stdout",
          "text": [
            "\b\b\b\b\b\b\b\b\b\b\b\b\b\b\b\b\b\b\b\b\b\b\b\b\b\b\b\b\b\b\b\b\b\b\b\b\b\b\b\b\b\b\b\b\b\b\b\b\b\b\b\b\b\b\b\b\b\b\b\b\b\b\b\b\b\b\b\b\b\b\b\b\b\b\b\b\b\b\b\b\r8/8 [==============================] - 1s 85ms/step - loss: 0.1884 - accuracy: 0.9867 - val_loss: 5.4769 - val_accuracy: 0.1800 - lr: 0.0010\n",
            "Epoch 236/400\n",
            "7/8 [=========================>....] - ETA: 0s - loss: 0.1727 - accuracy: 0.9900"
          ]
        },
        {
          "output_type": "stream",
          "name": "stderr",
          "text": [
            "WARNING:tensorflow:Learning rate reduction is conditioned on metric `acc` which is not available. Available metrics are: loss,accuracy,val_loss,val_accuracy,lr\n"
          ]
        },
        {
          "output_type": "stream",
          "name": "stdout",
          "text": [
            "\b\b\b\b\b\b\b\b\b\b\b\b\b\b\b\b\b\b\b\b\b\b\b\b\b\b\b\b\b\b\b\b\b\b\b\b\b\b\b\b\b\b\b\b\b\b\b\b\b\b\b\b\b\b\b\b\b\b\b\b\b\b\b\b\b\b\b\b\b\b\b\b\b\b\b\b\b\b\b\b\r8/8 [==============================] - 1s 82ms/step - loss: 0.1737 - accuracy: 0.9900 - val_loss: 3.6377 - val_accuracy: 0.2600 - lr: 0.0010\n",
            "Epoch 237/400\n",
            "7/8 [=========================>....] - ETA: 0s - loss: 0.1564 - accuracy: 0.9933"
          ]
        },
        {
          "output_type": "stream",
          "name": "stderr",
          "text": [
            "WARNING:tensorflow:Learning rate reduction is conditioned on metric `acc` which is not available. Available metrics are: loss,accuracy,val_loss,val_accuracy,lr\n"
          ]
        },
        {
          "output_type": "stream",
          "name": "stdout",
          "text": [
            "\b\b\b\b\b\b\b\b\b\b\b\b\b\b\b\b\b\b\b\b\b\b\b\b\b\b\b\b\b\b\b\b\b\b\b\b\b\b\b\b\b\b\b\b\b\b\b\b\b\b\b\b\b\b\b\b\b\b\b\b\b\b\b\b\b\b\b\b\b\b\b\b\b\b\b\b\b\b\b\b\r8/8 [==============================] - 1s 82ms/step - loss: 0.1562 - accuracy: 0.9933 - val_loss: 3.2020 - val_accuracy: 0.3500 - lr: 0.0010\n",
            "Epoch 238/400\n",
            "7/8 [=========================>....] - ETA: 0s - loss: 0.1610 - accuracy: 0.9911"
          ]
        },
        {
          "output_type": "stream",
          "name": "stderr",
          "text": [
            "WARNING:tensorflow:Learning rate reduction is conditioned on metric `acc` which is not available. Available metrics are: loss,accuracy,val_loss,val_accuracy,lr\n"
          ]
        },
        {
          "output_type": "stream",
          "name": "stdout",
          "text": [
            "\b\b\b\b\b\b\b\b\b\b\b\b\b\b\b\b\b\b\b\b\b\b\b\b\b\b\b\b\b\b\b\b\b\b\b\b\b\b\b\b\b\b\b\b\b\b\b\b\b\b\b\b\b\b\b\b\b\b\b\b\b\b\b\b\b\b\b\b\b\b\b\b\b\b\b\b\b\b\b\b\r8/8 [==============================] - 1s 83ms/step - loss: 0.1615 - accuracy: 0.9911 - val_loss: 2.7339 - val_accuracy: 0.4400 - lr: 0.0010\n",
            "Epoch 239/400\n",
            "7/8 [=========================>....] - ETA: 0s - loss: 0.1583 - accuracy: 0.9911"
          ]
        },
        {
          "output_type": "stream",
          "name": "stderr",
          "text": [
            "WARNING:tensorflow:Learning rate reduction is conditioned on metric `acc` which is not available. Available metrics are: loss,accuracy,val_loss,val_accuracy,lr\n"
          ]
        },
        {
          "output_type": "stream",
          "name": "stdout",
          "text": [
            "\b\b\b\b\b\b\b\b\b\b\b\b\b\b\b\b\b\b\b\b\b\b\b\b\b\b\b\b\b\b\b\b\b\b\b\b\b\b\b\b\b\b\b\b\b\b\b\b\b\b\b\b\b\b\b\b\b\b\b\b\b\b\b\b\b\b\b\b\b\b\b\b\b\b\b\b\b\b\b\b\r8/8 [==============================] - 1s 80ms/step - loss: 0.1583 - accuracy: 0.9911 - val_loss: 2.8024 - val_accuracy: 0.3900 - lr: 0.0010\n",
            "Epoch 240/400\n",
            "7/8 [=========================>....] - ETA: 0s - loss: 0.1574 - accuracy: 0.9922"
          ]
        },
        {
          "output_type": "stream",
          "name": "stderr",
          "text": [
            "WARNING:tensorflow:Learning rate reduction is conditioned on metric `acc` which is not available. Available metrics are: loss,accuracy,val_loss,val_accuracy,lr\n"
          ]
        },
        {
          "output_type": "stream",
          "name": "stdout",
          "text": [
            "\b\b\b\b\b\b\b\b\b\b\b\b\b\b\b\b\b\b\b\b\b\b\b\b\b\b\b\b\b\b\b\b\b\b\b\b\b\b\b\b\b\b\b\b\b\b\b\b\b\b\b\b\b\b\b\b\b\b\b\b\b\b\b\b\b\b\b\b\b\b\b\b\b\b\b\b\b\b\b\b\r8/8 [==============================] - 1s 82ms/step - loss: 0.1657 - accuracy: 0.9911 - val_loss: 2.5687 - val_accuracy: 0.4300 - lr: 0.0010\n",
            "Epoch 241/400\n",
            "7/8 [=========================>....] - ETA: 0s - loss: 0.1574 - accuracy: 0.9911"
          ]
        },
        {
          "output_type": "stream",
          "name": "stderr",
          "text": [
            "WARNING:tensorflow:Learning rate reduction is conditioned on metric `acc` which is not available. Available metrics are: loss,accuracy,val_loss,val_accuracy,lr\n"
          ]
        },
        {
          "output_type": "stream",
          "name": "stdout",
          "text": [
            "\b\b\b\b\b\b\b\b\b\b\b\b\b\b\b\b\b\b\b\b\b\b\b\b\b\b\b\b\b\b\b\b\b\b\b\b\b\b\b\b\b\b\b\b\b\b\b\b\b\b\b\b\b\b\b\b\b\b\b\b\b\b\b\b\b\b\b\b\b\b\b\b\b\b\b\b\b\b\b\b\r8/8 [==============================] - 1s 83ms/step - loss: 0.1577 - accuracy: 0.9911 - val_loss: 2.3688 - val_accuracy: 0.4300 - lr: 0.0010\n",
            "Epoch 242/400\n",
            "7/8 [=========================>....] - ETA: 0s - loss: 0.1836 - accuracy: 0.9877"
          ]
        },
        {
          "output_type": "stream",
          "name": "stderr",
          "text": [
            "WARNING:tensorflow:Learning rate reduction is conditioned on metric `acc` which is not available. Available metrics are: loss,accuracy,val_loss,val_accuracy,lr\n"
          ]
        },
        {
          "output_type": "stream",
          "name": "stdout",
          "text": [
            "\b\b\b\b\b\b\b\b\b\b\b\b\b\b\b\b\b\b\b\b\b\b\b\b\b\b\b\b\b\b\b\b\b\b\b\b\b\b\b\b\b\b\b\b\b\b\b\b\b\b\b\b\b\b\b\b\b\b\b\b\b\b\b\b\b\b\b\b\b\b\b\b\b\b\b\b\b\b\b\b\r8/8 [==============================] - 1s 84ms/step - loss: 0.1839 - accuracy: 0.9878 - val_loss: 2.4602 - val_accuracy: 0.4500 - lr: 0.0010\n",
            "Epoch 243/400\n",
            "7/8 [=========================>....] - ETA: 0s - loss: 0.1604 - accuracy: 0.9911"
          ]
        },
        {
          "output_type": "stream",
          "name": "stderr",
          "text": [
            "WARNING:tensorflow:Learning rate reduction is conditioned on metric `acc` which is not available. Available metrics are: loss,accuracy,val_loss,val_accuracy,lr\n"
          ]
        },
        {
          "output_type": "stream",
          "name": "stdout",
          "text": [
            "\b\b\b\b\b\b\b\b\b\b\b\b\b\b\b\b\b\b\b\b\b\b\b\b\b\b\b\b\b\b\b\b\b\b\b\b\b\b\b\b\b\b\b\b\b\b\b\b\b\b\b\b\b\b\b\b\b\b\b\b\b\b\b\b\b\b\b\b\b\b\b\b\b\b\b\b\b\b\b\b\r8/8 [==============================] - 1s 87ms/step - loss: 0.1604 - accuracy: 0.9911 - val_loss: 2.6037 - val_accuracy: 0.4100 - lr: 0.0010\n",
            "Epoch 244/400\n",
            "7/8 [=========================>....] - ETA: 0s - loss: 0.1485 - accuracy: 0.9955"
          ]
        },
        {
          "output_type": "stream",
          "name": "stderr",
          "text": [
            "WARNING:tensorflow:Learning rate reduction is conditioned on metric `acc` which is not available. Available metrics are: loss,accuracy,val_loss,val_accuracy,lr\n"
          ]
        },
        {
          "output_type": "stream",
          "name": "stdout",
          "text": [
            "\b\b\b\b\b\b\b\b\b\b\b\b\b\b\b\b\b\b\b\b\b\b\b\b\b\b\b\b\b\b\b\b\b\b\b\b\b\b\b\b\b\b\b\b\b\b\b\b\b\b\b\b\b\b\b\b\b\b\b\b\b\b\b\b\b\b\b\b\b\b\b\b\b\b\b\b\b\b\b\b\r8/8 [==============================] - 1s 83ms/step - loss: 0.1484 - accuracy: 0.9956 - val_loss: 2.3828 - val_accuracy: 0.3900 - lr: 0.0010\n",
            "Epoch 245/400\n",
            "7/8 [=========================>....] - ETA: 0s - loss: 0.1391 - accuracy: 0.9978"
          ]
        },
        {
          "output_type": "stream",
          "name": "stderr",
          "text": [
            "WARNING:tensorflow:Learning rate reduction is conditioned on metric `acc` which is not available. Available metrics are: loss,accuracy,val_loss,val_accuracy,lr\n"
          ]
        },
        {
          "output_type": "stream",
          "name": "stdout",
          "text": [
            "\b\b\b\b\b\b\b\b\b\b\b\b\b\b\b\b\b\b\b\b\b\b\b\b\b\b\b\b\b\b\b\b\b\b\b\b\b\b\b\b\b\b\b\b\b\b\b\b\b\b\b\b\b\b\b\b\b\b\b\b\b\b\b\b\b\b\b\b\b\b\b\b\b\b\b\b\b\b\b\b\r8/8 [==============================] - 1s 84ms/step - loss: 0.1391 - accuracy: 0.9978 - val_loss: 2.3260 - val_accuracy: 0.4200 - lr: 0.0010\n",
            "Epoch 246/400\n",
            "7/8 [=========================>....] - ETA: 0s - loss: 0.1341 - accuracy: 0.9978"
          ]
        },
        {
          "output_type": "stream",
          "name": "stderr",
          "text": [
            "WARNING:tensorflow:Learning rate reduction is conditioned on metric `acc` which is not available. Available metrics are: loss,accuracy,val_loss,val_accuracy,lr\n"
          ]
        },
        {
          "output_type": "stream",
          "name": "stdout",
          "text": [
            "\b\b\b\b\b\b\b\b\b\b\b\b\b\b\b\b\b\b\b\b\b\b\b\b\b\b\b\b\b\b\b\b\b\b\b\b\b\b\b\b\b\b\b\b\b\b\b\b\b\b\b\b\b\b\b\b\b\b\b\b\b\b\b\b\b\b\b\b\b\b\b\b\b\b\b\b\b\b\b\b\r8/8 [==============================] - 1s 90ms/step - loss: 0.1346 - accuracy: 0.9978 - val_loss: 2.2467 - val_accuracy: 0.4600 - lr: 0.0010\n",
            "Epoch 247/400\n",
            "7/8 [=========================>....] - ETA: 0s - loss: 0.1340 - accuracy: 0.9989"
          ]
        },
        {
          "output_type": "stream",
          "name": "stderr",
          "text": [
            "WARNING:tensorflow:Learning rate reduction is conditioned on metric `acc` which is not available. Available metrics are: loss,accuracy,val_loss,val_accuracy,lr\n"
          ]
        },
        {
          "output_type": "stream",
          "name": "stdout",
          "text": [
            "\b\b\b\b\b\b\b\b\b\b\b\b\b\b\b\b\b\b\b\b\b\b\b\b\b\b\b\b\b\b\b\b\b\b\b\b\b\b\b\b\b\b\b\b\b\b\b\b\b\b\b\b\b\b\b\b\b\b\b\b\b\b\b\b\b\b\b\b\b\b\b\b\b\b\b\b\b\b\b\b\r8/8 [==============================] - 1s 92ms/step - loss: 0.1340 - accuracy: 0.9989 - val_loss: 2.3842 - val_accuracy: 0.4300 - lr: 0.0010\n",
            "Epoch 248/400\n",
            "7/8 [=========================>....] - ETA: 0s - loss: 0.1347 - accuracy: 0.9978"
          ]
        },
        {
          "output_type": "stream",
          "name": "stderr",
          "text": [
            "WARNING:tensorflow:Learning rate reduction is conditioned on metric `acc` which is not available. Available metrics are: loss,accuracy,val_loss,val_accuracy,lr\n"
          ]
        },
        {
          "output_type": "stream",
          "name": "stdout",
          "text": [
            "\b\b\b\b\b\b\b\b\b\b\b\b\b\b\b\b\b\b\b\b\b\b\b\b\b\b\b\b\b\b\b\b\b\b\b\b\b\b\b\b\b\b\b\b\b\b\b\b\b\b\b\b\b\b\b\b\b\b\b\b\b\b\b\b\b\b\b\b\b\b\b\b\b\b\b\b\b\b\b\b\r8/8 [==============================] - 1s 92ms/step - loss: 0.1350 - accuracy: 0.9978 - val_loss: 2.3530 - val_accuracy: 0.4400 - lr: 0.0010\n",
            "Epoch 249/400\n",
            "7/8 [=========================>....] - ETA: 0s - loss: 0.1338 - accuracy: 0.9978"
          ]
        },
        {
          "output_type": "stream",
          "name": "stderr",
          "text": [
            "WARNING:tensorflow:Learning rate reduction is conditioned on metric `acc` which is not available. Available metrics are: loss,accuracy,val_loss,val_accuracy,lr\n"
          ]
        },
        {
          "output_type": "stream",
          "name": "stdout",
          "text": [
            "\b\b\b\b\b\b\b\b\b\b\b\b\b\b\b\b\b\b\b\b\b\b\b\b\b\b\b\b\b\b\b\b\b\b\b\b\b\b\b\b\b\b\b\b\b\b\b\b\b\b\b\b\b\b\b\b\b\b\b\b\b\b\b\b\b\b\b\b\b\b\b\b\b\b\b\b\b\b\b\b\r8/8 [==============================] - 1s 91ms/step - loss: 0.1376 - accuracy: 0.9956 - val_loss: 3.0079 - val_accuracy: 0.3800 - lr: 0.0010\n",
            "Epoch 250/400\n",
            "7/8 [=========================>....] - ETA: 0s - loss: 0.5531 - accuracy: 0.9051"
          ]
        },
        {
          "output_type": "stream",
          "name": "stderr",
          "text": [
            "WARNING:tensorflow:Learning rate reduction is conditioned on metric `acc` which is not available. Available metrics are: loss,accuracy,val_loss,val_accuracy,lr\n"
          ]
        },
        {
          "output_type": "stream",
          "name": "stdout",
          "text": [
            "\b\b\b\b\b\b\b\b\b\b\b\b\b\b\b\b\b\b\b\b\b\b\b\b\b\b\b\b\b\b\b\b\b\b\b\b\b\b\b\b\b\b\b\b\b\b\b\b\b\b\b\b\b\b\b\b\b\b\b\b\b\b\b\b\b\b\b\b\b\b\b\b\b\b\b\b\b\b\b\b\r8/8 [==============================] - 1s 84ms/step - loss: 0.5543 - accuracy: 0.9044 - val_loss: 14.6852 - val_accuracy: 0.1300 - lr: 0.0010\n",
            "Epoch 251/400\n",
            "7/8 [=========================>....] - ETA: 0s - loss: 0.3846 - accuracy: 0.9375"
          ]
        },
        {
          "output_type": "stream",
          "name": "stderr",
          "text": [
            "WARNING:tensorflow:Learning rate reduction is conditioned on metric `acc` which is not available. Available metrics are: loss,accuracy,val_loss,val_accuracy,lr\n"
          ]
        },
        {
          "output_type": "stream",
          "name": "stdout",
          "text": [
            "\b\b\b\b\b\b\b\b\b\b\b\b\b\b\b\b\b\b\b\b\b\b\b\b\b\b\b\b\b\b\b\b\b\b\b\b\b\b\b\b\b\b\b\b\b\b\b\b\b\b\b\b\b\b\b\b\b\b\b\b\b\b\b\b\b\b\b\b\b\b\b\b\b\b\b\b\b\b\b\b\r8/8 [==============================] - 1s 83ms/step - loss: 0.3837 - accuracy: 0.9378 - val_loss: 9.1573 - val_accuracy: 0.2600 - lr: 0.0010\n",
            "Epoch 252/400\n",
            "7/8 [=========================>....] - ETA: 0s - loss: 0.2718 - accuracy: 0.9520"
          ]
        },
        {
          "output_type": "stream",
          "name": "stderr",
          "text": [
            "WARNING:tensorflow:Learning rate reduction is conditioned on metric `acc` which is not available. Available metrics are: loss,accuracy,val_loss,val_accuracy,lr\n"
          ]
        },
        {
          "output_type": "stream",
          "name": "stdout",
          "text": [
            "\b\b\b\b\b\b\b\b\b\b\b\b\b\b\b\b\b\b\b\b\b\b\b\b\b\b\b\b\b\b\b\b\b\b\b\b\b\b\b\b\b\b\b\b\b\b\b\b\b\b\b\b\b\b\b\b\b\b\b\b\b\b\b\b\b\b\b\b\b\b\b\b\b\b\b\b\b\b\b\b\r8/8 [==============================] - 1s 81ms/step - loss: 0.2713 - accuracy: 0.9522 - val_loss: 4.3035 - val_accuracy: 0.3900 - lr: 0.0010\n",
            "Epoch 253/400\n",
            "7/8 [=========================>....] - ETA: 0s - loss: 0.2016 - accuracy: 0.9900"
          ]
        },
        {
          "output_type": "stream",
          "name": "stderr",
          "text": [
            "WARNING:tensorflow:Learning rate reduction is conditioned on metric `acc` which is not available. Available metrics are: loss,accuracy,val_loss,val_accuracy,lr\n"
          ]
        },
        {
          "output_type": "stream",
          "name": "stdout",
          "text": [
            "\b\b\b\b\b\b\b\b\b\b\b\b\b\b\b\b\b\b\b\b\b\b\b\b\b\b\b\b\b\b\b\b\b\b\b\b\b\b\b\b\b\b\b\b\b\b\b\b\b\b\b\b\b\b\b\b\b\b\b\b\b\b\b\b\b\b\b\b\b\b\b\b\b\b\b\b\b\b\b\b\r8/8 [==============================] - 1s 82ms/step - loss: 0.2023 - accuracy: 0.9889 - val_loss: 3.7619 - val_accuracy: 0.3700 - lr: 0.0010\n",
            "Epoch 254/400\n",
            "7/8 [=========================>....] - ETA: 0s - loss: 0.3073 - accuracy: 0.9576"
          ]
        },
        {
          "output_type": "stream",
          "name": "stderr",
          "text": [
            "WARNING:tensorflow:Learning rate reduction is conditioned on metric `acc` which is not available. Available metrics are: loss,accuracy,val_loss,val_accuracy,lr\n"
          ]
        },
        {
          "output_type": "stream",
          "name": "stdout",
          "text": [
            "\b\b\b\b\b\b\b\b\b\b\b\b\b\b\b\b\b\b\b\b\b\b\b\b\b\b\b\b\b\b\b\b\b\b\b\b\b\b\b\b\b\b\b\b\b\b\b\b\b\b\b\b\b\b\b\b\b\b\b\b\b\b\b\b\b\b\b\b\b\b\b\b\b\b\b\b\b\b\b\b\r8/8 [==============================] - 1s 83ms/step - loss: 0.3087 - accuracy: 0.9567 - val_loss: 4.3696 - val_accuracy: 0.3700 - lr: 0.0010\n",
            "Epoch 255/400\n",
            "7/8 [=========================>....] - ETA: 0s - loss: 0.1910 - accuracy: 0.9855"
          ]
        },
        {
          "output_type": "stream",
          "name": "stderr",
          "text": [
            "WARNING:tensorflow:Learning rate reduction is conditioned on metric `acc` which is not available. Available metrics are: loss,accuracy,val_loss,val_accuracy,lr\n"
          ]
        },
        {
          "output_type": "stream",
          "name": "stdout",
          "text": [
            "\b\b\b\b\b\b\b\b\b\b\b\b\b\b\b\b\b\b\b\b\b\b\b\b\b\b\b\b\b\b\b\b\b\b\b\b\b\b\b\b\b\b\b\b\b\b\b\b\b\b\b\b\b\b\b\b\b\b\b\b\b\b\b\b\b\b\b\b\b\b\b\b\b\b\b\b\b\b\b\b\r8/8 [==============================] - 1s 82ms/step - loss: 0.1910 - accuracy: 0.9856 - val_loss: 7.0294 - val_accuracy: 0.3500 - lr: 0.0010\n",
            "Epoch 256/400\n",
            "7/8 [=========================>....] - ETA: 0s - loss: 0.2589 - accuracy: 0.9632"
          ]
        },
        {
          "output_type": "stream",
          "name": "stderr",
          "text": [
            "WARNING:tensorflow:Learning rate reduction is conditioned on metric `acc` which is not available. Available metrics are: loss,accuracy,val_loss,val_accuracy,lr\n"
          ]
        },
        {
          "output_type": "stream",
          "name": "stdout",
          "text": [
            "\b\b\b\b\b\b\b\b\b\b\b\b\b\b\b\b\b\b\b\b\b\b\b\b\b\b\b\b\b\b\b\b\b\b\b\b\b\b\b\b\b\b\b\b\b\b\b\b\b\b\b\b\b\b\b\b\b\b\b\b\b\b\b\b\b\b\b\b\b\b\b\b\b\b\b\b\b\b\b\b\r8/8 [==============================] - 1s 82ms/step - loss: 0.2586 - accuracy: 0.9633 - val_loss: 4.7921 - val_accuracy: 0.3800 - lr: 0.0010\n",
            "Epoch 257/400\n",
            "7/8 [=========================>....] - ETA: 0s - loss: 0.1688 - accuracy: 0.9911"
          ]
        },
        {
          "output_type": "stream",
          "name": "stderr",
          "text": [
            "WARNING:tensorflow:Learning rate reduction is conditioned on metric `acc` which is not available. Available metrics are: loss,accuracy,val_loss,val_accuracy,lr\n"
          ]
        },
        {
          "output_type": "stream",
          "name": "stdout",
          "text": [
            "\b\b\b\b\b\b\b\b\b\b\b\b\b\b\b\b\b\b\b\b\b\b\b\b\b\b\b\b\b\b\b\b\b\b\b\b\b\b\b\b\b\b\b\b\b\b\b\b\b\b\b\b\b\b\b\b\b\b\b\b\b\b\b\b\b\b\b\b\b\b\b\b\b\b\b\b\b\b\b\b\r8/8 [==============================] - 1s 84ms/step - loss: 0.1688 - accuracy: 0.9911 - val_loss: 3.4375 - val_accuracy: 0.4400 - lr: 0.0010\n",
            "Epoch 258/400\n",
            "7/8 [=========================>....] - ETA: 0s - loss: 0.1497 - accuracy: 0.9967"
          ]
        },
        {
          "output_type": "stream",
          "name": "stderr",
          "text": [
            "WARNING:tensorflow:Learning rate reduction is conditioned on metric `acc` which is not available. Available metrics are: loss,accuracy,val_loss,val_accuracy,lr\n"
          ]
        },
        {
          "output_type": "stream",
          "name": "stdout",
          "text": [
            "\b\b\b\b\b\b\b\b\b\b\b\b\b\b\b\b\b\b\b\b\b\b\b\b\b\b\b\b\b\b\b\b\b\b\b\b\b\b\b\b\b\b\b\b\b\b\b\b\b\b\b\b\b\b\b\b\b\b\b\b\b\b\b\b\b\b\b\b\b\b\b\b\b\b\b\b\b\b\b\b\r8/8 [==============================] - 1s 83ms/step - loss: 0.1497 - accuracy: 0.9967 - val_loss: 3.3503 - val_accuracy: 0.4600 - lr: 0.0010\n",
            "Epoch 259/400\n",
            "7/8 [=========================>....] - ETA: 0s - loss: 0.1420 - accuracy: 0.9967"
          ]
        },
        {
          "output_type": "stream",
          "name": "stderr",
          "text": [
            "WARNING:tensorflow:Learning rate reduction is conditioned on metric `acc` which is not available. Available metrics are: loss,accuracy,val_loss,val_accuracy,lr\n"
          ]
        },
        {
          "output_type": "stream",
          "name": "stdout",
          "text": [
            "\b\b\b\b\b\b\b\b\b\b\b\b\b\b\b\b\b\b\b\b\b\b\b\b\b\b\b\b\b\b\b\b\b\b\b\b\b\b\b\b\b\b\b\b\b\b\b\b\b\b\b\b\b\b\b\b\b\b\b\b\b\b\b\b\b\b\b\b\b\b\b\b\b\b\b\b\b\b\b\b\r8/8 [==============================] - 1s 82ms/step - loss: 0.1423 - accuracy: 0.9967 - val_loss: 3.2420 - val_accuracy: 0.4100 - lr: 0.0010\n",
            "Epoch 260/400\n",
            "7/8 [=========================>....] - ETA: 0s - loss: 0.1388 - accuracy: 0.9978"
          ]
        },
        {
          "output_type": "stream",
          "name": "stderr",
          "text": [
            "WARNING:tensorflow:Learning rate reduction is conditioned on metric `acc` which is not available. Available metrics are: loss,accuracy,val_loss,val_accuracy,lr\n"
          ]
        },
        {
          "output_type": "stream",
          "name": "stdout",
          "text": [
            "\b\b\b\b\b\b\b\b\b\b\b\b\b\b\b\b\b\b\b\b\b\b\b\b\b\b\b\b\b\b\b\b\b\b\b\b\b\b\b\b\b\b\b\b\b\b\b\b\b\b\b\b\b\b\b\b\b\b\b\b\b\b\b\b\b\b\b\b\b\b\b\b\b\b\b\b\b\b\b\b\r8/8 [==============================] - 1s 88ms/step - loss: 0.1388 - accuracy: 0.9978 - val_loss: 3.2099 - val_accuracy: 0.3500 - lr: 0.0010\n",
            "Epoch 261/400\n",
            "7/8 [=========================>....] - ETA: 0s - loss: 0.1387 - accuracy: 0.9978"
          ]
        },
        {
          "output_type": "stream",
          "name": "stderr",
          "text": [
            "WARNING:tensorflow:Learning rate reduction is conditioned on metric `acc` which is not available. Available metrics are: loss,accuracy,val_loss,val_accuracy,lr\n"
          ]
        },
        {
          "output_type": "stream",
          "name": "stdout",
          "text": [
            "\b\b\b\b\b\b\b\b\b\b\b\b\b\b\b\b\b\b\b\b\b\b\b\b\b\b\b\b\b\b\b\b\b\b\b\b\b\b\b\b\b\b\b\b\b\b\b\b\b\b\b\b\b\b\b\b\b\b\b\b\b\b\b\b\b\b\b\b\b\b\b\b\b\b\b\b\b\b\b\b\r8/8 [==============================] - 1s 83ms/step - loss: 0.1390 - accuracy: 0.9978 - val_loss: 2.8280 - val_accuracy: 0.4700 - lr: 0.0010\n",
            "Epoch 262/400\n",
            "7/8 [=========================>....] - ETA: 0s - loss: 0.1377 - accuracy: 0.9967"
          ]
        },
        {
          "output_type": "stream",
          "name": "stderr",
          "text": [
            "WARNING:tensorflow:Learning rate reduction is conditioned on metric `acc` which is not available. Available metrics are: loss,accuracy,val_loss,val_accuracy,lr\n"
          ]
        },
        {
          "output_type": "stream",
          "name": "stdout",
          "text": [
            "\b\b\b\b\b\b\b\b\b\b\b\b\b\b\b\b\b\b\b\b\b\b\b\b\b\b\b\b\b\b\b\b\b\b\b\b\b\b\b\b\b\b\b\b\b\b\b\b\b\b\b\b\b\b\b\b\b\b\b\b\b\b\b\b\b\b\b\b\b\b\b\b\b\b\b\b\b\b\b\b\r8/8 [==============================] - 1s 87ms/step - loss: 0.1383 - accuracy: 0.9967 - val_loss: 3.4135 - val_accuracy: 0.4200 - lr: 0.0010\n",
            "Epoch 263/400\n",
            "7/8 [=========================>....] - ETA: 0s - loss: 0.1409 - accuracy: 0.9944"
          ]
        },
        {
          "output_type": "stream",
          "name": "stderr",
          "text": [
            "WARNING:tensorflow:Learning rate reduction is conditioned on metric `acc` which is not available. Available metrics are: loss,accuracy,val_loss,val_accuracy,lr\n"
          ]
        },
        {
          "output_type": "stream",
          "name": "stdout",
          "text": [
            "\b\b\b\b\b\b\b\b\b\b\b\b\b\b\b\b\b\b\b\b\b\b\b\b\b\b\b\b\b\b\b\b\b\b\b\b\b\b\b\b\b\b\b\b\b\b\b\b\b\b\b\b\b\b\b\b\b\b\b\b\b\b\b\b\b\b\b\b\b\b\b\b\b\b\b\b\b\b\b\b\r8/8 [==============================] - 1s 83ms/step - loss: 0.1421 - accuracy: 0.9933 - val_loss: 4.0431 - val_accuracy: 0.3400 - lr: 0.0010\n",
            "Epoch 264/400\n",
            "7/8 [=========================>....] - ETA: 0s - loss: 0.1893 - accuracy: 0.9743"
          ]
        },
        {
          "output_type": "stream",
          "name": "stderr",
          "text": [
            "WARNING:tensorflow:Learning rate reduction is conditioned on metric `acc` which is not available. Available metrics are: loss,accuracy,val_loss,val_accuracy,lr\n"
          ]
        },
        {
          "output_type": "stream",
          "name": "stdout",
          "text": [
            "\b\b\b\b\b\b\b\b\b\b\b\b\b\b\b\b\b\b\b\b\b\b\b\b\b\b\b\b\b\b\b\b\b\b\b\b\b\b\b\b\b\b\b\b\b\b\b\b\b\b\b\b\b\b\b\b\b\b\b\b\b\b\b\b\b\b\b\b\b\b\b\b\b\b\b\b\b\b\b\b\r8/8 [==============================] - 1s 88ms/step - loss: 0.1905 - accuracy: 0.9744 - val_loss: 3.4825 - val_accuracy: 0.3400 - lr: 0.0010\n",
            "Epoch 265/400\n",
            "7/8 [=========================>....] - ETA: 0s - loss: 0.1989 - accuracy: 0.9754"
          ]
        },
        {
          "output_type": "stream",
          "name": "stderr",
          "text": [
            "WARNING:tensorflow:Learning rate reduction is conditioned on metric `acc` which is not available. Available metrics are: loss,accuracy,val_loss,val_accuracy,lr\n"
          ]
        },
        {
          "output_type": "stream",
          "name": "stdout",
          "text": [
            "\b\b\b\b\b\b\b\b\b\b\b\b\b\b\b\b\b\b\b\b\b\b\b\b\b\b\b\b\b\b\b\b\b\b\b\b\b\b\b\b\b\b\b\b\b\b\b\b\b\b\b\b\b\b\b\b\b\b\b\b\b\b\b\b\b\b\b\b\b\b\b\b\b\b\b\b\b\b\b\b\r8/8 [==============================] - 1s 88ms/step - loss: 0.1989 - accuracy: 0.9756 - val_loss: 4.1545 - val_accuracy: 0.3600 - lr: 0.0010\n",
            "Epoch 266/400\n",
            "7/8 [=========================>....] - ETA: 0s - loss: 0.1731 - accuracy: 0.9855"
          ]
        },
        {
          "output_type": "stream",
          "name": "stderr",
          "text": [
            "WARNING:tensorflow:Learning rate reduction is conditioned on metric `acc` which is not available. Available metrics are: loss,accuracy,val_loss,val_accuracy,lr\n"
          ]
        },
        {
          "output_type": "stream",
          "name": "stdout",
          "text": [
            "\b\b\b\b\b\b\b\b\b\b\b\b\b\b\b\b\b\b\b\b\b\b\b\b\b\b\b\b\b\b\b\b\b\b\b\b\b\b\b\b\b\b\b\b\b\b\b\b\b\b\b\b\b\b\b\b\b\b\b\b\b\b\b\b\b\b\b\b\b\b\b\b\b\b\b\b\b\b\b\b\r8/8 [==============================] - 1s 88ms/step - loss: 0.1766 - accuracy: 0.9844 - val_loss: 4.9905 - val_accuracy: 0.2700 - lr: 0.0010\n",
            "Epoch 267/400\n",
            "7/8 [=========================>....] - ETA: 0s - loss: 0.1993 - accuracy: 0.9721"
          ]
        },
        {
          "output_type": "stream",
          "name": "stderr",
          "text": [
            "WARNING:tensorflow:Learning rate reduction is conditioned on metric `acc` which is not available. Available metrics are: loss,accuracy,val_loss,val_accuracy,lr\n"
          ]
        },
        {
          "output_type": "stream",
          "name": "stdout",
          "text": [
            "\b\b\b\b\b\b\b\b\b\b\b\b\b\b\b\b\b\b\b\b\b\b\b\b\b\b\b\b\b\b\b\b\b\b\b\b\b\b\b\b\b\b\b\b\b\b\b\b\b\b\b\b\b\b\b\b\b\b\b\b\b\b\b\b\b\b\b\b\b\b\b\b\b\b\b\b\b\b\b\b\r8/8 [==============================] - 1s 92ms/step - loss: 0.2000 - accuracy: 0.9711 - val_loss: 5.9344 - val_accuracy: 0.2200 - lr: 0.0010\n",
            "Epoch 268/400\n",
            "7/8 [=========================>....] - ETA: 0s - loss: 0.1981 - accuracy: 0.9799"
          ]
        },
        {
          "output_type": "stream",
          "name": "stderr",
          "text": [
            "WARNING:tensorflow:Learning rate reduction is conditioned on metric `acc` which is not available. Available metrics are: loss,accuracy,val_loss,val_accuracy,lr\n"
          ]
        },
        {
          "output_type": "stream",
          "name": "stdout",
          "text": [
            "\b\b\b\b\b\b\b\b\b\b\b\b\b\b\b\b\b\b\b\b\b\b\b\b\b\b\b\b\b\b\b\b\b\b\b\b\b\b\b\b\b\b\b\b\b\b\b\b\b\b\b\b\b\b\b\b\b\b\b\b\b\b\b\b\b\b\b\b\b\b\b\b\b\b\b\b\b\b\b\b\r8/8 [==============================] - 1s 92ms/step - loss: 0.1999 - accuracy: 0.9789 - val_loss: 8.1778 - val_accuracy: 0.1700 - lr: 0.0010\n",
            "Epoch 269/400\n",
            "7/8 [=========================>....] - ETA: 0s - loss: 0.2225 - accuracy: 0.9721"
          ]
        },
        {
          "output_type": "stream",
          "name": "stderr",
          "text": [
            "WARNING:tensorflow:Learning rate reduction is conditioned on metric `acc` which is not available. Available metrics are: loss,accuracy,val_loss,val_accuracy,lr\n"
          ]
        },
        {
          "output_type": "stream",
          "name": "stdout",
          "text": [
            "\b\b\b\b\b\b\b\b\b\b\b\b\b\b\b\b\b\b\b\b\b\b\b\b\b\b\b\b\b\b\b\b\b\b\b\b\b\b\b\b\b\b\b\b\b\b\b\b\b\b\b\b\b\b\b\b\b\b\b\b\b\b\b\b\b\b\b\b\b\b\b\b\b\b\b\b\b\b\b\b\r8/8 [==============================] - 1s 84ms/step - loss: 0.2222 - accuracy: 0.9722 - val_loss: 5.0552 - val_accuracy: 0.3200 - lr: 0.0010\n",
            "Epoch 270/400\n",
            "7/8 [=========================>....] - ETA: 0s - loss: 0.1847 - accuracy: 0.9877"
          ]
        },
        {
          "output_type": "stream",
          "name": "stderr",
          "text": [
            "WARNING:tensorflow:Learning rate reduction is conditioned on metric `acc` which is not available. Available metrics are: loss,accuracy,val_loss,val_accuracy,lr\n"
          ]
        },
        {
          "output_type": "stream",
          "name": "stdout",
          "text": [
            "\b\b\b\b\b\b\b\b\b\b\b\b\b\b\b\b\b\b\b\b\b\b\b\b\b\b\b\b\b\b\b\b\b\b\b\b\b\b\b\b\b\b\b\b\b\b\b\b\b\b\b\b\b\b\b\b\b\b\b\b\b\b\b\b\b\b\b\b\b\b\b\b\b\b\b\b\b\b\b\b\r8/8 [==============================] - 1s 85ms/step - loss: 0.1846 - accuracy: 0.9878 - val_loss: 4.9662 - val_accuracy: 0.3200 - lr: 0.0010\n",
            "Epoch 271/400\n",
            "7/8 [=========================>....] - ETA: 0s - loss: 0.1590 - accuracy: 0.9955"
          ]
        },
        {
          "output_type": "stream",
          "name": "stderr",
          "text": [
            "WARNING:tensorflow:Learning rate reduction is conditioned on metric `acc` which is not available. Available metrics are: loss,accuracy,val_loss,val_accuracy,lr\n"
          ]
        },
        {
          "output_type": "stream",
          "name": "stdout",
          "text": [
            "\b\b\b\b\b\b\b\b\b\b\b\b\b\b\b\b\b\b\b\b\b\b\b\b\b\b\b\b\b\b\b\b\b\b\b\b\b\b\b\b\b\b\b\b\b\b\b\b\b\b\b\b\b\b\b\b\b\b\b\b\b\b\b\b\b\b\b\b\b\b\b\b\b\b\b\b\b\b\b\b\r8/8 [==============================] - 1s 83ms/step - loss: 0.1602 - accuracy: 0.9956 - val_loss: 3.9611 - val_accuracy: 0.4000 - lr: 0.0010\n",
            "Epoch 272/400\n",
            "7/8 [=========================>....] - ETA: 0s - loss: 0.2101 - accuracy: 0.9788"
          ]
        },
        {
          "output_type": "stream",
          "name": "stderr",
          "text": [
            "WARNING:tensorflow:Learning rate reduction is conditioned on metric `acc` which is not available. Available metrics are: loss,accuracy,val_loss,val_accuracy,lr\n"
          ]
        },
        {
          "output_type": "stream",
          "name": "stdout",
          "text": [
            "\b\b\b\b\b\b\b\b\b\b\b\b\b\b\b\b\b\b\b\b\b\b\b\b\b\b\b\b\b\b\b\b\b\b\b\b\b\b\b\b\b\b\b\b\b\b\b\b\b\b\b\b\b\b\b\b\b\b\b\b\b\b\b\b\b\b\b\b\b\b\b\b\b\b\b\b\b\b\b\b\r8/8 [==============================] - 1s 82ms/step - loss: 0.2099 - accuracy: 0.9789 - val_loss: 3.3440 - val_accuracy: 0.4100 - lr: 0.0010\n",
            "Epoch 273/400\n",
            "7/8 [=========================>....] - ETA: 0s - loss: 0.1665 - accuracy: 0.9888"
          ]
        },
        {
          "output_type": "stream",
          "name": "stderr",
          "text": [
            "WARNING:tensorflow:Learning rate reduction is conditioned on metric `acc` which is not available. Available metrics are: loss,accuracy,val_loss,val_accuracy,lr\n"
          ]
        },
        {
          "output_type": "stream",
          "name": "stdout",
          "text": [
            "\b\b\b\b\b\b\b\b\b\b\b\b\b\b\b\b\b\b\b\b\b\b\b\b\b\b\b\b\b\b\b\b\b\b\b\b\b\b\b\b\b\b\b\b\b\b\b\b\b\b\b\b\b\b\b\b\b\b\b\b\b\b\b\b\b\b\b\b\b\b\b\b\b\b\b\b\b\b\b\b\r8/8 [==============================] - 1s 88ms/step - loss: 0.1665 - accuracy: 0.9889 - val_loss: 2.5843 - val_accuracy: 0.4800 - lr: 0.0010\n",
            "Epoch 274/400\n",
            "7/8 [=========================>....] - ETA: 0s - loss: 0.1437 - accuracy: 0.9967"
          ]
        },
        {
          "output_type": "stream",
          "name": "stderr",
          "text": [
            "WARNING:tensorflow:Learning rate reduction is conditioned on metric `acc` which is not available. Available metrics are: loss,accuracy,val_loss,val_accuracy,lr\n"
          ]
        },
        {
          "output_type": "stream",
          "name": "stdout",
          "text": [
            "\b\b\b\b\b\b\b\b\b\b\b\b\b\b\b\b\b\b\b\b\b\b\b\b\b\b\b\b\b\b\b\b\b\b\b\b\b\b\b\b\b\b\b\b\b\b\b\b\b\b\b\b\b\b\b\b\b\b\b\b\b\b\b\b\b\b\b\b\b\b\b\b\b\b\b\b\b\b\b\b\r8/8 [==============================] - 1s 83ms/step - loss: 0.1442 - accuracy: 0.9967 - val_loss: 2.1504 - val_accuracy: 0.5400 - lr: 0.0010\n",
            "Epoch 275/400\n",
            "7/8 [=========================>....] - ETA: 0s - loss: 0.1477 - accuracy: 0.9955"
          ]
        },
        {
          "output_type": "stream",
          "name": "stderr",
          "text": [
            "WARNING:tensorflow:Learning rate reduction is conditioned on metric `acc` which is not available. Available metrics are: loss,accuracy,val_loss,val_accuracy,lr\n"
          ]
        },
        {
          "output_type": "stream",
          "name": "stdout",
          "text": [
            "\b\b\b\b\b\b\b\b\b\b\b\b\b\b\b\b\b\b\b\b\b\b\b\b\b\b\b\b\b\b\b\b\b\b\b\b\b\b\b\b\b\b\b\b\b\b\b\b\b\b\b\b\b\b\b\b\b\b\b\b\b\b\b\b\b\b\b\b\b\b\b\b\b\b\b\b\b\b\b\b\r8/8 [==============================] - 1s 83ms/step - loss: 0.1477 - accuracy: 0.9956 - val_loss: 2.8926 - val_accuracy: 0.4500 - lr: 0.0010\n",
            "Epoch 276/400\n",
            "7/8 [=========================>....] - ETA: 0s - loss: 0.1496 - accuracy: 0.9944"
          ]
        },
        {
          "output_type": "stream",
          "name": "stderr",
          "text": [
            "WARNING:tensorflow:Learning rate reduction is conditioned on metric `acc` which is not available. Available metrics are: loss,accuracy,val_loss,val_accuracy,lr\n"
          ]
        },
        {
          "output_type": "stream",
          "name": "stdout",
          "text": [
            "\b\b\b\b\b\b\b\b\b\b\b\b\b\b\b\b\b\b\b\b\b\b\b\b\b\b\b\b\b\b\b\b\b\b\b\b\b\b\b\b\b\b\b\b\b\b\b\b\b\b\b\b\b\b\b\b\b\b\b\b\b\b\b\b\b\b\b\b\b\b\b\b\b\b\b\b\b\b\b\b\r8/8 [==============================] - 1s 82ms/step - loss: 0.1501 - accuracy: 0.9944 - val_loss: 2.6895 - val_accuracy: 0.4600 - lr: 0.0010\n",
            "Epoch 277/400\n",
            "7/8 [=========================>....] - ETA: 0s - loss: 0.1641 - accuracy: 0.9900"
          ]
        },
        {
          "output_type": "stream",
          "name": "stderr",
          "text": [
            "WARNING:tensorflow:Learning rate reduction is conditioned on metric `acc` which is not available. Available metrics are: loss,accuracy,val_loss,val_accuracy,lr\n"
          ]
        },
        {
          "output_type": "stream",
          "name": "stdout",
          "text": [
            "\b\b\b\b\b\b\b\b\b\b\b\b\b\b\b\b\b\b\b\b\b\b\b\b\b\b\b\b\b\b\b\b\b\b\b\b\b\b\b\b\b\b\b\b\b\b\b\b\b\b\b\b\b\b\b\b\b\b\b\b\b\b\b\b\b\b\b\b\b\b\b\b\b\b\b\b\b\b\b\b\r8/8 [==============================] - 1s 88ms/step - loss: 0.1644 - accuracy: 0.9900 - val_loss: 3.2928 - val_accuracy: 0.4000 - lr: 0.0010\n",
            "Epoch 278/400\n",
            "7/8 [=========================>....] - ETA: 0s - loss: 0.1468 - accuracy: 0.9933"
          ]
        },
        {
          "output_type": "stream",
          "name": "stderr",
          "text": [
            "WARNING:tensorflow:Learning rate reduction is conditioned on metric `acc` which is not available. Available metrics are: loss,accuracy,val_loss,val_accuracy,lr\n"
          ]
        },
        {
          "output_type": "stream",
          "name": "stdout",
          "text": [
            "\b\b\b\b\b\b\b\b\b\b\b\b\b\b\b\b\b\b\b\b\b\b\b\b\b\b\b\b\b\b\b\b\b\b\b\b\b\b\b\b\b\b\b\b\b\b\b\b\b\b\b\b\b\b\b\b\b\b\b\b\b\b\b\b\b\b\b\b\b\b\b\b\b\b\b\b\b\b\b\b\r8/8 [==============================] - 1s 82ms/step - loss: 0.1468 - accuracy: 0.9933 - val_loss: 2.6005 - val_accuracy: 0.5000 - lr: 0.0010\n",
            "Epoch 279/400\n",
            "7/8 [=========================>....] - ETA: 0s - loss: 0.1371 - accuracy: 0.9978"
          ]
        },
        {
          "output_type": "stream",
          "name": "stderr",
          "text": [
            "WARNING:tensorflow:Learning rate reduction is conditioned on metric `acc` which is not available. Available metrics are: loss,accuracy,val_loss,val_accuracy,lr\n"
          ]
        },
        {
          "output_type": "stream",
          "name": "stdout",
          "text": [
            "\b\b\b\b\b\b\b\b\b\b\b\b\b\b\b\b\b\b\b\b\b\b\b\b\b\b\b\b\b\b\b\b\b\b\b\b\b\b\b\b\b\b\b\b\b\b\b\b\b\b\b\b\b\b\b\b\b\b\b\b\b\b\b\b\b\b\b\b\b\b\b\b\b\b\b\b\b\b\b\b\r8/8 [==============================] - 1s 82ms/step - loss: 0.1372 - accuracy: 0.9978 - val_loss: 2.3287 - val_accuracy: 0.4600 - lr: 0.0010\n",
            "Epoch 280/400\n",
            "7/8 [=========================>....] - ETA: 0s - loss: 0.1332 - accuracy: 0.9978"
          ]
        },
        {
          "output_type": "stream",
          "name": "stderr",
          "text": [
            "WARNING:tensorflow:Learning rate reduction is conditioned on metric `acc` which is not available. Available metrics are: loss,accuracy,val_loss,val_accuracy,lr\n"
          ]
        },
        {
          "output_type": "stream",
          "name": "stdout",
          "text": [
            "\b\b\b\b\b\b\b\b\b\b\b\b\b\b\b\b\b\b\b\b\b\b\b\b\b\b\b\b\b\b\b\b\b\b\b\b\b\b\b\b\b\b\b\b\b\b\b\b\b\b\b\b\b\b\b\b\b\b\b\b\b\b\b\b\b\b\b\b\b\b\b\b\b\b\b\b\b\b\b\b\r8/8 [==============================] - 1s 82ms/step - loss: 0.1340 - accuracy: 0.9978 - val_loss: 2.4607 - val_accuracy: 0.4800 - lr: 0.0010\n",
            "Epoch 281/400\n",
            "7/8 [=========================>....] - ETA: 0s - loss: 0.1394 - accuracy: 0.9955"
          ]
        },
        {
          "output_type": "stream",
          "name": "stderr",
          "text": [
            "WARNING:tensorflow:Learning rate reduction is conditioned on metric `acc` which is not available. Available metrics are: loss,accuracy,val_loss,val_accuracy,lr\n"
          ]
        },
        {
          "output_type": "stream",
          "name": "stdout",
          "text": [
            "\b\b\b\b\b\b\b\b\b\b\b\b\b\b\b\b\b\b\b\b\b\b\b\b\b\b\b\b\b\b\b\b\b\b\b\b\b\b\b\b\b\b\b\b\b\b\b\b\b\b\b\b\b\b\b\b\b\b\b\b\b\b\b\b\b\b\b\b\b\b\b\b\b\b\b\b\b\b\b\b\r8/8 [==============================] - 1s 83ms/step - loss: 0.1393 - accuracy: 0.9956 - val_loss: 6.4035 - val_accuracy: 0.2100 - lr: 0.0010\n",
            "Epoch 282/400\n",
            "7/8 [=========================>....] - ETA: 0s - loss: 0.1410 - accuracy: 0.9944"
          ]
        },
        {
          "output_type": "stream",
          "name": "stderr",
          "text": [
            "WARNING:tensorflow:Learning rate reduction is conditioned on metric `acc` which is not available. Available metrics are: loss,accuracy,val_loss,val_accuracy,lr\n"
          ]
        },
        {
          "output_type": "stream",
          "name": "stdout",
          "text": [
            "\b\b\b\b\b\b\b\b\b\b\b\b\b\b\b\b\b\b\b\b\b\b\b\b\b\b\b\b\b\b\b\b\b\b\b\b\b\b\b\b\b\b\b\b\b\b\b\b\b\b\b\b\b\b\b\b\b\b\b\b\b\b\b\b\b\b\b\b\b\b\b\b\b\b\b\b\b\b\b\b\r8/8 [==============================] - 1s 83ms/step - loss: 0.1409 - accuracy: 0.9944 - val_loss: 3.3200 - val_accuracy: 0.3500 - lr: 0.0010\n",
            "Epoch 283/400\n",
            "7/8 [=========================>....] - ETA: 0s - loss: 0.1339 - accuracy: 0.9967"
          ]
        },
        {
          "output_type": "stream",
          "name": "stderr",
          "text": [
            "WARNING:tensorflow:Learning rate reduction is conditioned on metric `acc` which is not available. Available metrics are: loss,accuracy,val_loss,val_accuracy,lr\n"
          ]
        },
        {
          "output_type": "stream",
          "name": "stdout",
          "text": [
            "\b\b\b\b\b\b\b\b\b\b\b\b\b\b\b\b\b\b\b\b\b\b\b\b\b\b\b\b\b\b\b\b\b\b\b\b\b\b\b\b\b\b\b\b\b\b\b\b\b\b\b\b\b\b\b\b\b\b\b\b\b\b\b\b\b\b\b\b\b\b\b\b\b\b\b\b\b\b\b\b\r8/8 [==============================] - 1s 84ms/step - loss: 0.1338 - accuracy: 0.9967 - val_loss: 2.7690 - val_accuracy: 0.4100 - lr: 0.0010\n",
            "Epoch 284/400\n",
            "7/8 [=========================>....] - ETA: 0s - loss: 0.1275 - accuracy: 0.9978"
          ]
        },
        {
          "output_type": "stream",
          "name": "stderr",
          "text": [
            "WARNING:tensorflow:Learning rate reduction is conditioned on metric `acc` which is not available. Available metrics are: loss,accuracy,val_loss,val_accuracy,lr\n"
          ]
        },
        {
          "output_type": "stream",
          "name": "stdout",
          "text": [
            "\b\b\b\b\b\b\b\b\b\b\b\b\b\b\b\b\b\b\b\b\b\b\b\b\b\b\b\b\b\b\b\b\b\b\b\b\b\b\b\b\b\b\b\b\b\b\b\b\b\b\b\b\b\b\b\b\b\b\b\b\b\b\b\b\b\b\b\b\b\b\b\b\b\b\b\b\b\b\b\b\r8/8 [==============================] - 1s 88ms/step - loss: 0.1274 - accuracy: 0.9978 - val_loss: 3.0433 - val_accuracy: 0.3600 - lr: 0.0010\n",
            "Epoch 285/400\n",
            "7/8 [=========================>....] - ETA: 0s - loss: 0.1264 - accuracy: 0.9978"
          ]
        },
        {
          "output_type": "stream",
          "name": "stderr",
          "text": [
            "WARNING:tensorflow:Learning rate reduction is conditioned on metric `acc` which is not available. Available metrics are: loss,accuracy,val_loss,val_accuracy,lr\n"
          ]
        },
        {
          "output_type": "stream",
          "name": "stdout",
          "text": [
            "\b\b\b\b\b\b\b\b\b\b\b\b\b\b\b\b\b\b\b\b\b\b\b\b\b\b\b\b\b\b\b\b\b\b\b\b\b\b\b\b\b\b\b\b\b\b\b\b\b\b\b\b\b\b\b\b\b\b\b\b\b\b\b\b\b\b\b\b\b\b\b\b\b\b\b\b\b\b\b\b\r8/8 [==============================] - 1s 88ms/step - loss: 0.1271 - accuracy: 0.9978 - val_loss: 2.8310 - val_accuracy: 0.3800 - lr: 0.0010\n",
            "Epoch 286/400\n",
            "7/8 [=========================>....] - ETA: 0s - loss: 0.1253 - accuracy: 0.9978"
          ]
        },
        {
          "output_type": "stream",
          "name": "stderr",
          "text": [
            "WARNING:tensorflow:Learning rate reduction is conditioned on metric `acc` which is not available. Available metrics are: loss,accuracy,val_loss,val_accuracy,lr\n"
          ]
        },
        {
          "output_type": "stream",
          "name": "stdout",
          "text": [
            "\b\b\b\b\b\b\b\b\b\b\b\b\b\b\b\b\b\b\b\b\b\b\b\b\b\b\b\b\b\b\b\b\b\b\b\b\b\b\b\b\b\b\b\b\b\b\b\b\b\b\b\b\b\b\b\b\b\b\b\b\b\b\b\b\b\b\b\b\b\b\b\b\b\b\b\b\b\b\b\b\r8/8 [==============================] - 1s 89ms/step - loss: 0.1253 - accuracy: 0.9978 - val_loss: 2.7023 - val_accuracy: 0.4300 - lr: 0.0010\n",
            "Epoch 287/400\n",
            "7/8 [=========================>....] - ETA: 0s - loss: 0.1322 - accuracy: 0.9989"
          ]
        },
        {
          "output_type": "stream",
          "name": "stderr",
          "text": [
            "WARNING:tensorflow:Learning rate reduction is conditioned on metric `acc` which is not available. Available metrics are: loss,accuracy,val_loss,val_accuracy,lr\n"
          ]
        },
        {
          "output_type": "stream",
          "name": "stdout",
          "text": [
            "\b\b\b\b\b\b\b\b\b\b\b\b\b\b\b\b\b\b\b\b\b\b\b\b\b\b\b\b\b\b\b\b\b\b\b\b\b\b\b\b\b\b\b\b\b\b\b\b\b\b\b\b\b\b\b\b\b\b\b\b\b\b\b\b\b\b\b\b\b\b\b\b\b\b\b\b\b\b\b\b\r8/8 [==============================] - 1s 85ms/step - loss: 0.1337 - accuracy: 0.9978 - val_loss: 2.9192 - val_accuracy: 0.4000 - lr: 0.0010\n",
            "Epoch 288/400\n",
            "7/8 [=========================>....] - ETA: 0s - loss: 0.2414 - accuracy: 0.9542"
          ]
        },
        {
          "output_type": "stream",
          "name": "stderr",
          "text": [
            "WARNING:tensorflow:Learning rate reduction is conditioned on metric `acc` which is not available. Available metrics are: loss,accuracy,val_loss,val_accuracy,lr\n"
          ]
        },
        {
          "output_type": "stream",
          "name": "stdout",
          "text": [
            "\b\b\b\b\b\b\b\b\b\b\b\b\b\b\b\b\b\b\b\b\b\b\b\b\b\b\b\b\b\b\b\b\b\b\b\b\b\b\b\b\b\b\b\b\b\b\b\b\b\b\b\b\b\b\b\b\b\b\b\b\b\b\b\b\b\b\b\b\b\b\b\b\b\b\b\b\b\b\b\b\r8/8 [==============================] - 1s 85ms/step - loss: 0.2446 - accuracy: 0.9522 - val_loss: 3.6102 - val_accuracy: 0.3200 - lr: 0.0010\n",
            "Epoch 289/400\n",
            "7/8 [=========================>....] - ETA: 0s - loss: 0.5367 - accuracy: 0.9062"
          ]
        },
        {
          "output_type": "stream",
          "name": "stderr",
          "text": [
            "WARNING:tensorflow:Learning rate reduction is conditioned on metric `acc` which is not available. Available metrics are: loss,accuracy,val_loss,val_accuracy,lr\n"
          ]
        },
        {
          "output_type": "stream",
          "name": "stdout",
          "text": [
            "\b\b\b\b\b\b\b\b\b\b\b\b\b\b\b\b\b\b\b\b\b\b\b\b\b\b\b\b\b\b\b\b\b\b\b\b\b\b\b\b\b\b\b\b\b\b\b\b\b\b\b\b\b\b\b\b\b\b\b\b\b\b\b\b\b\b\b\b\b\b\b\b\b\b\b\b\b\b\b\b\r8/8 [==============================] - 1s 84ms/step - loss: 0.5377 - accuracy: 0.9056 - val_loss: 6.1978 - val_accuracy: 0.3300 - lr: 0.0010\n",
            "Epoch 290/400\n",
            "7/8 [=========================>....] - ETA: 0s - loss: 0.4034 - accuracy: 0.9219"
          ]
        },
        {
          "output_type": "stream",
          "name": "stderr",
          "text": [
            "WARNING:tensorflow:Learning rate reduction is conditioned on metric `acc` which is not available. Available metrics are: loss,accuracy,val_loss,val_accuracy,lr\n"
          ]
        },
        {
          "output_type": "stream",
          "name": "stdout",
          "text": [
            "\b\b\b\b\b\b\b\b\b\b\b\b\b\b\b\b\b\b\b\b\b\b\b\b\b\b\b\b\b\b\b\b\b\b\b\b\b\b\b\b\b\b\b\b\b\b\b\b\b\b\b\b\b\b\b\b\b\b\b\b\b\b\b\b\b\b\b\b\b\b\b\b\b\b\b\b\b\b\b\b\r8/8 [==============================] - 1s 81ms/step - loss: 0.4054 - accuracy: 0.9211 - val_loss: 10.1993 - val_accuracy: 0.1400 - lr: 0.0010\n",
            "Epoch 291/400\n",
            "7/8 [=========================>....] - ETA: 0s - loss: 0.3140 - accuracy: 0.9420"
          ]
        },
        {
          "output_type": "stream",
          "name": "stderr",
          "text": [
            "WARNING:tensorflow:Learning rate reduction is conditioned on metric `acc` which is not available. Available metrics are: loss,accuracy,val_loss,val_accuracy,lr\n"
          ]
        },
        {
          "output_type": "stream",
          "name": "stdout",
          "text": [
            "\b\b\b\b\b\b\b\b\b\b\b\b\b\b\b\b\b\b\b\b\b\b\b\b\b\b\b\b\b\b\b\b\b\b\b\b\b\b\b\b\b\b\b\b\b\b\b\b\b\b\b\b\b\b\b\b\b\b\b\b\b\b\b\b\b\b\b\b\b\b\b\b\b\b\b\b\b\b\b\b\r8/8 [==============================] - 1s 83ms/step - loss: 0.3135 - accuracy: 0.9422 - val_loss: 6.7818 - val_accuracy: 0.2400 - lr: 0.0010\n",
            "Epoch 292/400\n",
            "7/8 [=========================>....] - ETA: 0s - loss: 0.2429 - accuracy: 0.9777"
          ]
        },
        {
          "output_type": "stream",
          "name": "stderr",
          "text": [
            "WARNING:tensorflow:Learning rate reduction is conditioned on metric `acc` which is not available. Available metrics are: loss,accuracy,val_loss,val_accuracy,lr\n"
          ]
        },
        {
          "output_type": "stream",
          "name": "stdout",
          "text": [
            "\b\b\b\b\b\b\b\b\b\b\b\b\b\b\b\b\b\b\b\b\b\b\b\b\b\b\b\b\b\b\b\b\b\b\b\b\b\b\b\b\b\b\b\b\b\b\b\b\b\b\b\b\b\b\b\b\b\b\b\b\b\b\b\b\b\b\b\b\b\b\b\b\b\b\b\b\b\b\b\b\r8/8 [==============================] - 1s 83ms/step - loss: 0.2433 - accuracy: 0.9778 - val_loss: 5.4859 - val_accuracy: 0.3200 - lr: 0.0010\n",
            "Epoch 293/400\n",
            "7/8 [=========================>....] - ETA: 0s - loss: 0.2228 - accuracy: 0.9732"
          ]
        },
        {
          "output_type": "stream",
          "name": "stderr",
          "text": [
            "WARNING:tensorflow:Learning rate reduction is conditioned on metric `acc` which is not available. Available metrics are: loss,accuracy,val_loss,val_accuracy,lr\n"
          ]
        },
        {
          "output_type": "stream",
          "name": "stdout",
          "text": [
            "\b\b\b\b\b\b\b\b\b\b\b\b\b\b\b\b\b\b\b\b\b\b\b\b\b\b\b\b\b\b\b\b\b\b\b\b\b\b\b\b\b\b\b\b\b\b\b\b\b\b\b\b\b\b\b\b\b\b\b\b\b\b\b\b\b\b\b\b\b\b\b\b\b\b\b\b\b\b\b\b\r8/8 [==============================] - 1s 88ms/step - loss: 0.2238 - accuracy: 0.9733 - val_loss: 5.7954 - val_accuracy: 0.2900 - lr: 0.0010\n",
            "Epoch 294/400\n",
            "7/8 [=========================>....] - ETA: 0s - loss: 0.2088 - accuracy: 0.9754"
          ]
        },
        {
          "output_type": "stream",
          "name": "stderr",
          "text": [
            "WARNING:tensorflow:Learning rate reduction is conditioned on metric `acc` which is not available. Available metrics are: loss,accuracy,val_loss,val_accuracy,lr\n"
          ]
        },
        {
          "output_type": "stream",
          "name": "stdout",
          "text": [
            "\b\b\b\b\b\b\b\b\b\b\b\b\b\b\b\b\b\b\b\b\b\b\b\b\b\b\b\b\b\b\b\b\b\b\b\b\b\b\b\b\b\b\b\b\b\b\b\b\b\b\b\b\b\b\b\b\b\b\b\b\b\b\b\b\b\b\b\b\b\b\b\b\b\b\b\b\b\b\b\b\r8/8 [==============================] - 1s 82ms/step - loss: 0.2094 - accuracy: 0.9744 - val_loss: 5.9222 - val_accuracy: 0.3200 - lr: 0.0010\n",
            "Epoch 295/400\n",
            "7/8 [=========================>....] - ETA: 0s - loss: 0.2721 - accuracy: 0.9487"
          ]
        },
        {
          "output_type": "stream",
          "name": "stderr",
          "text": [
            "WARNING:tensorflow:Learning rate reduction is conditioned on metric `acc` which is not available. Available metrics are: loss,accuracy,val_loss,val_accuracy,lr\n"
          ]
        },
        {
          "output_type": "stream",
          "name": "stdout",
          "text": [
            "\b\b\b\b\b\b\b\b\b\b\b\b\b\b\b\b\b\b\b\b\b\b\b\b\b\b\b\b\b\b\b\b\b\b\b\b\b\b\b\b\b\b\b\b\b\b\b\b\b\b\b\b\b\b\b\b\b\b\b\b\b\b\b\b\b\b\b\b\b\b\b\b\b\b\b\b\b\b\b\b\r8/8 [==============================] - 1s 84ms/step - loss: 0.2722 - accuracy: 0.9489 - val_loss: 6.0328 - val_accuracy: 0.2800 - lr: 0.0010\n",
            "Epoch 296/400\n",
            "7/8 [=========================>....] - ETA: 0s - loss: 0.1948 - accuracy: 0.9844"
          ]
        },
        {
          "output_type": "stream",
          "name": "stderr",
          "text": [
            "WARNING:tensorflow:Learning rate reduction is conditioned on metric `acc` which is not available. Available metrics are: loss,accuracy,val_loss,val_accuracy,lr\n"
          ]
        },
        {
          "output_type": "stream",
          "name": "stdout",
          "text": [
            "\b\b\b\b\b\b\b\b\b\b\b\b\b\b\b\b\b\b\b\b\b\b\b\b\b\b\b\b\b\b\b\b\b\b\b\b\b\b\b\b\b\b\b\b\b\b\b\b\b\b\b\b\b\b\b\b\b\b\b\b\b\b\b\b\b\b\b\b\b\b\b\b\b\b\b\b\b\b\b\b\r8/8 [==============================] - 1s 83ms/step - loss: 0.2006 - accuracy: 0.9833 - val_loss: 5.1446 - val_accuracy: 0.2900 - lr: 0.0010\n",
            "Epoch 297/400\n",
            "7/8 [=========================>....] - ETA: 0s - loss: 0.2202 - accuracy: 0.9754"
          ]
        },
        {
          "output_type": "stream",
          "name": "stderr",
          "text": [
            "WARNING:tensorflow:Learning rate reduction is conditioned on metric `acc` which is not available. Available metrics are: loss,accuracy,val_loss,val_accuracy,lr\n"
          ]
        },
        {
          "output_type": "stream",
          "name": "stdout",
          "text": [
            "\b\b\b\b\b\b\b\b\b\b\b\b\b\b\b\b\b\b\b\b\b\b\b\b\b\b\b\b\b\b\b\b\b\b\b\b\b\b\b\b\b\b\b\b\b\b\b\b\b\b\b\b\b\b\b\b\b\b\b\b\b\b\b\b\b\b\b\b\b\b\b\b\b\b\b\b\b\b\b\b\r8/8 [==============================] - 1s 83ms/step - loss: 0.2206 - accuracy: 0.9756 - val_loss: 6.3145 - val_accuracy: 0.3200 - lr: 0.0010\n",
            "Epoch 298/400\n",
            "7/8 [=========================>....] - ETA: 0s - loss: 0.2098 - accuracy: 0.9710"
          ]
        },
        {
          "output_type": "stream",
          "name": "stderr",
          "text": [
            "WARNING:tensorflow:Learning rate reduction is conditioned on metric `acc` which is not available. Available metrics are: loss,accuracy,val_loss,val_accuracy,lr\n"
          ]
        },
        {
          "output_type": "stream",
          "name": "stdout",
          "text": [
            "\b\b\b\b\b\b\b\b\b\b\b\b\b\b\b\b\b\b\b\b\b\b\b\b\b\b\b\b\b\b\b\b\b\b\b\b\b\b\b\b\b\b\b\b\b\b\b\b\b\b\b\b\b\b\b\b\b\b\b\b\b\b\b\b\b\b\b\b\b\b\b\b\b\b\b\b\b\b\b\b\r8/8 [==============================] - 1s 83ms/step - loss: 0.2099 - accuracy: 0.9711 - val_loss: 5.3971 - val_accuracy: 0.3700 - lr: 0.0010\n",
            "Epoch 299/400\n",
            "7/8 [=========================>....] - ETA: 0s - loss: 0.1663 - accuracy: 0.9933"
          ]
        },
        {
          "output_type": "stream",
          "name": "stderr",
          "text": [
            "WARNING:tensorflow:Learning rate reduction is conditioned on metric `acc` which is not available. Available metrics are: loss,accuracy,val_loss,val_accuracy,lr\n"
          ]
        },
        {
          "output_type": "stream",
          "name": "stdout",
          "text": [
            "\b\b\b\b\b\b\b\b\b\b\b\b\b\b\b\b\b\b\b\b\b\b\b\b\b\b\b\b\b\b\b\b\b\b\b\b\b\b\b\b\b\b\b\b\b\b\b\b\b\b\b\b\b\b\b\b\b\b\b\b\b\b\b\b\b\b\b\b\b\b\b\b\b\b\b\b\b\b\b\b\r8/8 [==============================] - 1s 89ms/step - loss: 0.1663 - accuracy: 0.9933 - val_loss: 3.6167 - val_accuracy: 0.3700 - lr: 0.0010\n",
            "Epoch 300/400\n",
            "7/8 [=========================>....] - ETA: 0s - loss: 0.1570 - accuracy: 0.9911"
          ]
        },
        {
          "output_type": "stream",
          "name": "stderr",
          "text": [
            "WARNING:tensorflow:Learning rate reduction is conditioned on metric `acc` which is not available. Available metrics are: loss,accuracy,val_loss,val_accuracy,lr\n"
          ]
        },
        {
          "output_type": "stream",
          "name": "stdout",
          "text": [
            "\b\b\b\b\b\b\b\b\b\b\b\b\b\b\b\b\b\b\b\b\b\b\b\b\b\b\b\b\b\b\b\b\b\b\b\b\b\b\b\b\b\b\b\b\b\b\b\b\b\b\b\b\b\b\b\b\b\b\b\b\b\b\b\b\b\b\b\b\b\b\b\b\b\b\b\b\b\b\b\b\r8/8 [==============================] - 1s 82ms/step - loss: 0.1569 - accuracy: 0.9911 - val_loss: 2.8562 - val_accuracy: 0.3900 - lr: 0.0010\n",
            "Epoch 301/400\n",
            "7/8 [=========================>....] - ETA: 0s - loss: 0.1444 - accuracy: 0.9944"
          ]
        },
        {
          "output_type": "stream",
          "name": "stderr",
          "text": [
            "WARNING:tensorflow:Learning rate reduction is conditioned on metric `acc` which is not available. Available metrics are: loss,accuracy,val_loss,val_accuracy,lr\n"
          ]
        },
        {
          "output_type": "stream",
          "name": "stdout",
          "text": [
            "\b\b\b\b\b\b\b\b\b\b\b\b\b\b\b\b\b\b\b\b\b\b\b\b\b\b\b\b\b\b\b\b\b\b\b\b\b\b\b\b\b\b\b\b\b\b\b\b\b\b\b\b\b\b\b\b\b\b\b\b\b\b\b\b\b\b\b\b\b\b\b\b\b\b\b\b\b\b\b\b\r8/8 [==============================] - 1s 82ms/step - loss: 0.1445 - accuracy: 0.9944 - val_loss: 2.6591 - val_accuracy: 0.4700 - lr: 0.0010\n",
            "Epoch 302/400\n",
            "7/8 [=========================>....] - ETA: 0s - loss: 0.1390 - accuracy: 0.9955"
          ]
        },
        {
          "output_type": "stream",
          "name": "stderr",
          "text": [
            "WARNING:tensorflow:Learning rate reduction is conditioned on metric `acc` which is not available. Available metrics are: loss,accuracy,val_loss,val_accuracy,lr\n"
          ]
        },
        {
          "output_type": "stream",
          "name": "stdout",
          "text": [
            "\b\b\b\b\b\b\b\b\b\b\b\b\b\b\b\b\b\b\b\b\b\b\b\b\b\b\b\b\b\b\b\b\b\b\b\b\b\b\b\b\b\b\b\b\b\b\b\b\b\b\b\b\b\b\b\b\b\b\b\b\b\b\b\b\b\b\b\b\b\b\b\b\b\b\b\b\b\b\b\b\r8/8 [==============================] - 1s 88ms/step - loss: 0.1392 - accuracy: 0.9956 - val_loss: 2.6589 - val_accuracy: 0.4600 - lr: 0.0010\n",
            "Epoch 303/400\n",
            "7/8 [=========================>....] - ETA: 0s - loss: 0.1355 - accuracy: 0.9967"
          ]
        },
        {
          "output_type": "stream",
          "name": "stderr",
          "text": [
            "WARNING:tensorflow:Learning rate reduction is conditioned on metric `acc` which is not available. Available metrics are: loss,accuracy,val_loss,val_accuracy,lr\n"
          ]
        },
        {
          "output_type": "stream",
          "name": "stdout",
          "text": [
            "\b\b\b\b\b\b\b\b\b\b\b\b\b\b\b\b\b\b\b\b\b\b\b\b\b\b\b\b\b\b\b\b\b\b\b\b\b\b\b\b\b\b\b\b\b\b\b\b\b\b\b\b\b\b\b\b\b\b\b\b\b\b\b\b\b\b\b\b\b\b\b\b\b\b\b\b\b\b\b\b\r8/8 [==============================] - 1s 87ms/step - loss: 0.1354 - accuracy: 0.9967 - val_loss: 2.5633 - val_accuracy: 0.4700 - lr: 0.0010\n",
            "Epoch 304/400\n",
            "7/8 [=========================>....] - ETA: 0s - loss: 0.1338 - accuracy: 0.9978"
          ]
        },
        {
          "output_type": "stream",
          "name": "stderr",
          "text": [
            "WARNING:tensorflow:Learning rate reduction is conditioned on metric `acc` which is not available. Available metrics are: loss,accuracy,val_loss,val_accuracy,lr\n"
          ]
        },
        {
          "output_type": "stream",
          "name": "stdout",
          "text": [
            "\b\b\b\b\b\b\b\b\b\b\b\b\b\b\b\b\b\b\b\b\b\b\b\b\b\b\b\b\b\b\b\b\b\b\b\b\b\b\b\b\b\b\b\b\b\b\b\b\b\b\b\b\b\b\b\b\b\b\b\b\b\b\b\b\b\b\b\b\b\b\b\b\b\b\b\b\b\b\b\b\r8/8 [==============================] - 1s 92ms/step - loss: 0.1347 - accuracy: 0.9978 - val_loss: 2.4472 - val_accuracy: 0.4900 - lr: 0.0010\n",
            "Epoch 305/400\n",
            "7/8 [=========================>....] - ETA: 0s - loss: 0.1395 - accuracy: 0.9944"
          ]
        },
        {
          "output_type": "stream",
          "name": "stderr",
          "text": [
            "WARNING:tensorflow:Learning rate reduction is conditioned on metric `acc` which is not available. Available metrics are: loss,accuracy,val_loss,val_accuracy,lr\n"
          ]
        },
        {
          "output_type": "stream",
          "name": "stdout",
          "text": [
            "\b\b\b\b\b\b\b\b\b\b\b\b\b\b\b\b\b\b\b\b\b\b\b\b\b\b\b\b\b\b\b\b\b\b\b\b\b\b\b\b\b\b\b\b\b\b\b\b\b\b\b\b\b\b\b\b\b\b\b\b\b\b\b\b\b\b\b\b\b\b\b\b\b\b\b\b\b\b\b\b\r8/8 [==============================] - 1s 86ms/step - loss: 0.1432 - accuracy: 0.9933 - val_loss: 3.2617 - val_accuracy: 0.3300 - lr: 0.0010\n",
            "Epoch 306/400\n",
            "7/8 [=========================>....] - ETA: 0s - loss: 0.3377 - accuracy: 0.9453"
          ]
        },
        {
          "output_type": "stream",
          "name": "stderr",
          "text": [
            "WARNING:tensorflow:Learning rate reduction is conditioned on metric `acc` which is not available. Available metrics are: loss,accuracy,val_loss,val_accuracy,lr\n"
          ]
        },
        {
          "output_type": "stream",
          "name": "stdout",
          "text": [
            "\b\b\b\b\b\b\b\b\b\b\b\b\b\b\b\b\b\b\b\b\b\b\b\b\b\b\b\b\b\b\b\b\b\b\b\b\b\b\b\b\b\b\b\b\b\b\b\b\b\b\b\b\b\b\b\b\b\b\b\b\b\b\b\b\b\b\b\b\b\b\b\b\b\b\b\b\b\b\b\b\r8/8 [==============================] - 1s 84ms/step - loss: 0.3373 - accuracy: 0.9456 - val_loss: 4.5245 - val_accuracy: 0.3200 - lr: 0.0010\n",
            "Epoch 307/400\n",
            "7/8 [=========================>....] - ETA: 0s - loss: 0.2609 - accuracy: 0.9542"
          ]
        },
        {
          "output_type": "stream",
          "name": "stderr",
          "text": [
            "WARNING:tensorflow:Learning rate reduction is conditioned on metric `acc` which is not available. Available metrics are: loss,accuracy,val_loss,val_accuracy,lr\n"
          ]
        },
        {
          "output_type": "stream",
          "name": "stdout",
          "text": [
            "\b\b\b\b\b\b\b\b\b\b\b\b\b\b\b\b\b\b\b\b\b\b\b\b\b\b\b\b\b\b\b\b\b\b\b\b\b\b\b\b\b\b\b\b\b\b\b\b\b\b\b\b\b\b\b\b\b\b\b\b\b\b\b\b\b\b\b\b\b\b\b\b\b\b\b\b\b\b\b\b\r8/8 [==============================] - 1s 82ms/step - loss: 0.2614 - accuracy: 0.9544 - val_loss: 2.9230 - val_accuracy: 0.3800 - lr: 0.0010\n",
            "Epoch 308/400\n",
            "7/8 [=========================>....] - ETA: 0s - loss: 0.2390 - accuracy: 0.9699"
          ]
        },
        {
          "output_type": "stream",
          "name": "stderr",
          "text": [
            "WARNING:tensorflow:Learning rate reduction is conditioned on metric `acc` which is not available. Available metrics are: loss,accuracy,val_loss,val_accuracy,lr\n"
          ]
        },
        {
          "output_type": "stream",
          "name": "stdout",
          "text": [
            "\b\b\b\b\b\b\b\b\b\b\b\b\b\b\b\b\b\b\b\b\b\b\b\b\b\b\b\b\b\b\b\b\b\b\b\b\b\b\b\b\b\b\b\b\b\b\b\b\b\b\b\b\b\b\b\b\b\b\b\b\b\b\b\b\b\b\b\b\b\b\b\b\b\b\b\b\b\b\b\b\r8/8 [==============================] - 1s 83ms/step - loss: 0.2390 - accuracy: 0.9700 - val_loss: 4.1814 - val_accuracy: 0.3200 - lr: 0.0010\n",
            "Epoch 309/400\n",
            "7/8 [=========================>....] - ETA: 0s - loss: 0.1919 - accuracy: 0.9855"
          ]
        },
        {
          "output_type": "stream",
          "name": "stderr",
          "text": [
            "WARNING:tensorflow:Learning rate reduction is conditioned on metric `acc` which is not available. Available metrics are: loss,accuracy,val_loss,val_accuracy,lr\n"
          ]
        },
        {
          "output_type": "stream",
          "name": "stdout",
          "text": [
            "\b\b\b\b\b\b\b\b\b\b\b\b\b\b\b\b\b\b\b\b\b\b\b\b\b\b\b\b\b\b\b\b\b\b\b\b\b\b\b\b\b\b\b\b\b\b\b\b\b\b\b\b\b\b\b\b\b\b\b\b\b\b\b\b\b\b\b\b\b\b\b\b\b\b\b\b\b\b\b\b\r8/8 [==============================] - 1s 83ms/step - loss: 0.1919 - accuracy: 0.9856 - val_loss: 3.2452 - val_accuracy: 0.4700 - lr: 0.0010\n",
            "Epoch 310/400\n",
            "7/8 [=========================>....] - ETA: 0s - loss: 0.1677 - accuracy: 0.9933"
          ]
        },
        {
          "output_type": "stream",
          "name": "stderr",
          "text": [
            "WARNING:tensorflow:Learning rate reduction is conditioned on metric `acc` which is not available. Available metrics are: loss,accuracy,val_loss,val_accuracy,lr\n"
          ]
        },
        {
          "output_type": "stream",
          "name": "stdout",
          "text": [
            "\b\b\b\b\b\b\b\b\b\b\b\b\b\b\b\b\b\b\b\b\b\b\b\b\b\b\b\b\b\b\b\b\b\b\b\b\b\b\b\b\b\b\b\b\b\b\b\b\b\b\b\b\b\b\b\b\b\b\b\b\b\b\b\b\b\b\b\b\b\b\b\b\b\b\b\b\b\b\b\b\r8/8 [==============================] - 1s 82ms/step - loss: 0.1690 - accuracy: 0.9933 - val_loss: 4.5186 - val_accuracy: 0.4000 - lr: 0.0010\n",
            "Epoch 311/400\n",
            "7/8 [=========================>....] - ETA: 0s - loss: 0.1904 - accuracy: 0.9810"
          ]
        },
        {
          "output_type": "stream",
          "name": "stderr",
          "text": [
            "WARNING:tensorflow:Learning rate reduction is conditioned on metric `acc` which is not available. Available metrics are: loss,accuracy,val_loss,val_accuracy,lr\n"
          ]
        },
        {
          "output_type": "stream",
          "name": "stdout",
          "text": [
            "\b\b\b\b\b\b\b\b\b\b\b\b\b\b\b\b\b\b\b\b\b\b\b\b\b\b\b\b\b\b\b\b\b\b\b\b\b\b\b\b\b\b\b\b\b\b\b\b\b\b\b\b\b\b\b\b\b\b\b\b\b\b\b\b\b\b\b\b\b\b\b\b\b\b\b\b\b\b\b\b\r8/8 [==============================] - 1s 83ms/step - loss: 0.1941 - accuracy: 0.9800 - val_loss: 7.1020 - val_accuracy: 0.2500 - lr: 0.0010\n",
            "Epoch 312/400\n",
            "7/8 [=========================>....] - ETA: 0s - loss: 0.2301 - accuracy: 0.9665"
          ]
        },
        {
          "output_type": "stream",
          "name": "stderr",
          "text": [
            "WARNING:tensorflow:Learning rate reduction is conditioned on metric `acc` which is not available. Available metrics are: loss,accuracy,val_loss,val_accuracy,lr\n"
          ]
        },
        {
          "output_type": "stream",
          "name": "stdout",
          "text": [
            "\b\b\b\b\b\b\b\b\b\b\b\b\b\b\b\b\b\b\b\b\b\b\b\b\b\b\b\b\b\b\b\b\b\b\b\b\b\b\b\b\b\b\b\b\b\b\b\b\b\b\b\b\b\b\b\b\b\b\b\b\b\b\b\b\b\b\b\b\b\b\b\b\b\b\b\b\b\b\b\b\r8/8 [==============================] - 1s 83ms/step - loss: 0.2298 - accuracy: 0.9667 - val_loss: 4.5722 - val_accuracy: 0.2600 - lr: 0.0010\n",
            "Epoch 313/400\n",
            "7/8 [=========================>....] - ETA: 0s - loss: 0.1951 - accuracy: 0.9754"
          ]
        },
        {
          "output_type": "stream",
          "name": "stderr",
          "text": [
            "WARNING:tensorflow:Learning rate reduction is conditioned on metric `acc` which is not available. Available metrics are: loss,accuracy,val_loss,val_accuracy,lr\n"
          ]
        },
        {
          "output_type": "stream",
          "name": "stdout",
          "text": [
            "\b\b\b\b\b\b\b\b\b\b\b\b\b\b\b\b\b\b\b\b\b\b\b\b\b\b\b\b\b\b\b\b\b\b\b\b\b\b\b\b\b\b\b\b\b\b\b\b\b\b\b\b\b\b\b\b\b\b\b\b\b\b\b\b\b\b\b\b\b\b\b\b\b\b\b\b\b\b\b\b\r8/8 [==============================] - 1s 81ms/step - loss: 0.1949 - accuracy: 0.9756 - val_loss: 3.3904 - val_accuracy: 0.3600 - lr: 0.0010\n",
            "Epoch 314/400\n",
            "7/8 [=========================>....] - ETA: 0s - loss: 0.1484 - accuracy: 0.9955"
          ]
        },
        {
          "output_type": "stream",
          "name": "stderr",
          "text": [
            "WARNING:tensorflow:Learning rate reduction is conditioned on metric `acc` which is not available. Available metrics are: loss,accuracy,val_loss,val_accuracy,lr\n"
          ]
        },
        {
          "output_type": "stream",
          "name": "stdout",
          "text": [
            "\b\b\b\b\b\b\b\b\b\b\b\b\b\b\b\b\b\b\b\b\b\b\b\b\b\b\b\b\b\b\b\b\b\b\b\b\b\b\b\b\b\b\b\b\b\b\b\b\b\b\b\b\b\b\b\b\b\b\b\b\b\b\b\b\b\b\b\b\b\b\b\b\b\b\b\b\b\b\b\b\r8/8 [==============================] - 1s 84ms/step - loss: 0.1483 - accuracy: 0.9956 - val_loss: 2.1059 - val_accuracy: 0.5000 - lr: 0.0010\n",
            "Epoch 315/400\n",
            "7/8 [=========================>....] - ETA: 0s - loss: 0.1405 - accuracy: 0.9955"
          ]
        },
        {
          "output_type": "stream",
          "name": "stderr",
          "text": [
            "WARNING:tensorflow:Learning rate reduction is conditioned on metric `acc` which is not available. Available metrics are: loss,accuracy,val_loss,val_accuracy,lr\n"
          ]
        },
        {
          "output_type": "stream",
          "name": "stdout",
          "text": [
            "\b\b\b\b\b\b\b\b\b\b\b\b\b\b\b\b\b\b\b\b\b\b\b\b\b\b\b\b\b\b\b\b\b\b\b\b\b\b\b\b\b\b\b\b\b\b\b\b\b\b\b\b\b\b\b\b\b\b\b\b\b\b\b\b\b\b\b\b\b\b\b\b\b\b\b\b\b\b\b\b\r8/8 [==============================] - 1s 84ms/step - loss: 0.1411 - accuracy: 0.9956 - val_loss: 2.1284 - val_accuracy: 0.5100 - lr: 0.0010\n",
            "Epoch 316/400\n",
            "7/8 [=========================>....] - ETA: 0s - loss: 0.1374 - accuracy: 0.9967"
          ]
        },
        {
          "output_type": "stream",
          "name": "stderr",
          "text": [
            "WARNING:tensorflow:Learning rate reduction is conditioned on metric `acc` which is not available. Available metrics are: loss,accuracy,val_loss,val_accuracy,lr\n"
          ]
        },
        {
          "output_type": "stream",
          "name": "stdout",
          "text": [
            "\b\b\b\b\b\b\b\b\b\b\b\b\b\b\b\b\b\b\b\b\b\b\b\b\b\b\b\b\b\b\b\b\b\b\b\b\b\b\b\b\b\b\b\b\b\b\b\b\b\b\b\b\b\b\b\b\b\b\b\b\b\b\b\b\b\b\b\b\b\b\b\b\b\b\b\b\b\b\b\b\r8/8 [==============================] - 1s 82ms/step - loss: 0.1376 - accuracy: 0.9967 - val_loss: 3.5329 - val_accuracy: 0.4100 - lr: 0.0010\n",
            "Epoch 317/400\n",
            "7/8 [=========================>....] - ETA: 0s - loss: 0.1402 - accuracy: 0.9978"
          ]
        },
        {
          "output_type": "stream",
          "name": "stderr",
          "text": [
            "WARNING:tensorflow:Learning rate reduction is conditioned on metric `acc` which is not available. Available metrics are: loss,accuracy,val_loss,val_accuracy,lr\n"
          ]
        },
        {
          "output_type": "stream",
          "name": "stdout",
          "text": [
            "\b\b\b\b\b\b\b\b\b\b\b\b\b\b\b\b\b\b\b\b\b\b\b\b\b\b\b\b\b\b\b\b\b\b\b\b\b\b\b\b\b\b\b\b\b\b\b\b\b\b\b\b\b\b\b\b\b\b\b\b\b\b\b\b\b\b\b\b\b\b\b\b\b\b\b\b\b\b\b\b\r8/8 [==============================] - 1s 88ms/step - loss: 0.1403 - accuracy: 0.9978 - val_loss: 3.8373 - val_accuracy: 0.3500 - lr: 0.0010\n",
            "Epoch 318/400\n",
            "7/8 [=========================>....] - ETA: 0s - loss: 0.1402 - accuracy: 0.9978"
          ]
        },
        {
          "output_type": "stream",
          "name": "stderr",
          "text": [
            "WARNING:tensorflow:Learning rate reduction is conditioned on metric `acc` which is not available. Available metrics are: loss,accuracy,val_loss,val_accuracy,lr\n"
          ]
        },
        {
          "output_type": "stream",
          "name": "stdout",
          "text": [
            "\b\b\b\b\b\b\b\b\b\b\b\b\b\b\b\b\b\b\b\b\b\b\b\b\b\b\b\b\b\b\b\b\b\b\b\b\b\b\b\b\b\b\b\b\b\b\b\b\b\b\b\b\b\b\b\b\b\b\b\b\b\b\b\b\b\b\b\b\b\b\b\b\b\b\b\b\b\b\b\b\r8/8 [==============================] - 1s 84ms/step - loss: 0.1401 - accuracy: 0.9978 - val_loss: 3.1527 - val_accuracy: 0.4100 - lr: 0.0010\n",
            "Epoch 319/400\n",
            "7/8 [=========================>....] - ETA: 0s - loss: 0.1310 - accuracy: 0.9978"
          ]
        },
        {
          "output_type": "stream",
          "name": "stderr",
          "text": [
            "WARNING:tensorflow:Learning rate reduction is conditioned on metric `acc` which is not available. Available metrics are: loss,accuracy,val_loss,val_accuracy,lr\n"
          ]
        },
        {
          "output_type": "stream",
          "name": "stdout",
          "text": [
            "\b\b\b\b\b\b\b\b\b\b\b\b\b\b\b\b\b\b\b\b\b\b\b\b\b\b\b\b\b\b\b\b\b\b\b\b\b\b\b\b\b\b\b\b\b\b\b\b\b\b\b\b\b\b\b\b\b\b\b\b\b\b\b\b\b\b\b\b\b\b\b\b\b\b\b\b\b\b\b\b\r8/8 [==============================] - 1s 88ms/step - loss: 0.1310 - accuracy: 0.9978 - val_loss: 2.9360 - val_accuracy: 0.4500 - lr: 0.0010\n",
            "Epoch 320/400\n",
            "7/8 [=========================>....] - ETA: 0s - loss: 0.1276 - accuracy: 0.9978"
          ]
        },
        {
          "output_type": "stream",
          "name": "stderr",
          "text": [
            "WARNING:tensorflow:Learning rate reduction is conditioned on metric `acc` which is not available. Available metrics are: loss,accuracy,val_loss,val_accuracy,lr\n"
          ]
        },
        {
          "output_type": "stream",
          "name": "stdout",
          "text": [
            "\b\b\b\b\b\b\b\b\b\b\b\b\b\b\b\b\b\b\b\b\b\b\b\b\b\b\b\b\b\b\b\b\b\b\b\b\b\b\b\b\b\b\b\b\b\b\b\b\b\b\b\b\b\b\b\b\b\b\b\b\b\b\b\b\b\b\b\b\b\b\b\b\b\b\b\b\b\b\b\b\r8/8 [==============================] - 1s 84ms/step - loss: 0.1280 - accuracy: 0.9978 - val_loss: 3.0258 - val_accuracy: 0.4000 - lr: 0.0010\n",
            "Epoch 321/400\n",
            "7/8 [=========================>....] - ETA: 0s - loss: 0.1304 - accuracy: 0.9967"
          ]
        },
        {
          "output_type": "stream",
          "name": "stderr",
          "text": [
            "WARNING:tensorflow:Learning rate reduction is conditioned on metric `acc` which is not available. Available metrics are: loss,accuracy,val_loss,val_accuracy,lr\n"
          ]
        },
        {
          "output_type": "stream",
          "name": "stdout",
          "text": [
            "\b\b\b\b\b\b\b\b\b\b\b\b\b\b\b\b\b\b\b\b\b\b\b\b\b\b\b\b\b\b\b\b\b\b\b\b\b\b\b\b\b\b\b\b\b\b\b\b\b\b\b\b\b\b\b\b\b\b\b\b\b\b\b\b\b\b\b\b\b\b\b\b\b\b\b\b\b\b\b\b\r8/8 [==============================] - 1s 86ms/step - loss: 0.1304 - accuracy: 0.9967 - val_loss: 3.4830 - val_accuracy: 0.4100 - lr: 0.0010\n",
            "Epoch 322/400\n",
            "7/8 [=========================>....] - ETA: 0s - loss: 0.1311 - accuracy: 0.9978"
          ]
        },
        {
          "output_type": "stream",
          "name": "stderr",
          "text": [
            "WARNING:tensorflow:Learning rate reduction is conditioned on metric `acc` which is not available. Available metrics are: loss,accuracy,val_loss,val_accuracy,lr\n"
          ]
        },
        {
          "output_type": "stream",
          "name": "stdout",
          "text": [
            "\b\b\b\b\b\b\b\b\b\b\b\b\b\b\b\b\b\b\b\b\b\b\b\b\b\b\b\b\b\b\b\b\b\b\b\b\b\b\b\b\b\b\b\b\b\b\b\b\b\b\b\b\b\b\b\b\b\b\b\b\b\b\b\b\b\b\b\b\b\b\b\b\b\b\b\b\b\b\b\b\r8/8 [==============================] - 1s 88ms/step - loss: 0.1313 - accuracy: 0.9978 - val_loss: 2.7004 - val_accuracy: 0.4600 - lr: 0.0010\n",
            "Epoch 323/400\n",
            "7/8 [=========================>....] - ETA: 0s - loss: 0.1278 - accuracy: 0.9978"
          ]
        },
        {
          "output_type": "stream",
          "name": "stderr",
          "text": [
            "WARNING:tensorflow:Learning rate reduction is conditioned on metric `acc` which is not available. Available metrics are: loss,accuracy,val_loss,val_accuracy,lr\n"
          ]
        },
        {
          "output_type": "stream",
          "name": "stdout",
          "text": [
            "\b\b\b\b\b\b\b\b\b\b\b\b\b\b\b\b\b\b\b\b\b\b\b\b\b\b\b\b\b\b\b\b\b\b\b\b\b\b\b\b\b\b\b\b\b\b\b\b\b\b\b\b\b\b\b\b\b\b\b\b\b\b\b\b\b\b\b\b\b\b\b\b\b\b\b\b\b\b\b\b\r8/8 [==============================] - 1s 87ms/step - loss: 0.1278 - accuracy: 0.9978 - val_loss: 2.5281 - val_accuracy: 0.5000 - lr: 0.0010\n",
            "Epoch 324/400\n",
            "7/8 [=========================>....] - ETA: 0s - loss: 0.1285 - accuracy: 0.9978"
          ]
        },
        {
          "output_type": "stream",
          "name": "stderr",
          "text": [
            "WARNING:tensorflow:Learning rate reduction is conditioned on metric `acc` which is not available. Available metrics are: loss,accuracy,val_loss,val_accuracy,lr\n"
          ]
        },
        {
          "output_type": "stream",
          "name": "stdout",
          "text": [
            "\b\b\b\b\b\b\b\b\b\b\b\b\b\b\b\b\b\b\b\b\b\b\b\b\b\b\b\b\b\b\b\b\b\b\b\b\b\b\b\b\b\b\b\b\b\b\b\b\b\b\b\b\b\b\b\b\b\b\b\b\b\b\b\b\b\b\b\b\b\b\b\b\b\b\b\b\b\b\b\b\r8/8 [==============================] - 1s 92ms/step - loss: 0.1338 - accuracy: 0.9956 - val_loss: 2.5993 - val_accuracy: 0.4400 - lr: 0.0010\n",
            "Epoch 325/400\n",
            "7/8 [=========================>....] - ETA: 0s - loss: 0.2119 - accuracy: 0.9743"
          ]
        },
        {
          "output_type": "stream",
          "name": "stderr",
          "text": [
            "WARNING:tensorflow:Learning rate reduction is conditioned on metric `acc` which is not available. Available metrics are: loss,accuracy,val_loss,val_accuracy,lr\n"
          ]
        },
        {
          "output_type": "stream",
          "name": "stdout",
          "text": [
            "\b\b\b\b\b\b\b\b\b\b\b\b\b\b\b\b\b\b\b\b\b\b\b\b\b\b\b\b\b\b\b\b\b\b\b\b\b\b\b\b\b\b\b\b\b\b\b\b\b\b\b\b\b\b\b\b\b\b\b\b\b\b\b\b\b\b\b\b\b\b\b\b\b\b\b\b\b\b\b\b\r8/8 [==============================] - 1s 85ms/step - loss: 0.2228 - accuracy: 0.9722 - val_loss: 4.0586 - val_accuracy: 0.3300 - lr: 0.0010\n",
            "Epoch 326/400\n",
            "7/8 [=========================>....] - ETA: 0s - loss: 0.5079 - accuracy: 0.8873"
          ]
        },
        {
          "output_type": "stream",
          "name": "stderr",
          "text": [
            "WARNING:tensorflow:Learning rate reduction is conditioned on metric `acc` which is not available. Available metrics are: loss,accuracy,val_loss,val_accuracy,lr\n"
          ]
        },
        {
          "output_type": "stream",
          "name": "stdout",
          "text": [
            "\b\b\b\b\b\b\b\b\b\b\b\b\b\b\b\b\b\b\b\b\b\b\b\b\b\b\b\b\b\b\b\b\b\b\b\b\b\b\b\b\b\b\b\b\b\b\b\b\b\b\b\b\b\b\b\b\b\b\b\b\b\b\b\b\b\b\b\b\b\b\b\b\b\b\b\b\b\b\b\b\r8/8 [==============================] - 1s 83ms/step - loss: 0.5088 - accuracy: 0.8878 - val_loss: 9.9212 - val_accuracy: 0.1100 - lr: 0.0010\n",
            "Epoch 327/400\n",
            "7/8 [=========================>....] - ETA: 0s - loss: 0.4101 - accuracy: 0.9118"
          ]
        },
        {
          "output_type": "stream",
          "name": "stderr",
          "text": [
            "WARNING:tensorflow:Learning rate reduction is conditioned on metric `acc` which is not available. Available metrics are: loss,accuracy,val_loss,val_accuracy,lr\n"
          ]
        },
        {
          "output_type": "stream",
          "name": "stdout",
          "text": [
            "\b\b\b\b\b\b\b\b\b\b\b\b\b\b\b\b\b\b\b\b\b\b\b\b\b\b\b\b\b\b\b\b\b\b\b\b\b\b\b\b\b\b\b\b\b\b\b\b\b\b\b\b\b\b\b\b\b\b\b\b\b\b\b\b\b\b\b\b\b\b\b\b\b\b\b\b\b\b\b\b\r8/8 [==============================] - 1s 83ms/step - loss: 0.4253 - accuracy: 0.9089 - val_loss: 6.8097 - val_accuracy: 0.2400 - lr: 0.0010\n",
            "Epoch 328/400\n",
            "7/8 [=========================>....] - ETA: 0s - loss: 0.4479 - accuracy: 0.8895"
          ]
        },
        {
          "output_type": "stream",
          "name": "stderr",
          "text": [
            "WARNING:tensorflow:Learning rate reduction is conditioned on metric `acc` which is not available. Available metrics are: loss,accuracy,val_loss,val_accuracy,lr\n"
          ]
        },
        {
          "output_type": "stream",
          "name": "stdout",
          "text": [
            "\b\b\b\b\b\b\b\b\b\b\b\b\b\b\b\b\b\b\b\b\b\b\b\b\b\b\b\b\b\b\b\b\b\b\b\b\b\b\b\b\b\b\b\b\b\b\b\b\b\b\b\b\b\b\b\b\b\b\b\b\b\b\b\b\b\b\b\b\b\b\b\b\b\b\b\b\b\b\b\b\r8/8 [==============================] - 1s 90ms/step - loss: 0.4477 - accuracy: 0.8900 - val_loss: 8.8556 - val_accuracy: 0.1900 - lr: 0.0010\n",
            "Epoch 329/400\n",
            "7/8 [=========================>....] - ETA: 0s - loss: 0.3339 - accuracy: 0.9297"
          ]
        },
        {
          "output_type": "stream",
          "name": "stderr",
          "text": [
            "WARNING:tensorflow:Learning rate reduction is conditioned on metric `acc` which is not available. Available metrics are: loss,accuracy,val_loss,val_accuracy,lr\n"
          ]
        },
        {
          "output_type": "stream",
          "name": "stdout",
          "text": [
            "\b\b\b\b\b\b\b\b\b\b\b\b\b\b\b\b\b\b\b\b\b\b\b\b\b\b\b\b\b\b\b\b\b\b\b\b\b\b\b\b\b\b\b\b\b\b\b\b\b\b\b\b\b\b\b\b\b\b\b\b\b\b\b\b\b\b\b\b\b\b\b\b\b\b\b\b\b\b\b\b\r8/8 [==============================] - 1s 81ms/step - loss: 0.3342 - accuracy: 0.9289 - val_loss: 4.2220 - val_accuracy: 0.3900 - lr: 0.0010\n",
            "Epoch 330/400\n",
            "7/8 [=========================>....] - ETA: 0s - loss: 0.2438 - accuracy: 0.9676"
          ]
        },
        {
          "output_type": "stream",
          "name": "stderr",
          "text": [
            "WARNING:tensorflow:Learning rate reduction is conditioned on metric `acc` which is not available. Available metrics are: loss,accuracy,val_loss,val_accuracy,lr\n"
          ]
        },
        {
          "output_type": "stream",
          "name": "stdout",
          "text": [
            "\b\b\b\b\b\b\b\b\b\b\b\b\b\b\b\b\b\b\b\b\b\b\b\b\b\b\b\b\b\b\b\b\b\b\b\b\b\b\b\b\b\b\b\b\b\b\b\b\b\b\b\b\b\b\b\b\b\b\b\b\b\b\b\b\b\b\b\b\b\b\b\b\b\b\b\b\b\b\b\b\r8/8 [==============================] - 1s 83ms/step - loss: 0.2437 - accuracy: 0.9678 - val_loss: 4.9106 - val_accuracy: 0.3700 - lr: 0.0010\n",
            "Epoch 331/400\n",
            "7/8 [=========================>....] - ETA: 0s - loss: 0.1982 - accuracy: 0.9855"
          ]
        },
        {
          "output_type": "stream",
          "name": "stderr",
          "text": [
            "WARNING:tensorflow:Learning rate reduction is conditioned on metric `acc` which is not available. Available metrics are: loss,accuracy,val_loss,val_accuracy,lr\n"
          ]
        },
        {
          "output_type": "stream",
          "name": "stdout",
          "text": [
            "\b\b\b\b\b\b\b\b\b\b\b\b\b\b\b\b\b\b\b\b\b\b\b\b\b\b\b\b\b\b\b\b\b\b\b\b\b\b\b\b\b\b\b\b\b\b\b\b\b\b\b\b\b\b\b\b\b\b\b\b\b\b\b\b\b\b\b\b\b\b\b\b\b\b\b\b\b\b\b\b\r8/8 [==============================] - 1s 83ms/step - loss: 0.1982 - accuracy: 0.9856 - val_loss: 5.3276 - val_accuracy: 0.3100 - lr: 0.0010\n",
            "Epoch 332/400\n",
            "7/8 [=========================>....] - ETA: 0s - loss: 0.1622 - accuracy: 0.9944"
          ]
        },
        {
          "output_type": "stream",
          "name": "stderr",
          "text": [
            "WARNING:tensorflow:Learning rate reduction is conditioned on metric `acc` which is not available. Available metrics are: loss,accuracy,val_loss,val_accuracy,lr\n"
          ]
        },
        {
          "output_type": "stream",
          "name": "stdout",
          "text": [
            "\b\b\b\b\b\b\b\b\b\b\b\b\b\b\b\b\b\b\b\b\b\b\b\b\b\b\b\b\b\b\b\b\b\b\b\b\b\b\b\b\b\b\b\b\b\b\b\b\b\b\b\b\b\b\b\b\b\b\b\b\b\b\b\b\b\b\b\b\b\b\b\b\b\b\b\b\b\b\b\b\r8/8 [==============================] - 1s 82ms/step - loss: 0.1661 - accuracy: 0.9933 - val_loss: 3.1629 - val_accuracy: 0.4400 - lr: 0.0010\n",
            "Epoch 333/400\n",
            "7/8 [=========================>....] - ETA: 0s - loss: 0.2096 - accuracy: 0.9754"
          ]
        },
        {
          "output_type": "stream",
          "name": "stderr",
          "text": [
            "WARNING:tensorflow:Learning rate reduction is conditioned on metric `acc` which is not available. Available metrics are: loss,accuracy,val_loss,val_accuracy,lr\n"
          ]
        },
        {
          "output_type": "stream",
          "name": "stdout",
          "text": [
            "\b\b\b\b\b\b\b\b\b\b\b\b\b\b\b\b\b\b\b\b\b\b\b\b\b\b\b\b\b\b\b\b\b\b\b\b\b\b\b\b\b\b\b\b\b\b\b\b\b\b\b\b\b\b\b\b\b\b\b\b\b\b\b\b\b\b\b\b\b\b\b\b\b\b\b\b\b\b\b\b\r8/8 [==============================] - 1s 83ms/step - loss: 0.2094 - accuracy: 0.9756 - val_loss: 5.5230 - val_accuracy: 0.2500 - lr: 0.0010\n",
            "Epoch 334/400\n",
            "7/8 [=========================>....] - ETA: 0s - loss: 0.2267 - accuracy: 0.9766"
          ]
        },
        {
          "output_type": "stream",
          "name": "stderr",
          "text": [
            "WARNING:tensorflow:Learning rate reduction is conditioned on metric `acc` which is not available. Available metrics are: loss,accuracy,val_loss,val_accuracy,lr\n"
          ]
        },
        {
          "output_type": "stream",
          "name": "stdout",
          "text": [
            "\b\b\b\b\b\b\b\b\b\b\b\b\b\b\b\b\b\b\b\b\b\b\b\b\b\b\b\b\b\b\b\b\b\b\b\b\b\b\b\b\b\b\b\b\b\b\b\b\b\b\b\b\b\b\b\b\b\b\b\b\b\b\b\b\b\b\b\b\b\b\b\b\b\b\b\b\b\b\b\b\r8/8 [==============================] - 1s 91ms/step - loss: 0.2270 - accuracy: 0.9767 - val_loss: 3.2747 - val_accuracy: 0.4000 - lr: 0.0010\n",
            "Epoch 335/400\n",
            "7/8 [=========================>....] - ETA: 0s - loss: 0.1651 - accuracy: 0.9922"
          ]
        },
        {
          "output_type": "stream",
          "name": "stderr",
          "text": [
            "WARNING:tensorflow:Learning rate reduction is conditioned on metric `acc` which is not available. Available metrics are: loss,accuracy,val_loss,val_accuracy,lr\n"
          ]
        },
        {
          "output_type": "stream",
          "name": "stdout",
          "text": [
            "\b\b\b\b\b\b\b\b\b\b\b\b\b\b\b\b\b\b\b\b\b\b\b\b\b\b\b\b\b\b\b\b\b\b\b\b\b\b\b\b\b\b\b\b\b\b\b\b\b\b\b\b\b\b\b\b\b\b\b\b\b\b\b\b\b\b\b\b\b\b\b\b\b\b\b\b\b\b\b\b\r8/8 [==============================] - 1s 85ms/step - loss: 0.1666 - accuracy: 0.9911 - val_loss: 5.1621 - val_accuracy: 0.2500 - lr: 0.0010\n",
            "Epoch 336/400\n",
            "7/8 [=========================>....] - ETA: 0s - loss: 0.1674 - accuracy: 0.9888"
          ]
        },
        {
          "output_type": "stream",
          "name": "stderr",
          "text": [
            "WARNING:tensorflow:Learning rate reduction is conditioned on metric `acc` which is not available. Available metrics are: loss,accuracy,val_loss,val_accuracy,lr\n"
          ]
        },
        {
          "output_type": "stream",
          "name": "stdout",
          "text": [
            "\b\b\b\b\b\b\b\b\b\b\b\b\b\b\b\b\b\b\b\b\b\b\b\b\b\b\b\b\b\b\b\b\b\b\b\b\b\b\b\b\b\b\b\b\b\b\b\b\b\b\b\b\b\b\b\b\b\b\b\b\b\b\b\b\b\b\b\b\b\b\b\b\b\b\b\b\b\b\b\b\r8/8 [==============================] - 1s 88ms/step - loss: 0.1688 - accuracy: 0.9878 - val_loss: 4.0114 - val_accuracy: 0.3200 - lr: 0.0010\n",
            "Epoch 337/400\n",
            "7/8 [=========================>....] - ETA: 0s - loss: 0.1793 - accuracy: 0.9821"
          ]
        },
        {
          "output_type": "stream",
          "name": "stderr",
          "text": [
            "WARNING:tensorflow:Learning rate reduction is conditioned on metric `acc` which is not available. Available metrics are: loss,accuracy,val_loss,val_accuracy,lr\n"
          ]
        },
        {
          "output_type": "stream",
          "name": "stdout",
          "text": [
            "\b\b\b\b\b\b\b\b\b\b\b\b\b\b\b\b\b\b\b\b\b\b\b\b\b\b\b\b\b\b\b\b\b\b\b\b\b\b\b\b\b\b\b\b\b\b\b\b\b\b\b\b\b\b\b\b\b\b\b\b\b\b\b\b\b\b\b\b\b\b\b\b\b\b\b\b\b\b\b\b\r8/8 [==============================] - 1s 89ms/step - loss: 0.1805 - accuracy: 0.9822 - val_loss: 5.1506 - val_accuracy: 0.3200 - lr: 0.0010\n",
            "Epoch 338/400\n",
            "7/8 [=========================>....] - ETA: 0s - loss: 0.1967 - accuracy: 0.9833"
          ]
        },
        {
          "output_type": "stream",
          "name": "stderr",
          "text": [
            "WARNING:tensorflow:Learning rate reduction is conditioned on metric `acc` which is not available. Available metrics are: loss,accuracy,val_loss,val_accuracy,lr\n"
          ]
        },
        {
          "output_type": "stream",
          "name": "stdout",
          "text": [
            "\b\b\b\b\b\b\b\b\b\b\b\b\b\b\b\b\b\b\b\b\b\b\b\b\b\b\b\b\b\b\b\b\b\b\b\b\b\b\b\b\b\b\b\b\b\b\b\b\b\b\b\b\b\b\b\b\b\b\b\b\b\b\b\b\b\b\b\b\b\b\b\b\b\b\b\b\b\b\b\b\r8/8 [==============================] - 1s 93ms/step - loss: 0.1977 - accuracy: 0.9833 - val_loss: 4.7502 - val_accuracy: 0.3100 - lr: 0.0010\n",
            "Epoch 339/400\n",
            "7/8 [=========================>....] - ETA: 0s - loss: 0.1995 - accuracy: 0.9844"
          ]
        },
        {
          "output_type": "stream",
          "name": "stderr",
          "text": [
            "WARNING:tensorflow:Learning rate reduction is conditioned on metric `acc` which is not available. Available metrics are: loss,accuracy,val_loss,val_accuracy,lr\n"
          ]
        },
        {
          "output_type": "stream",
          "name": "stdout",
          "text": [
            "\b\b\b\b\b\b\b\b\b\b\b\b\b\b\b\b\b\b\b\b\b\b\b\b\b\b\b\b\b\b\b\b\b\b\b\b\b\b\b\b\b\b\b\b\b\b\b\b\b\b\b\b\b\b\b\b\b\b\b\b\b\b\b\b\b\b\b\b\b\b\b\b\b\b\b\b\b\b\b\b\r8/8 [==============================] - 1s 85ms/step - loss: 0.2003 - accuracy: 0.9833 - val_loss: 3.1405 - val_accuracy: 0.4200 - lr: 0.0010\n",
            "Epoch 340/400\n",
            "7/8 [=========================>....] - ETA: 0s - loss: 0.1855 - accuracy: 0.9844"
          ]
        },
        {
          "output_type": "stream",
          "name": "stderr",
          "text": [
            "WARNING:tensorflow:Learning rate reduction is conditioned on metric `acc` which is not available. Available metrics are: loss,accuracy,val_loss,val_accuracy,lr\n"
          ]
        },
        {
          "output_type": "stream",
          "name": "stdout",
          "text": [
            "\b\b\b\b\b\b\b\b\b\b\b\b\b\b\b\b\b\b\b\b\b\b\b\b\b\b\b\b\b\b\b\b\b\b\b\b\b\b\b\b\b\b\b\b\b\b\b\b\b\b\b\b\b\b\b\b\b\b\b\b\b\b\b\b\b\b\b\b\b\b\b\b\b\b\b\b\b\b\b\b\r8/8 [==============================] - 1s 92ms/step - loss: 0.1858 - accuracy: 0.9844 - val_loss: 7.8419 - val_accuracy: 0.1600 - lr: 0.0010\n",
            "Epoch 341/400\n",
            "7/8 [=========================>....] - ETA: 0s - loss: 0.1725 - accuracy: 0.9888"
          ]
        },
        {
          "output_type": "stream",
          "name": "stderr",
          "text": [
            "WARNING:tensorflow:Learning rate reduction is conditioned on metric `acc` which is not available. Available metrics are: loss,accuracy,val_loss,val_accuracy,lr\n"
          ]
        },
        {
          "output_type": "stream",
          "name": "stdout",
          "text": [
            "\b\b\b\b\b\b\b\b\b\b\b\b\b\b\b\b\b\b\b\b\b\b\b\b\b\b\b\b\b\b\b\b\b\b\b\b\b\b\b\b\b\b\b\b\b\b\b\b\b\b\b\b\b\b\b\b\b\b\b\b\b\b\b\b\b\b\b\b\b\b\b\b\b\b\b\b\b\b\b\b\r8/8 [==============================] - 1s 87ms/step - loss: 0.1723 - accuracy: 0.9889 - val_loss: 6.1248 - val_accuracy: 0.2100 - lr: 0.0010\n",
            "Epoch 342/400\n",
            "7/8 [=========================>....] - ETA: 0s - loss: 0.1547 - accuracy: 0.9955"
          ]
        },
        {
          "output_type": "stream",
          "name": "stderr",
          "text": [
            "WARNING:tensorflow:Learning rate reduction is conditioned on metric `acc` which is not available. Available metrics are: loss,accuracy,val_loss,val_accuracy,lr\n"
          ]
        },
        {
          "output_type": "stream",
          "name": "stdout",
          "text": [
            "\b\b\b\b\b\b\b\b\b\b\b\b\b\b\b\b\b\b\b\b\b\b\b\b\b\b\b\b\b\b\b\b\b\b\b\b\b\b\b\b\b\b\b\b\b\b\b\b\b\b\b\b\b\b\b\b\b\b\b\b\b\b\b\b\b\b\b\b\b\b\b\b\b\b\b\b\b\b\b\b\r8/8 [==============================] - 1s 86ms/step - loss: 0.1546 - accuracy: 0.9956 - val_loss: 4.1995 - val_accuracy: 0.3200 - lr: 0.0010\n",
            "Epoch 343/400\n",
            "7/8 [=========================>....] - ETA: 0s - loss: 0.1448 - accuracy: 0.9944"
          ]
        },
        {
          "output_type": "stream",
          "name": "stderr",
          "text": [
            "WARNING:tensorflow:Learning rate reduction is conditioned on metric `acc` which is not available. Available metrics are: loss,accuracy,val_loss,val_accuracy,lr\n"
          ]
        },
        {
          "output_type": "stream",
          "name": "stdout",
          "text": [
            "\b\b\b\b\b\b\b\b\b\b\b\b\b\b\b\b\b\b\b\b\b\b\b\b\b\b\b\b\b\b\b\b\b\b\b\b\b\b\b\b\b\b\b\b\b\b\b\b\b\b\b\b\b\b\b\b\b\b\b\b\b\b\b\b\b\b\b\b\b\b\b\b\b\b\b\b\b\b\b\b\r8/8 [==============================] - 1s 86ms/step - loss: 0.1447 - accuracy: 0.9944 - val_loss: 3.0514 - val_accuracy: 0.3700 - lr: 0.0010\n",
            "Epoch 344/400\n",
            "7/8 [=========================>....] - ETA: 0s - loss: 0.1361 - accuracy: 0.9978"
          ]
        },
        {
          "output_type": "stream",
          "name": "stderr",
          "text": [
            "WARNING:tensorflow:Learning rate reduction is conditioned on metric `acc` which is not available. Available metrics are: loss,accuracy,val_loss,val_accuracy,lr\n"
          ]
        },
        {
          "output_type": "stream",
          "name": "stdout",
          "text": [
            "\b\b\b\b\b\b\b\b\b\b\b\b\b\b\b\b\b\b\b\b\b\b\b\b\b\b\b\b\b\b\b\b\b\b\b\b\b\b\b\b\b\b\b\b\b\b\b\b\b\b\b\b\b\b\b\b\b\b\b\b\b\b\b\b\b\b\b\b\b\b\b\b\b\b\b\b\b\b\b\b\r8/8 [==============================] - 1s 87ms/step - loss: 0.1371 - accuracy: 0.9978 - val_loss: 2.8444 - val_accuracy: 0.3800 - lr: 0.0010\n",
            "Epoch 345/400\n",
            "7/8 [=========================>....] - ETA: 0s - loss: 0.1487 - accuracy: 0.9911"
          ]
        },
        {
          "output_type": "stream",
          "name": "stderr",
          "text": [
            "WARNING:tensorflow:Learning rate reduction is conditioned on metric `acc` which is not available. Available metrics are: loss,accuracy,val_loss,val_accuracy,lr\n"
          ]
        },
        {
          "output_type": "stream",
          "name": "stdout",
          "text": [
            "\b\b\b\b\b\b\b\b\b\b\b\b\b\b\b\b\b\b\b\b\b\b\b\b\b\b\b\b\b\b\b\b\b\b\b\b\b\b\b\b\b\b\b\b\b\b\b\b\b\b\b\b\b\b\b\b\b\b\b\b\b\b\b\b\b\b\b\b\b\b\b\b\b\b\b\b\b\b\b\b\r8/8 [==============================] - 1s 83ms/step - loss: 0.1489 - accuracy: 0.9911 - val_loss: 3.2046 - val_accuracy: 0.3700 - lr: 0.0010\n",
            "Epoch 346/400\n",
            "7/8 [=========================>....] - ETA: 0s - loss: 0.1554 - accuracy: 0.9866"
          ]
        },
        {
          "output_type": "stream",
          "name": "stderr",
          "text": [
            "WARNING:tensorflow:Learning rate reduction is conditioned on metric `acc` which is not available. Available metrics are: loss,accuracy,val_loss,val_accuracy,lr\n"
          ]
        },
        {
          "output_type": "stream",
          "name": "stdout",
          "text": [
            "\b\b\b\b\b\b\b\b\b\b\b\b\b\b\b\b\b\b\b\b\b\b\b\b\b\b\b\b\b\b\b\b\b\b\b\b\b\b\b\b\b\b\b\b\b\b\b\b\b\b\b\b\b\b\b\b\b\b\b\b\b\b\b\b\b\b\b\b\b\b\b\b\b\b\b\b\b\b\b\b\r8/8 [==============================] - 1s 83ms/step - loss: 0.1555 - accuracy: 0.9867 - val_loss: 3.0962 - val_accuracy: 0.4000 - lr: 0.0010\n",
            "Epoch 347/400\n",
            "7/8 [=========================>....] - ETA: 0s - loss: 0.1393 - accuracy: 0.9978"
          ]
        },
        {
          "output_type": "stream",
          "name": "stderr",
          "text": [
            "WARNING:tensorflow:Learning rate reduction is conditioned on metric `acc` which is not available. Available metrics are: loss,accuracy,val_loss,val_accuracy,lr\n"
          ]
        },
        {
          "output_type": "stream",
          "name": "stdout",
          "text": [
            "\b\b\b\b\b\b\b\b\b\b\b\b\b\b\b\b\b\b\b\b\b\b\b\b\b\b\b\b\b\b\b\b\b\b\b\b\b\b\b\b\b\b\b\b\b\b\b\b\b\b\b\b\b\b\b\b\b\b\b\b\b\b\b\b\b\b\b\b\b\b\b\b\b\b\b\b\b\b\b\b\r8/8 [==============================] - 1s 85ms/step - loss: 0.1410 - accuracy: 0.9967 - val_loss: 3.6594 - val_accuracy: 0.3700 - lr: 0.0010\n",
            "Epoch 348/400\n",
            "7/8 [=========================>....] - ETA: 0s - loss: 0.2649 - accuracy: 0.9554"
          ]
        },
        {
          "output_type": "stream",
          "name": "stderr",
          "text": [
            "WARNING:tensorflow:Learning rate reduction is conditioned on metric `acc` which is not available. Available metrics are: loss,accuracy,val_loss,val_accuracy,lr\n"
          ]
        },
        {
          "output_type": "stream",
          "name": "stdout",
          "text": [
            "\b\b\b\b\b\b\b\b\b\b\b\b\b\b\b\b\b\b\b\b\b\b\b\b\b\b\b\b\b\b\b\b\b\b\b\b\b\b\b\b\b\b\b\b\b\b\b\b\b\b\b\b\b\b\b\b\b\b\b\b\b\b\b\b\b\b\b\b\b\b\b\b\b\b\b\b\b\b\b\b\r8/8 [==============================] - 1s 84ms/step - loss: 0.2664 - accuracy: 0.9544 - val_loss: 5.1928 - val_accuracy: 0.3000 - lr: 0.0010\n",
            "Epoch 349/400\n",
            "7/8 [=========================>....] - ETA: 0s - loss: 0.2229 - accuracy: 0.9676"
          ]
        },
        {
          "output_type": "stream",
          "name": "stderr",
          "text": [
            "WARNING:tensorflow:Learning rate reduction is conditioned on metric `acc` which is not available. Available metrics are: loss,accuracy,val_loss,val_accuracy,lr\n"
          ]
        },
        {
          "output_type": "stream",
          "name": "stdout",
          "text": [
            "\b\b\b\b\b\b\b\b\b\b\b\b\b\b\b\b\b\b\b\b\b\b\b\b\b\b\b\b\b\b\b\b\b\b\b\b\b\b\b\b\b\b\b\b\b\b\b\b\b\b\b\b\b\b\b\b\b\b\b\b\b\b\b\b\b\b\b\b\b\b\b\b\b\b\b\b\b\b\b\b\r8/8 [==============================] - 1s 83ms/step - loss: 0.2230 - accuracy: 0.9678 - val_loss: 5.4151 - val_accuracy: 0.3800 - lr: 0.0010\n",
            "Epoch 350/400\n",
            "7/8 [=========================>....] - ETA: 0s - loss: 0.1953 - accuracy: 0.9777"
          ]
        },
        {
          "output_type": "stream",
          "name": "stderr",
          "text": [
            "WARNING:tensorflow:Learning rate reduction is conditioned on metric `acc` which is not available. Available metrics are: loss,accuracy,val_loss,val_accuracy,lr\n"
          ]
        },
        {
          "output_type": "stream",
          "name": "stdout",
          "text": [
            "\b\b\b\b\b\b\b\b\b\b\b\b\b\b\b\b\b\b\b\b\b\b\b\b\b\b\b\b\b\b\b\b\b\b\b\b\b\b\b\b\b\b\b\b\b\b\b\b\b\b\b\b\b\b\b\b\b\b\b\b\b\b\b\b\b\b\b\b\b\b\b\b\b\b\b\b\b\b\b\b\r8/8 [==============================] - 1s 83ms/step - loss: 0.1955 - accuracy: 0.9778 - val_loss: 4.0663 - val_accuracy: 0.4200 - lr: 0.0010\n",
            "Epoch 351/400\n",
            "7/8 [=========================>....] - ETA: 0s - loss: 0.1635 - accuracy: 0.9888"
          ]
        },
        {
          "output_type": "stream",
          "name": "stderr",
          "text": [
            "WARNING:tensorflow:Learning rate reduction is conditioned on metric `acc` which is not available. Available metrics are: loss,accuracy,val_loss,val_accuracy,lr\n"
          ]
        },
        {
          "output_type": "stream",
          "name": "stdout",
          "text": [
            "\b\b\b\b\b\b\b\b\b\b\b\b\b\b\b\b\b\b\b\b\b\b\b\b\b\b\b\b\b\b\b\b\b\b\b\b\b\b\b\b\b\b\b\b\b\b\b\b\b\b\b\b\b\b\b\b\b\b\b\b\b\b\b\b\b\b\b\b\b\b\b\b\b\b\b\b\b\b\b\b\r8/8 [==============================] - 1s 89ms/step - loss: 0.1649 - accuracy: 0.9878 - val_loss: 3.6644 - val_accuracy: 0.3900 - lr: 0.0010\n",
            "Epoch 352/400\n",
            "7/8 [=========================>....] - ETA: 0s - loss: 0.1742 - accuracy: 0.9911"
          ]
        },
        {
          "output_type": "stream",
          "name": "stderr",
          "text": [
            "WARNING:tensorflow:Learning rate reduction is conditioned on metric `acc` which is not available. Available metrics are: loss,accuracy,val_loss,val_accuracy,lr\n"
          ]
        },
        {
          "output_type": "stream",
          "name": "stdout",
          "text": [
            "\b\b\b\b\b\b\b\b\b\b\b\b\b\b\b\b\b\b\b\b\b\b\b\b\b\b\b\b\b\b\b\b\b\b\b\b\b\b\b\b\b\b\b\b\b\b\b\b\b\b\b\b\b\b\b\b\b\b\b\b\b\b\b\b\b\b\b\b\b\b\b\b\b\b\b\b\b\b\b\b\r8/8 [==============================] - 1s 84ms/step - loss: 0.1784 - accuracy: 0.9900 - val_loss: 4.5673 - val_accuracy: 0.3600 - lr: 0.0010\n",
            "Epoch 353/400\n",
            "7/8 [=========================>....] - ETA: 0s - loss: 0.2114 - accuracy: 0.9710"
          ]
        },
        {
          "output_type": "stream",
          "name": "stderr",
          "text": [
            "WARNING:tensorflow:Learning rate reduction is conditioned on metric `acc` which is not available. Available metrics are: loss,accuracy,val_loss,val_accuracy,lr\n"
          ]
        },
        {
          "output_type": "stream",
          "name": "stdout",
          "text": [
            "\b\b\b\b\b\b\b\b\b\b\b\b\b\b\b\b\b\b\b\b\b\b\b\b\b\b\b\b\b\b\b\b\b\b\b\b\b\b\b\b\b\b\b\b\b\b\b\b\b\b\b\b\b\b\b\b\b\b\b\b\b\b\b\b\b\b\b\b\b\b\b\b\b\b\b\b\b\b\b\b\r8/8 [==============================] - 1s 84ms/step - loss: 0.2127 - accuracy: 0.9700 - val_loss: 4.9089 - val_accuracy: 0.3200 - lr: 0.0010\n",
            "Epoch 354/400\n",
            "7/8 [=========================>....] - ETA: 0s - loss: 0.2048 - accuracy: 0.9788"
          ]
        },
        {
          "output_type": "stream",
          "name": "stderr",
          "text": [
            "WARNING:tensorflow:Learning rate reduction is conditioned on metric `acc` which is not available. Available metrics are: loss,accuracy,val_loss,val_accuracy,lr\n"
          ]
        },
        {
          "output_type": "stream",
          "name": "stdout",
          "text": [
            "\b\b\b\b\b\b\b\b\b\b\b\b\b\b\b\b\b\b\b\b\b\b\b\b\b\b\b\b\b\b\b\b\b\b\b\b\b\b\b\b\b\b\b\b\b\b\b\b\b\b\b\b\b\b\b\b\b\b\b\b\b\b\b\b\b\b\b\b\b\b\b\b\b\b\b\b\b\b\b\b\r8/8 [==============================] - 1s 83ms/step - loss: 0.2061 - accuracy: 0.9789 - val_loss: 4.9886 - val_accuracy: 0.2400 - lr: 0.0010\n",
            "Epoch 355/400\n",
            "7/8 [=========================>....] - ETA: 0s - loss: 0.2517 - accuracy: 0.9531"
          ]
        },
        {
          "output_type": "stream",
          "name": "stderr",
          "text": [
            "WARNING:tensorflow:Learning rate reduction is conditioned on metric `acc` which is not available. Available metrics are: loss,accuracy,val_loss,val_accuracy,lr\n"
          ]
        },
        {
          "output_type": "stream",
          "name": "stdout",
          "text": [
            "\b\b\b\b\b\b\b\b\b\b\b\b\b\b\b\b\b\b\b\b\b\b\b\b\b\b\b\b\b\b\b\b\b\b\b\b\b\b\b\b\b\b\b\b\b\b\b\b\b\b\b\b\b\b\b\b\b\b\b\b\b\b\b\b\b\b\b\b\b\b\b\b\b\b\b\b\b\b\b\b\r8/8 [==============================] - 1s 83ms/step - loss: 0.2512 - accuracy: 0.9533 - val_loss: 5.1111 - val_accuracy: 0.3000 - lr: 0.0010\n",
            "Epoch 356/400\n",
            "7/8 [=========================>....] - ETA: 0s - loss: 0.2151 - accuracy: 0.9743"
          ]
        },
        {
          "output_type": "stream",
          "name": "stderr",
          "text": [
            "WARNING:tensorflow:Learning rate reduction is conditioned on metric `acc` which is not available. Available metrics are: loss,accuracy,val_loss,val_accuracy,lr\n"
          ]
        },
        {
          "output_type": "stream",
          "name": "stdout",
          "text": [
            "\b\b\b\b\b\b\b\b\b\b\b\b\b\b\b\b\b\b\b\b\b\b\b\b\b\b\b\b\b\b\b\b\b\b\b\b\b\b\b\b\b\b\b\b\b\b\b\b\b\b\b\b\b\b\b\b\b\b\b\b\b\b\b\b\b\b\b\b\b\b\b\b\b\b\b\b\b\b\b\b\r8/8 [==============================] - 1s 88ms/step - loss: 0.2154 - accuracy: 0.9744 - val_loss: 5.8438 - val_accuracy: 0.2600 - lr: 0.0010\n",
            "Epoch 357/400\n",
            "7/8 [=========================>....] - ETA: 0s - loss: 0.1589 - accuracy: 0.9955"
          ]
        },
        {
          "output_type": "stream",
          "name": "stderr",
          "text": [
            "WARNING:tensorflow:Learning rate reduction is conditioned on metric `acc` which is not available. Available metrics are: loss,accuracy,val_loss,val_accuracy,lr\n"
          ]
        },
        {
          "output_type": "stream",
          "name": "stdout",
          "text": [
            "\b\b\b\b\b\b\b\b\b\b\b\b\b\b\b\b\b\b\b\b\b\b\b\b\b\b\b\b\b\b\b\b\b\b\b\b\b\b\b\b\b\b\b\b\b\b\b\b\b\b\b\b\b\b\b\b\b\b\b\b\b\b\b\b\b\b\b\b\b\b\b\b\b\b\b\b\b\b\b\b\r8/8 [==============================] - 1s 88ms/step - loss: 0.1588 - accuracy: 0.9956 - val_loss: 6.3590 - val_accuracy: 0.2900 - lr: 0.0010\n",
            "Epoch 358/400\n",
            "7/8 [=========================>....] - ETA: 0s - loss: 0.1517 - accuracy: 0.9989"
          ]
        },
        {
          "output_type": "stream",
          "name": "stderr",
          "text": [
            "WARNING:tensorflow:Learning rate reduction is conditioned on metric `acc` which is not available. Available metrics are: loss,accuracy,val_loss,val_accuracy,lr\n"
          ]
        },
        {
          "output_type": "stream",
          "name": "stdout",
          "text": [
            "\b\b\b\b\b\b\b\b\b\b\b\b\b\b\b\b\b\b\b\b\b\b\b\b\b\b\b\b\b\b\b\b\b\b\b\b\b\b\b\b\b\b\b\b\b\b\b\b\b\b\b\b\b\b\b\b\b\b\b\b\b\b\b\b\b\b\b\b\b\b\b\b\b\b\b\b\b\b\b\b\r8/8 [==============================] - 1s 87ms/step - loss: 0.1519 - accuracy: 0.9989 - val_loss: 5.0722 - val_accuracy: 0.3600 - lr: 0.0010\n",
            "Epoch 359/400\n",
            "7/8 [=========================>....] - ETA: 0s - loss: 0.1479 - accuracy: 0.9967"
          ]
        },
        {
          "output_type": "stream",
          "name": "stderr",
          "text": [
            "WARNING:tensorflow:Learning rate reduction is conditioned on metric `acc` which is not available. Available metrics are: loss,accuracy,val_loss,val_accuracy,lr\n"
          ]
        },
        {
          "output_type": "stream",
          "name": "stdout",
          "text": [
            "\b\b\b\b\b\b\b\b\b\b\b\b\b\b\b\b\b\b\b\b\b\b\b\b\b\b\b\b\b\b\b\b\b\b\b\b\b\b\b\b\b\b\b\b\b\b\b\b\b\b\b\b\b\b\b\b\b\b\b\b\b\b\b\b\b\b\b\b\b\b\b\b\b\b\b\b\b\b\b\b\r8/8 [==============================] - 1s 94ms/step - loss: 0.1483 - accuracy: 0.9967 - val_loss: 3.6983 - val_accuracy: 0.4100 - lr: 0.0010\n",
            "Epoch 360/400\n",
            "7/8 [=========================>....] - ETA: 0s - loss: 0.1431 - accuracy: 0.9978"
          ]
        },
        {
          "output_type": "stream",
          "name": "stderr",
          "text": [
            "WARNING:tensorflow:Learning rate reduction is conditioned on metric `acc` which is not available. Available metrics are: loss,accuracy,val_loss,val_accuracy,lr\n"
          ]
        },
        {
          "output_type": "stream",
          "name": "stdout",
          "text": [
            "\b\b\b\b\b\b\b\b\b\b\b\b\b\b\b\b\b\b\b\b\b\b\b\b\b\b\b\b\b\b\b\b\b\b\b\b\b\b\b\b\b\b\b\b\b\b\b\b\b\b\b\b\b\b\b\b\b\b\b\b\b\b\b\b\b\b\b\b\b\b\b\b\b\b\b\b\b\b\b\b\r8/8 [==============================] - 1s 89ms/step - loss: 0.1433 - accuracy: 0.9978 - val_loss: 5.2349 - val_accuracy: 0.3200 - lr: 0.0010\n",
            "Epoch 361/400\n",
            "7/8 [=========================>....] - ETA: 0s - loss: 0.1398 - accuracy: 0.9978"
          ]
        },
        {
          "output_type": "stream",
          "name": "stderr",
          "text": [
            "WARNING:tensorflow:Learning rate reduction is conditioned on metric `acc` which is not available. Available metrics are: loss,accuracy,val_loss,val_accuracy,lr\n"
          ]
        },
        {
          "output_type": "stream",
          "name": "stdout",
          "text": [
            "\b\b\b\b\b\b\b\b\b\b\b\b\b\b\b\b\b\b\b\b\b\b\b\b\b\b\b\b\b\b\b\b\b\b\b\b\b\b\b\b\b\b\b\b\b\b\b\b\b\b\b\b\b\b\b\b\b\b\b\b\b\b\b\b\b\b\b\b\b\b\b\b\b\b\b\b\b\b\b\b\r8/8 [==============================] - 1s 87ms/step - loss: 0.1398 - accuracy: 0.9978 - val_loss: 5.2501 - val_accuracy: 0.3100 - lr: 0.0010\n",
            "Epoch 362/400\n",
            "7/8 [=========================>....] - ETA: 0s - loss: 0.1351 - accuracy: 1.0000"
          ]
        },
        {
          "output_type": "stream",
          "name": "stderr",
          "text": [
            "WARNING:tensorflow:Learning rate reduction is conditioned on metric `acc` which is not available. Available metrics are: loss,accuracy,val_loss,val_accuracy,lr\n"
          ]
        },
        {
          "output_type": "stream",
          "name": "stdout",
          "text": [
            "\b\b\b\b\b\b\b\b\b\b\b\b\b\b\b\b\b\b\b\b\b\b\b\b\b\b\b\b\b\b\b\b\b\b\b\b\b\b\b\b\b\b\b\b\b\b\b\b\b\b\b\b\b\b\b\b\b\b\b\b\b\b\b\b\b\b\b\b\b\b\b\b\b\b\b\b\b\b\b\b\r8/8 [==============================] - 1s 83ms/step - loss: 0.1355 - accuracy: 1.0000 - val_loss: 4.0591 - val_accuracy: 0.4100 - lr: 0.0010\n",
            "Epoch 363/400\n",
            "7/8 [=========================>....] - ETA: 0s - loss: 0.1358 - accuracy: 0.9989"
          ]
        },
        {
          "output_type": "stream",
          "name": "stderr",
          "text": [
            "WARNING:tensorflow:Learning rate reduction is conditioned on metric `acc` which is not available. Available metrics are: loss,accuracy,val_loss,val_accuracy,lr\n"
          ]
        },
        {
          "output_type": "stream",
          "name": "stdout",
          "text": [
            "\b\b\b\b\b\b\b\b\b\b\b\b\b\b\b\b\b\b\b\b\b\b\b\b\b\b\b\b\b\b\b\b\b\b\b\b\b\b\b\b\b\b\b\b\b\b\b\b\b\b\b\b\b\b\b\b\b\b\b\b\b\b\b\b\b\b\b\b\b\b\b\b\b\b\b\b\b\b\b\b\r8/8 [==============================] - 1s 89ms/step - loss: 0.1370 - accuracy: 0.9978 - val_loss: 4.5907 - val_accuracy: 0.3400 - lr: 0.0010\n",
            "Epoch 364/400\n",
            "7/8 [=========================>....] - ETA: 0s - loss: 0.1644 - accuracy: 0.9855"
          ]
        },
        {
          "output_type": "stream",
          "name": "stderr",
          "text": [
            "WARNING:tensorflow:Learning rate reduction is conditioned on metric `acc` which is not available. Available metrics are: loss,accuracy,val_loss,val_accuracy,lr\n"
          ]
        },
        {
          "output_type": "stream",
          "name": "stdout",
          "text": [
            "\b\b\b\b\b\b\b\b\b\b\b\b\b\b\b\b\b\b\b\b\b\b\b\b\b\b\b\b\b\b\b\b\b\b\b\b\b\b\b\b\b\b\b\b\b\b\b\b\b\b\b\b\b\b\b\b\b\b\b\b\b\b\b\b\b\b\b\b\b\b\b\b\b\b\b\b\b\b\b\b\r8/8 [==============================] - 1s 83ms/step - loss: 0.1676 - accuracy: 0.9844 - val_loss: 6.0951 - val_accuracy: 0.2700 - lr: 0.0010\n",
            "Epoch 365/400\n",
            "7/8 [=========================>....] - ETA: 0s - loss: 0.2796 - accuracy: 0.9353"
          ]
        },
        {
          "output_type": "stream",
          "name": "stderr",
          "text": [
            "WARNING:tensorflow:Learning rate reduction is conditioned on metric `acc` which is not available. Available metrics are: loss,accuracy,val_loss,val_accuracy,lr\n"
          ]
        },
        {
          "output_type": "stream",
          "name": "stdout",
          "text": [
            "\b\b\b\b\b\b\b\b\b\b\b\b\b\b\b\b\b\b\b\b\b\b\b\b\b\b\b\b\b\b\b\b\b\b\b\b\b\b\b\b\b\b\b\b\b\b\b\b\b\b\b\b\b\b\b\b\b\b\b\b\b\b\b\b\b\b\b\b\b\b\b\b\b\b\b\b\b\b\b\b\r8/8 [==============================] - 1s 83ms/step - loss: 0.2789 - accuracy: 0.9356 - val_loss: 5.4879 - val_accuracy: 0.3300 - lr: 0.0010\n",
            "Epoch 366/400\n",
            "7/8 [=========================>....] - ETA: 0s - loss: 0.2133 - accuracy: 0.9743"
          ]
        },
        {
          "output_type": "stream",
          "name": "stderr",
          "text": [
            "WARNING:tensorflow:Learning rate reduction is conditioned on metric `acc` which is not available. Available metrics are: loss,accuracy,val_loss,val_accuracy,lr\n"
          ]
        },
        {
          "output_type": "stream",
          "name": "stdout",
          "text": [
            "\b\b\b\b\b\b\b\b\b\b\b\b\b\b\b\b\b\b\b\b\b\b\b\b\b\b\b\b\b\b\b\b\b\b\b\b\b\b\b\b\b\b\b\b\b\b\b\b\b\b\b\b\b\b\b\b\b\b\b\b\b\b\b\b\b\b\b\b\b\b\b\b\b\b\b\b\b\b\b\b\r8/8 [==============================] - 1s 83ms/step - loss: 0.2158 - accuracy: 0.9722 - val_loss: 3.6419 - val_accuracy: 0.4500 - lr: 0.0010\n",
            "Epoch 367/400\n",
            "7/8 [=========================>....] - ETA: 0s - loss: 0.2332 - accuracy: 0.9732"
          ]
        },
        {
          "output_type": "stream",
          "name": "stderr",
          "text": [
            "WARNING:tensorflow:Learning rate reduction is conditioned on metric `acc` which is not available. Available metrics are: loss,accuracy,val_loss,val_accuracy,lr\n"
          ]
        },
        {
          "output_type": "stream",
          "name": "stdout",
          "text": [
            "\b\b\b\b\b\b\b\b\b\b\b\b\b\b\b\b\b\b\b\b\b\b\b\b\b\b\b\b\b\b\b\b\b\b\b\b\b\b\b\b\b\b\b\b\b\b\b\b\b\b\b\b\b\b\b\b\b\b\b\b\b\b\b\b\b\b\b\b\b\b\b\b\b\b\b\b\b\b\b\b\r8/8 [==============================] - 1s 84ms/step - loss: 0.2338 - accuracy: 0.9722 - val_loss: 3.8449 - val_accuracy: 0.3700 - lr: 0.0010\n",
            "Epoch 368/400\n",
            "7/8 [=========================>....] - ETA: 0s - loss: 0.2059 - accuracy: 0.9766"
          ]
        },
        {
          "output_type": "stream",
          "name": "stderr",
          "text": [
            "WARNING:tensorflow:Learning rate reduction is conditioned on metric `acc` which is not available. Available metrics are: loss,accuracy,val_loss,val_accuracy,lr\n"
          ]
        },
        {
          "output_type": "stream",
          "name": "stdout",
          "text": [
            "\b\b\b\b\b\b\b\b\b\b\b\b\b\b\b\b\b\b\b\b\b\b\b\b\b\b\b\b\b\b\b\b\b\b\b\b\b\b\b\b\b\b\b\b\b\b\b\b\b\b\b\b\b\b\b\b\b\b\b\b\b\b\b\b\b\b\b\b\b\b\b\b\b\b\b\b\b\b\b\b\r8/8 [==============================] - 1s 82ms/step - loss: 0.2059 - accuracy: 0.9767 - val_loss: 3.7375 - val_accuracy: 0.3700 - lr: 0.0010\n",
            "Epoch 369/400\n",
            "7/8 [=========================>....] - ETA: 0s - loss: 0.1890 - accuracy: 0.9833"
          ]
        },
        {
          "output_type": "stream",
          "name": "stderr",
          "text": [
            "WARNING:tensorflow:Learning rate reduction is conditioned on metric `acc` which is not available. Available metrics are: loss,accuracy,val_loss,val_accuracy,lr\n"
          ]
        },
        {
          "output_type": "stream",
          "name": "stdout",
          "text": [
            "\b\b\b\b\b\b\b\b\b\b\b\b\b\b\b\b\b\b\b\b\b\b\b\b\b\b\b\b\b\b\b\b\b\b\b\b\b\b\b\b\b\b\b\b\b\b\b\b\b\b\b\b\b\b\b\b\b\b\b\b\b\b\b\b\b\b\b\b\b\b\b\b\b\b\b\b\b\b\b\b\r8/8 [==============================] - 1s 88ms/step - loss: 0.1892 - accuracy: 0.9833 - val_loss: 4.5485 - val_accuracy: 0.3300 - lr: 0.0010\n",
            "Epoch 370/400\n",
            "7/8 [=========================>....] - ETA: 0s - loss: 0.1754 - accuracy: 0.9833"
          ]
        },
        {
          "output_type": "stream",
          "name": "stderr",
          "text": [
            "WARNING:tensorflow:Learning rate reduction is conditioned on metric `acc` which is not available. Available metrics are: loss,accuracy,val_loss,val_accuracy,lr\n"
          ]
        },
        {
          "output_type": "stream",
          "name": "stdout",
          "text": [
            "\b\b\b\b\b\b\b\b\b\b\b\b\b\b\b\b\b\b\b\b\b\b\b\b\b\b\b\b\b\b\b\b\b\b\b\b\b\b\b\b\b\b\b\b\b\b\b\b\b\b\b\b\b\b\b\b\b\b\b\b\b\b\b\b\b\b\b\b\b\b\b\b\b\b\b\b\b\b\b\b\r8/8 [==============================] - 1s 83ms/step - loss: 0.1788 - accuracy: 0.9822 - val_loss: 5.4682 - val_accuracy: 0.3000 - lr: 0.0010\n",
            "Epoch 371/400\n",
            "7/8 [=========================>....] - ETA: 0s - loss: 0.3064 - accuracy: 0.9475"
          ]
        },
        {
          "output_type": "stream",
          "name": "stderr",
          "text": [
            "WARNING:tensorflow:Learning rate reduction is conditioned on metric `acc` which is not available. Available metrics are: loss,accuracy,val_loss,val_accuracy,lr\n"
          ]
        },
        {
          "output_type": "stream",
          "name": "stdout",
          "text": [
            "\b\b\b\b\b\b\b\b\b\b\b\b\b\b\b\b\b\b\b\b\b\b\b\b\b\b\b\b\b\b\b\b\b\b\b\b\b\b\b\b\b\b\b\b\b\b\b\b\b\b\b\b\b\b\b\b\b\b\b\b\b\b\b\b\b\b\b\b\b\b\b\b\b\b\b\b\b\b\b\b\r8/8 [==============================] - 1s 81ms/step - loss: 0.3063 - accuracy: 0.9478 - val_loss: 10.1604 - val_accuracy: 0.1500 - lr: 0.0010\n",
            "Epoch 372/400\n",
            "7/8 [=========================>....] - ETA: 0s - loss: 0.2223 - accuracy: 0.9788"
          ]
        },
        {
          "output_type": "stream",
          "name": "stderr",
          "text": [
            "WARNING:tensorflow:Learning rate reduction is conditioned on metric `acc` which is not available. Available metrics are: loss,accuracy,val_loss,val_accuracy,lr\n"
          ]
        },
        {
          "output_type": "stream",
          "name": "stdout",
          "text": [
            "\b\b\b\b\b\b\b\b\b\b\b\b\b\b\b\b\b\b\b\b\b\b\b\b\b\b\b\b\b\b\b\b\b\b\b\b\b\b\b\b\b\b\b\b\b\b\b\b\b\b\b\b\b\b\b\b\b\b\b\b\b\b\b\b\b\b\b\b\b\b\b\b\b\b\b\b\b\b\b\b\r8/8 [==============================] - 1s 84ms/step - loss: 0.2237 - accuracy: 0.9789 - val_loss: 5.5690 - val_accuracy: 0.2800 - lr: 0.0010\n",
            "Epoch 373/400\n",
            "7/8 [=========================>....] - ETA: 0s - loss: 0.3015 - accuracy: 0.9531"
          ]
        },
        {
          "output_type": "stream",
          "name": "stderr",
          "text": [
            "WARNING:tensorflow:Learning rate reduction is conditioned on metric `acc` which is not available. Available metrics are: loss,accuracy,val_loss,val_accuracy,lr\n"
          ]
        },
        {
          "output_type": "stream",
          "name": "stdout",
          "text": [
            "\b\b\b\b\b\b\b\b\b\b\b\b\b\b\b\b\b\b\b\b\b\b\b\b\b\b\b\b\b\b\b\b\b\b\b\b\b\b\b\b\b\b\b\b\b\b\b\b\b\b\b\b\b\b\b\b\b\b\b\b\b\b\b\b\b\b\b\b\b\b\b\b\b\b\b\b\b\b\b\b\r8/8 [==============================] - 1s 83ms/step - loss: 0.3024 - accuracy: 0.9522 - val_loss: 4.7806 - val_accuracy: 0.3400 - lr: 0.0010\n",
            "Epoch 374/400\n",
            "7/8 [=========================>....] - ETA: 0s - loss: 0.2355 - accuracy: 0.9710"
          ]
        },
        {
          "output_type": "stream",
          "name": "stderr",
          "text": [
            "WARNING:tensorflow:Learning rate reduction is conditioned on metric `acc` which is not available. Available metrics are: loss,accuracy,val_loss,val_accuracy,lr\n"
          ]
        },
        {
          "output_type": "stream",
          "name": "stdout",
          "text": [
            "\b\b\b\b\b\b\b\b\b\b\b\b\b\b\b\b\b\b\b\b\b\b\b\b\b\b\b\b\b\b\b\b\b\b\b\b\b\b\b\b\b\b\b\b\b\b\b\b\b\b\b\b\b\b\b\b\b\b\b\b\b\b\b\b\b\b\b\b\b\b\b\b\b\b\b\b\b\b\b\b\r8/8 [==============================] - 1s 81ms/step - loss: 0.2375 - accuracy: 0.9700 - val_loss: 7.2457 - val_accuracy: 0.3000 - lr: 0.0010\n",
            "Epoch 375/400\n",
            "7/8 [=========================>....] - ETA: 0s - loss: 0.2482 - accuracy: 0.9609"
          ]
        },
        {
          "output_type": "stream",
          "name": "stderr",
          "text": [
            "WARNING:tensorflow:Learning rate reduction is conditioned on metric `acc` which is not available. Available metrics are: loss,accuracy,val_loss,val_accuracy,lr\n"
          ]
        },
        {
          "output_type": "stream",
          "name": "stdout",
          "text": [
            "\b\b\b\b\b\b\b\b\b\b\b\b\b\b\b\b\b\b\b\b\b\b\b\b\b\b\b\b\b\b\b\b\b\b\b\b\b\b\b\b\b\b\b\b\b\b\b\b\b\b\b\b\b\b\b\b\b\b\b\b\b\b\b\b\b\b\b\b\b\b\b\b\b\b\b\b\b\b\b\b\r8/8 [==============================] - 1s 83ms/step - loss: 0.2486 - accuracy: 0.9611 - val_loss: 11.1625 - val_accuracy: 0.1600 - lr: 0.0010\n",
            "Epoch 376/400\n",
            "7/8 [=========================>....] - ETA: 0s - loss: 0.2165 - accuracy: 0.9743"
          ]
        },
        {
          "output_type": "stream",
          "name": "stderr",
          "text": [
            "WARNING:tensorflow:Learning rate reduction is conditioned on metric `acc` which is not available. Available metrics are: loss,accuracy,val_loss,val_accuracy,lr\n"
          ]
        },
        {
          "output_type": "stream",
          "name": "stdout",
          "text": [
            "\b\b\b\b\b\b\b\b\b\b\b\b\b\b\b\b\b\b\b\b\b\b\b\b\b\b\b\b\b\b\b\b\b\b\b\b\b\b\b\b\b\b\b\b\b\b\b\b\b\b\b\b\b\b\b\b\b\b\b\b\b\b\b\b\b\b\b\b\b\b\b\b\b\b\b\b\b\b\b\b\r8/8 [==============================] - 1s 85ms/step - loss: 0.2170 - accuracy: 0.9744 - val_loss: 7.1767 - val_accuracy: 0.2900 - lr: 0.0010\n",
            "Epoch 377/400\n",
            "7/8 [=========================>....] - ETA: 0s - loss: 0.1911 - accuracy: 0.9855"
          ]
        },
        {
          "output_type": "stream",
          "name": "stderr",
          "text": [
            "WARNING:tensorflow:Learning rate reduction is conditioned on metric `acc` which is not available. Available metrics are: loss,accuracy,val_loss,val_accuracy,lr\n"
          ]
        },
        {
          "output_type": "stream",
          "name": "stdout",
          "text": [
            "\b\b\b\b\b\b\b\b\b\b\b\b\b\b\b\b\b\b\b\b\b\b\b\b\b\b\b\b\b\b\b\b\b\b\b\b\b\b\b\b\b\b\b\b\b\b\b\b\b\b\b\b\b\b\b\b\b\b\b\b\b\b\b\b\b\b\b\b\b\b\b\b\b\b\b\b\b\b\b\b\r8/8 [==============================] - 1s 87ms/step - loss: 0.1916 - accuracy: 0.9856 - val_loss: 7.9357 - val_accuracy: 0.2400 - lr: 0.0010\n",
            "Epoch 378/400\n",
            "7/8 [=========================>....] - ETA: 0s - loss: 0.1837 - accuracy: 0.9855"
          ]
        },
        {
          "output_type": "stream",
          "name": "stderr",
          "text": [
            "WARNING:tensorflow:Learning rate reduction is conditioned on metric `acc` which is not available. Available metrics are: loss,accuracy,val_loss,val_accuracy,lr\n"
          ]
        },
        {
          "output_type": "stream",
          "name": "stdout",
          "text": [
            "\b\b\b\b\b\b\b\b\b\b\b\b\b\b\b\b\b\b\b\b\b\b\b\b\b\b\b\b\b\b\b\b\b\b\b\b\b\b\b\b\b\b\b\b\b\b\b\b\b\b\b\b\b\b\b\b\b\b\b\b\b\b\b\b\b\b\b\b\b\b\b\b\b\b\b\b\b\b\b\b\r8/8 [==============================] - 1s 95ms/step - loss: 0.1835 - accuracy: 0.9856 - val_loss: 3.2860 - val_accuracy: 0.4100 - lr: 0.0010\n",
            "Epoch 379/400\n",
            "7/8 [=========================>....] - ETA: 0s - loss: 0.1548 - accuracy: 0.9944"
          ]
        },
        {
          "output_type": "stream",
          "name": "stderr",
          "text": [
            "WARNING:tensorflow:Learning rate reduction is conditioned on metric `acc` which is not available. Available metrics are: loss,accuracy,val_loss,val_accuracy,lr\n"
          ]
        },
        {
          "output_type": "stream",
          "name": "stdout",
          "text": [
            "\b\b\b\b\b\b\b\b\b\b\b\b\b\b\b\b\b\b\b\b\b\b\b\b\b\b\b\b\b\b\b\b\b\b\b\b\b\b\b\b\b\b\b\b\b\b\b\b\b\b\b\b\b\b\b\b\b\b\b\b\b\b\b\b\b\b\b\b\b\b\b\b\b\b\b\b\b\b\b\b\r8/8 [==============================] - 1s 92ms/step - loss: 0.1548 - accuracy: 0.9944 - val_loss: 3.1557 - val_accuracy: 0.4000 - lr: 0.0010\n",
            "Epoch 380/400\n",
            "7/8 [=========================>....] - ETA: 0s - loss: 0.1473 - accuracy: 0.9978"
          ]
        },
        {
          "output_type": "stream",
          "name": "stderr",
          "text": [
            "WARNING:tensorflow:Learning rate reduction is conditioned on metric `acc` which is not available. Available metrics are: loss,accuracy,val_loss,val_accuracy,lr\n"
          ]
        },
        {
          "output_type": "stream",
          "name": "stdout",
          "text": [
            "\b\b\b\b\b\b\b\b\b\b\b\b\b\b\b\b\b\b\b\b\b\b\b\b\b\b\b\b\b\b\b\b\b\b\b\b\b\b\b\b\b\b\b\b\b\b\b\b\b\b\b\b\b\b\b\b\b\b\b\b\b\b\b\b\b\b\b\b\b\b\b\b\b\b\b\b\b\b\b\b\r8/8 [==============================] - 1s 90ms/step - loss: 0.1478 - accuracy: 0.9978 - val_loss: 3.1469 - val_accuracy: 0.4100 - lr: 0.0010\n",
            "Epoch 381/400\n",
            "7/8 [=========================>....] - ETA: 0s - loss: 0.1440 - accuracy: 0.9955"
          ]
        },
        {
          "output_type": "stream",
          "name": "stderr",
          "text": [
            "WARNING:tensorflow:Learning rate reduction is conditioned on metric `acc` which is not available. Available metrics are: loss,accuracy,val_loss,val_accuracy,lr\n"
          ]
        },
        {
          "output_type": "stream",
          "name": "stdout",
          "text": [
            "\b\b\b\b\b\b\b\b\b\b\b\b\b\b\b\b\b\b\b\b\b\b\b\b\b\b\b\b\b\b\b\b\b\b\b\b\b\b\b\b\b\b\b\b\b\b\b\b\b\b\b\b\b\b\b\b\b\b\b\b\b\b\b\b\b\b\b\b\b\b\b\b\b\b\b\b\b\b\b\b\r8/8 [==============================] - 1s 82ms/step - loss: 0.1440 - accuracy: 0.9956 - val_loss: 2.8189 - val_accuracy: 0.4100 - lr: 0.0010\n",
            "Epoch 382/400\n",
            "7/8 [=========================>....] - ETA: 0s - loss: 0.1443 - accuracy: 0.9955"
          ]
        },
        {
          "output_type": "stream",
          "name": "stderr",
          "text": [
            "WARNING:tensorflow:Learning rate reduction is conditioned on metric `acc` which is not available. Available metrics are: loss,accuracy,val_loss,val_accuracy,lr\n"
          ]
        },
        {
          "output_type": "stream",
          "name": "stdout",
          "text": [
            "\b\b\b\b\b\b\b\b\b\b\b\b\b\b\b\b\b\b\b\b\b\b\b\b\b\b\b\b\b\b\b\b\b\b\b\b\b\b\b\b\b\b\b\b\b\b\b\b\b\b\b\b\b\b\b\b\b\b\b\b\b\b\b\b\b\b\b\b\b\b\b\b\b\b\b\b\b\b\b\b\r8/8 [==============================] - 1s 83ms/step - loss: 0.1449 - accuracy: 0.9956 - val_loss: 2.8105 - val_accuracy: 0.3700 - lr: 0.0010\n",
            "Epoch 383/400\n",
            "7/8 [=========================>....] - ETA: 0s - loss: 0.1466 - accuracy: 0.9955"
          ]
        },
        {
          "output_type": "stream",
          "name": "stderr",
          "text": [
            "WARNING:tensorflow:Learning rate reduction is conditioned on metric `acc` which is not available. Available metrics are: loss,accuracy,val_loss,val_accuracy,lr\n"
          ]
        },
        {
          "output_type": "stream",
          "name": "stdout",
          "text": [
            "\b\b\b\b\b\b\b\b\b\b\b\b\b\b\b\b\b\b\b\b\b\b\b\b\b\b\b\b\b\b\b\b\b\b\b\b\b\b\b\b\b\b\b\b\b\b\b\b\b\b\b\b\b\b\b\b\b\b\b\b\b\b\b\b\b\b\b\b\b\b\b\b\b\b\b\b\b\b\b\b\r8/8 [==============================] - 1s 83ms/step - loss: 0.1494 - accuracy: 0.9933 - val_loss: 7.0358 - val_accuracy: 0.2100 - lr: 0.0010\n",
            "Epoch 384/400\n",
            "7/8 [=========================>....] - ETA: 0s - loss: 0.2500 - accuracy: 0.9587"
          ]
        },
        {
          "output_type": "stream",
          "name": "stderr",
          "text": [
            "WARNING:tensorflow:Learning rate reduction is conditioned on metric `acc` which is not available. Available metrics are: loss,accuracy,val_loss,val_accuracy,lr\n"
          ]
        },
        {
          "output_type": "stream",
          "name": "stdout",
          "text": [
            "\b\b\b\b\b\b\b\b\b\b\b\b\b\b\b\b\b\b\b\b\b\b\b\b\b\b\b\b\b\b\b\b\b\b\b\b\b\b\b\b\b\b\b\b\b\b\b\b\b\b\b\b\b\b\b\b\b\b\b\b\b\b\b\b\b\b\b\b\b\b\b\b\b\b\b\b\b\b\b\b\r8/8 [==============================] - 1s 82ms/step - loss: 0.2524 - accuracy: 0.9578 - val_loss: 14.3304 - val_accuracy: 0.1300 - lr: 0.0010\n",
            "Epoch 385/400\n",
            "7/8 [=========================>....] - ETA: 0s - loss: 0.2329 - accuracy: 0.9643"
          ]
        },
        {
          "output_type": "stream",
          "name": "stderr",
          "text": [
            "WARNING:tensorflow:Learning rate reduction is conditioned on metric `acc` which is not available. Available metrics are: loss,accuracy,val_loss,val_accuracy,lr\n"
          ]
        },
        {
          "output_type": "stream",
          "name": "stdout",
          "text": [
            "\b\b\b\b\b\b\b\b\b\b\b\b\b\b\b\b\b\b\b\b\b\b\b\b\b\b\b\b\b\b\b\b\b\b\b\b\b\b\b\b\b\b\b\b\b\b\b\b\b\b\b\b\b\b\b\b\b\b\b\b\b\b\b\b\b\b\b\b\b\b\b\b\b\b\b\b\b\b\b\b\r8/8 [==============================] - 1s 83ms/step - loss: 0.2326 - accuracy: 0.9644 - val_loss: 6.2135 - val_accuracy: 0.3200 - lr: 0.0010\n",
            "Epoch 386/400\n",
            "7/8 [=========================>....] - ETA: 0s - loss: 0.2030 - accuracy: 0.9799"
          ]
        },
        {
          "output_type": "stream",
          "name": "stderr",
          "text": [
            "WARNING:tensorflow:Learning rate reduction is conditioned on metric `acc` which is not available. Available metrics are: loss,accuracy,val_loss,val_accuracy,lr\n"
          ]
        },
        {
          "output_type": "stream",
          "name": "stdout",
          "text": [
            "\b\b\b\b\b\b\b\b\b\b\b\b\b\b\b\b\b\b\b\b\b\b\b\b\b\b\b\b\b\b\b\b\b\b\b\b\b\b\b\b\b\b\b\b\b\b\b\b\b\b\b\b\b\b\b\b\b\b\b\b\b\b\b\b\b\b\b\b\b\b\b\b\b\b\b\b\b\b\b\b\r8/8 [==============================] - 1s 83ms/step - loss: 0.2032 - accuracy: 0.9800 - val_loss: 6.2479 - val_accuracy: 0.2900 - lr: 0.0010\n",
            "Epoch 387/400\n",
            "7/8 [=========================>....] - ETA: 0s - loss: 0.1667 - accuracy: 0.9922"
          ]
        },
        {
          "output_type": "stream",
          "name": "stderr",
          "text": [
            "WARNING:tensorflow:Learning rate reduction is conditioned on metric `acc` which is not available. Available metrics are: loss,accuracy,val_loss,val_accuracy,lr\n"
          ]
        },
        {
          "output_type": "stream",
          "name": "stdout",
          "text": [
            "\b\b\b\b\b\b\b\b\b\b\b\b\b\b\b\b\b\b\b\b\b\b\b\b\b\b\b\b\b\b\b\b\b\b\b\b\b\b\b\b\b\b\b\b\b\b\b\b\b\b\b\b\b\b\b\b\b\b\b\b\b\b\b\b\b\b\b\b\b\b\b\b\b\b\b\b\b\b\b\b\r8/8 [==============================] - 1s 89ms/step - loss: 0.1665 - accuracy: 0.9922 - val_loss: 5.3721 - val_accuracy: 0.3000 - lr: 0.0010\n",
            "Epoch 388/400\n",
            "7/8 [=========================>....] - ETA: 0s - loss: 0.1668 - accuracy: 0.9922"
          ]
        },
        {
          "output_type": "stream",
          "name": "stderr",
          "text": [
            "WARNING:tensorflow:Learning rate reduction is conditioned on metric `acc` which is not available. Available metrics are: loss,accuracy,val_loss,val_accuracy,lr\n"
          ]
        },
        {
          "output_type": "stream",
          "name": "stdout",
          "text": [
            "\b\b\b\b\b\b\b\b\b\b\b\b\b\b\b\b\b\b\b\b\b\b\b\b\b\b\b\b\b\b\b\b\b\b\b\b\b\b\b\b\b\b\b\b\b\b\b\b\b\b\b\b\b\b\b\b\b\b\b\b\b\b\b\b\b\b\b\b\b\b\b\b\b\b\b\b\b\b\b\b\r8/8 [==============================] - 1s 83ms/step - loss: 0.1702 - accuracy: 0.9900 - val_loss: 3.5745 - val_accuracy: 0.3200 - lr: 0.0010\n",
            "Epoch 389/400\n",
            "7/8 [=========================>....] - ETA: 0s - loss: 0.2109 - accuracy: 0.9788"
          ]
        },
        {
          "output_type": "stream",
          "name": "stderr",
          "text": [
            "WARNING:tensorflow:Learning rate reduction is conditioned on metric `acc` which is not available. Available metrics are: loss,accuracy,val_loss,val_accuracy,lr\n"
          ]
        },
        {
          "output_type": "stream",
          "name": "stdout",
          "text": [
            "\b\b\b\b\b\b\b\b\b\b\b\b\b\b\b\b\b\b\b\b\b\b\b\b\b\b\b\b\b\b\b\b\b\b\b\b\b\b\b\b\b\b\b\b\b\b\b\b\b\b\b\b\b\b\b\b\b\b\b\b\b\b\b\b\b\b\b\b\b\b\b\b\b\b\b\b\b\b\b\b\r8/8 [==============================] - 1s 83ms/step - loss: 0.2106 - accuracy: 0.9789 - val_loss: 5.3266 - val_accuracy: 0.3100 - lr: 0.0010\n",
            "Epoch 390/400\n",
            "7/8 [=========================>....] - ETA: 0s - loss: 0.2330 - accuracy: 0.9710"
          ]
        },
        {
          "output_type": "stream",
          "name": "stderr",
          "text": [
            "WARNING:tensorflow:Learning rate reduction is conditioned on metric `acc` which is not available. Available metrics are: loss,accuracy,val_loss,val_accuracy,lr\n"
          ]
        },
        {
          "output_type": "stream",
          "name": "stdout",
          "text": [
            "\b\b\b\b\b\b\b\b\b\b\b\b\b\b\b\b\b\b\b\b\b\b\b\b\b\b\b\b\b\b\b\b\b\b\b\b\b\b\b\b\b\b\b\b\b\b\b\b\b\b\b\b\b\b\b\b\b\b\b\b\b\b\b\b\b\b\b\b\b\b\b\b\b\b\b\b\b\b\b\b\r8/8 [==============================] - 1s 82ms/step - loss: 0.2371 - accuracy: 0.9700 - val_loss: 3.0139 - val_accuracy: 0.4600 - lr: 0.0010\n",
            "Epoch 391/400\n",
            "7/8 [=========================>....] - ETA: 0s - loss: 0.1672 - accuracy: 0.9911"
          ]
        },
        {
          "output_type": "stream",
          "name": "stderr",
          "text": [
            "WARNING:tensorflow:Learning rate reduction is conditioned on metric `acc` which is not available. Available metrics are: loss,accuracy,val_loss,val_accuracy,lr\n"
          ]
        },
        {
          "output_type": "stream",
          "name": "stdout",
          "text": [
            "\b\b\b\b\b\b\b\b\b\b\b\b\b\b\b\b\b\b\b\b\b\b\b\b\b\b\b\b\b\b\b\b\b\b\b\b\b\b\b\b\b\b\b\b\b\b\b\b\b\b\b\b\b\b\b\b\b\b\b\b\b\b\b\b\b\b\b\b\b\b\b\b\b\b\b\b\b\b\b\b\r8/8 [==============================] - 1s 83ms/step - loss: 0.1717 - accuracy: 0.9900 - val_loss: 10.2263 - val_accuracy: 0.2100 - lr: 0.0010\n",
            "Epoch 392/400\n",
            "7/8 [=========================>....] - ETA: 0s - loss: 0.2604 - accuracy: 0.9520"
          ]
        },
        {
          "output_type": "stream",
          "name": "stderr",
          "text": [
            "WARNING:tensorflow:Learning rate reduction is conditioned on metric `acc` which is not available. Available metrics are: loss,accuracy,val_loss,val_accuracy,lr\n"
          ]
        },
        {
          "output_type": "stream",
          "name": "stdout",
          "text": [
            "\b\b\b\b\b\b\b\b\b\b\b\b\b\b\b\b\b\b\b\b\b\b\b\b\b\b\b\b\b\b\b\b\b\b\b\b\b\b\b\b\b\b\b\b\b\b\b\b\b\b\b\b\b\b\b\b\b\b\b\b\b\b\b\b\b\b\b\b\b\b\b\b\b\b\b\b\b\b\b\b\r8/8 [==============================] - 1s 82ms/step - loss: 0.2715 - accuracy: 0.9489 - val_loss: 7.3864 - val_accuracy: 0.2800 - lr: 0.0010\n",
            "Epoch 393/400\n",
            "7/8 [=========================>....] - ETA: 0s - loss: 0.4288 - accuracy: 0.9029"
          ]
        },
        {
          "output_type": "stream",
          "name": "stderr",
          "text": [
            "WARNING:tensorflow:Learning rate reduction is conditioned on metric `acc` which is not available. Available metrics are: loss,accuracy,val_loss,val_accuracy,lr\n"
          ]
        },
        {
          "output_type": "stream",
          "name": "stdout",
          "text": [
            "\b\b\b\b\b\b\b\b\b\b\b\b\b\b\b\b\b\b\b\b\b\b\b\b\b\b\b\b\b\b\b\b\b\b\b\b\b\b\b\b\b\b\b\b\b\b\b\b\b\b\b\b\b\b\b\b\b\b\b\b\b\b\b\b\b\b\b\b\b\b\b\b\b\b\b\b\b\b\b\b\r8/8 [==============================] - 1s 90ms/step - loss: 0.4285 - accuracy: 0.9033 - val_loss: 12.9544 - val_accuracy: 0.2200 - lr: 0.0010\n",
            "Epoch 394/400\n",
            "7/8 [=========================>....] - ETA: 0s - loss: 0.3142 - accuracy: 0.9364"
          ]
        },
        {
          "output_type": "stream",
          "name": "stderr",
          "text": [
            "WARNING:tensorflow:Learning rate reduction is conditioned on metric `acc` which is not available. Available metrics are: loss,accuracy,val_loss,val_accuracy,lr\n"
          ]
        },
        {
          "output_type": "stream",
          "name": "stdout",
          "text": [
            "\b\b\b\b\b\b\b\b\b\b\b\b\b\b\b\b\b\b\b\b\b\b\b\b\b\b\b\b\b\b\b\b\b\b\b\b\b\b\b\b\b\b\b\b\b\b\b\b\b\b\b\b\b\b\b\b\b\b\b\b\b\b\b\b\b\b\b\b\b\b\b\b\b\b\b\b\b\b\b\b\r8/8 [==============================] - 1s 82ms/step - loss: 0.3136 - accuracy: 0.9367 - val_loss: 8.2466 - val_accuracy: 0.2500 - lr: 0.0010\n",
            "Epoch 395/400\n",
            "7/8 [=========================>....] - ETA: 0s - loss: 0.2202 - accuracy: 0.9699"
          ]
        },
        {
          "output_type": "stream",
          "name": "stderr",
          "text": [
            "WARNING:tensorflow:Learning rate reduction is conditioned on metric `acc` which is not available. Available metrics are: loss,accuracy,val_loss,val_accuracy,lr\n"
          ]
        },
        {
          "output_type": "stream",
          "name": "stdout",
          "text": [
            "\b\b\b\b\b\b\b\b\b\b\b\b\b\b\b\b\b\b\b\b\b\b\b\b\b\b\b\b\b\b\b\b\b\b\b\b\b\b\b\b\b\b\b\b\b\b\b\b\b\b\b\b\b\b\b\b\b\b\b\b\b\b\b\b\b\b\b\b\b\b\b\b\b\b\b\b\b\b\b\b\r8/8 [==============================] - 1s 89ms/step - loss: 0.2261 - accuracy: 0.9678 - val_loss: 5.8228 - val_accuracy: 0.3200 - lr: 0.0010\n",
            "Epoch 396/400\n",
            "7/8 [=========================>....] - ETA: 0s - loss: 0.3147 - accuracy: 0.9431"
          ]
        },
        {
          "output_type": "stream",
          "name": "stderr",
          "text": [
            "WARNING:tensorflow:Learning rate reduction is conditioned on metric `acc` which is not available. Available metrics are: loss,accuracy,val_loss,val_accuracy,lr\n"
          ]
        },
        {
          "output_type": "stream",
          "name": "stdout",
          "text": [
            "\b\b\b\b\b\b\b\b\b\b\b\b\b\b\b\b\b\b\b\b\b\b\b\b\b\b\b\b\b\b\b\b\b\b\b\b\b\b\b\b\b\b\b\b\b\b\b\b\b\b\b\b\b\b\b\b\b\b\b\b\b\b\b\b\b\b\b\b\b\b\b\b\b\b\b\b\b\b\b\b\r8/8 [==============================] - 1s 92ms/step - loss: 0.3142 - accuracy: 0.9433 - val_loss: 6.3988 - val_accuracy: 0.2800 - lr: 0.0010\n",
            "Epoch 397/400\n",
            "7/8 [=========================>....] - ETA: 0s - loss: 0.2365 - accuracy: 0.9710"
          ]
        },
        {
          "output_type": "stream",
          "name": "stderr",
          "text": [
            "WARNING:tensorflow:Learning rate reduction is conditioned on metric `acc` which is not available. Available metrics are: loss,accuracy,val_loss,val_accuracy,lr\n"
          ]
        },
        {
          "output_type": "stream",
          "name": "stdout",
          "text": [
            "\b\b\b\b\b\b\b\b\b\b\b\b\b\b\b\b\b\b\b\b\b\b\b\b\b\b\b\b\b\b\b\b\b\b\b\b\b\b\b\b\b\b\b\b\b\b\b\b\b\b\b\b\b\b\b\b\b\b\b\b\b\b\b\b\b\b\b\b\b\b\b\b\b\b\b\b\b\b\b\b\r8/8 [==============================] - 1s 87ms/step - loss: 0.2401 - accuracy: 0.9700 - val_loss: 4.1607 - val_accuracy: 0.3500 - lr: 0.0010\n",
            "Epoch 398/400\n",
            "7/8 [=========================>....] - ETA: 0s - loss: 0.1953 - accuracy: 0.9877"
          ]
        },
        {
          "output_type": "stream",
          "name": "stderr",
          "text": [
            "WARNING:tensorflow:Learning rate reduction is conditioned on metric `acc` which is not available. Available metrics are: loss,accuracy,val_loss,val_accuracy,lr\n"
          ]
        },
        {
          "output_type": "stream",
          "name": "stdout",
          "text": [
            "\b\b\b\b\b\b\b\b\b\b\b\b\b\b\b\b\b\b\b\b\b\b\b\b\b\b\b\b\b\b\b\b\b\b\b\b\b\b\b\b\b\b\b\b\b\b\b\b\b\b\b\b\b\b\b\b\b\b\b\b\b\b\b\b\b\b\b\b\b\b\b\b\b\b\b\b\b\b\b\b\r8/8 [==============================] - 1s 87ms/step - loss: 0.1972 - accuracy: 0.9867 - val_loss: 6.5662 - val_accuracy: 0.2800 - lr: 0.0010\n",
            "Epoch 399/400\n",
            "7/8 [=========================>....] - ETA: 0s - loss: 0.3607 - accuracy: 0.9408"
          ]
        },
        {
          "output_type": "stream",
          "name": "stderr",
          "text": [
            "WARNING:tensorflow:Learning rate reduction is conditioned on metric `acc` which is not available. Available metrics are: loss,accuracy,val_loss,val_accuracy,lr\n"
          ]
        },
        {
          "output_type": "stream",
          "name": "stdout",
          "text": [
            "\b\b\b\b\b\b\b\b\b\b\b\b\b\b\b\b\b\b\b\b\b\b\b\b\b\b\b\b\b\b\b\b\b\b\b\b\b\b\b\b\b\b\b\b\b\b\b\b\b\b\b\b\b\b\b\b\b\b\b\b\b\b\b\b\b\b\b\b\b\b\b\b\b\b\b\b\b\b\b\b\r8/8 [==============================] - 1s 90ms/step - loss: 0.3655 - accuracy: 0.9400 - val_loss: 8.8965 - val_accuracy: 0.2400 - lr: 0.0010\n",
            "Epoch 400/400\n",
            "7/8 [=========================>....] - ETA: 0s - loss: 0.2444 - accuracy: 0.9710"
          ]
        },
        {
          "output_type": "stream",
          "name": "stderr",
          "text": [
            "WARNING:tensorflow:Learning rate reduction is conditioned on metric `acc` which is not available. Available metrics are: loss,accuracy,val_loss,val_accuracy,lr\n"
          ]
        },
        {
          "output_type": "stream",
          "name": "stdout",
          "text": [
            "\b\b\b\b\b\b\b\b\b\b\b\b\b\b\b\b\b\b\b\b\b\b\b\b\b\b\b\b\b\b\b\b\b\b\b\b\b\b\b\b\b\b\b\b\b\b\b\b\b\b\b\b\b\b\b\b\b\b\b\b\b\b\b\b\b\b\b\b\b\b\b\b\b\b\b\b\b\b\b\b\r8/8 [==============================] - 1s 83ms/step - loss: 0.2453 - accuracy: 0.9700 - val_loss: 5.5771 - val_accuracy: 0.3400 - lr: 0.0010\n"
          ]
        },
        {
          "output_type": "execute_result",
          "data": {
            "text/plain": [
              "<keras.callbacks.History at 0x7c7f380c8490>"
            ]
          },
          "metadata": {},
          "execution_count": 53
        }
      ]
    },
    {
      "cell_type": "code",
      "execution_count": 54,
      "metadata": {
        "id": "9802bhgIUFkL",
        "colab": {
          "base_uri": "https://localhost:8080/"
        },
        "outputId": "95c398da-a88d-4a2c-e78f-699eab58aafa"
      },
      "outputs": [
        {
          "output_type": "stream",
          "name": "stdout",
          "text": [
            "4/4 [==============================] - 0s 8ms/step\n"
          ]
        }
      ],
      "source": [
        "predictions=model.predict(x_test)"
      ]
    },
    {
      "cell_type": "code",
      "source": [
        "predictions"
      ],
      "metadata": {
        "colab": {
          "base_uri": "https://localhost:8080/"
        },
        "id": "J8W85nf3xSyk",
        "outputId": "96966002-977b-44eb-f261-b5ef82ae6425"
      },
      "execution_count": 55,
      "outputs": [
        {
          "output_type": "execute_result",
          "data": {
            "text/plain": [
              "array([[9.43434715e-01, 3.71921815e-05, 3.13366436e-05, 1.66001950e-08,\n",
              "        9.57092794e-04, 8.92328535e-05, 4.97903638e-02, 3.87364672e-03,\n",
              "        1.20495541e-04, 1.66593224e-03],\n",
              "       [3.45812231e-01, 6.37801707e-01, 5.81320637e-05, 3.84994906e-13,\n",
              "        9.14915077e-08, 5.47741411e-06, 1.11167348e-04, 6.49804815e-06,\n",
              "        1.66093685e-07, 1.62045136e-02],\n",
              "       [1.19728461e-01, 8.03721547e-01, 1.43583733e-04, 5.57639979e-08,\n",
              "        6.32553053e-07, 6.96577951e-02, 8.98076905e-05, 4.53259099e-06,\n",
              "        3.23820785e-07, 6.65327208e-03],\n",
              "       [4.55652172e-13, 9.99998927e-01, 8.28408364e-09, 9.18556256e-19,\n",
              "        2.94724572e-14, 4.15523363e-15, 1.54042894e-08, 3.50986303e-13,\n",
              "        1.55434207e-11, 1.08622476e-06],\n",
              "       [1.23017130e-03, 9.93000984e-01, 2.54668156e-03, 6.65384206e-11,\n",
              "        3.67946456e-07, 1.70813379e-04, 6.73608447e-05, 6.94779328e-06,\n",
              "        4.45535505e-07, 2.97620124e-03],\n",
              "       [3.09921422e-10, 7.52634790e-08, 6.78084007e-08, 1.15255123e-11,\n",
              "        5.55772779e-08, 7.79661437e-13, 9.99657273e-01, 8.22496631e-08,\n",
              "        6.97686119e-07, 3.41764709e-04],\n",
              "       [6.69674594e-11, 9.99983549e-01, 6.80677067e-06, 2.85354016e-14,\n",
              "        2.57702964e-14, 1.43204567e-13, 1.01574624e-08, 7.02211596e-12,\n",
              "        4.19504964e-08, 9.59331919e-06],\n",
              "       [1.06258513e-08, 2.27212983e-13, 1.04064361e-06, 2.16620477e-13,\n",
              "        1.75957693e-10, 9.49111449e-12, 9.91222739e-01, 2.68387396e-10,\n",
              "        8.73540528e-03, 4.08045707e-05],\n",
              "       [1.38847157e-01, 6.54074401e-02, 1.92771144e-02, 1.18312237e-05,\n",
              "        1.92228658e-03, 5.22315979e-01, 8.98184627e-02, 4.89344867e-03,\n",
              "        1.07584037e-01, 4.99222241e-02],\n",
              "       [8.27721734e-13, 9.99149203e-01, 9.65899627e-09, 2.51442048e-15,\n",
              "        1.10315174e-14, 1.52141231e-15, 2.07929079e-05, 7.19802384e-10,\n",
              "        2.07716777e-09, 8.29896017e-04],\n",
              "       [4.20341062e-12, 2.84243637e-04, 5.15215232e-11, 5.99162248e-11,\n",
              "        1.43634049e-09, 1.71258695e-14, 2.02315763e-01, 4.98173722e-05,\n",
              "        1.01233782e-05, 7.97339976e-01],\n",
              "       [6.86120660e-10, 2.71723926e-01, 5.92013016e-08, 1.38027367e-10,\n",
              "        3.97629885e-09, 3.18519759e-11, 6.93036735e-01, 8.99923634e-06,\n",
              "        2.67926844e-05, 3.52034830e-02],\n",
              "       [7.03686601e-05, 2.11246893e-01, 1.60068919e-06, 1.12587441e-06,\n",
              "        1.06538778e-07, 7.66456942e-05, 3.42589244e-03, 8.70596059e-03,\n",
              "        2.41161906e-03, 7.74059832e-01],\n",
              "       [4.81957989e-03, 9.80647206e-01, 1.50243388e-04, 5.99615575e-08,\n",
              "        1.70220960e-06, 1.43005345e-02, 1.92907407e-07, 2.35723661e-07,\n",
              "        7.85550728e-05, 1.72577336e-06],\n",
              "       [9.99584377e-01, 1.73924937e-11, 1.27295010e-07, 6.28470476e-09,\n",
              "        2.03072250e-05, 1.50137739e-05, 6.08847904e-06, 7.97896504e-08,\n",
              "        3.74009280e-04, 1.41245744e-08],\n",
              "       [1.29450157e-07, 3.65543949e-11, 1.99595096e-09, 5.21864739e-11,\n",
              "        8.08882206e-09, 4.13476947e-10, 9.99999285e-01, 2.83762596e-08,\n",
              "        7.19247168e-08, 5.42743578e-07],\n",
              "       [2.41163503e-02, 3.46775136e-10, 3.55647649e-06, 4.66888469e-06,\n",
              "        6.92294240e-01, 1.65661541e-03, 1.78203303e-02, 4.44247453e-05,\n",
              "        2.63833493e-01, 2.26392862e-04],\n",
              "       [9.31816047e-08, 1.13145870e-06, 2.46542686e-06, 4.02496439e-12,\n",
              "        5.13158902e-08, 7.66638489e-12, 8.35602522e-01, 9.03675682e-05,\n",
              "        3.93781738e-06, 1.64299428e-01],\n",
              "       [8.03392678e-02, 5.02084307e-02, 1.51156128e-05, 3.45807479e-07,\n",
              "        1.37392653e-05, 8.68507385e-01, 1.14815784e-05, 3.61583915e-07,\n",
              "        2.16174652e-04, 6.87633525e-04],\n",
              "       [1.11475429e-02, 7.33251512e-01, 1.85904270e-08, 2.22919766e-07,\n",
              "        1.62565243e-06, 2.55278349e-01, 8.92115895e-06, 5.55541965e-06,\n",
              "        2.51113233e-04, 5.50860568e-05],\n",
              "       [6.66913344e-03, 4.27936809e-03, 6.13878220e-02, 7.80124610e-05,\n",
              "        1.64126614e-04, 2.38958071e-03, 3.15968663e-01, 4.45700571e-04,\n",
              "        4.43300083e-02, 5.64287603e-01],\n",
              "       [4.30291705e-02, 3.90016064e-02, 1.51459023e-01, 7.42671691e-05,\n",
              "        1.31923996e-03, 5.05919149e-03, 5.28144278e-02, 2.66608928e-04,\n",
              "        5.53668678e-01, 1.53307781e-01],\n",
              "       [2.27953123e-09, 1.49592422e-11, 5.82538782e-08, 3.02378836e-14,\n",
              "        4.49642901e-09, 9.81552262e-09, 9.99938726e-01, 3.11326244e-06,\n",
              "        5.10171485e-05, 7.04071863e-06],\n",
              "       [4.54659104e-01, 6.41744351e-04, 2.18310878e-02, 2.84580258e-03,\n",
              "        1.29962070e-02, 4.04420108e-01, 1.34708779e-03, 1.08818209e-03,\n",
              "        8.29379559e-02, 1.72327831e-02],\n",
              "       [7.55713381e-06, 2.60706329e-05, 9.88683411e-08, 1.27285684e-08,\n",
              "        3.36500525e-05, 9.51595802e-10, 4.62153135e-03, 9.94806230e-01,\n",
              "        4.78826172e-04, 2.58408236e-05],\n",
              "       [6.19802267e-06, 8.91551137e-01, 7.36793801e-02, 9.54832480e-12,\n",
              "        5.06248398e-07, 2.38933862e-04, 2.42424645e-02, 1.11500003e-06,\n",
              "        2.19678532e-06, 1.02780908e-02],\n",
              "       [4.09702249e-02, 7.29784556e-03, 1.11946727e-04, 3.08192801e-03,\n",
              "        5.34193241e-04, 1.81450723e-05, 4.64928942e-03, 4.49974643e-04,\n",
              "        9.42666292e-01, 2.20105634e-04],\n",
              "       [1.03512066e-05, 1.15521601e-04, 1.29416799e-06, 1.47734776e-08,\n",
              "        8.78051469e-06, 1.94161487e-08, 9.12684977e-01, 3.87725740e-05,\n",
              "        3.65837004e-05, 8.71036649e-02],\n",
              "       [3.74325907e-07, 5.36781698e-02, 8.75973795e-03, 6.51972888e-13,\n",
              "        7.99705158e-05, 5.33251576e-09, 9.12660733e-02, 2.73211714e-04,\n",
              "        4.43911540e-06, 8.45938027e-01],\n",
              "       [1.93009389e-12, 3.67181306e-03, 7.71386368e-08, 4.13696394e-13,\n",
              "        7.42456010e-13, 8.92169368e-14, 9.85346675e-01, 4.47263275e-08,\n",
              "        2.81813698e-07, 1.09812077e-02],\n",
              "       [4.30113040e-02, 9.52971354e-03, 7.10986322e-04, 1.00012674e-08,\n",
              "        1.74214165e-05, 3.09976339e-02, 4.62014191e-02, 2.78638996e-04,\n",
              "        2.41480593e-05, 8.69228721e-01],\n",
              "       [1.48749950e-05, 9.99889016e-01, 5.26047597e-06, 2.16341043e-08,\n",
              "        4.86528862e-08, 1.56806436e-06, 1.09705184e-07, 7.43236086e-08,\n",
              "        3.27334019e-05, 5.62902751e-05],\n",
              "       [5.59317768e-01, 5.51807322e-03, 1.51660282e-03, 1.43550229e-08,\n",
              "        1.49587140e-06, 1.15232298e-03, 5.85086818e-04, 4.31280255e-01,\n",
              "        5.82502165e-04, 4.58567010e-05],\n",
              "       [3.09248276e-06, 1.75378546e-01, 7.80006012e-05, 1.22900047e-07,\n",
              "        3.08287120e-08, 6.21450058e-10, 3.58143479e-01, 1.64351379e-03,\n",
              "        3.41103529e-03, 4.61342126e-01],\n",
              "       [1.02704682e-03, 1.62288159e-01, 1.39056728e-03, 9.81222684e-07,\n",
              "        5.50350160e-06, 2.48629590e-07, 9.63271260e-02, 1.25999068e-04,\n",
              "        2.44018668e-03, 7.36394227e-01],\n",
              "       [7.51553522e-03, 3.84939902e-09, 1.98884479e-07, 3.36551759e-03,\n",
              "        9.68254209e-01, 2.62634057e-08, 2.78691004e-05, 1.13201234e-03,\n",
              "        1.97042413e-02, 3.79969009e-07],\n",
              "       [1.18824557e-12, 9.63220358e-01, 1.58277427e-08, 8.75271738e-14,\n",
              "        1.83897394e-11, 5.34276789e-11, 3.66303399e-02, 9.91698528e-08,\n",
              "        4.44647448e-08, 1.49110798e-04],\n",
              "       [2.16102353e-06, 8.76115322e-01, 4.78286097e-07, 2.50567741e-13,\n",
              "        2.90093771e-09, 7.24581117e-10, 3.11606564e-05, 2.26913180e-05,\n",
              "        1.32315313e-06, 1.23826720e-01],\n",
              "       [1.85256543e-09, 3.74555179e-11, 2.03059930e-11, 5.36268230e-09,\n",
              "        5.12034931e-05, 1.73963710e-09, 4.43971459e-07, 1.34468573e-04,\n",
              "        9.99813855e-01, 1.88436089e-09],\n",
              "       [1.84948967e-05, 2.56146828e-04, 2.04939106e-08, 1.22988069e-11,\n",
              "        7.91359795e-08, 5.63085052e-07, 1.42701298e-01, 4.02118940e-06,\n",
              "        4.80075570e-08, 8.57019424e-01],\n",
              "       [2.13208040e-07, 3.21093175e-05, 4.09832819e-06, 1.21983604e-10,\n",
              "        7.45810269e-07, 5.53397285e-07, 9.98801589e-01, 3.15245597e-05,\n",
              "        8.51194840e-04, 2.77936633e-04],\n",
              "       [2.31138649e-04, 1.52573502e-02, 3.25721758e-03, 1.86228206e-07,\n",
              "        3.61539742e-06, 9.76849020e-01, 6.76030410e-04, 4.17592531e-07,\n",
              "        9.98353818e-04, 2.72660027e-03],\n",
              "       [2.36596179e-06, 9.39141246e-05, 3.19832782e-09, 8.67229601e-16,\n",
              "        1.36716451e-08, 3.64840140e-08, 7.58893788e-01, 1.14555094e-08,\n",
              "        1.08884537e-08, 2.41009817e-01],\n",
              "       [3.52622592e-04, 1.06600133e-07, 3.67021528e-07, 2.44504918e-07,\n",
              "        2.41997153e-01, 1.11791657e-07, 2.49640830e-03, 1.41486758e-02,\n",
              "        7.39914358e-01, 1.08997466e-03],\n",
              "       [7.27040788e-06, 6.19821512e-05, 2.24056362e-06, 1.92507887e-05,\n",
              "        2.69943371e-06, 1.56512936e-08, 9.73083556e-01, 2.03301228e-04,\n",
              "        4.98665543e-03, 2.16330104e-02],\n",
              "       [6.54299129e-06, 5.99587010e-03, 1.76115815e-08, 2.51749244e-09,\n",
              "        2.04340531e-03, 7.71044600e-12, 7.89743324e-04, 9.87545550e-01,\n",
              "        5.03010000e-04, 3.11583001e-03],\n",
              "       [2.91969918e-05, 3.42902318e-02, 7.14958742e-06, 2.44123279e-03,\n",
              "        6.82528224e-03, 4.65423773e-06, 6.62752509e-01, 2.86096446e-02,\n",
              "        2.51485050e-01, 1.35550089e-02],\n",
              "       [6.64489264e-08, 7.88924037e-09, 5.31736966e-08, 1.85996996e-07,\n",
              "        4.22719246e-08, 2.35645687e-11, 9.89487410e-01, 2.72274769e-06,\n",
              "        3.64399329e-03, 6.86557731e-03],\n",
              "       [6.75889709e-08, 3.50122864e-05, 9.39797189e-07, 8.03572757e-13,\n",
              "        3.70536796e-10, 4.95380690e-12, 5.78289852e-03, 2.37161657e-06,\n",
              "        4.55974452e-02, 9.48581219e-01],\n",
              "       [2.08812509e-07, 9.99990702e-01, 4.24404761e-10, 3.83590356e-14,\n",
              "        4.69467798e-10, 2.19691074e-08, 2.66463553e-06, 9.13973793e-07,\n",
              "        5.46636147e-06, 3.08027523e-08],\n",
              "       [2.71498854e-03, 1.22031443e-01, 3.39651197e-05, 1.86427371e-07,\n",
              "        1.22538481e-07, 1.50240318e-08, 4.22360434e-04, 8.67678940e-01,\n",
              "        1.10156609e-04, 7.00791553e-03],\n",
              "       [7.06913568e-08, 9.99998450e-01, 1.77340738e-08, 7.75217650e-12,\n",
              "        8.04639515e-12, 6.15260759e-11, 5.93660276e-09, 1.14394294e-09,\n",
              "        1.34370577e-08, 1.36070071e-06],\n",
              "       [2.84077544e-07, 1.68455142e-06, 3.26062036e-05, 4.94995043e-15,\n",
              "        1.52835877e-09, 4.33952119e-09, 7.45116055e-01, 1.51009208e-05,\n",
              "        2.94054900e-07, 2.54834026e-01],\n",
              "       [1.28251045e-08, 4.54088820e-08, 9.14754228e-09, 2.84712032e-09,\n",
              "        3.12584307e-04, 1.28466553e-07, 1.54497810e-02, 9.83873546e-01,\n",
              "        1.97819420e-04, 1.66128346e-04],\n",
              "       [2.46135448e-03, 5.01651317e-02, 5.26609458e-03, 6.42468558e-06,\n",
              "        2.78468924e-05, 8.45832925e-04, 4.55518425e-01, 4.26479644e-04,\n",
              "        5.72451577e-03, 4.79557961e-01],\n",
              "       [1.66684785e-07, 1.02236053e-09, 5.12642237e-06, 2.53510407e-10,\n",
              "        9.20117600e-07, 1.72324555e-08, 9.99400496e-01, 6.43226405e-09,\n",
              "        4.58767201e-04, 1.34496848e-04],\n",
              "       [7.90608412e-10, 4.16022488e-07, 3.39094925e-07, 1.51043635e-15,\n",
              "        1.93492111e-10, 2.68611418e-11, 9.99881029e-01, 2.68478260e-11,\n",
              "        7.75482289e-10, 1.18266398e-04],\n",
              "       [8.47180724e-01, 6.42002078e-06, 1.03734616e-04, 3.39065218e-06,\n",
              "        6.60220510e-04, 1.36702374e-01, 3.03483731e-03, 1.24218377e-06,\n",
              "        1.22031020e-02, 1.03899169e-04],\n",
              "       [6.41210545e-06, 9.70494926e-01, 8.99308870e-05, 6.64540634e-13,\n",
              "        9.45943324e-09, 7.26381888e-09, 5.15218312e-03, 2.35949230e-07,\n",
              "        4.90908576e-07, 2.42558271e-02],\n",
              "       [5.08106663e-04, 7.22557485e-01, 1.56611914e-05, 2.30670466e-07,\n",
              "        1.50674907e-06, 7.47273769e-03, 1.36825093e-03, 2.25862077e-05,\n",
              "        4.34103094e-05, 2.68010020e-01],\n",
              "       [1.74677607e-05, 2.11615843e-05, 5.48385899e-04, 6.35352827e-13,\n",
              "        2.76446517e-04, 6.02718683e-06, 2.03121975e-02, 7.79093981e-01,\n",
              "        2.17014758e-06, 1.99722216e-01],\n",
              "       [1.46851709e-09, 4.88225091e-03, 4.88613736e-08, 8.72414887e-08,\n",
              "        7.84748089e-09, 1.30373290e-11, 9.78324234e-01, 1.02982922e-05,\n",
              "        1.70774234e-03, 1.50753744e-02],\n",
              "       [1.03288311e-08, 4.47531966e-06, 3.86488100e-05, 6.09922201e-14,\n",
              "        4.22300550e-09, 2.08076241e-08, 9.90147769e-01, 1.01715398e-06,\n",
              "        1.44824094e-06, 9.80670843e-03],\n",
              "       [3.98220308e-02, 3.39062417e-10, 1.90012042e-08, 1.03240048e-07,\n",
              "        6.10071256e-05, 2.96647909e-06, 9.59099770e-01, 1.03170021e-06,\n",
              "        1.97994950e-06, 1.01102202e-03],\n",
              "       [5.41471988e-02, 6.33418864e-08, 9.34874988e-04, 4.05227728e-02,\n",
              "        6.00727722e-02, 4.34750807e-04, 7.32378900e-01, 6.41767110e-05,\n",
              "        1.11334287e-01, 1.10193119e-04],\n",
              "       [8.62800562e-07, 9.96341765e-01, 1.40458451e-06, 2.66663420e-07,\n",
              "        1.57211537e-06, 6.70132927e-09, 3.21388640e-03, 1.08618558e-04,\n",
              "        6.00693284e-06, 3.25586501e-04],\n",
              "       [1.17025479e-15, 9.99998689e-01, 2.71306364e-14, 3.71578541e-23,\n",
              "        2.77255642e-16, 1.23517556e-18, 1.80273006e-12, 8.80256968e-15,\n",
              "        9.37535374e-17, 1.25684642e-06],\n",
              "       [1.27468263e-06, 5.40018252e-09, 2.64929167e-06, 3.54593438e-12,\n",
              "        1.87835456e-10, 2.58268251e-09, 7.82397687e-01, 1.87910913e-08,\n",
              "        2.17594504e-01, 3.89818615e-06],\n",
              "       [1.65565325e-05, 9.91364956e-01, 2.90313922e-03, 2.90116660e-08,\n",
              "        2.35896152e-07, 5.20693102e-05, 3.09226074e-04, 9.38932089e-07,\n",
              "        2.18715777e-05, 5.33099985e-03],\n",
              "       [2.24086456e-04, 1.49232690e-07, 1.20135951e-07, 1.58753414e-06,\n",
              "        4.72121080e-03, 4.64862183e-07, 9.50330216e-03, 9.80110407e-01,\n",
              "        3.57637298e-03, 1.86238345e-03],\n",
              "       [7.91670501e-01, 3.95312671e-10, 6.71804719e-06, 4.08648339e-05,\n",
              "        1.71346329e-02, 4.40242002e-03, 1.35100961e-01, 4.57576755e-03,\n",
              "        4.70680520e-02, 7.96803050e-08],\n",
              "       [1.25101096e-10, 9.17056680e-01, 1.01341470e-06, 1.33115375e-13,\n",
              "        3.71450700e-12, 4.62666760e-16, 1.98894963e-02, 1.63561666e-07,\n",
              "        1.34733655e-08, 6.30526319e-02],\n",
              "       [3.31179617e-05, 8.04922760e-01, 5.44308976e-04, 7.59633695e-05,\n",
              "        4.51154221e-04, 6.90773231e-06, 9.58877131e-02, 3.33110653e-02,\n",
              "        4.92052175e-02, 1.55618107e-02],\n",
              "       [4.25359560e-03, 7.59684205e-01, 3.44938526e-05, 2.82503954e-09,\n",
              "        6.32403328e-07, 1.14526551e-06, 8.91056582e-02, 2.63325666e-04,\n",
              "        1.12654362e-03, 1.45530403e-01],\n",
              "       [7.52841192e-11, 5.63844833e-06, 1.00617831e-06, 1.47721032e-15,\n",
              "        8.36414529e-08, 6.78819587e-12, 9.99553382e-01, 1.26926088e-05,\n",
              "        1.36503928e-08, 4.27047868e-04],\n",
              "       [1.52499402e-11, 9.99646187e-01, 8.42385788e-08, 1.12779828e-14,\n",
              "        4.08646587e-13, 2.26738420e-12, 6.68129142e-05, 5.09688347e-10,\n",
              "        2.02154760e-09, 2.86788912e-04],\n",
              "       [1.69977725e-01, 3.68053079e-01, 2.05288455e-02, 8.34885926e-04,\n",
              "        1.09847393e-02, 3.79531950e-01, 1.92812338e-04, 6.27098139e-04,\n",
              "        4.51778136e-02, 4.09105420e-03],\n",
              "       [2.39747133e-09, 3.30649527e-07, 4.47052707e-11, 5.90736834e-11,\n",
              "        2.65093614e-09, 2.53311478e-12, 9.97823238e-01, 2.16788612e-05,\n",
              "        6.94319169e-07, 2.15409487e-03],\n",
              "       [6.36058459e-08, 5.43454997e-02, 2.06878703e-05, 1.25785284e-08,\n",
              "        1.13052047e-05, 4.95513142e-08, 8.69504750e-01, 3.29470749e-05,\n",
              "        1.59857085e-03, 7.44860396e-02],\n",
              "       [3.89622556e-07, 8.01143125e-02, 1.35521419e-04, 2.35971624e-11,\n",
              "        1.07993197e-08, 3.91181740e-11, 8.80516052e-01, 1.72822169e-04,\n",
              "        3.15519079e-04, 3.87453325e-02],\n",
              "       [1.07003570e-01, 7.91663080e-02, 1.08316420e-02, 1.30893372e-03,\n",
              "        1.66003946e-02, 4.54248250e-01, 8.29056080e-04, 6.92698034e-03,\n",
              "        2.20089301e-01, 1.02995530e-01],\n",
              "       [5.29918316e-06, 1.11010411e-06, 2.63944185e-06, 1.24067967e-07,\n",
              "        4.60743085e-02, 9.02441344e-10, 1.47279203e-01, 1.34008499e-02,\n",
              "        7.93229401e-01, 7.12347628e-06],\n",
              "       [9.28771675e-01, 5.77243320e-08, 2.62150497e-05, 3.94794253e-10,\n",
              "        1.14432543e-04, 6.99745640e-02, 3.80788668e-04, 2.95882928e-05,\n",
              "        1.60123432e-06, 7.01029494e-04],\n",
              "       [6.06963933e-01, 9.75801703e-03, 3.76927992e-03, 6.93846727e-04,\n",
              "        6.13332987e-02, 1.26736253e-01, 1.80291208e-05, 3.07964757e-02,\n",
              "        1.59656867e-01, 2.74014921e-04],\n",
              "       [5.37271611e-02, 2.72069313e-03, 2.91685457e-03, 1.14809063e-05,\n",
              "        3.43238906e-04, 9.25135851e-01, 2.48121269e-05, 6.79959498e-07,\n",
              "        2.98317231e-04, 1.48209650e-02],\n",
              "       [2.23127790e-05, 6.68776465e-08, 4.80901114e-08, 1.29579735e-12,\n",
              "        3.22474634e-08, 2.12128086e-07, 9.95801151e-01, 7.03796786e-06,\n",
              "        1.53843729e-07, 4.16900357e-03],\n",
              "       [8.51525515e-02, 1.87642325e-03, 2.84171407e-03, 2.28245773e-11,\n",
              "        6.49188223e-07, 4.17882024e-04, 2.33966798e-01, 1.13809840e-07,\n",
              "        2.39654514e-06, 6.75741494e-01],\n",
              "       [1.46015495e-01, 7.71610856e-01, 9.53010691e-04, 2.10883387e-04,\n",
              "        6.11666450e-03, 3.75072248e-02, 2.05102315e-05, 3.07794358e-03,\n",
              "        3.40363011e-02, 4.51221684e-04],\n",
              "       [1.41686328e-07, 5.51623452e-05, 4.55891893e-07, 2.86384996e-08,\n",
              "        5.40144242e-07, 1.86968612e-06, 9.84516323e-01, 6.29669885e-05,\n",
              "        1.27481353e-02, 2.61425343e-03],\n",
              "       [2.28278143e-08, 6.08632627e-06, 1.45689569e-07, 7.99926791e-09,\n",
              "        5.61604132e-08, 1.33876439e-08, 9.99873400e-01, 1.90692703e-07,\n",
              "        3.78114419e-06, 1.16083051e-04],\n",
              "       [1.89609345e-05, 1.06455627e-04, 2.83057561e-05, 1.71504681e-07,\n",
              "        4.56491798e-05, 1.50785309e-05, 4.13280457e-01, 2.40138252e-04,\n",
              "        5.86096823e-01, 1.67958031e-04],\n",
              "       [5.40047586e-05, 7.00907890e-07, 2.43096157e-08, 2.11893575e-06,\n",
              "        9.74089324e-01, 3.80862586e-09, 1.76762149e-03, 2.51482561e-04,\n",
              "        2.04290356e-02, 3.40559613e-03],\n",
              "       [1.02975601e-08, 1.01149089e-06, 1.30010460e-06, 2.03888622e-17,\n",
              "        4.89200694e-12, 3.82814253e-10, 9.99559939e-01, 3.70863140e-09,\n",
              "        2.22944307e-09, 4.37736948e-04],\n",
              "       [7.19111540e-07, 1.43980716e-10, 5.41876100e-09, 1.56322524e-12,\n",
              "        4.20931068e-11, 1.61729496e-09, 9.99926567e-01, 1.40644216e-08,\n",
              "        1.66517921e-07, 7.25208665e-05],\n",
              "       [4.04109869e-06, 1.07254885e-01, 9.89687487e-06, 1.12667200e-12,\n",
              "        2.55807038e-07, 5.89031224e-09, 6.60411537e-01, 1.93916261e-03,\n",
              "        8.42075042e-06, 2.30371878e-01],\n",
              "       [2.32453516e-07, 1.88013748e-03, 1.00348743e-08, 6.52278622e-12,\n",
              "        2.45619836e-09, 4.86700769e-09, 1.26942590e-01, 1.43538898e-07,\n",
              "        2.13270948e-08, 8.71176958e-01],\n",
              "       [3.51569902e-14, 9.99999404e-01, 4.26066515e-09, 1.17594103e-19,\n",
              "        3.90248713e-14, 1.68525973e-13, 6.43281739e-09, 1.07052554e-10,\n",
              "        5.61269246e-07, 2.61243630e-14],\n",
              "       [3.56351794e-03, 1.02996403e-07, 2.25281947e-05, 4.20840524e-06,\n",
              "        3.33696932e-01, 5.34581253e-04, 9.77522926e-04, 6.42490536e-02,\n",
              "        5.96887410e-01, 6.41600200e-05],\n",
              "       [1.35229647e-10, 7.60424300e-04, 2.59048671e-10, 5.69397638e-14,\n",
              "        4.39102357e-12, 4.42736600e-14, 3.86484474e-01, 1.23221389e-06,\n",
              "        1.39441818e-08, 6.12753868e-01],\n",
              "       [1.29793671e-06, 3.66664523e-07, 1.28403627e-07, 3.84360465e-05,\n",
              "        5.60461760e-01, 5.12683243e-07, 3.80538166e-01, 5.76100834e-02,\n",
              "        1.02489768e-03, 3.24314839e-04]], dtype=float32)"
            ]
          },
          "metadata": {},
          "execution_count": 55
        }
      ]
    },
    {
      "cell_type": "code",
      "source": [
        "from sklearn.metrics import roc_auc_score"
      ],
      "metadata": {
        "id": "cEqdLL45FvZx"
      },
      "execution_count": 56,
      "outputs": []
    },
    {
      "cell_type": "code",
      "source": [
        "y_test.shape, predictions.shape"
      ],
      "metadata": {
        "colab": {
          "base_uri": "https://localhost:8080/"
        },
        "id": "pxXfG7jwyUFa",
        "outputId": "7b5b09f8-2804-4b62-df18-84c8437f4409"
      },
      "execution_count": 57,
      "outputs": [
        {
          "output_type": "execute_result",
          "data": {
            "text/plain": [
              "((100, 10), (100, 10))"
            ]
          },
          "metadata": {},
          "execution_count": 57
        }
      ]
    },
    {
      "cell_type": "code",
      "source": [
        "roc_auc_score(y_test,predictions)"
      ],
      "metadata": {
        "colab": {
          "base_uri": "https://localhost:8080/"
        },
        "id": "pdGQWP9iFvcJ",
        "outputId": "36ad0a36-e653-45c2-9316-16a0b1b1e01c"
      },
      "execution_count": 58,
      "outputs": [
        {
          "output_type": "execute_result",
          "data": {
            "text/plain": [
              "0.8057777777777779"
            ]
          },
          "metadata": {},
          "execution_count": 58
        }
      ]
    }
  ],
  "metadata": {
    "accelerator": "GPU",
    "colab": {
      "provenance": []
    },
    "kernelspec": {
      "display_name": "Python 3",
      "language": "python",
      "name": "python3"
    },
    "language_info": {
      "codemirror_mode": {
        "name": "ipython",
        "version": 3
      },
      "file_extension": ".py",
      "mimetype": "text/x-python",
      "name": "python",
      "nbconvert_exporter": "python",
      "pygments_lexer": "ipython3",
      "version": "3.7.3"
    }
  },
  "nbformat": 4,
  "nbformat_minor": 0
}